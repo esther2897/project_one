{
 "cells": [
  {
   "cell_type": "code",
   "execution_count": 2,
   "id": "ab313f0b",
   "metadata": {
    "scrolled": true
   },
   "outputs": [
    {
     "data": {
      "text/html": [
       "<div>\n",
       "<style scoped>\n",
       "    .dataframe tbody tr th:only-of-type {\n",
       "        vertical-align: middle;\n",
       "    }\n",
       "\n",
       "    .dataframe tbody tr th {\n",
       "        vertical-align: top;\n",
       "    }\n",
       "\n",
       "    .dataframe thead th {\n",
       "        text-align: right;\n",
       "    }\n",
       "</style>\n",
       "<table border=\"1\" class=\"dataframe\">\n",
       "  <thead>\n",
       "    <tr style=\"text-align: right;\">\n",
       "      <th></th>\n",
       "      <th>Number of CoCs</th>\n",
       "      <th>Overall Homeless, 2016</th>\n",
       "      <th>Overall Homeless - Under 18, 2016</th>\n",
       "      <th>Overall Homeless - Age 18 to 24, 2016</th>\n",
       "      <th>Overall Homeless - Over 24, 2016</th>\n",
       "      <th>Overall Homeless - Female, 2016</th>\n",
       "      <th>Overall Homeless - Male, 2016</th>\n",
       "      <th>Overall Homeless - Transgender, 2016</th>\n",
       "      <th>Overall Homeless - Non-Hispanic/Non-Latino, 2016</th>\n",
       "      <th>Overall Homeless - Hispanic/Latino, 2016</th>\n",
       "      <th>...</th>\n",
       "      <th>Overall Homeless Parenting Youth Age 18-24, 2016</th>\n",
       "      <th>Sheltered ES Homeless Parenting Youth Age 18-24, 2016</th>\n",
       "      <th>Sheltered TH Homeless Parenting Youth Age 18-24, 2016</th>\n",
       "      <th>Sheltered Total Homeless Parenting Youth Age 18-24, 2016</th>\n",
       "      <th>Unsheltered Homeless Parenting Youth Age 18-24, 2016</th>\n",
       "      <th>Overall Homeless Children of Parenting Youth, 2016</th>\n",
       "      <th>Sheltered ES Homeless Children of Parenting Youth, 2016</th>\n",
       "      <th>Sheltered TH Homeless Children of Parenting Youth, 2016</th>\n",
       "      <th>Sheltered Total Homeless Children of Parenting Youth, 2016</th>\n",
       "      <th>Unsheltered Homeless Children of Parenting Youth, 2016</th>\n",
       "    </tr>\n",
       "    <tr>\n",
       "      <th>State</th>\n",
       "      <th></th>\n",
       "      <th></th>\n",
       "      <th></th>\n",
       "      <th></th>\n",
       "      <th></th>\n",
       "      <th></th>\n",
       "      <th></th>\n",
       "      <th></th>\n",
       "      <th></th>\n",
       "      <th></th>\n",
       "      <th></th>\n",
       "      <th></th>\n",
       "      <th></th>\n",
       "      <th></th>\n",
       "      <th></th>\n",
       "      <th></th>\n",
       "      <th></th>\n",
       "      <th></th>\n",
       "      <th></th>\n",
       "      <th></th>\n",
       "      <th></th>\n",
       "    </tr>\n",
       "  </thead>\n",
       "  <tbody>\n",
       "    <tr>\n",
       "      <th>AK</th>\n",
       "      <td>2.0</td>\n",
       "      <td>1,940</td>\n",
       "      <td>274</td>\n",
       "      <td>173</td>\n",
       "      <td>1,493</td>\n",
       "      <td>808</td>\n",
       "      <td>1,127</td>\n",
       "      <td>5</td>\n",
       "      <td>1,797</td>\n",
       "      <td>143</td>\n",
       "      <td>...</td>\n",
       "      <td>9</td>\n",
       "      <td>2</td>\n",
       "      <td>7</td>\n",
       "      <td>9</td>\n",
       "      <td>0</td>\n",
       "      <td>10</td>\n",
       "      <td>2</td>\n",
       "      <td>8</td>\n",
       "      <td>10</td>\n",
       "      <td>0</td>\n",
       "    </tr>\n",
       "    <tr>\n",
       "      <th>AL</th>\n",
       "      <td>8.0</td>\n",
       "      <td>4,111</td>\n",
       "      <td>681</td>\n",
       "      <td>304</td>\n",
       "      <td>3,126</td>\n",
       "      <td>1,733</td>\n",
       "      <td>2,366</td>\n",
       "      <td>12</td>\n",
       "      <td>4,027</td>\n",
       "      <td>84</td>\n",
       "      <td>...</td>\n",
       "      <td>26</td>\n",
       "      <td>14</td>\n",
       "      <td>6</td>\n",
       "      <td>20</td>\n",
       "      <td>6</td>\n",
       "      <td>45</td>\n",
       "      <td>22</td>\n",
       "      <td>17</td>\n",
       "      <td>39</td>\n",
       "      <td>6</td>\n",
       "    </tr>\n",
       "    <tr>\n",
       "      <th>AR</th>\n",
       "      <td>7.0</td>\n",
       "      <td>2,463</td>\n",
       "      <td>432</td>\n",
       "      <td>197</td>\n",
       "      <td>1,834</td>\n",
       "      <td>1,047</td>\n",
       "      <td>1,415</td>\n",
       "      <td>1</td>\n",
       "      <td>2,377</td>\n",
       "      <td>86</td>\n",
       "      <td>...</td>\n",
       "      <td>13</td>\n",
       "      <td>12</td>\n",
       "      <td>1</td>\n",
       "      <td>13</td>\n",
       "      <td>0</td>\n",
       "      <td>13</td>\n",
       "      <td>12</td>\n",
       "      <td>1</td>\n",
       "      <td>13</td>\n",
       "      <td>0</td>\n",
       "    </tr>\n",
       "    <tr>\n",
       "      <th>AZ</th>\n",
       "      <td>3.0</td>\n",
       "      <td>9,707</td>\n",
       "      <td>2,022</td>\n",
       "      <td>733</td>\n",
       "      <td>6,952</td>\n",
       "      <td>3,685</td>\n",
       "      <td>6,005</td>\n",
       "      <td>17</td>\n",
       "      <td>7,342</td>\n",
       "      <td>2,365</td>\n",
       "      <td>...</td>\n",
       "      <td>149</td>\n",
       "      <td>69</td>\n",
       "      <td>80</td>\n",
       "      <td>149</td>\n",
       "      <td>0</td>\n",
       "      <td>222</td>\n",
       "      <td>96</td>\n",
       "      <td>126</td>\n",
       "      <td>222</td>\n",
       "      <td>0</td>\n",
       "    </tr>\n",
       "    <tr>\n",
       "      <th>CA</th>\n",
       "      <td>43.0</td>\n",
       "      <td>118,142</td>\n",
       "      <td>12,828</td>\n",
       "      <td>12,160</td>\n",
       "      <td>93,154</td>\n",
       "      <td>39,175</td>\n",
       "      <td>78,121</td>\n",
       "      <td>846</td>\n",
       "      <td>85,437</td>\n",
       "      <td>32,705</td>\n",
       "      <td>...</td>\n",
       "      <td>852</td>\n",
       "      <td>210</td>\n",
       "      <td>531</td>\n",
       "      <td>741</td>\n",
       "      <td>111</td>\n",
       "      <td>1,098</td>\n",
       "      <td>281</td>\n",
       "      <td>654</td>\n",
       "      <td>935</td>\n",
       "      <td>163</td>\n",
       "    </tr>\n",
       "  </tbody>\n",
       "</table>\n",
       "<p>5 rows × 382 columns</p>\n",
       "</div>"
      ],
      "text/plain": [
       "       Number of CoCs Overall Homeless, 2016  \\\n",
       "State                                          \n",
       "AK                2.0                  1,940   \n",
       "AL                8.0                  4,111   \n",
       "AR                7.0                  2,463   \n",
       "AZ                3.0                  9,707   \n",
       "CA               43.0                118,142   \n",
       "\n",
       "      Overall Homeless - Under 18, 2016 Overall Homeless - Age 18 to 24, 2016  \\\n",
       "State                                                                           \n",
       "AK                                  274                                   173   \n",
       "AL                                  681                                   304   \n",
       "AR                                  432                                   197   \n",
       "AZ                                2,022                                   733   \n",
       "CA                               12,828                                12,160   \n",
       "\n",
       "      Overall Homeless - Over 24, 2016 Overall Homeless - Female, 2016  \\\n",
       "State                                                                    \n",
       "AK                               1,493                             808   \n",
       "AL                               3,126                           1,733   \n",
       "AR                               1,834                           1,047   \n",
       "AZ                               6,952                           3,685   \n",
       "CA                              93,154                          39,175   \n",
       "\n",
       "      Overall Homeless - Male, 2016 Overall Homeless - Transgender, 2016  \\\n",
       "State                                                                      \n",
       "AK                            1,127                                    5   \n",
       "AL                            2,366                                   12   \n",
       "AR                            1,415                                    1   \n",
       "AZ                            6,005                                   17   \n",
       "CA                           78,121                                  846   \n",
       "\n",
       "      Overall Homeless - Non-Hispanic/Non-Latino, 2016  \\\n",
       "State                                                    \n",
       "AK                                               1,797   \n",
       "AL                                               4,027   \n",
       "AR                                               2,377   \n",
       "AZ                                               7,342   \n",
       "CA                                              85,437   \n",
       "\n",
       "      Overall Homeless - Hispanic/Latino, 2016  ...  \\\n",
       "State                                           ...   \n",
       "AK                                         143  ...   \n",
       "AL                                          84  ...   \n",
       "AR                                          86  ...   \n",
       "AZ                                       2,365  ...   \n",
       "CA                                      32,705  ...   \n",
       "\n",
       "      Overall Homeless Parenting Youth Age 18-24, 2016  \\\n",
       "State                                                    \n",
       "AK                                                   9   \n",
       "AL                                                  26   \n",
       "AR                                                  13   \n",
       "AZ                                                 149   \n",
       "CA                                                 852   \n",
       "\n",
       "      Sheltered ES Homeless Parenting Youth Age 18-24, 2016  \\\n",
       "State                                                         \n",
       "AK                                                     2      \n",
       "AL                                                    14      \n",
       "AR                                                    12      \n",
       "AZ                                                    69      \n",
       "CA                                                   210      \n",
       "\n",
       "      Sheltered TH Homeless Parenting Youth Age 18-24, 2016  \\\n",
       "State                                                         \n",
       "AK                                                     7      \n",
       "AL                                                     6      \n",
       "AR                                                     1      \n",
       "AZ                                                    80      \n",
       "CA                                                   531      \n",
       "\n",
       "      Sheltered Total Homeless Parenting Youth Age 18-24, 2016  \\\n",
       "State                                                            \n",
       "AK                                                     9         \n",
       "AL                                                    20         \n",
       "AR                                                    13         \n",
       "AZ                                                   149         \n",
       "CA                                                   741         \n",
       "\n",
       "      Unsheltered Homeless Parenting Youth Age 18-24, 2016  \\\n",
       "State                                                        \n",
       "AK                                                     0     \n",
       "AL                                                     6     \n",
       "AR                                                     0     \n",
       "AZ                                                     0     \n",
       "CA                                                   111     \n",
       "\n",
       "      Overall Homeless Children of Parenting Youth, 2016  \\\n",
       "State                                                      \n",
       "AK                                                    10   \n",
       "AL                                                    45   \n",
       "AR                                                    13   \n",
       "AZ                                                   222   \n",
       "CA                                                 1,098   \n",
       "\n",
       "      Sheltered ES Homeless Children of Parenting Youth, 2016  \\\n",
       "State                                                           \n",
       "AK                                                     2        \n",
       "AL                                                    22        \n",
       "AR                                                    12        \n",
       "AZ                                                    96        \n",
       "CA                                                   281        \n",
       "\n",
       "      Sheltered TH Homeless Children of Parenting Youth, 2016  \\\n",
       "State                                                           \n",
       "AK                                                     8        \n",
       "AL                                                    17        \n",
       "AR                                                     1        \n",
       "AZ                                                   126        \n",
       "CA                                                   654        \n",
       "\n",
       "      Sheltered Total Homeless Children of Parenting Youth, 2016  \\\n",
       "State                                                              \n",
       "AK                                                    10           \n",
       "AL                                                    39           \n",
       "AR                                                    13           \n",
       "AZ                                                   222           \n",
       "CA                                                   935           \n",
       "\n",
       "      Unsheltered Homeless Children of Parenting Youth, 2016  \n",
       "State                                                         \n",
       "AK                                                     0      \n",
       "AL                                                     6      \n",
       "AR                                                     0      \n",
       "AZ                                                     0      \n",
       "CA                                                   163      \n",
       "\n",
       "[5 rows x 382 columns]"
      ]
     },
     "execution_count": 2,
     "metadata": {},
     "output_type": "execute_result"
    }
   ],
   "source": [
    "import pandas as pd\n",
    "import matplotlib.pyplot as plt\n",
    "import numpy as np\n",
    "import scipy.stats as st\n",
    "\n",
    "file_to_load = \"datasets/2016-Point-in-Time-Estimates-by-state.csv\"\n",
    "\n",
    "homeless_2016_data_df = pd.read_csv(file_to_load)\n",
    "states_homeless_2016_data_df = homeless_2016_data_df.set_index('State')\n",
    "states_homeless_2016_data_df.head()"
   ]
  },
  {
   "cell_type": "code",
   "execution_count": 3,
   "id": "75911484",
   "metadata": {},
   "outputs": [
    {
     "name": "stdout",
     "output_type": "stream",
     "text": [
      "<class 'int'>\n"
     ]
    }
   ],
   "source": [
    "# Grab total from overall homeless females column\n",
    "total_females = states_homeless_2016_data_df.loc['Total','Overall Homeless - Female, 2016']\n",
    "converted_total_females = total_females.replace(',', '')\n",
    "converted_total_females = int(converted_total_females)\n",
    "print(type(converted_total_females))\n",
    "\n"
   ]
  },
  {
   "cell_type": "code",
   "execution_count": 4,
   "id": "c54684b7",
   "metadata": {},
   "outputs": [
    {
     "name": "stdout",
     "output_type": "stream",
     "text": [
      "<class 'int'>\n"
     ]
    }
   ],
   "source": [
    "# Grab total from overall homeless males column\n",
    "total_males = states_homeless_2016_data_df.loc['Total','Overall Homeless - Male, 2016']\n",
    "converted_total_males = total_males.replace(',', '')\n",
    "converted_total_males = int(converted_total_males)\n",
    "print(type(converted_total_males))\n"
   ]
  },
  {
   "cell_type": "code",
   "execution_count": 5,
   "id": "f86c8f81",
   "metadata": {},
   "outputs": [
    {
     "data": {
      "image/png": "[encoded data removed]",
      "text/plain": [
       "<Figure size 432x288 with 1 Axes>"
      ]
     },
     "metadata": {},
     "output_type": "display_data"
    }
   ],
   "source": [
    "labels = ['Female', 'Male']\n",
    "data = [converted_total_females,converted_total_males]\n",
    "# plt.pie(data, labels = gender)\n",
    "\n",
    "# only \"explode\" the 2nd slice (i.e. 'Hogs')\n",
    "explode = (0, 0.1,)\n",
    "\n",
    "#add colors\n",
    "colors = ['#D61E14','#14CCD6']\n",
    "fig1, ax1 = plt.subplots()\n",
    "ax1.pie(data, explode=explode, labels=labels, colors=colors, autopct='%1.1f%%',\n",
    "        shadow=True, startangle=90)\n",
    "\n",
    "# Equal aspect ratio ensures that pie is drawn as a circle\n",
    "ax1.axis('equal')\n",
    "plt.title('Percentage of Homeless Males/Females 2016')\n",
    "plt.tight_layout()\n",
    "plt.show()"
   ]
  },
  {
   "cell_type": "code",
   "execution_count": 7,
   "id": "fd17fac7",
   "metadata": {},
   "outputs": [
    {
     "name": "stdout",
     "output_type": "stream",
     "text": [
      "120819\n"
     ]
    }
   ],
   "source": [
    "# Grab total from overall homeless Under 18 column\n",
    "total_under_18 = states_homeless_2016_data_df.loc['Total','Overall Homeless - Under 18, 2016']\n",
    "converted_total_under_18 = total_under_18.replace(',', '')\n",
    "converted_total_under_18 = int(converted_total_under_18)\n",
    "print(converted_total_under_18)"
   ]
  },
  {
   "cell_type": "code",
   "execution_count": 8,
   "id": "a3d6a996",
   "metadata": {},
   "outputs": [
    {
     "name": "stdout",
     "output_type": "stream",
     "text": [
      "50001\n"
     ]
    }
   ],
   "source": [
    "total_18_to_24 = states_homeless_2016_data_df.loc['Total','Overall Homeless - Age 18 to 24, 2016']\n",
    "converted_18_to_24 = total_18_to_24.replace(',', '')\n",
    "converted_18_to_24 = int(converted_18_to_24)\n",
    "print(converted_18_to_24)"
   ]
  },
  {
   "cell_type": "code",
   "execution_count": 9,
   "id": "31324b30",
   "metadata": {},
   "outputs": [
    {
     "name": "stdout",
     "output_type": "stream",
     "text": [
      "379108\n"
     ]
    }
   ],
   "source": [
    "total_over_24 = states_homeless_2016_data_df.loc['Total','Overall Homeless - Over 24, 2016']\n",
    "converted_total_over_24 = total_over_24.replace(',', '')\n",
    "converted_total_over_24 = int(converted_total_over_24)\n",
    "print(converted_total_over_24)"
   ]
  },
  {
   "cell_type": "code",
   "execution_count": 16,
   "id": "1186cb0b",
   "metadata": {},
   "outputs": [
    {
     "data": {
      "image/png": "[encoded data removed]",
      "text/plain": [
       "<Figure size 432x288 with 1 Axes>"
      ]
     },
     "metadata": {},
     "output_type": "display_data"
    }
   ],
   "source": [
    "labels = ['18 to 24','Under 18', 'Over 24']\n",
    "data = [converted_18_to_24,converted_total_under_18,converted_total_over_24]\n",
    "# plt.pie(data, labels = gender)\n",
    "\n",
    "# only \"explode\" the 2nd slice (i.e. 'Hogs')\n",
    "explode = (0, 0.1, 0.1)\n",
    "\n",
    "#add colors\n",
    "colors = ['#D61E14','#14CCD6', '#30D614']\n",
    "fig1, ax1 = plt.subplots()\n",
    "ax1.pie(data, explode=explode, labels=labels, colors=colors, autopct='%1.1f%%',\n",
    "        shadow=True, startangle=90)\n",
    "\n",
    "# Equal aspect ratio ensures that pie is drawn as a circle\n",
    "ax1.axis('equal')\n",
    "plt.title('Percentage of Homeless Population Under 18, 18 to 24, and Over 24 2016')\n",
    "plt.tight_layout()\n",
    "plt.show()"
   ]
  },
  {
   "cell_type": "code",
   "execution_count": 32,
   "id": "10226f20",
   "metadata": {},
   "outputs": [
    {
     "data": {
      "image/png": "[encoded data removed]",
      "text/plain": [
       "<Figure size 432x288 with 1 Axes>"
      ]
     },
     "metadata": {
      "needs_background": "light"
     },
     "output_type": "display_data"
    }
   ],
   "source": [
    "fig = plt.figure()\n",
    "ax = fig.add_axes([0,0,1,1])\n",
    "langs = ['18 to 24','Under 18', 'Over 24']\n",
    "students = [converted_18_to_24,converted_total_under_18,converted_total_over_24]\n",
    "ax.bar(langs,students)\n",
    "plt.show()"
   ]
  },
  {
   "cell_type": "code",
   "execution_count": 17,
   "id": "78f256cf",
   "metadata": {},
   "outputs": [
    {
     "name": "stdout",
     "output_type": "stream",
     "text": [
      "428629\n"
     ]
    }
   ],
   "source": [
    "total_nonhispanic_nonlatino = states_homeless_2016_data_df.loc['Total','Overall Homeless - Non-Hispanic/Non-Latino, 2016']\n",
    "converted_total_nonhispanic_nonlatino = total_nonhispanic_nonlatino.replace(',', '')\n",
    "converted_total_nonhispanic_nonlatino = int(converted_total_nonhispanic_nonlatino)\n",
    "print(converted_total_nonhispanic_nonlatino)"
   ]
  },
  {
   "cell_type": "code",
   "execution_count": 18,
   "id": "c3ab4583",
   "metadata": {},
   "outputs": [
    {
     "name": "stdout",
     "output_type": "stream",
     "text": [
      "121299\n"
     ]
    }
   ],
   "source": [
    "total_hispanic_latino = states_homeless_2016_data_df.loc['Total','Overall Homeless - Hispanic/Latino, 2016']\n",
    "converted_total_hispanic_latino = total_hispanic_latino.replace(',', '')\n",
    "converted_total_hispanic_latino = int(converted_total_hispanic_latino)\n",
    "print(converted_total_hispanic_latino)"
   ]
  },
  {
   "cell_type": "code",
   "execution_count": 19,
   "id": "33b34a4a",
   "metadata": {},
   "outputs": [
    {
     "name": "stdout",
     "output_type": "stream",
     "text": [
      "265660\n"
     ]
    }
   ],
   "source": [
    "total_white = states_homeless_2016_data_df.loc['Total','Overall Homeless - White, 2016']\n",
    "converted_total_white = total_white.replace(',', '')\n",
    "converted_total_white = int(converted_total_white)\n",
    "print(converted_total_white)"
   ]
  },
  {
   "cell_type": "code",
   "execution_count": 20,
   "id": "a1fe17cc",
   "metadata": {},
   "outputs": [
    {
     "name": "stdout",
     "output_type": "stream",
     "text": [
      "215177\n"
     ]
    }
   ],
   "source": [
    "total_black__or_african_american = states_homeless_2016_data_df.loc['Total','Overall Homeless - Black or African American, 2016']\n",
    "converted_total_black__or_african_american = total_black__or_african_american.replace(',', '')\n",
    "converted_total_black__or_african_american = int(converted_total_black__or_african_american)\n",
    "print(converted_total_black__or_african_american)"
   ]
  },
  {
   "cell_type": "code",
   "execution_count": 21,
   "id": "7676f166",
   "metadata": {},
   "outputs": [
    {
     "name": "stdout",
     "output_type": "stream",
     "text": [
      "5603\n"
     ]
    }
   ],
   "source": [
    "total_asian = states_homeless_2016_data_df.loc['Total','Overall Homeless - Asian, 2016']\n",
    "converted_total_asian = total_asian.replace(',', '')\n",
    "converted_total_asian = int(converted_total_asian)\n",
    "print(converted_total_asian)"
   ]
  },
  {
   "cell_type": "code",
   "execution_count": 22,
   "id": "6524b39a",
   "metadata": {},
   "outputs": [
    {
     "name": "stdout",
     "output_type": "stream",
     "text": [
      "15229\n"
     ]
    }
   ],
   "source": [
    "total_american_indian_or_alaskan_native = states_homeless_2016_data_df.loc['Total','Overall Homeless - American Indian or Alaska Native, 2016']\n",
    "converted_total_american_indian_or_alaskan_native = total_american_indian_or_alaskan_native.replace(',', '')\n",
    "converted_total_american_indian_or_alaskan_native = int(converted_total_american_indian_or_alaskan_native)\n",
    "print(converted_total_american_indian_or_alaskan_native)"
   ]
  },
  {
   "cell_type": "code",
   "execution_count": 23,
   "id": "5f5981da",
   "metadata": {},
   "outputs": [
    {
     "name": "stdout",
     "output_type": "stream",
     "text": [
      "8734\n"
     ]
    }
   ],
   "source": [
    "total_native_hawaiian_or_other_pacific_islander = states_homeless_2016_data_df.loc['Total','Overall Homeless - Native Hawaiian or Other Pacific Islander, 2016']\n",
    "converted_total_native_hawaiian_or_other_pacific_islander = total_native_hawaiian_or_other_pacific_islander.replace(',', '')\n",
    "converted_total_native_hawaiian_or_other_pacific_islander = int(converted_total_native_hawaiian_or_other_pacific_islander)\n",
    "print(converted_total_native_hawaiian_or_other_pacific_islander)"
   ]
  },
  {
   "cell_type": "code",
   "execution_count": 24,
   "id": "afaf900e",
   "metadata": {},
   "outputs": [
    {
     "name": "stdout",
     "output_type": "stream",
     "text": [
      "39525\n"
     ]
    }
   ],
   "source": [
    "total_multiple_races = states_homeless_2016_data_df.loc['Total','Overall Homeless - Multiple Races, 2016']\n",
    "converted_total_multiple_races = total_multiple_races.replace(',', '')\n",
    "converted_total_multiple_races = int(converted_total_multiple_races)\n",
    "print(converted_total_multiple_races)"
   ]
  },
  {
   "cell_type": "code",
   "execution_count": 31,
   "id": "f234090b",
   "metadata": {
    "scrolled": true
   },
   "outputs": [
    {
     "data": {
      "image/png": "[encoded data removed]",
      "text/plain": [
       "<Figure size 432x288 with 1 Axes>"
      ]
     },
     "metadata": {},
     "output_type": "display_data"
    }
   ],
   "source": [
    "labels = ['Overall Homeless - Non-Hispanic/Non-Latino, 2016','Overall Homeless - Hispanic/Latino, 2016', 'Overall Homeless - White, 2016', 'Overall Homeless - Black or African American, 2016', 'Overall Homeless - Asian, 2016', 'Overall Homeless - American Indian or Alaska Native, 2016','Overall Homeless - Native Hawaiian or Other Pacific Islander, 2016','Overall Homeless - Multiple Races, 2016']\n",
    "data = [converted_total_nonhispanic_nonlatino,converted_total_hispanic_latino,converted_total_white,converted_total_black__or_african_american,converted_total_asian,converted_total_american_indian_or_alaskan_native,converted_total_native_hawaiian_or_other_pacific_islander,converted_total_multiple_races]\n",
    "# plt.pie(data, labels = gender)\n",
    "\n",
    "# only \"explode\" the 2nd slice (i.e. 'Hogs')\n",
    "# explode = (0, 0.1, 0.1)\n",
    "\n",
    "#add colors\n",
    "# colors = ['#D61E14','#14CCD6', '#30D614']\n",
    "fig1, ax1 = plt.subplots()\n",
    "ax1.pie(data, labels=labels, autopct='%1.1f%%',\n",
    "        shadow=True, startangle=90)\n",
    "\n",
    "# Equal aspect ratio ensures that pie is drawn as a circle\n",
    "ax1.axis('equal')\n",
    "plt.title('Percentage of Homeless Population Under 18, 18 to 24, and Over 24 2016')\n",
    "# plt.tight_layout()\n",
    "plt.show()"
   ]
  },
  {
   "cell_type": "code",
   "execution_count": 49,
   "id": "211cb176",
   "metadata": {},
   "outputs": [
    {
     "data": {
      "image/png": "[encoded data removed]",
      "text/plain": [
       "<Figure size 720x360 with 1 Axes>"
      ]
     },
     "metadata": {
      "needs_background": "light"
     },
     "output_type": "display_data"
    }
   ],
   "source": [
    "ethnicity = ['Non-Hispanic/Non-Latino, 2016','Hispanic/Latino, 2016', 'White, 2016', 'Black or African American, 2016', 'Asian, 2016', 'American Indian or Alaska Native, 2016','Native Hawaiian or Other Pacific Islander, 2016','Multiple Races, 2016']\n",
    "values = [converted_total_nonhispanic_nonlatino,converted_total_hispanic_latino,converted_total_white,converted_total_black__or_african_american,converted_total_asian,converted_total_american_indian_or_alaskan_native,converted_total_native_hawaiian_or_other_pacific_islander,converted_total_multiple_races]\n",
    "values = sorted(values)\n",
    "  \n",
    "fig = plt.figure(figsize = (10, 5))\n",
    " \n",
    "# creating the bar plot\n",
    "plt.bar(ethnicity, values, color ='maroon',\n",
    "        width = 0.4)\n",
    " \n",
    "plt.xlabel(\"Ethnicities\")\n",
    "plt.ylabel(\"No. of Homeless Population\")\n",
    "plt.title(\"Overall Homeless Population By Ethnicity\")\n",
    "plt.xticks(rotation=\"vertical\")\n",
    "plt.show()"
   ]
  },
  {
   "cell_type": "code",
   "execution_count": null,
   "id": "4bde3b61",
   "metadata": {},
   "outputs": [],
   "source": []
  }
 ],
 "metadata": {
  "kernelspec": {
   "display_name": "Python 3",
   "language": "python",
   "name": "python3"
  },
  "language_info": {
   "codemirror_mode": {
    "name": "ipython",
    "version": 3
   },
   "file_extension": ".py",
   "mimetype": "text/x-python",
   "name": "python",
   "nbconvert_exporter": "python",
   "pygments_lexer": "ipython3",
   "version": "3.8.5"
  }
 },
 "nbformat": 4,
 "nbformat_minor": 5
}
