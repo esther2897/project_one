{
 "cells": [
  {
   "cell_type": "code",
   "execution_count": 2,
   "id": "7d024d7a",
   "metadata": {},
   "outputs": [
    {
     "data": {
      "text/html": [
       "<div>\n",
       "<style scoped>\n",
       "    .dataframe tbody tr th:only-of-type {\n",
       "        vertical-align: middle;\n",
       "    }\n",
       "\n",
       "    .dataframe tbody tr th {\n",
       "        vertical-align: top;\n",
       "    }\n",
       "\n",
       "    .dataframe thead th {\n",
       "        text-align: right;\n",
       "    }\n",
       "</style>\n",
       "<table border=\"1\" class=\"dataframe\">\n",
       "  <thead>\n",
       "    <tr style=\"text-align: right;\">\n",
       "      <th></th>\n",
       "      <th>Number of CoCs</th>\n",
       "      <th>Overall Homeless, 2020</th>\n",
       "      <th>Overall Homeless - Under 18, 2020</th>\n",
       "      <th>Overall Homeless - Age 18 to 24, 2020</th>\n",
       "      <th>Overall Homeless - Over 24, 2020</th>\n",
       "      <th>Overall Homeless - Female, 2020</th>\n",
       "      <th>Overall Homeless - Male, 2020</th>\n",
       "      <th>Overall Homeless - Transgender, 2020</th>\n",
       "      <th>Overall Homeless - Gender Non-Conforming, 2020</th>\n",
       "      <th>Overall Homeless - Non-Hispanic/Non-Latino, 2020</th>\n",
       "      <th>...</th>\n",
       "      <th>Overall Homeless Parenting Youth Age 18-24, 2020</th>\n",
       "      <th>Sheltered ES Homeless Parenting Youth Age 18-24, 2020</th>\n",
       "      <th>Sheltered TH Homeless Parenting Youth Age 18-24, 2020</th>\n",
       "      <th>Sheltered Total Homeless Parenting Youth Age 18-24, 2020</th>\n",
       "      <th>Unsheltered Homeless Parenting Youth Age 18-24, 2020</th>\n",
       "      <th>Overall Homeless Children of Parenting Youth, 2020</th>\n",
       "      <th>Sheltered ES Homeless Children of Parenting Youth, 2020</th>\n",
       "      <th>Sheltered TH Homeless Children of Parenting Youth, 2020</th>\n",
       "      <th>Sheltered Total Homeless Children of Parenting Youth, 2020</th>\n",
       "      <th>Unsheltered Homeless Children of Parenting Youth, 2020</th>\n",
       "    </tr>\n",
       "    <tr>\n",
       "      <th>State</th>\n",
       "      <th></th>\n",
       "      <th></th>\n",
       "      <th></th>\n",
       "      <th></th>\n",
       "      <th></th>\n",
       "      <th></th>\n",
       "      <th></th>\n",
       "      <th></th>\n",
       "      <th></th>\n",
       "      <th></th>\n",
       "      <th></th>\n",
       "      <th></th>\n",
       "      <th></th>\n",
       "      <th></th>\n",
       "      <th></th>\n",
       "      <th></th>\n",
       "      <th></th>\n",
       "      <th></th>\n",
       "      <th></th>\n",
       "      <th></th>\n",
       "      <th></th>\n",
       "    </tr>\n",
       "  </thead>\n",
       "  <tbody>\n",
       "    <tr>\n",
       "      <th>AK</th>\n",
       "      <td>2.0</td>\n",
       "      <td>1,949</td>\n",
       "      <td>326</td>\n",
       "      <td>197</td>\n",
       "      <td>1,426</td>\n",
       "      <td>828</td>\n",
       "      <td>1,114</td>\n",
       "      <td>3</td>\n",
       "      <td>4</td>\n",
       "      <td>1,823</td>\n",
       "      <td>...</td>\n",
       "      <td>13</td>\n",
       "      <td>10</td>\n",
       "      <td>3</td>\n",
       "      <td>13</td>\n",
       "      <td>0</td>\n",
       "      <td>16</td>\n",
       "      <td>12</td>\n",
       "      <td>4</td>\n",
       "      <td>16</td>\n",
       "      <td>0</td>\n",
       "    </tr>\n",
       "    <tr>\n",
       "      <th>AL</th>\n",
       "      <td>8.0</td>\n",
       "      <td>3,351</td>\n",
       "      <td>528</td>\n",
       "      <td>198</td>\n",
       "      <td>2,625</td>\n",
       "      <td>1,294</td>\n",
       "      <td>1,988</td>\n",
       "      <td>9</td>\n",
       "      <td>4</td>\n",
       "      <td>3,214</td>\n",
       "      <td>...</td>\n",
       "      <td>27</td>\n",
       "      <td>10</td>\n",
       "      <td>15</td>\n",
       "      <td>25</td>\n",
       "      <td>2</td>\n",
       "      <td>36</td>\n",
       "      <td>13</td>\n",
       "      <td>21</td>\n",
       "      <td>34</td>\n",
       "      <td>2</td>\n",
       "    </tr>\n",
       "    <tr>\n",
       "      <th>AR</th>\n",
       "      <td>4.0</td>\n",
       "      <td>2,366</td>\n",
       "      <td>195</td>\n",
       "      <td>258</td>\n",
       "      <td>1,913</td>\n",
       "      <td>798</td>\n",
       "      <td>1,561</td>\n",
       "      <td>5</td>\n",
       "      <td>2</td>\n",
       "      <td>2,313</td>\n",
       "      <td>...</td>\n",
       "      <td>8</td>\n",
       "      <td>6</td>\n",
       "      <td>1</td>\n",
       "      <td>7</td>\n",
       "      <td>1</td>\n",
       "      <td>12</td>\n",
       "      <td>8</td>\n",
       "      <td>2</td>\n",
       "      <td>10</td>\n",
       "      <td>2</td>\n",
       "    </tr>\n",
       "    <tr>\n",
       "      <th>AS</th>\n",
       "      <td>0.0</td>\n",
       "      <td></td>\n",
       "      <td></td>\n",
       "      <td></td>\n",
       "      <td></td>\n",
       "      <td></td>\n",
       "      <td></td>\n",
       "      <td></td>\n",
       "      <td></td>\n",
       "      <td></td>\n",
       "      <td>...</td>\n",
       "      <td></td>\n",
       "      <td></td>\n",
       "      <td></td>\n",
       "      <td></td>\n",
       "      <td></td>\n",
       "      <td></td>\n",
       "      <td></td>\n",
       "      <td></td>\n",
       "      <td></td>\n",
       "      <td></td>\n",
       "    </tr>\n",
       "    <tr>\n",
       "      <th>AZ</th>\n",
       "      <td>3.0</td>\n",
       "      <td>10,979</td>\n",
       "      <td>1,722</td>\n",
       "      <td>824</td>\n",
       "      <td>8,433</td>\n",
       "      <td>4,228</td>\n",
       "      <td>6,694</td>\n",
       "      <td>43</td>\n",
       "      <td>14</td>\n",
       "      <td>8,624</td>\n",
       "      <td>...</td>\n",
       "      <td>98</td>\n",
       "      <td>33</td>\n",
       "      <td>54</td>\n",
       "      <td>87</td>\n",
       "      <td>11</td>\n",
       "      <td>128</td>\n",
       "      <td>48</td>\n",
       "      <td>72</td>\n",
       "      <td>120</td>\n",
       "      <td>8</td>\n",
       "    </tr>\n",
       "  </tbody>\n",
       "</table>\n",
       "<p>5 rows × 540 columns</p>\n",
       "</div>"
      ],
      "text/plain": [
       "       Number of CoCs Overall Homeless, 2020  \\\n",
       "State                                          \n",
       "AK                2.0                  1,949   \n",
       "AL                8.0                  3,351   \n",
       "AR                4.0                  2,366   \n",
       "AS                0.0                          \n",
       "AZ                3.0                 10,979   \n",
       "\n",
       "      Overall Homeless - Under 18, 2020 Overall Homeless - Age 18 to 24, 2020  \\\n",
       "State                                                                           \n",
       "AK                                  326                                   197   \n",
       "AL                                  528                                   198   \n",
       "AR                                  195                                   258   \n",
       "AS                                                                              \n",
       "AZ                                1,722                                   824   \n",
       "\n",
       "      Overall Homeless - Over 24, 2020 Overall Homeless - Female, 2020  \\\n",
       "State                                                                    \n",
       "AK                               1,426                             828   \n",
       "AL                               2,625                           1,294   \n",
       "AR                               1,913                             798   \n",
       "AS                                                                       \n",
       "AZ                               8,433                           4,228   \n",
       "\n",
       "      Overall Homeless - Male, 2020 Overall Homeless - Transgender, 2020  \\\n",
       "State                                                                      \n",
       "AK                            1,114                                    3   \n",
       "AL                            1,988                                    9   \n",
       "AR                            1,561                                    5   \n",
       "AS                                                                         \n",
       "AZ                            6,694                                   43   \n",
       "\n",
       "      Overall Homeless - Gender Non-Conforming, 2020  \\\n",
       "State                                                  \n",
       "AK                                                 4   \n",
       "AL                                                 4   \n",
       "AR                                                 2   \n",
       "AS                                                     \n",
       "AZ                                                14   \n",
       "\n",
       "      Overall Homeless - Non-Hispanic/Non-Latino, 2020  ...  \\\n",
       "State                                                   ...   \n",
       "AK                                               1,823  ...   \n",
       "AL                                               3,214  ...   \n",
       "AR                                               2,313  ...   \n",
       "AS                                                      ...   \n",
       "AZ                                               8,624  ...   \n",
       "\n",
       "      Overall Homeless Parenting Youth Age 18-24, 2020  \\\n",
       "State                                                    \n",
       "AK                                                  13   \n",
       "AL                                                  27   \n",
       "AR                                                   8   \n",
       "AS                                                       \n",
       "AZ                                                  98   \n",
       "\n",
       "      Sheltered ES Homeless Parenting Youth Age 18-24, 2020  \\\n",
       "State                                                         \n",
       "AK                                                    10      \n",
       "AL                                                    10      \n",
       "AR                                                     6      \n",
       "AS                                                            \n",
       "AZ                                                    33      \n",
       "\n",
       "      Sheltered TH Homeless Parenting Youth Age 18-24, 2020  \\\n",
       "State                                                         \n",
       "AK                                                     3      \n",
       "AL                                                    15      \n",
       "AR                                                     1      \n",
       "AS                                                            \n",
       "AZ                                                    54      \n",
       "\n",
       "      Sheltered Total Homeless Parenting Youth Age 18-24, 2020  \\\n",
       "State                                                            \n",
       "AK                                                    13         \n",
       "AL                                                    25         \n",
       "AR                                                     7         \n",
       "AS                                                               \n",
       "AZ                                                    87         \n",
       "\n",
       "      Unsheltered Homeless Parenting Youth Age 18-24, 2020  \\\n",
       "State                                                        \n",
       "AK                                                     0     \n",
       "AL                                                     2     \n",
       "AR                                                     1     \n",
       "AS                                                           \n",
       "AZ                                                    11     \n",
       "\n",
       "      Overall Homeless Children of Parenting Youth, 2020  \\\n",
       "State                                                      \n",
       "AK                                                    16   \n",
       "AL                                                    36   \n",
       "AR                                                    12   \n",
       "AS                                                         \n",
       "AZ                                                   128   \n",
       "\n",
       "      Sheltered ES Homeless Children of Parenting Youth, 2020  \\\n",
       "State                                                           \n",
       "AK                                                    12        \n",
       "AL                                                    13        \n",
       "AR                                                     8        \n",
       "AS                                                              \n",
       "AZ                                                    48        \n",
       "\n",
       "      Sheltered TH Homeless Children of Parenting Youth, 2020  \\\n",
       "State                                                           \n",
       "AK                                                     4        \n",
       "AL                                                    21        \n",
       "AR                                                     2        \n",
       "AS                                                              \n",
       "AZ                                                    72        \n",
       "\n",
       "      Sheltered Total Homeless Children of Parenting Youth, 2020  \\\n",
       "State                                                              \n",
       "AK                                                    16           \n",
       "AL                                                    34           \n",
       "AR                                                    10           \n",
       "AS                                                                 \n",
       "AZ                                                   120           \n",
       "\n",
       "      Unsheltered Homeless Children of Parenting Youth, 2020  \n",
       "State                                                         \n",
       "AK                                                     0      \n",
       "AL                                                     2      \n",
       "AR                                                     2      \n",
       "AS                                                            \n",
       "AZ                                                     8      \n",
       "\n",
       "[5 rows x 540 columns]"
      ]
     },
     "execution_count": 2,
     "metadata": {},
     "output_type": "execute_result"
    }
   ],
   "source": [
    "import pandas as pd\n",
    "import matplotlib.pyplot as plt\n",
    "import numpy as np\n",
    "import scipy.stats as st\n",
    "\n",
    "file_to_load = \"datasets/2020-Point-in-Time-Estimates-by-state.csv\"\n",
    "\n",
    "homeless_2020_data_df = pd.read_csv(file_to_load)\n",
    "states_homeless_2020_data_df = homeless_2020_data_df.set_index('State')\n",
    "states_homeless_2020_data_df.head()"
   ]
  },
  {
   "cell_type": "code",
   "execution_count": 3,
   "id": "fbd23880",
   "metadata": {},
   "outputs": [
    {
     "name": "stdout",
     "output_type": "stream",
     "text": [
      "223,578\n"
     ]
    }
   ],
   "source": [
    "# Grab total from overall homeless females column\n",
    "total_females = states_homeless_2020_data_df.loc['Total','Overall Homeless - Female, 2020']\n",
    "print(total_females)\n"
   ]
  },
  {
   "cell_type": "code",
   "execution_count": 4,
   "id": "38fa6b86",
   "metadata": {},
   "outputs": [
    {
     "name": "stdout",
     "output_type": "stream",
     "text": [
      "352,211\n"
     ]
    }
   ],
   "source": [
    "# Grab total from overall homeless males column\n",
    "total_males = states_homeless_2020_data_df.loc['Total','Overall Homeless - Male, 2020']\n",
    "print(total_males)"
   ]
  },
  {
   "cell_type": "code",
   "execution_count": 5,
   "id": "20a5da70",
   "metadata": {},
   "outputs": [
    {
     "data": {
      "image/png": "[encoded data removed]",
      "text/plain": [
       "<Figure size 432x288 with 1 Axes>"
      ]
     },
     "metadata": {},
     "output_type": "display_data"
    }
   ],
   "source": [
    "labels = ['Female', 'Male']\n",
    "data = [223578,352211]\n",
    "# plt.pie(data, labels = gender)\n",
    "\n",
    "# only \"explode\" the 2nd slice (i.e. 'Hogs')\n",
    "explode = (0, 0.1,)\n",
    "\n",
    "#add colors\n",
    "colors = ['#D61E14','#14CCD6']\n",
    "fig1, ax1 = plt.subplots()\n",
    "ax1.pie(data, explode=explode, labels=labels, colors=colors, autopct='%1.1f%%',\n",
    "        shadow=True, startangle=90)\n",
    "\n",
    "# Equal aspect ratio ensures that pie is drawn as a circle\n",
    "ax1.axis('equal')\n",
    "plt.title('Percentage of Homeless Males/Females 2020')\n",
    "plt.tight_layout()\n",
    "plt.show()"
   ]
  },
  {
   "cell_type": "code",
   "execution_count": 6,
   "id": "fc4a4111",
   "metadata": {},
   "outputs": [
    {
     "name": "stdout",
     "output_type": "stream",
     "text": [
      "106364\n"
     ]
    }
   ],
   "source": [
    "# Grab total from overall homeless Under 18 column\n",
    "total_under_18 = states_homeless_2020_data_df.loc['Total','Overall Homeless - Under 18, 2020']\n",
    "converted_total_under_18 = total_under_18.replace(',', '')\n",
    "converted_total_under_18 = int(converted_total_under_18)\n",
    "print(converted_total_under_18)"
   ]
  },
  {
   "cell_type": "code",
   "execution_count": 7,
   "id": "4455bbb3",
   "metadata": {},
   "outputs": [
    {
     "name": "stdout",
     "output_type": "stream",
     "text": [
      "45243\n"
     ]
    }
   ],
   "source": [
    "total_18_to_24 = states_homeless_2020_data_df.loc['Total','Overall Homeless - Age 18 to 24, 2020']\n",
    "converted_18_to_24 = total_18_to_24.replace(',', '')\n",
    "converted_18_to_24 = int(converted_18_to_24)\n",
    "print(converted_18_to_24)"
   ]
  },
  {
   "cell_type": "code",
   "execution_count": 8,
   "id": "68ea7d42",
   "metadata": {},
   "outputs": [
    {
     "name": "stdout",
     "output_type": "stream",
     "text": [
      "428859\n"
     ]
    }
   ],
   "source": [
    "total_over_24 = states_homeless_2020_data_df.loc['Total','Overall Homeless - Over 24, 2020']\n",
    "converted_total_over_24 = total_over_24.replace(',', '')\n",
    "converted_total_over_24 = int(converted_total_over_24)\n",
    "print(converted_total_over_24)"
   ]
  },
  {
   "cell_type": "code",
   "execution_count": 12,
   "id": "1b29e1cc",
   "metadata": {},
   "outputs": [
    {
     "data": {
      "image/png": "[encoded data removed]",
      "text/plain": [
       "<Figure size 432x288 with 1 Axes>"
      ]
     },
     "metadata": {},
     "output_type": "display_data"
    }
   ],
   "source": [
    "labels = ['18 to 24','Under 18', 'Over 24']\n",
    "data = [converted_18_to_24,converted_total_under_18,converted_total_over_24]\n",
    "# plt.pie(data, labels = gender)\n",
    "\n",
    "# only \"explode\" the 2nd slice (i.e. 'Hogs')\n",
    "explode = (0, 0.1, 0.1)\n",
    "\n",
    "#add colors\n",
    "colors = ['#D61E14','#14CCD6', '#30D614']\n",
    "fig1, ax1 = plt.subplots()\n",
    "ax1.pie(data, explode=explode, labels=labels, colors=colors, autopct='%1.1f%%',\n",
    "        shadow=True, startangle=90)\n",
    "\n",
    "# Equal aspect ratio ensures that pie is drawn as a circle\n",
    "ax1.axis('equal')\n",
    "plt.title('Percentage of Homeless Population Under 18, 18 to 24, and Over 24 2020')\n",
    "plt.tight_layout()\n",
    "plt.show()"
   ]
  },
  {
   "cell_type": "code",
   "execution_count": 13,
   "id": "5401b51e",
   "metadata": {},
   "outputs": [
    {
     "name": "stdout",
     "output_type": "stream",
     "text": [
      "450107\n"
     ]
    }
   ],
   "source": [
    "total_nonhispanic_nonlatino = states_homeless_2020_data_df.loc['Total','Overall Homeless - Non-Hispanic/Non-Latino, 2020']\n",
    "converted_total_nonhispanic_nonlatino = total_nonhispanic_nonlatino.replace(',', '')\n",
    "converted_total_nonhispanic_nonlatino = int(converted_total_nonhispanic_nonlatino)\n",
    "print(converted_total_nonhispanic_nonlatino)"
   ]
  },
  {
   "cell_type": "code",
   "execution_count": 14,
   "id": "4e355d65",
   "metadata": {},
   "outputs": [
    {
     "name": "stdout",
     "output_type": "stream",
     "text": [
      "130348\n"
     ]
    }
   ],
   "source": [
    "total_hispanic_latino = states_homeless_2020_data_df.loc['Total','Overall Homeless - Hispanic/Latino, 2020']\n",
    "converted_total_hispanic_latino = total_hispanic_latino.replace(',', '')\n",
    "converted_total_hispanic_latino = int(converted_total_hispanic_latino)\n",
    "print(converted_total_hispanic_latino)"
   ]
  },
  {
   "cell_type": "code",
   "execution_count": 15,
   "id": "54bdd253",
   "metadata": {},
   "outputs": [
    {
     "name": "stdout",
     "output_type": "stream",
     "text": [
      "280612\n"
     ]
    }
   ],
   "source": [
    "total_white = states_homeless_2020_data_df.loc['Total','Overall Homeless - White, 2020']\n",
    "converted_total_white = total_white.replace(',', '')\n",
    "converted_total_white = int(converted_total_white)\n",
    "print(converted_total_white)"
   ]
  },
  {
   "cell_type": "code",
   "execution_count": 16,
   "id": "011f44e1",
   "metadata": {},
   "outputs": [
    {
     "name": "stdout",
     "output_type": "stream",
     "text": [
      "228796\n"
     ]
    }
   ],
   "source": [
    "total_black__or_african_american = states_homeless_2020_data_df.loc['Total','Overall Homeless - Black or African American, 2020']\n",
    "converted_total_black__or_african_american = total_black__or_african_american.replace(',', '')\n",
    "converted_total_black__or_african_american = int(converted_total_black__or_african_american)\n",
    "print(converted_total_black__or_african_american)"
   ]
  },
  {
   "cell_type": "code",
   "execution_count": 17,
   "id": "7f40a411",
   "metadata": {},
   "outputs": [
    {
     "name": "stdout",
     "output_type": "stream",
     "text": [
      "7638\n"
     ]
    }
   ],
   "source": [
    "total_asian = states_homeless_2020_data_df.loc['Total','Overall Homeless - Asian, 2020']\n",
    "converted_total_asian = total_asian.replace(',', '')\n",
    "converted_total_asian = int(converted_total_asian)\n",
    "print(converted_total_asian)"
   ]
  },
  {
   "cell_type": "code",
   "execution_count": 18,
   "id": "c8dd698b",
   "metadata": {},
   "outputs": [
    {
     "name": "stdout",
     "output_type": "stream",
     "text": [
      "18935\n"
     ]
    }
   ],
   "source": [
    "total_american_indian_or_alaskan_native = states_homeless_2020_data_df.loc['Total','Overall Homeless - American Indian or Alaska Native, 2020']\n",
    "converted_total_american_indian_or_alaskan_native = total_american_indian_or_alaskan_native.replace(',', '')\n",
    "converted_total_american_indian_or_alaskan_native = int(converted_total_american_indian_or_alaskan_native)\n",
    "print(converted_total_american_indian_or_alaskan_native)"
   ]
  },
  {
   "cell_type": "code",
   "execution_count": 19,
   "id": "62c2a2f1",
   "metadata": {},
   "outputs": [
    {
     "name": "stdout",
     "output_type": "stream",
     "text": [
      "8794\n"
     ]
    }
   ],
   "source": [
    "total_native_hawaiian_or_other_pacific_islander = states_homeless_2020_data_df.loc['Total','Overall Homeless - Native Hawaiian or Other Pacific Islander, 2020']\n",
    "converted_total_native_hawaiian_or_other_pacific_islander = total_native_hawaiian_or_other_pacific_islander.replace(',', '')\n",
    "converted_total_native_hawaiian_or_other_pacific_islander = int(converted_total_native_hawaiian_or_other_pacific_islander)\n",
    "print(converted_total_native_hawaiian_or_other_pacific_islander)"
   ]
  },
  {
   "cell_type": "code",
   "execution_count": 20,
   "id": "9686750f",
   "metadata": {},
   "outputs": [
    {
     "name": "stdout",
     "output_type": "stream",
     "text": [
      "35680\n"
     ]
    }
   ],
   "source": [
    "total_multiple_races = states_homeless_2020_data_df.loc['Total','Overall Homeless - Multiple Races, 2020']\n",
    "converted_total_multiple_races = total_multiple_races.replace(',', '')\n",
    "converted_total_multiple_races = int(converted_total_multiple_races)\n",
    "print(converted_total_multiple_races)"
   ]
  },
  {
   "cell_type": "code",
   "execution_count": 52,
   "id": "5601c199",
   "metadata": {},
   "outputs": [
    {
     "name": "stderr",
     "output_type": "stream",
     "text": [
      "<ipython-input-52-bd2a8cf1dd48>:19: UserWarning: Tight layout not applied. The left and right margins cannot be made large enough to accommodate all axes decorations. \n",
      "  plt.tight_layout()\n"
     ]
    },
    {
     "data": {
      "image/png": "[encoded data removed]",
      "text/plain": [
       "<Figure size 432x288 with 1 Axes>"
      ]
     },
     "metadata": {},
     "output_type": "display_data"
    }
   ],
   "source": [
    "\n",
    "\n",
    "labels = ['Non-Hispanic/Non-Latino, 2020','Hispanic/Latino, 2020', 'White, 2020', 'Black or African American, 2020', 'Asian, 2020', 'American Indian or Alaska Native, 2020','Native Hawaiian or Other Pacific Islander, 2020','Multiple Races, 2020']\n",
    "data = [converted_total_nonhispanic_nonlatino,converted_total_hispanic_latino,converted_total_white,converted_total_black__or_african_american,converted_total_asian,converted_total_american_indian_or_alaskan_native,converted_total_native_hawaiian_or_other_pacific_islander,converted_total_multiple_races]\n",
    "\n",
    "data=sorted(data)\n",
    "\n",
    "# only \"explode\" the 2nd slice (i.e. 'Hogs')\n",
    "# explode = (0, 0.1, 0.1)\n",
    "\n",
    "#add colors\n",
    "# colors = ['#D61E14','#14CCD6', '#30D614']\n",
    "fig1, ax1 = plt.subplots()\n",
    "ax1.pie(data, labels = labels, autopct='%1.1f%%',\n",
    "        shadow=True, startangle=210)\n",
    "\n",
    "plt.legend(labels, loc='best', bbox_to_anchor=(-0.1, 1.),fontsize=8)\n",
    "# Equal aspect ratio ensures that pie is drawn as a circle\n",
    "ax1.axis('equal')\n",
    "plt.title('Percentage of Homeless Population By Ethnicity 2020')\n",
    "plt.tight_layout()\n",
    "plt.show()"
   ]
  },
  {
   "cell_type": "code",
   "execution_count": null,
   "id": "89d99b82",
   "metadata": {},
   "outputs": [],
   "source": [
    "fig = plt.figure()\n",
    "ax = fig.add_axes([0,0,1,1])\n",
    "langs = ['C', 'C++', 'Java', 'Python', 'PHP']\n",
    "students = [23,17,35,29,12]\n",
    "ax.bar(langs,students)\n",
    "plt.show()"
   ]
  }
 ],
 "metadata": {
  "kernelspec": {
   "display_name": "Python 3",
   "language": "python",
   "name": "python3"
  },
  "language_info": {
   "codemirror_mode": {
    "name": "ipython",
    "version": 3
   },
   "file_extension": ".py",
   "mimetype": "text/x-python",
   "name": "python",
   "nbconvert_exporter": "python",
   "pygments_lexer": "ipython3",
   "version": "3.8.5"
  }
 },
 "nbformat": 4,
 "nbformat_minor": 5
}
