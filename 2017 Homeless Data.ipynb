{
 "cells": [
  {
   "cell_type": "code",
   "execution_count": 2,
   "id": "8ad6e6b5",
   "metadata": {},
   "outputs": [
    {
     "data": {
      "text/html": [
       "<div>\n",
       "<style scoped>\n",
       "    .dataframe tbody tr th:only-of-type {\n",
       "        vertical-align: middle;\n",
       "    }\n",
       "\n",
       "    .dataframe tbody tr th {\n",
       "        vertical-align: top;\n",
       "    }\n",
       "\n",
       "    .dataframe thead th {\n",
       "        text-align: right;\n",
       "    }\n",
       "</style>\n",
       "<table border=\"1\" class=\"dataframe\">\n",
       "  <thead>\n",
       "    <tr style=\"text-align: right;\">\n",
       "      <th></th>\n",
       "      <th>Number of CoCs</th>\n",
       "      <th>Overall Homeless, 2017</th>\n",
       "      <th>Overall Homeless - Under 18, 2017</th>\n",
       "      <th>Overall Homeless - Age 18 to 24, 2017</th>\n",
       "      <th>Overall Homeless - Over 24, 2017</th>\n",
       "      <th>Overall Homeless - Female, 2017</th>\n",
       "      <th>Overall Homeless - Male, 2017</th>\n",
       "      <th>Overall Homeless - Transgender, 2017</th>\n",
       "      <th>Overall Homeless - Gender Non-Conforming, 2017</th>\n",
       "      <th>Overall Homeless - Non-Hispanic/Non-Latino, 2017</th>\n",
       "      <th>...</th>\n",
       "      <th>Overall Homeless Parenting Youth Age 18-24, 2017</th>\n",
       "      <th>Sheltered ES Homeless Parenting Youth Age 18-24, 2017</th>\n",
       "      <th>Sheltered TH Homeless Parenting Youth Age 18-24, 2017</th>\n",
       "      <th>Sheltered Total Homeless Parenting Youth Age 18-24, 2017</th>\n",
       "      <th>Unsheltered Homeless Parenting Youth Age 18-24, 2017</th>\n",
       "      <th>Overall Homeless Children of Parenting Youth, 2017</th>\n",
       "      <th>Sheltered ES Homeless Children of Parenting Youth, 2017</th>\n",
       "      <th>Sheltered TH Homeless Children of Parenting Youth, 2017</th>\n",
       "      <th>Sheltered Total Homeless Children of Parenting Youth, 2017</th>\n",
       "      <th>Unsheltered Homeless Children of Parenting Youth, 2017</th>\n",
       "    </tr>\n",
       "    <tr>\n",
       "      <th>State</th>\n",
       "      <th></th>\n",
       "      <th></th>\n",
       "      <th></th>\n",
       "      <th></th>\n",
       "      <th></th>\n",
       "      <th></th>\n",
       "      <th></th>\n",
       "      <th></th>\n",
       "      <th></th>\n",
       "      <th></th>\n",
       "      <th></th>\n",
       "      <th></th>\n",
       "      <th></th>\n",
       "      <th></th>\n",
       "      <th></th>\n",
       "      <th></th>\n",
       "      <th></th>\n",
       "      <th></th>\n",
       "      <th></th>\n",
       "      <th></th>\n",
       "      <th></th>\n",
       "    </tr>\n",
       "  </thead>\n",
       "  <tbody>\n",
       "    <tr>\n",
       "      <th>AK</th>\n",
       "      <td>2.0</td>\n",
       "      <td>1,845</td>\n",
       "      <td>305</td>\n",
       "      <td>186</td>\n",
       "      <td>1,354</td>\n",
       "      <td>765</td>\n",
       "      <td>1,075</td>\n",
       "      <td>4</td>\n",
       "      <td>1.0</td>\n",
       "      <td>1,743</td>\n",
       "      <td>...</td>\n",
       "      <td>22</td>\n",
       "      <td>10</td>\n",
       "      <td>12</td>\n",
       "      <td>22</td>\n",
       "      <td>0.0</td>\n",
       "      <td>39</td>\n",
       "      <td>20</td>\n",
       "      <td>19</td>\n",
       "      <td>39</td>\n",
       "      <td>0.0</td>\n",
       "    </tr>\n",
       "    <tr>\n",
       "      <th>AL</th>\n",
       "      <td>8.0</td>\n",
       "      <td>3,793</td>\n",
       "      <td>528</td>\n",
       "      <td>300</td>\n",
       "      <td>2,965</td>\n",
       "      <td>1,314</td>\n",
       "      <td>2,453</td>\n",
       "      <td>21</td>\n",
       "      <td>5.0</td>\n",
       "      <td>3,721</td>\n",
       "      <td>...</td>\n",
       "      <td>23</td>\n",
       "      <td>6</td>\n",
       "      <td>14</td>\n",
       "      <td>20</td>\n",
       "      <td>3.0</td>\n",
       "      <td>39</td>\n",
       "      <td>11</td>\n",
       "      <td>24</td>\n",
       "      <td>35</td>\n",
       "      <td>4.0</td>\n",
       "    </tr>\n",
       "    <tr>\n",
       "      <th>AR</th>\n",
       "      <td>6.0</td>\n",
       "      <td>2,467</td>\n",
       "      <td>265</td>\n",
       "      <td>209</td>\n",
       "      <td>1,993</td>\n",
       "      <td>965</td>\n",
       "      <td>1,499</td>\n",
       "      <td>3</td>\n",
       "      <td>0.0</td>\n",
       "      <td>2,405</td>\n",
       "      <td>...</td>\n",
       "      <td>10</td>\n",
       "      <td>8</td>\n",
       "      <td>2</td>\n",
       "      <td>10</td>\n",
       "      <td>0.0</td>\n",
       "      <td>13</td>\n",
       "      <td>11</td>\n",
       "      <td>2</td>\n",
       "      <td>13</td>\n",
       "      <td>0.0</td>\n",
       "    </tr>\n",
       "    <tr>\n",
       "      <th>AZ</th>\n",
       "      <td>3.0</td>\n",
       "      <td>8,947</td>\n",
       "      <td>1,607</td>\n",
       "      <td>660</td>\n",
       "      <td>6,680</td>\n",
       "      <td>3,331</td>\n",
       "      <td>5,592</td>\n",
       "      <td>22</td>\n",
       "      <td>2.0</td>\n",
       "      <td>6,876</td>\n",
       "      <td>...</td>\n",
       "      <td>81</td>\n",
       "      <td>37</td>\n",
       "      <td>44</td>\n",
       "      <td>81</td>\n",
       "      <td>0.0</td>\n",
       "      <td>112</td>\n",
       "      <td>55</td>\n",
       "      <td>57</td>\n",
       "      <td>112</td>\n",
       "      <td>0.0</td>\n",
       "    </tr>\n",
       "    <tr>\n",
       "      <th>CA</th>\n",
       "      <td>43.0</td>\n",
       "      <td>131,532</td>\n",
       "      <td>14,207</td>\n",
       "      <td>13,276</td>\n",
       "      <td>104,049</td>\n",
       "      <td>42,750</td>\n",
       "      <td>87,609</td>\n",
       "      <td>793</td>\n",
       "      <td>380.0</td>\n",
       "      <td>90,040</td>\n",
       "      <td>...</td>\n",
       "      <td>770</td>\n",
       "      <td>248</td>\n",
       "      <td>397</td>\n",
       "      <td>645</td>\n",
       "      <td>125.0</td>\n",
       "      <td>912</td>\n",
       "      <td>289</td>\n",
       "      <td>493</td>\n",
       "      <td>782</td>\n",
       "      <td>130.0</td>\n",
       "    </tr>\n",
       "  </tbody>\n",
       "</table>\n",
       "<p>5 rows × 540 columns</p>\n",
       "</div>"
      ],
      "text/plain": [
       "       Number of CoCs Overall Homeless, 2017  \\\n",
       "State                                          \n",
       "AK                2.0                  1,845   \n",
       "AL                8.0                  3,793   \n",
       "AR                6.0                  2,467   \n",
       "AZ                3.0                  8,947   \n",
       "CA               43.0                131,532   \n",
       "\n",
       "      Overall Homeless - Under 18, 2017 Overall Homeless - Age 18 to 24, 2017  \\\n",
       "State                                                                           \n",
       "AK                                  305                                   186   \n",
       "AL                                  528                                   300   \n",
       "AR                                  265                                   209   \n",
       "AZ                                1,607                                   660   \n",
       "CA                               14,207                                13,276   \n",
       "\n",
       "      Overall Homeless - Over 24, 2017 Overall Homeless - Female, 2017  \\\n",
       "State                                                                    \n",
       "AK                               1,354                             765   \n",
       "AL                               2,965                           1,314   \n",
       "AR                               1,993                             965   \n",
       "AZ                               6,680                           3,331   \n",
       "CA                             104,049                          42,750   \n",
       "\n",
       "      Overall Homeless - Male, 2017 Overall Homeless - Transgender, 2017  \\\n",
       "State                                                                      \n",
       "AK                            1,075                                    4   \n",
       "AL                            2,453                                   21   \n",
       "AR                            1,499                                    3   \n",
       "AZ                            5,592                                   22   \n",
       "CA                           87,609                                  793   \n",
       "\n",
       "       Overall Homeless - Gender Non-Conforming, 2017  \\\n",
       "State                                                   \n",
       "AK                                                1.0   \n",
       "AL                                                5.0   \n",
       "AR                                                0.0   \n",
       "AZ                                                2.0   \n",
       "CA                                              380.0   \n",
       "\n",
       "      Overall Homeless - Non-Hispanic/Non-Latino, 2017  ...  \\\n",
       "State                                                   ...   \n",
       "AK                                               1,743  ...   \n",
       "AL                                               3,721  ...   \n",
       "AR                                               2,405  ...   \n",
       "AZ                                               6,876  ...   \n",
       "CA                                              90,040  ...   \n",
       "\n",
       "      Overall Homeless Parenting Youth Age 18-24, 2017  \\\n",
       "State                                                    \n",
       "AK                                                  22   \n",
       "AL                                                  23   \n",
       "AR                                                  10   \n",
       "AZ                                                  81   \n",
       "CA                                                 770   \n",
       "\n",
       "      Sheltered ES Homeless Parenting Youth Age 18-24, 2017  \\\n",
       "State                                                         \n",
       "AK                                                    10      \n",
       "AL                                                     6      \n",
       "AR                                                     8      \n",
       "AZ                                                    37      \n",
       "CA                                                   248      \n",
       "\n",
       "      Sheltered TH Homeless Parenting Youth Age 18-24, 2017  \\\n",
       "State                                                         \n",
       "AK                                                    12      \n",
       "AL                                                    14      \n",
       "AR                                                     2      \n",
       "AZ                                                    44      \n",
       "CA                                                   397      \n",
       "\n",
       "      Sheltered Total Homeless Parenting Youth Age 18-24, 2017  \\\n",
       "State                                                            \n",
       "AK                                                    22         \n",
       "AL                                                    20         \n",
       "AR                                                    10         \n",
       "AZ                                                    81         \n",
       "CA                                                   645         \n",
       "\n",
       "      Unsheltered Homeless Parenting Youth Age 18-24, 2017  \\\n",
       "State                                                        \n",
       "AK                                                   0.0     \n",
       "AL                                                   3.0     \n",
       "AR                                                   0.0     \n",
       "AZ                                                   0.0     \n",
       "CA                                                 125.0     \n",
       "\n",
       "      Overall Homeless Children of Parenting Youth, 2017  \\\n",
       "State                                                      \n",
       "AK                                                    39   \n",
       "AL                                                    39   \n",
       "AR                                                    13   \n",
       "AZ                                                   112   \n",
       "CA                                                   912   \n",
       "\n",
       "      Sheltered ES Homeless Children of Parenting Youth, 2017  \\\n",
       "State                                                           \n",
       "AK                                                    20        \n",
       "AL                                                    11        \n",
       "AR                                                    11        \n",
       "AZ                                                    55        \n",
       "CA                                                   289        \n",
       "\n",
       "      Sheltered TH Homeless Children of Parenting Youth, 2017  \\\n",
       "State                                                           \n",
       "AK                                                    19        \n",
       "AL                                                    24        \n",
       "AR                                                     2        \n",
       "AZ                                                    57        \n",
       "CA                                                   493        \n",
       "\n",
       "      Sheltered Total Homeless Children of Parenting Youth, 2017  \\\n",
       "State                                                              \n",
       "AK                                                    39           \n",
       "AL                                                    35           \n",
       "AR                                                    13           \n",
       "AZ                                                   112           \n",
       "CA                                                   782           \n",
       "\n",
       "      Unsheltered Homeless Children of Parenting Youth, 2017  \n",
       "State                                                         \n",
       "AK                                                   0.0      \n",
       "AL                                                   4.0      \n",
       "AR                                                   0.0      \n",
       "AZ                                                   0.0      \n",
       "CA                                                 130.0      \n",
       "\n",
       "[5 rows x 540 columns]"
      ]
     },
     "execution_count": 2,
     "metadata": {},
     "output_type": "execute_result"
    }
   ],
   "source": [
    "import pandas as pd\n",
    "import matplotlib.pyplot as plt\n",
    "import numpy as np\n",
    "import scipy.stats as st\n",
    "\n",
    "file_to_load = \"datasets/2017-Point-in-Time-Estimates-by-state.csv\"\n",
    "\n",
    "homeless_2017_data_df = pd.read_csv(file_to_load)\n",
    "states_homeless_2017_data_df = homeless_2017_data_df.set_index('State')\n",
    "states_homeless_2017_data_df.head()"
   ]
  },
  {
   "cell_type": "code",
   "execution_count": 3,
   "id": "ba792c6f",
   "metadata": {},
   "outputs": [
    {
     "name": "stdout",
     "output_type": "stream",
     "text": [
      "214,975\n"
     ]
    }
   ],
   "source": [
    "# Grab total from overall homeless females column\n",
    "total_females = states_homeless_2017_data_df.loc['Total','Overall Homeless - Female, 2017']\n",
    "print(total_females)"
   ]
  },
  {
   "cell_type": "code",
   "execution_count": 4,
   "id": "3f042491",
   "metadata": {},
   "outputs": [
    {
     "name": "stdout",
     "output_type": "stream",
     "text": [
      "333,049\n"
     ]
    }
   ],
   "source": [
    "# Grab total from overall homeless males column\n",
    "total_males = states_homeless_2017_data_df.loc['Total','Overall Homeless - Male, 2017']\n",
    "print(total_males)"
   ]
  },
  {
   "cell_type": "code",
   "execution_count": 5,
   "id": "11529598",
   "metadata": {},
   "outputs": [
    {
     "data": {
      "image/png": "[encoded data removed]",
      "text/plain": [
       "<Figure size 432x288 with 1 Axes>"
      ]
     },
     "metadata": {},
     "output_type": "display_data"
    }
   ],
   "source": [
    "labels = ['Female', 'Male']\n",
    "data = [214975,333049]\n",
    "# plt.pie(data, labels = gender)\n",
    "\n",
    "# only \"explode\" the 2nd slice (i.e. 'Hogs')\n",
    "explode = (0, 0.1,)\n",
    "\n",
    "#add colors\n",
    "colors = ['#D61E14','#14CCD6']\n",
    "fig1, ax1 = plt.subplots()\n",
    "ax1.pie(data, explode=explode, labels=labels, colors=colors, autopct='%1.1f%%',\n",
    "        shadow=True, startangle=90)\n",
    "\n",
    "# Equal aspect ratio ensures that pie is drawn as a circle\n",
    "ax1.axis('equal')\n",
    "plt.title('Percentage of Homeless Males/Females 2017')\n",
    "plt.tight_layout()\n",
    "plt.show()"
   ]
  },
  {
   "cell_type": "code",
   "execution_count": 6,
   "id": "6999179d",
   "metadata": {},
   "outputs": [
    {
     "name": "stdout",
     "output_type": "stream",
     "text": [
      "114529\n"
     ]
    }
   ],
   "source": [
    "total_under_18 = states_homeless_2017_data_df.loc['Total','Overall Homeless - Under 18, 2017']\n",
    "converted_total_under_18 = total_under_18.replace(',', '')\n",
    "converted_total_under_18 = int(converted_total_under_18)\n",
    "print(converted_total_under_18)"
   ]
  },
  {
   "cell_type": "code",
   "execution_count": 7,
   "id": "ffc2024d",
   "metadata": {},
   "outputs": [
    {
     "name": "stdout",
     "output_type": "stream",
     "text": [
      "50992\n"
     ]
    }
   ],
   "source": [
    "total_18_to_24 = states_homeless_2017_data_df.loc['Total','Overall Homeless - Age 18 to 24, 2017']\n",
    "converted_18_to_24 = total_18_to_24.replace(',', '')\n",
    "converted_18_to_24 = int(converted_18_to_24)\n",
    "print(converted_18_to_24)"
   ]
  },
  {
   "cell_type": "code",
   "execution_count": 8,
   "id": "aa0fd16a",
   "metadata": {},
   "outputs": [
    {
     "name": "stdout",
     "output_type": "stream",
     "text": [
      "385475\n"
     ]
    }
   ],
   "source": [
    "total_over_24 = states_homeless_2017_data_df.loc['Total','Overall Homeless - Over 24, 2017']\n",
    "converted_total_over_24 = total_over_24.replace(',', '')\n",
    "converted_total_over_24 = int(converted_total_over_24)\n",
    "print(converted_total_over_24)"
   ]
  },
  {
   "cell_type": "code",
   "execution_count": 9,
   "id": "d710baf5",
   "metadata": {},
   "outputs": [
    {
     "data": {
      "image/png": "[encoded data removed]",
      "text/plain": [
       "<Figure size 432x288 with 1 Axes>"
      ]
     },
     "metadata": {},
     "output_type": "display_data"
    }
   ],
   "source": [
    "labels = ['18 to 24','Under 18', 'Over 24']\n",
    "data = [converted_18_to_24,converted_total_under_18,converted_total_over_24]\n",
    "# plt.pie(data, labels = gender)\n",
    "\n",
    "# only \"explode\" the 2nd slice (i.e. 'Hogs')\n",
    "explode = (0, 0.1, 0.1)\n",
    "\n",
    "#add colors\n",
    "colors = ['#D61E14','#14CCD6', '#30D614']\n",
    "fig1, ax1 = plt.subplots()\n",
    "ax1.pie(data, explode=explode, labels=labels, colors=colors, autopct='%1.1f%%',\n",
    "        shadow=True, startangle=90)\n",
    "\n",
    "# Equal aspect ratio ensures that pie is drawn as a circle\n",
    "ax1.axis('equal')\n",
    "plt.title('Percentage of Homeless Population Under 18, 18 to 24, and Over 24 2017')\n",
    "plt.tight_layout()\n",
    "plt.show()"
   ]
  },
  {
   "cell_type": "code",
   "execution_count": 10,
   "id": "3182580d",
   "metadata": {},
   "outputs": [
    {
     "name": "stdout",
     "output_type": "stream",
     "text": [
      "432634\n"
     ]
    }
   ],
   "source": [
    "total_nonhispanic_nonlatino = states_homeless_2017_data_df.loc['Total','Overall Homeless - Non-Hispanic/Non-Latino, 2017']\n",
    "converted_total_nonhispanic_nonlatino = total_nonhispanic_nonlatino.replace(',', '')\n",
    "converted_total_nonhispanic_nonlatino = int(converted_total_nonhispanic_nonlatino)\n",
    "print(converted_total_nonhispanic_nonlatino)"
   ]
  },
  {
   "cell_type": "code",
   "execution_count": 11,
   "id": "a4e58856",
   "metadata": {},
   "outputs": [
    {
     "name": "stdout",
     "output_type": "stream",
     "text": [
      "118362\n"
     ]
    }
   ],
   "source": [
    "total_hispanic_latino = states_homeless_2017_data_df.loc['Total','Overall Homeless - Hispanic/Latino, 2017']\n",
    "converted_total_hispanic_latino = total_hispanic_latino.replace(',', '')\n",
    "converted_total_hispanic_latino = int(converted_total_hispanic_latino)\n",
    "print(converted_total_hispanic_latino)"
   ]
  },
  {
   "cell_type": "code",
   "execution_count": 12,
   "id": "2a10d8fb",
   "metadata": {},
   "outputs": [
    {
     "name": "stdout",
     "output_type": "stream",
     "text": [
      "259675\n"
     ]
    }
   ],
   "source": [
    "total_white = states_homeless_2017_data_df.loc['Total','Overall Homeless - White, 2017']\n",
    "converted_total_white = total_white.replace(',', '')\n",
    "converted_total_white = int(converted_total_white)\n",
    "print(converted_total_white)"
   ]
  },
  {
   "cell_type": "code",
   "execution_count": 13,
   "id": "213128de",
   "metadata": {},
   "outputs": [
    {
     "name": "stdout",
     "output_type": "stream",
     "text": [
      "223690\n"
     ]
    }
   ],
   "source": [
    "total_black__or_african_american = states_homeless_2017_data_df.loc['Total','Overall Homeless - Black or African American, 2017']\n",
    "converted_total_black__or_african_american = total_black__or_african_american.replace(',', '')\n",
    "converted_total_black__or_african_american = int(converted_total_black__or_african_american)\n",
    "print(converted_total_black__or_african_american)"
   ]
  },
  {
   "cell_type": "code",
   "execution_count": 14,
   "id": "5f22cf73",
   "metadata": {},
   "outputs": [
    {
     "name": "stdout",
     "output_type": "stream",
     "text": [
      "6700\n"
     ]
    }
   ],
   "source": [
    "total_asian = states_homeless_2017_data_df.loc['Total','Overall Homeless - Asian, 2017']\n",
    "converted_total_asian = total_asian.replace(',', '')\n",
    "converted_total_asian = int(converted_total_asian)\n",
    "print(converted_total_asian)"
   ]
  },
  {
   "cell_type": "code",
   "execution_count": 15,
   "id": "9b888b8d",
   "metadata": {},
   "outputs": [
    {
     "name": "stdout",
     "output_type": "stream",
     "text": [
      "16741\n"
     ]
    }
   ],
   "source": [
    "total_american_indian_or_alaskan_native = states_homeless_2017_data_df.loc['Total','Overall Homeless - American Indian or Alaska Native, 2017']\n",
    "converted_total_american_indian_or_alaskan_native = total_american_indian_or_alaskan_native.replace(',', '')\n",
    "converted_total_american_indian_or_alaskan_native = int(converted_total_american_indian_or_alaskan_native)\n",
    "print(converted_total_american_indian_or_alaskan_native)"
   ]
  },
  {
   "cell_type": "code",
   "execution_count": 16,
   "id": "b644c04a",
   "metadata": {},
   "outputs": [
    {
     "name": "stdout",
     "output_type": "stream",
     "text": [
      "8515\n"
     ]
    }
   ],
   "source": [
    "total_native_hawaiian_or_other_pacific_islander = states_homeless_2017_data_df.loc['Total','Overall Homeless - Native Hawaiian or Other Pacific Islander, 2017']\n",
    "converted_total_native_hawaiian_or_other_pacific_islander = total_native_hawaiian_or_other_pacific_islander.replace(',', '')\n",
    "converted_total_native_hawaiian_or_other_pacific_islander = int(converted_total_native_hawaiian_or_other_pacific_islander)\n",
    "print(converted_total_native_hawaiian_or_other_pacific_islander)"
   ]
  },
  {
   "cell_type": "code",
   "execution_count": 17,
   "id": "cd769fd0",
   "metadata": {},
   "outputs": [
    {
     "name": "stdout",
     "output_type": "stream",
     "text": [
      "35675\n"
     ]
    }
   ],
   "source": [
    "total_multiple_races = states_homeless_2017_data_df.loc['Total','Overall Homeless - Multiple Races, 2017']\n",
    "converted_total_multiple_races = total_multiple_races.replace(',', '')\n",
    "converted_total_multiple_races = int(converted_total_multiple_races)\n",
    "print(converted_total_multiple_races)"
   ]
  },
  {
   "cell_type": "code",
   "execution_count": 18,
   "id": "c7092abe",
   "metadata": {},
   "outputs": [
    {
     "name": "stderr",
     "output_type": "stream",
     "text": [
      "<ipython-input-18-11b1c78acda9>:19: UserWarning: Tight layout not applied. The left and right margins cannot be made large enough to accommodate all axes decorations. \n",
      "  plt.tight_layout()\n"
     ]
    },
    {
     "data": {
      "image/png": "[encoded data removed]",
      "text/plain": [
       "<Figure size 432x288 with 1 Axes>"
      ]
     },
     "metadata": {},
     "output_type": "display_data"
    }
   ],
   "source": [
    "\n",
    "\n",
    "labels = ['Non-Hispanic/Non-Latino, 2017','Hispanic/Latino, 2017', 'White, 2017', 'Black or African American, 2017', 'Asian, 2017', 'American Indian or Alaska Native, 2017','Native Hawaiian or Other Pacific Islander, 2017','Multiple Races, 2017']\n",
    "data = [converted_total_nonhispanic_nonlatino,converted_total_hispanic_latino,converted_total_white,converted_total_black__or_african_american,converted_total_asian,converted_total_american_indian_or_alaskan_native,converted_total_native_hawaiian_or_other_pacific_islander,converted_total_multiple_races]\n",
    "\n",
    "data=sorted(data)\n",
    "\n",
    "# only \"explode\" the 2nd slice (i.e. 'Hogs')\n",
    "# explode = (0, 0.1, 0.1)\n",
    "\n",
    "#add colors\n",
    "# colors = ['#D61E14','#14CCD6', '#30D614']\n",
    "fig1, ax1 = plt.subplots()\n",
    "ax1.pie(data, labels = labels, autopct='%1.1f%%',\n",
    "        shadow=True, startangle=210)\n",
    "\n",
    "plt.legend(labels, loc='best', bbox_to_anchor=(-0.1, 1.),fontsize=8)\n",
    "# Equal aspect ratio ensures that pie is drawn as a circle\n",
    "ax1.axis('equal')\n",
    "plt.title('Percentage of Homeless Population By Ethnicity 2017')\n",
    "plt.tight_layout()\n",
    "plt.show()"
   ]
  },
  {
   "cell_type": "code",
   "execution_count": null,
   "id": "a0b3f8e9",
   "metadata": {},
   "outputs": [],
   "source": []
  }
 ],
 "metadata": {
  "kernelspec": {
   "display_name": "Python 3",
   "language": "python",
   "name": "python3"
  },
  "language_info": {
   "codemirror_mode": {
    "name": "ipython",
    "version": 3
   },
   "file_extension": ".py",
   "mimetype": "text/x-python",
   "name": "python",
   "nbconvert_exporter": "python",
   "pygments_lexer": "ipython3",
   "version": "3.8.5"
  }
 },
 "nbformat": 4,
 "nbformat_minor": 5
}
