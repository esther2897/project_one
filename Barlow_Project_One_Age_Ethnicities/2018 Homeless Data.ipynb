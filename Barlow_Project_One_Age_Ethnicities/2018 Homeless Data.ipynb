{
 "cells": [
  {
   "cell_type": "code",
   "execution_count": 2,
   "id": "1fb0ec39",
   "metadata": {},
   "outputs": [
    {
     "data": {
      "text/html": [
       "<div>\n",
       "<style scoped>\n",
       "    .dataframe tbody tr th:only-of-type {\n",
       "        vertical-align: middle;\n",
       "    }\n",
       "\n",
       "    .dataframe tbody tr th {\n",
       "        vertical-align: top;\n",
       "    }\n",
       "\n",
       "    .dataframe thead th {\n",
       "        text-align: right;\n",
       "    }\n",
       "</style>\n",
       "<table border=\"1\" class=\"dataframe\">\n",
       "  <thead>\n",
       "    <tr style=\"text-align: right;\">\n",
       "      <th></th>\n",
       "      <th>Number of CoCs</th>\n",
       "      <th>Overall Homeless, 2018</th>\n",
       "      <th>Overall Homeless - Under 18, 2018</th>\n",
       "      <th>Overall Homeless - Age 18 to 24, 2018</th>\n",
       "      <th>Overall Homeless - Over 24, 2018</th>\n",
       "      <th>Overall Homeless - Female, 2018</th>\n",
       "      <th>Overall Homeless - Male, 2018</th>\n",
       "      <th>Overall Homeless - Transgender, 2018</th>\n",
       "      <th>Overall Homeless - Gender Non-Conforming, 2018</th>\n",
       "      <th>Overall Homeless - Non-Hispanic/Non-Latino, 2018</th>\n",
       "      <th>...</th>\n",
       "      <th>Overall Homeless Parenting Youth Age 18-24, 2018</th>\n",
       "      <th>Sheltered ES Homeless Parenting Youth Age 18-24, 2018</th>\n",
       "      <th>Sheltered TH Homeless Parenting Youth Age 18-24, 2018</th>\n",
       "      <th>Sheltered Total Homeless Parenting Youth Age 18-24, 2018</th>\n",
       "      <th>Unsheltered Homeless Parenting Youth Age 18-24, 2018</th>\n",
       "      <th>Overall Homeless Children of Parenting Youth, 2018</th>\n",
       "      <th>Sheltered ES Homeless Children of Parenting Youth, 2018</th>\n",
       "      <th>Sheltered TH Homeless Children of Parenting Youth, 2018</th>\n",
       "      <th>Sheltered Total Homeless Children of Parenting Youth, 2018</th>\n",
       "      <th>Unsheltered Homeless Children of Parenting Youth, 2018</th>\n",
       "    </tr>\n",
       "    <tr>\n",
       "      <th>State</th>\n",
       "      <th></th>\n",
       "      <th></th>\n",
       "      <th></th>\n",
       "      <th></th>\n",
       "      <th></th>\n",
       "      <th></th>\n",
       "      <th></th>\n",
       "      <th></th>\n",
       "      <th></th>\n",
       "      <th></th>\n",
       "      <th></th>\n",
       "      <th></th>\n",
       "      <th></th>\n",
       "      <th></th>\n",
       "      <th></th>\n",
       "      <th></th>\n",
       "      <th></th>\n",
       "      <th></th>\n",
       "      <th></th>\n",
       "      <th></th>\n",
       "      <th></th>\n",
       "    </tr>\n",
       "  </thead>\n",
       "  <tbody>\n",
       "    <tr>\n",
       "      <th>AK</th>\n",
       "      <td>2.0</td>\n",
       "      <td>2,016</td>\n",
       "      <td>349</td>\n",
       "      <td>191</td>\n",
       "      <td>1,476</td>\n",
       "      <td>880</td>\n",
       "      <td>1,129</td>\n",
       "      <td>7</td>\n",
       "      <td>0</td>\n",
       "      <td>1,914</td>\n",
       "      <td>...</td>\n",
       "      <td>25</td>\n",
       "      <td>14</td>\n",
       "      <td>9</td>\n",
       "      <td>23</td>\n",
       "      <td>2.0</td>\n",
       "      <td>26</td>\n",
       "      <td>14</td>\n",
       "      <td>10</td>\n",
       "      <td>24</td>\n",
       "      <td>2.0</td>\n",
       "    </tr>\n",
       "    <tr>\n",
       "      <th>AL</th>\n",
       "      <td>8.0</td>\n",
       "      <td>3,434</td>\n",
       "      <td>573</td>\n",
       "      <td>157</td>\n",
       "      <td>2,704</td>\n",
       "      <td>1,399</td>\n",
       "      <td>2,025</td>\n",
       "      <td>9</td>\n",
       "      <td>1</td>\n",
       "      <td>3,340</td>\n",
       "      <td>...</td>\n",
       "      <td>27</td>\n",
       "      <td>11</td>\n",
       "      <td>8</td>\n",
       "      <td>19</td>\n",
       "      <td>8.0</td>\n",
       "      <td>36</td>\n",
       "      <td>16</td>\n",
       "      <td>13</td>\n",
       "      <td>29</td>\n",
       "      <td>7.0</td>\n",
       "    </tr>\n",
       "    <tr>\n",
       "      <th>AR</th>\n",
       "      <td>7.0</td>\n",
       "      <td>2,712</td>\n",
       "      <td>309</td>\n",
       "      <td>213</td>\n",
       "      <td>2,190</td>\n",
       "      <td>1,113</td>\n",
       "      <td>1,593</td>\n",
       "      <td>5</td>\n",
       "      <td>1</td>\n",
       "      <td>2,632</td>\n",
       "      <td>...</td>\n",
       "      <td>8</td>\n",
       "      <td>5</td>\n",
       "      <td>2</td>\n",
       "      <td>7</td>\n",
       "      <td>1.0</td>\n",
       "      <td>11</td>\n",
       "      <td>7</td>\n",
       "      <td>2</td>\n",
       "      <td>9</td>\n",
       "      <td>2.0</td>\n",
       "    </tr>\n",
       "    <tr>\n",
       "      <th>AZ</th>\n",
       "      <td>3.0</td>\n",
       "      <td>9,865</td>\n",
       "      <td>1,680</td>\n",
       "      <td>780</td>\n",
       "      <td>7,405</td>\n",
       "      <td>3,460</td>\n",
       "      <td>6,354</td>\n",
       "      <td>34</td>\n",
       "      <td>17</td>\n",
       "      <td>7,590</td>\n",
       "      <td>...</td>\n",
       "      <td>63</td>\n",
       "      <td>19</td>\n",
       "      <td>35</td>\n",
       "      <td>54</td>\n",
       "      <td>9.0</td>\n",
       "      <td>81</td>\n",
       "      <td>28</td>\n",
       "      <td>45</td>\n",
       "      <td>73</td>\n",
       "      <td>8.0</td>\n",
       "    </tr>\n",
       "    <tr>\n",
       "      <th>CA</th>\n",
       "      <td>43.0</td>\n",
       "      <td>129,972</td>\n",
       "      <td>13,936</td>\n",
       "      <td>12,678</td>\n",
       "      <td>103,358</td>\n",
       "      <td>42,491</td>\n",
       "      <td>85,810</td>\n",
       "      <td>1,252</td>\n",
       "      <td>419</td>\n",
       "      <td>88,525</td>\n",
       "      <td>...</td>\n",
       "      <td>1,077</td>\n",
       "      <td>567</td>\n",
       "      <td>389</td>\n",
       "      <td>956</td>\n",
       "      <td>121.0</td>\n",
       "      <td>1,215</td>\n",
       "      <td>631</td>\n",
       "      <td>464</td>\n",
       "      <td>1,095</td>\n",
       "      <td>120.0</td>\n",
       "    </tr>\n",
       "  </tbody>\n",
       "</table>\n",
       "<p>5 rows × 540 columns</p>\n",
       "</div>"
      ],
      "text/plain": [
       "       Number of CoCs Overall Homeless, 2018  \\\n",
       "State                                          \n",
       "AK                2.0                  2,016   \n",
       "AL                8.0                  3,434   \n",
       "AR                7.0                  2,712   \n",
       "AZ                3.0                  9,865   \n",
       "CA               43.0                129,972   \n",
       "\n",
       "      Overall Homeless - Under 18, 2018 Overall Homeless - Age 18 to 24, 2018  \\\n",
       "State                                                                           \n",
       "AK                                  349                                   191   \n",
       "AL                                  573                                   157   \n",
       "AR                                  309                                   213   \n",
       "AZ                                1,680                                   780   \n",
       "CA                               13,936                                12,678   \n",
       "\n",
       "      Overall Homeless - Over 24, 2018 Overall Homeless - Female, 2018  \\\n",
       "State                                                                    \n",
       "AK                               1,476                             880   \n",
       "AL                               2,704                           1,399   \n",
       "AR                               2,190                           1,113   \n",
       "AZ                               7,405                           3,460   \n",
       "CA                             103,358                          42,491   \n",
       "\n",
       "      Overall Homeless - Male, 2018 Overall Homeless - Transgender, 2018  \\\n",
       "State                                                                      \n",
       "AK                            1,129                                    7   \n",
       "AL                            2,025                                    9   \n",
       "AR                            1,593                                    5   \n",
       "AZ                            6,354                                   34   \n",
       "CA                           85,810                                1,252   \n",
       "\n",
       "      Overall Homeless - Gender Non-Conforming, 2018  \\\n",
       "State                                                  \n",
       "AK                                                 0   \n",
       "AL                                                 1   \n",
       "AR                                                 1   \n",
       "AZ                                                17   \n",
       "CA                                               419   \n",
       "\n",
       "      Overall Homeless - Non-Hispanic/Non-Latino, 2018  ...  \\\n",
       "State                                                   ...   \n",
       "AK                                               1,914  ...   \n",
       "AL                                               3,340  ...   \n",
       "AR                                               2,632  ...   \n",
       "AZ                                               7,590  ...   \n",
       "CA                                              88,525  ...   \n",
       "\n",
       "      Overall Homeless Parenting Youth Age 18-24, 2018  \\\n",
       "State                                                    \n",
       "AK                                                  25   \n",
       "AL                                                  27   \n",
       "AR                                                   8   \n",
       "AZ                                                  63   \n",
       "CA                                               1,077   \n",
       "\n",
       "      Sheltered ES Homeless Parenting Youth Age 18-24, 2018  \\\n",
       "State                                                         \n",
       "AK                                                    14      \n",
       "AL                                                    11      \n",
       "AR                                                     5      \n",
       "AZ                                                    19      \n",
       "CA                                                   567      \n",
       "\n",
       "      Sheltered TH Homeless Parenting Youth Age 18-24, 2018  \\\n",
       "State                                                         \n",
       "AK                                                     9      \n",
       "AL                                                     8      \n",
       "AR                                                     2      \n",
       "AZ                                                    35      \n",
       "CA                                                   389      \n",
       "\n",
       "      Sheltered Total Homeless Parenting Youth Age 18-24, 2018  \\\n",
       "State                                                            \n",
       "AK                                                    23         \n",
       "AL                                                    19         \n",
       "AR                                                     7         \n",
       "AZ                                                    54         \n",
       "CA                                                   956         \n",
       "\n",
       "      Unsheltered Homeless Parenting Youth Age 18-24, 2018  \\\n",
       "State                                                        \n",
       "AK                                                   2.0     \n",
       "AL                                                   8.0     \n",
       "AR                                                   1.0     \n",
       "AZ                                                   9.0     \n",
       "CA                                                 121.0     \n",
       "\n",
       "      Overall Homeless Children of Parenting Youth, 2018  \\\n",
       "State                                                      \n",
       "AK                                                    26   \n",
       "AL                                                    36   \n",
       "AR                                                    11   \n",
       "AZ                                                    81   \n",
       "CA                                                 1,215   \n",
       "\n",
       "      Sheltered ES Homeless Children of Parenting Youth, 2018  \\\n",
       "State                                                           \n",
       "AK                                                    14        \n",
       "AL                                                    16        \n",
       "AR                                                     7        \n",
       "AZ                                                    28        \n",
       "CA                                                   631        \n",
       "\n",
       "      Sheltered TH Homeless Children of Parenting Youth, 2018  \\\n",
       "State                                                           \n",
       "AK                                                    10        \n",
       "AL                                                    13        \n",
       "AR                                                     2        \n",
       "AZ                                                    45        \n",
       "CA                                                   464        \n",
       "\n",
       "      Sheltered Total Homeless Children of Parenting Youth, 2018  \\\n",
       "State                                                              \n",
       "AK                                                    24           \n",
       "AL                                                    29           \n",
       "AR                                                     9           \n",
       "AZ                                                    73           \n",
       "CA                                                 1,095           \n",
       "\n",
       "      Unsheltered Homeless Children of Parenting Youth, 2018  \n",
       "State                                                         \n",
       "AK                                                   2.0      \n",
       "AL                                                   7.0      \n",
       "AR                                                   2.0      \n",
       "AZ                                                   8.0      \n",
       "CA                                                 120.0      \n",
       "\n",
       "[5 rows x 540 columns]"
      ]
     },
     "execution_count": 2,
     "metadata": {},
     "output_type": "execute_result"
    }
   ],
   "source": [
    "import pandas as pd\n",
    "import matplotlib.pyplot as plt\n",
    "import numpy as np\n",
    "import scipy.stats as st\n",
    "\n",
    "file_to_load = \"datasets/2018-Point-in-Time-Estimates-by-state.csv\"\n",
    "\n",
    "homeless_2018_data_df = pd.read_csv(file_to_load)\n",
    "states_homeless_2018_data_df = homeless_2018_data_df.set_index('State')\n",
    "states_homeless_2018_data_df.head()"
   ]
  },
  {
   "cell_type": "code",
   "execution_count": 3,
   "id": "e856fa8a",
   "metadata": {},
   "outputs": [
    {
     "name": "stdout",
     "output_type": "stream",
     "text": [
      "216,211\n"
     ]
    }
   ],
   "source": [
    "# Grab total from overall homeless females column\n",
    "total_females = states_homeless_2018_data_df.loc['Total','Overall Homeless - Female, 2018']\n",
    "print(total_females)"
   ]
  },
  {
   "cell_type": "code",
   "execution_count": 4,
   "id": "27834707",
   "metadata": {},
   "outputs": [
    {
     "name": "stdout",
     "output_type": "stream",
     "text": [
      "332,925\n"
     ]
    }
   ],
   "source": [
    "# Grab total from overall homeless males column\n",
    "total_males = states_homeless_2018_data_df.loc['Total','Overall Homeless - Male, 2018']\n",
    "print(total_males)"
   ]
  },
  {
   "cell_type": "code",
   "execution_count": 5,
   "id": "4cad951c",
   "metadata": {},
   "outputs": [
    {
     "data": {
      "image/png": "[encoded data removed]",
      "text/plain": [
       "<Figure size 432x288 with 1 Axes>"
      ]
     },
     "metadata": {},
     "output_type": "display_data"
    }
   ],
   "source": [
    "labels = ['Female', 'Male']\n",
    "data = [216211,332925]\n",
    "# plt.pie(data, labels = gender)\n",
    "\n",
    "# only \"explode\" the 2nd slice (i.e. 'Hogs')\n",
    "explode = (0, 0.1,)\n",
    "\n",
    "#add colors\n",
    "colors = ['#D61E14','#14CCD6']\n",
    "fig1, ax1 = plt.subplots()\n",
    "ax1.pie(data, explode=explode, labels=labels, colors=colors, autopct='%1.1f%%',\n",
    "        shadow=True, startangle=90)\n",
    "\n",
    "# Equal aspect ratio ensures that pie is drawn as a circle\n",
    "ax1.axis('equal')\n",
    "plt.title('Percentage of Homeless Males/Females 2018')\n",
    "plt.tight_layout()\n",
    "plt.show()"
   ]
  },
  {
   "cell_type": "code",
   "execution_count": 6,
   "id": "7ea0e460",
   "metadata": {},
   "outputs": [
    {
     "name": "stdout",
     "output_type": "stream",
     "text": [
      "111592\n"
     ]
    }
   ],
   "source": [
    "# Grab total from overall homeless Under 18 column\n",
    "total_under_18 = states_homeless_2018_data_df.loc['Total','Overall Homeless - Under 18, 2018']\n",
    "converted_total_under_18 = total_under_18.replace(',', '')\n",
    "converted_total_under_18 = int(converted_total_under_18)\n",
    "print(converted_total_under_18)"
   ]
  },
  {
   "cell_type": "code",
   "execution_count": 7,
   "id": "bbd665b2",
   "metadata": {},
   "outputs": [
    {
     "name": "stdout",
     "output_type": "stream",
     "text": [
      "48319\n"
     ]
    }
   ],
   "source": [
    "total_18_to_24 = states_homeless_2018_data_df.loc['Total','Overall Homeless - Age 18 to 24, 2018']\n",
    "converted_18_to_24 = total_18_to_24.replace(',', '')\n",
    "converted_18_to_24 = int(converted_18_to_24)\n",
    "print(converted_18_to_24)"
   ]
  },
  {
   "cell_type": "code",
   "execution_count": 8,
   "id": "cd3275f5",
   "metadata": {},
   "outputs": [
    {
     "name": "stdout",
     "output_type": "stream",
     "text": [
      "392919\n"
     ]
    }
   ],
   "source": [
    "total_over_24 = states_homeless_2018_data_df.loc['Total','Overall Homeless - Over 24, 2018']\n",
    "converted_total_over_24 = total_over_24.replace(',', '')\n",
    "converted_total_over_24 = int(converted_total_over_24)\n",
    "print(converted_total_over_24)"
   ]
  },
  {
   "cell_type": "code",
   "execution_count": 9,
   "id": "1c98945b",
   "metadata": {},
   "outputs": [
    {
     "data": {
      "image/png": "[encoded data removed]",
      "text/plain": [
       "<Figure size 432x288 with 1 Axes>"
      ]
     },
     "metadata": {},
     "output_type": "display_data"
    }
   ],
   "source": [
    "labels = ['18 to 24','Under 18', 'Over 24']\n",
    "data = [converted_18_to_24,converted_total_under_18,converted_total_over_24]\n",
    "# plt.pie(data, labels = gender)\n",
    "\n",
    "# only \"explode\" the 2nd slice (i.e. 'Hogs')\n",
    "explode = (0, 0.1, 0.1)\n",
    "\n",
    "#add colors\n",
    "colors = ['#D61E14','#14CCD6', '#30D614']\n",
    "fig1, ax1 = plt.subplots()\n",
    "ax1.pie(data, explode=explode, labels=labels, colors=colors, autopct='%1.1f%%',\n",
    "        shadow=True, startangle=90)\n",
    "\n",
    "# Equal aspect ratio ensures that pie is drawn as a circle\n",
    "ax1.axis('equal')\n",
    "plt.title('Percentage of Homeless Population Under 18, 18 to 24, and Over 24 2018')\n",
    "plt.tight_layout()\n",
    "plt.show()"
   ]
  },
  {
   "cell_type": "code",
   "execution_count": 10,
   "id": "699e43e4",
   "metadata": {},
   "outputs": [
    {
     "name": "stdout",
     "output_type": "stream",
     "text": [
      "430354\n"
     ]
    }
   ],
   "source": [
    "total_nonhispanic_nonlatino = states_homeless_2018_data_df.loc['Total','Overall Homeless - Non-Hispanic/Non-Latino, 2018']\n",
    "converted_total_nonhispanic_nonlatino = total_nonhispanic_nonlatino.replace(',', '')\n",
    "converted_total_nonhispanic_nonlatino = int(converted_total_nonhispanic_nonlatino)\n",
    "print(converted_total_nonhispanic_nonlatino)"
   ]
  },
  {
   "cell_type": "code",
   "execution_count": 11,
   "id": "27acad5d",
   "metadata": {},
   "outputs": [
    {
     "name": "stdout",
     "output_type": "stream",
     "text": [
      "122476\n"
     ]
    }
   ],
   "source": [
    "total_hispanic_latino = states_homeless_2018_data_df.loc['Total','Overall Homeless - Hispanic/Latino, 2018']\n",
    "converted_total_hispanic_latino = total_hispanic_latino.replace(',', '')\n",
    "converted_total_hispanic_latino = int(converted_total_hispanic_latino)\n",
    "print(converted_total_hispanic_latino)"
   ]
  },
  {
   "cell_type": "code",
   "execution_count": 12,
   "id": "6f5d2ce4",
   "metadata": {},
   "outputs": [
    {
     "name": "stdout",
     "output_type": "stream",
     "text": [
      "270568\n"
     ]
    }
   ],
   "source": [
    "total_white = states_homeless_2018_data_df.loc['Total','Overall Homeless - White, 2018']\n",
    "converted_total_white = total_white.replace(',', '')\n",
    "converted_total_white = int(converted_total_white)\n",
    "print(converted_total_white)"
   ]
  },
  {
   "cell_type": "code",
   "execution_count": 13,
   "id": "182b5da4",
   "metadata": {},
   "outputs": [
    {
     "name": "stdout",
     "output_type": "stream",
     "text": [
      "219809\n"
     ]
    }
   ],
   "source": [
    "total_black__or_african_american = states_homeless_2018_data_df.loc['Total','Overall Homeless - Black or African American, 2018']\n",
    "converted_total_black__or_african_american = total_black__or_african_american.replace(',', '')\n",
    "converted_total_black__or_african_american = int(converted_total_black__or_african_american)\n",
    "print(converted_total_black__or_african_american)"
   ]
  },
  {
   "cell_type": "code",
   "execution_count": 14,
   "id": "dbe49b71",
   "metadata": {},
   "outputs": [
    {
     "name": "stdout",
     "output_type": "stream",
     "text": [
      "6643\n"
     ]
    }
   ],
   "source": [
    "total_asian = states_homeless_2018_data_df.loc['Total','Overall Homeless - Asian, 2018']\n",
    "converted_total_asian = total_asian.replace(',', '')\n",
    "converted_total_asian = int(converted_total_asian)\n",
    "print(converted_total_asian)"
   ]
  },
  {
   "cell_type": "code",
   "execution_count": 15,
   "id": "d34f8f6a",
   "metadata": {},
   "outputs": [
    {
     "name": "stdout",
     "output_type": "stream",
     "text": [
      "15414\n"
     ]
    }
   ],
   "source": [
    "total_american_indian_or_alaskan_native = states_homeless_2018_data_df.loc['Total','Overall Homeless - American Indian or Alaska Native, 2018']\n",
    "converted_total_american_indian_or_alaskan_native = total_american_indian_or_alaskan_native.replace(',', '')\n",
    "converted_total_american_indian_or_alaskan_native = int(converted_total_american_indian_or_alaskan_native)\n",
    "print(converted_total_american_indian_or_alaskan_native)"
   ]
  },
  {
   "cell_type": "code",
   "execution_count": 16,
   "id": "0995c3d2",
   "metadata": {},
   "outputs": [
    {
     "name": "stdout",
     "output_type": "stream",
     "text": [
      "8039\n"
     ]
    }
   ],
   "source": [
    "total_native_hawaiian_or_other_pacific_islander = states_homeless_2018_data_df.loc['Total','Overall Homeless - Native Hawaiian or Other Pacific Islander, 2018']\n",
    "converted_total_native_hawaiian_or_other_pacific_islander = total_native_hawaiian_or_other_pacific_islander.replace(',', '')\n",
    "converted_total_native_hawaiian_or_other_pacific_islander = int(converted_total_native_hawaiian_or_other_pacific_islander)\n",
    "print(converted_total_native_hawaiian_or_other_pacific_islander)"
   ]
  },
  {
   "cell_type": "code",
   "execution_count": 17,
   "id": "74ae5fb3",
   "metadata": {},
   "outputs": [
    {
     "name": "stdout",
     "output_type": "stream",
     "text": [
      "32357\n"
     ]
    }
   ],
   "source": [
    "total_multiple_races = states_homeless_2018_data_df.loc['Total','Overall Homeless - Multiple Races, 2018']\n",
    "converted_total_multiple_races = total_multiple_races.replace(',', '')\n",
    "converted_total_multiple_races = int(converted_total_multiple_races)\n",
    "print(converted_total_multiple_races)"
   ]
  },
  {
   "cell_type": "code",
   "execution_count": 18,
   "id": "8075b81b",
   "metadata": {},
   "outputs": [
    {
     "data": {
      "image/png": "[encoded data removed]",
      "text/plain": [
       "<Figure size 432x288 with 1 Axes>"
      ]
     },
     "metadata": {},
     "output_type": "display_data"
    }
   ],
   "source": [
    "\n",
    "labels = ['Non-Hispanic/Non-Latino','Hispanic/Latino', 'White', 'Black or African American', 'Asian', 'American Indian or Alaska Native','Native Hawaiian or Other Pacific Islander','Multiple Races']\n",
    "data = [converted_total_nonhispanic_nonlatino,converted_total_hispanic_latino,converted_total_white,converted_total_black__or_african_american,converted_total_asian,converted_total_american_indian_or_alaskan_native,converted_total_native_hawaiian_or_other_pacific_islander,converted_total_multiple_races]\n",
    "\n",
    "explode = (0,0,0,0,0,0.1,0.1,0.1)\n",
    "\n",
    "#add colors\n",
    "# colors = ['#D61E14','#14CCD6', '#30D614']\n",
    "fig1, ax1 = plt.subplots()\n",
    "ax1.pie(data, labels = None, explode = explode, autopct='%1.1f%%',\n",
    "        shadow=True, startangle=145)\n",
    "\n",
    "plt.legend(labels, loc='best', bbox_to_anchor=(-0.1, 1.),fontsize=10)\n",
    "# Equal aspect ratio ensures that pie is drawn as a circle\n",
    "ax1.axis('equal')\n",
    "plt.title('Percentage of Homeless Population By Ethnicity 2018')\n",
    "# plt.tight_layout()\n",
    "plt.show()"
   ]
  },
  {
   "cell_type": "code",
   "execution_count": 19,
   "id": "0e8f8450",
   "metadata": {},
   "outputs": [
    {
     "data": {
      "image/png": "[encoded data removed]",
      "text/plain": [
       "<Figure size 648x216 with 1 Axes>"
      ]
     },
     "metadata": {
      "needs_background": "light"
     },
     "output_type": "display_data"
    }
   ],
   "source": [
    "ethnicity = ['Non-Hispanic/Non-Latino',\n",
    "             'Hispanic/Latino',\n",
    "             'White',\n",
    "             'Black or African American',\n",
    "             'Asian', \n",
    "             'American Indian or Alaska Native',\n",
    "             'Native Hawaiian or Other Pacific Islander',\n",
    "             'Multiple Races']\n",
    "values = [converted_total_nonhispanic_nonlatino,\n",
    "          converted_total_hispanic_latino,\n",
    "          converted_total_white,\n",
    "          converted_total_black__or_african_american,\n",
    "          converted_total_asian,\n",
    "          converted_total_american_indian_or_alaskan_native,\n",
    "          converted_total_native_hawaiian_or_other_pacific_islander,\n",
    "          converted_total_multiple_races]\n",
    "\n",
    "  \n",
    "fig, ax = plt.subplots(figsize = (9, 3))\n",
    " \n",
    "# creating the bar plot\n",
    "ax.barh(ethnicity,values)\n",
    "# colors = ['#D61E14','#14CCD6', '#30D614'] \n",
    "plt.ylabel(\"Ethnicities\")\n",
    "plt.xlabel(\"No. of Homeless Population\")\n",
    "plt.title(\"Overall Homeless Population By Ethnicity 2018\")\n",
    "# plt.legend(ethnicity, loc='best', bbox_to_anchor=(-0.1, 1.),fontsize=10)\n",
    "# plt.xticks(rotation=\"hort\")\n",
    "plt.show()"
   ]
  },
  {
   "cell_type": "code",
   "execution_count": null,
   "id": "4c928b8d",
   "metadata": {},
   "outputs": [],
   "source": []
  }
 ],
 "metadata": {
  "kernelspec": {
   "display_name": "Python 3",
   "language": "python",
   "name": "python3"
  },
  "language_info": {
   "codemirror_mode": {
    "name": "ipython",
    "version": 3
   },
   "file_extension": ".py",
   "mimetype": "text/x-python",
   "name": "python",
   "nbconvert_exporter": "python",
   "pygments_lexer": "ipython3",
   "version": "3.8.5"
  }
 },
 "nbformat": 4,
 "nbformat_minor": 5
}
