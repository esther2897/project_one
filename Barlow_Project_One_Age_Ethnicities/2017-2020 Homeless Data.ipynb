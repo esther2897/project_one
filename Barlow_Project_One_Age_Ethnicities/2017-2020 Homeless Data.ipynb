{
 "cells": [
  {
   "cell_type": "code",
   "execution_count": 2,
   "id": "2e3e33d2",
   "metadata": {},
   "outputs": [
    {
     "data": {
      "text/html": [
       "<div>\n",
       "<style scoped>\n",
       "    .dataframe tbody tr th:only-of-type {\n",
       "        vertical-align: middle;\n",
       "    }\n",
       "\n",
       "    .dataframe tbody tr th {\n",
       "        vertical-align: top;\n",
       "    }\n",
       "\n",
       "    .dataframe thead th {\n",
       "        text-align: right;\n",
       "    }\n",
       "</style>\n",
       "<table border=\"1\" class=\"dataframe\">\n",
       "  <thead>\n",
       "    <tr style=\"text-align: right;\">\n",
       "      <th></th>\n",
       "      <th>Number of CoCs</th>\n",
       "      <th>Overall Homeless, 2017</th>\n",
       "      <th>Overall Homeless - Under 18, 2017</th>\n",
       "      <th>Overall Homeless - Age 18 to 24, 2017</th>\n",
       "      <th>Overall Homeless - Over 24, 2017</th>\n",
       "      <th>Overall Homeless - Female, 2017</th>\n",
       "      <th>Overall Homeless - Male, 2017</th>\n",
       "      <th>Overall Homeless - Transgender, 2017</th>\n",
       "      <th>Overall Homeless - Gender Non-Conforming, 2017</th>\n",
       "      <th>Overall Homeless - Non-Hispanic/Non-Latino, 2017</th>\n",
       "      <th>...</th>\n",
       "      <th>Overall Homeless Parenting Youth Age 18-24, 2017</th>\n",
       "      <th>Sheltered ES Homeless Parenting Youth Age 18-24, 2017</th>\n",
       "      <th>Sheltered TH Homeless Parenting Youth Age 18-24, 2017</th>\n",
       "      <th>Sheltered Total Homeless Parenting Youth Age 18-24, 2017</th>\n",
       "      <th>Unsheltered Homeless Parenting Youth Age 18-24, 2017</th>\n",
       "      <th>Overall Homeless Children of Parenting Youth, 2017</th>\n",
       "      <th>Sheltered ES Homeless Children of Parenting Youth, 2017</th>\n",
       "      <th>Sheltered TH Homeless Children of Parenting Youth, 2017</th>\n",
       "      <th>Sheltered Total Homeless Children of Parenting Youth, 2017</th>\n",
       "      <th>Unsheltered Homeless Children of Parenting Youth, 2017</th>\n",
       "    </tr>\n",
       "    <tr>\n",
       "      <th>State</th>\n",
       "      <th></th>\n",
       "      <th></th>\n",
       "      <th></th>\n",
       "      <th></th>\n",
       "      <th></th>\n",
       "      <th></th>\n",
       "      <th></th>\n",
       "      <th></th>\n",
       "      <th></th>\n",
       "      <th></th>\n",
       "      <th></th>\n",
       "      <th></th>\n",
       "      <th></th>\n",
       "      <th></th>\n",
       "      <th></th>\n",
       "      <th></th>\n",
       "      <th></th>\n",
       "      <th></th>\n",
       "      <th></th>\n",
       "      <th></th>\n",
       "      <th></th>\n",
       "    </tr>\n",
       "  </thead>\n",
       "  <tbody>\n",
       "    <tr>\n",
       "      <th>AK</th>\n",
       "      <td>2.0</td>\n",
       "      <td>1,845</td>\n",
       "      <td>305</td>\n",
       "      <td>186</td>\n",
       "      <td>1,354</td>\n",
       "      <td>765</td>\n",
       "      <td>1,075</td>\n",
       "      <td>4</td>\n",
       "      <td>1.0</td>\n",
       "      <td>1,743</td>\n",
       "      <td>...</td>\n",
       "      <td>22</td>\n",
       "      <td>10</td>\n",
       "      <td>12</td>\n",
       "      <td>22</td>\n",
       "      <td>0.0</td>\n",
       "      <td>39</td>\n",
       "      <td>20</td>\n",
       "      <td>19</td>\n",
       "      <td>39</td>\n",
       "      <td>0.0</td>\n",
       "    </tr>\n",
       "    <tr>\n",
       "      <th>AL</th>\n",
       "      <td>8.0</td>\n",
       "      <td>3,793</td>\n",
       "      <td>528</td>\n",
       "      <td>300</td>\n",
       "      <td>2,965</td>\n",
       "      <td>1,314</td>\n",
       "      <td>2,453</td>\n",
       "      <td>21</td>\n",
       "      <td>5.0</td>\n",
       "      <td>3,721</td>\n",
       "      <td>...</td>\n",
       "      <td>23</td>\n",
       "      <td>6</td>\n",
       "      <td>14</td>\n",
       "      <td>20</td>\n",
       "      <td>3.0</td>\n",
       "      <td>39</td>\n",
       "      <td>11</td>\n",
       "      <td>24</td>\n",
       "      <td>35</td>\n",
       "      <td>4.0</td>\n",
       "    </tr>\n",
       "    <tr>\n",
       "      <th>AR</th>\n",
       "      <td>6.0</td>\n",
       "      <td>2,467</td>\n",
       "      <td>265</td>\n",
       "      <td>209</td>\n",
       "      <td>1,993</td>\n",
       "      <td>965</td>\n",
       "      <td>1,499</td>\n",
       "      <td>3</td>\n",
       "      <td>0.0</td>\n",
       "      <td>2,405</td>\n",
       "      <td>...</td>\n",
       "      <td>10</td>\n",
       "      <td>8</td>\n",
       "      <td>2</td>\n",
       "      <td>10</td>\n",
       "      <td>0.0</td>\n",
       "      <td>13</td>\n",
       "      <td>11</td>\n",
       "      <td>2</td>\n",
       "      <td>13</td>\n",
       "      <td>0.0</td>\n",
       "    </tr>\n",
       "    <tr>\n",
       "      <th>AZ</th>\n",
       "      <td>3.0</td>\n",
       "      <td>8,947</td>\n",
       "      <td>1,607</td>\n",
       "      <td>660</td>\n",
       "      <td>6,680</td>\n",
       "      <td>3,331</td>\n",
       "      <td>5,592</td>\n",
       "      <td>22</td>\n",
       "      <td>2.0</td>\n",
       "      <td>6,876</td>\n",
       "      <td>...</td>\n",
       "      <td>81</td>\n",
       "      <td>37</td>\n",
       "      <td>44</td>\n",
       "      <td>81</td>\n",
       "      <td>0.0</td>\n",
       "      <td>112</td>\n",
       "      <td>55</td>\n",
       "      <td>57</td>\n",
       "      <td>112</td>\n",
       "      <td>0.0</td>\n",
       "    </tr>\n",
       "    <tr>\n",
       "      <th>CA</th>\n",
       "      <td>43.0</td>\n",
       "      <td>131,532</td>\n",
       "      <td>14,207</td>\n",
       "      <td>13,276</td>\n",
       "      <td>104,049</td>\n",
       "      <td>42,750</td>\n",
       "      <td>87,609</td>\n",
       "      <td>793</td>\n",
       "      <td>380.0</td>\n",
       "      <td>90,040</td>\n",
       "      <td>...</td>\n",
       "      <td>770</td>\n",
       "      <td>248</td>\n",
       "      <td>397</td>\n",
       "      <td>645</td>\n",
       "      <td>125.0</td>\n",
       "      <td>912</td>\n",
       "      <td>289</td>\n",
       "      <td>493</td>\n",
       "      <td>782</td>\n",
       "      <td>130.0</td>\n",
       "    </tr>\n",
       "  </tbody>\n",
       "</table>\n",
       "<p>5 rows × 540 columns</p>\n",
       "</div>"
      ],
      "text/plain": [
       "       Number of CoCs Overall Homeless, 2017  \\\n",
       "State                                          \n",
       "AK                2.0                  1,845   \n",
       "AL                8.0                  3,793   \n",
       "AR                6.0                  2,467   \n",
       "AZ                3.0                  8,947   \n",
       "CA               43.0                131,532   \n",
       "\n",
       "      Overall Homeless - Under 18, 2017 Overall Homeless - Age 18 to 24, 2017  \\\n",
       "State                                                                           \n",
       "AK                                  305                                   186   \n",
       "AL                                  528                                   300   \n",
       "AR                                  265                                   209   \n",
       "AZ                                1,607                                   660   \n",
       "CA                               14,207                                13,276   \n",
       "\n",
       "      Overall Homeless - Over 24, 2017 Overall Homeless - Female, 2017  \\\n",
       "State                                                                    \n",
       "AK                               1,354                             765   \n",
       "AL                               2,965                           1,314   \n",
       "AR                               1,993                             965   \n",
       "AZ                               6,680                           3,331   \n",
       "CA                             104,049                          42,750   \n",
       "\n",
       "      Overall Homeless - Male, 2017 Overall Homeless - Transgender, 2017  \\\n",
       "State                                                                      \n",
       "AK                            1,075                                    4   \n",
       "AL                            2,453                                   21   \n",
       "AR                            1,499                                    3   \n",
       "AZ                            5,592                                   22   \n",
       "CA                           87,609                                  793   \n",
       "\n",
       "       Overall Homeless - Gender Non-Conforming, 2017  \\\n",
       "State                                                   \n",
       "AK                                                1.0   \n",
       "AL                                                5.0   \n",
       "AR                                                0.0   \n",
       "AZ                                                2.0   \n",
       "CA                                              380.0   \n",
       "\n",
       "      Overall Homeless - Non-Hispanic/Non-Latino, 2017  ...  \\\n",
       "State                                                   ...   \n",
       "AK                                               1,743  ...   \n",
       "AL                                               3,721  ...   \n",
       "AR                                               2,405  ...   \n",
       "AZ                                               6,876  ...   \n",
       "CA                                              90,040  ...   \n",
       "\n",
       "      Overall Homeless Parenting Youth Age 18-24, 2017  \\\n",
       "State                                                    \n",
       "AK                                                  22   \n",
       "AL                                                  23   \n",
       "AR                                                  10   \n",
       "AZ                                                  81   \n",
       "CA                                                 770   \n",
       "\n",
       "      Sheltered ES Homeless Parenting Youth Age 18-24, 2017  \\\n",
       "State                                                         \n",
       "AK                                                    10      \n",
       "AL                                                     6      \n",
       "AR                                                     8      \n",
       "AZ                                                    37      \n",
       "CA                                                   248      \n",
       "\n",
       "      Sheltered TH Homeless Parenting Youth Age 18-24, 2017  \\\n",
       "State                                                         \n",
       "AK                                                    12      \n",
       "AL                                                    14      \n",
       "AR                                                     2      \n",
       "AZ                                                    44      \n",
       "CA                                                   397      \n",
       "\n",
       "      Sheltered Total Homeless Parenting Youth Age 18-24, 2017  \\\n",
       "State                                                            \n",
       "AK                                                    22         \n",
       "AL                                                    20         \n",
       "AR                                                    10         \n",
       "AZ                                                    81         \n",
       "CA                                                   645         \n",
       "\n",
       "      Unsheltered Homeless Parenting Youth Age 18-24, 2017  \\\n",
       "State                                                        \n",
       "AK                                                   0.0     \n",
       "AL                                                   3.0     \n",
       "AR                                                   0.0     \n",
       "AZ                                                   0.0     \n",
       "CA                                                 125.0     \n",
       "\n",
       "      Overall Homeless Children of Parenting Youth, 2017  \\\n",
       "State                                                      \n",
       "AK                                                    39   \n",
       "AL                                                    39   \n",
       "AR                                                    13   \n",
       "AZ                                                   112   \n",
       "CA                                                   912   \n",
       "\n",
       "      Sheltered ES Homeless Children of Parenting Youth, 2017  \\\n",
       "State                                                           \n",
       "AK                                                    20        \n",
       "AL                                                    11        \n",
       "AR                                                    11        \n",
       "AZ                                                    55        \n",
       "CA                                                   289        \n",
       "\n",
       "      Sheltered TH Homeless Children of Parenting Youth, 2017  \\\n",
       "State                                                           \n",
       "AK                                                    19        \n",
       "AL                                                    24        \n",
       "AR                                                     2        \n",
       "AZ                                                    57        \n",
       "CA                                                   493        \n",
       "\n",
       "      Sheltered Total Homeless Children of Parenting Youth, 2017  \\\n",
       "State                                                              \n",
       "AK                                                    39           \n",
       "AL                                                    35           \n",
       "AR                                                    13           \n",
       "AZ                                                   112           \n",
       "CA                                                   782           \n",
       "\n",
       "      Unsheltered Homeless Children of Parenting Youth, 2017  \n",
       "State                                                         \n",
       "AK                                                   0.0      \n",
       "AL                                                   4.0      \n",
       "AR                                                   0.0      \n",
       "AZ                                                   0.0      \n",
       "CA                                                 130.0      \n",
       "\n",
       "[5 rows x 540 columns]"
      ]
     },
     "execution_count": 2,
     "metadata": {},
     "output_type": "execute_result"
    }
   ],
   "source": [
    "import pandas as pd\n",
    "import matplotlib.pyplot as plt\n",
    "import numpy as np\n",
    "import scipy.stats as st\n",
    "\n",
    "homeless_2017_csv = \"datasets/2017-Point-in-Time-Estimates-by-state.csv\"\n",
    "homeless_2020_csv = \"datasets/2020-Point-in-Time-Estimates-by-state.csv\"\n",
    "\n",
    "states_homeless_2017_data_df = pd.read_csv(homeless_2017_csv).set_index('State')\n",
    "states_homeless_2020_data_df = pd.read_csv(homeless_2020_csv).set_index('State')\n",
    "\n",
    "states_homeless_2017_data_df.head()\n"
   ]
  },
  {
   "cell_type": "code",
   "execution_count": 3,
   "id": "3cfb4e2d",
   "metadata": {},
   "outputs": [
    {
     "name": "stdout",
     "output_type": "stream",
     "text": [
      "432634\n"
     ]
    }
   ],
   "source": [
    "total_nonhispanic_nonlatino = states_homeless_2017_data_df.loc['Total','Overall Homeless - Non-Hispanic/Non-Latino, 2017']\n",
    "converted_total_nonhispanic_nonlatino = total_nonhispanic_nonlatino.replace(',', '')\n",
    "converted_total_nonhispanic_nonlatino = int(converted_total_nonhispanic_nonlatino)\n",
    "print(converted_total_nonhispanic_nonlatino)"
   ]
  },
  {
   "cell_type": "code",
   "execution_count": 4,
   "id": "8e9774d9",
   "metadata": {},
   "outputs": [
    {
     "name": "stdout",
     "output_type": "stream",
     "text": [
      "118362\n"
     ]
    }
   ],
   "source": [
    "total_hispanic_latino = states_homeless_2017_data_df.loc['Total','Overall Homeless - Hispanic/Latino, 2017']\n",
    "converted_total_hispanic_latino = total_hispanic_latino.replace(',', '')\n",
    "converted_total_hispanic_latino = int(converted_total_hispanic_latino)\n",
    "print(converted_total_hispanic_latino)"
   ]
  },
  {
   "cell_type": "code",
   "execution_count": 5,
   "id": "6380e8bc",
   "metadata": {},
   "outputs": [
    {
     "name": "stdout",
     "output_type": "stream",
     "text": [
      "259675\n"
     ]
    }
   ],
   "source": [
    "total_white = states_homeless_2017_data_df.loc['Total','Overall Homeless - White, 2017']\n",
    "converted_total_white = total_white.replace(',', '')\n",
    "converted_total_white = int(converted_total_white)\n",
    "print(converted_total_white)"
   ]
  },
  {
   "cell_type": "code",
   "execution_count": 6,
   "id": "7f4d2526",
   "metadata": {},
   "outputs": [
    {
     "name": "stdout",
     "output_type": "stream",
     "text": [
      "223690\n"
     ]
    }
   ],
   "source": [
    "total_black__or_african_american = states_homeless_2017_data_df.loc['Total','Overall Homeless - Black or African American, 2017']\n",
    "converted_total_black__or_african_american = total_black__or_african_american.replace(',', '')\n",
    "converted_total_black__or_african_american = int(converted_total_black__or_african_american)\n",
    "print(converted_total_black__or_african_american)"
   ]
  },
  {
   "cell_type": "code",
   "execution_count": 7,
   "id": "b0207b73",
   "metadata": {},
   "outputs": [
    {
     "name": "stdout",
     "output_type": "stream",
     "text": [
      "6700\n"
     ]
    }
   ],
   "source": [
    "total_asian = states_homeless_2017_data_df.loc['Total','Overall Homeless - Asian, 2017']\n",
    "converted_total_asian = total_asian.replace(',', '')\n",
    "converted_total_asian = int(converted_total_asian)\n",
    "print(converted_total_asian)"
   ]
  },
  {
   "cell_type": "code",
   "execution_count": 8,
   "id": "5f21ed1f",
   "metadata": {},
   "outputs": [
    {
     "name": "stdout",
     "output_type": "stream",
     "text": [
      "16741\n"
     ]
    }
   ],
   "source": [
    "total_american_indian_or_alaskan_native = states_homeless_2017_data_df.loc['Total','Overall Homeless - American Indian or Alaska Native, 2017']\n",
    "converted_total_american_indian_or_alaskan_native = total_american_indian_or_alaskan_native.replace(',', '')\n",
    "converted_total_american_indian_or_alaskan_native = int(converted_total_american_indian_or_alaskan_native)\n",
    "print(converted_total_american_indian_or_alaskan_native)"
   ]
  },
  {
   "cell_type": "code",
   "execution_count": 9,
   "id": "53c748b2",
   "metadata": {},
   "outputs": [
    {
     "name": "stdout",
     "output_type": "stream",
     "text": [
      "8515\n"
     ]
    }
   ],
   "source": [
    "total_native_hawaiian_or_other_pacific_islander = states_homeless_2017_data_df.loc['Total','Overall Homeless - Native Hawaiian or Other Pacific Islander, 2017']\n",
    "converted_total_native_hawaiian_or_other_pacific_islander = total_native_hawaiian_or_other_pacific_islander.replace(',', '')\n",
    "converted_total_native_hawaiian_or_other_pacific_islander = int(converted_total_native_hawaiian_or_other_pacific_islander)\n",
    "print(converted_total_native_hawaiian_or_other_pacific_islander)"
   ]
  },
  {
   "cell_type": "code",
   "execution_count": 10,
   "id": "39c1214d",
   "metadata": {},
   "outputs": [
    {
     "name": "stdout",
     "output_type": "stream",
     "text": [
      "35675\n"
     ]
    }
   ],
   "source": [
    "total_multiple_races = states_homeless_2017_data_df.loc['Total','Overall Homeless - Multiple Races, 2017']\n",
    "converted_total_multiple_races = total_multiple_races.replace(',', '')\n",
    "converted_total_multiple_races = int(converted_total_multiple_races)\n",
    "print(converted_total_multiple_races)"
   ]
  },
  {
   "cell_type": "code",
   "execution_count": 20,
   "id": "068ab25b",
   "metadata": {},
   "outputs": [
    {
     "name": "stdout",
     "output_type": "stream",
     "text": [
      "450107\n"
     ]
    }
   ],
   "source": [
    "total_nonhispanic_nonlatino = states_homeless_2020_data_df.loc['Total','Overall Homeless - Non-Hispanic/Non-Latino, 2020']\n",
    "converted_total_nonhispanic_nonlatino = total_nonhispanic_nonlatino.replace(',', '')\n",
    "converted_total_nonhispanic_nonlatino2020 = int(converted_total_nonhispanic_nonlatino)\n",
    "print(converted_total_nonhispanic_nonlatino2020)"
   ]
  },
  {
   "cell_type": "code",
   "execution_count": 22,
   "id": "0d997f84",
   "metadata": {},
   "outputs": [
    {
     "name": "stdout",
     "output_type": "stream",
     "text": [
      "130348\n"
     ]
    }
   ],
   "source": [
    "total_hispanic_latino = states_homeless_2020_data_df.loc['Total','Overall Homeless - Hispanic/Latino, 2020']\n",
    "converted_total_hispanic_latino = total_hispanic_latino.replace(',', '')\n",
    "converted_total_hispanic_latino2020 = int(converted_total_hispanic_latino)\n",
    "print(converted_total_hispanic_latino2020)"
   ]
  },
  {
   "cell_type": "code",
   "execution_count": 23,
   "id": "115de3c2",
   "metadata": {},
   "outputs": [
    {
     "name": "stdout",
     "output_type": "stream",
     "text": [
      "280612\n"
     ]
    }
   ],
   "source": [
    "total_white = states_homeless_2020_data_df.loc['Total','Overall Homeless - White, 2020']\n",
    "converted_total_white = total_white.replace(',', '')\n",
    "converted_total_white2020 = int(converted_total_white)\n",
    "print(converted_total_white2020)"
   ]
  },
  {
   "cell_type": "code",
   "execution_count": 24,
   "id": "b5532c7e",
   "metadata": {},
   "outputs": [
    {
     "name": "stdout",
     "output_type": "stream",
     "text": [
      "228796\n"
     ]
    }
   ],
   "source": [
    "total_black__or_african_american = states_homeless_2020_data_df.loc['Total','Overall Homeless - Black or African American, 2020']\n",
    "converted_total_black__or_african_american = total_black__or_african_american.replace(',', '')\n",
    "converted_total_black__or_african_american2020 = int(converted_total_black__or_african_american)\n",
    "print(converted_total_black__or_african_american2020)"
   ]
  },
  {
   "cell_type": "code",
   "execution_count": 25,
   "id": "6b05e2f4",
   "metadata": {},
   "outputs": [
    {
     "name": "stdout",
     "output_type": "stream",
     "text": [
      "7638\n"
     ]
    }
   ],
   "source": [
    "total_asian = states_homeless_2020_data_df.loc['Total','Overall Homeless - Asian, 2020']\n",
    "converted_total_asian = total_asian.replace(',', '')\n",
    "converted_total_asian2020 = int(converted_total_asian)\n",
    "print(converted_total_asian2020)"
   ]
  },
  {
   "cell_type": "code",
   "execution_count": 26,
   "id": "b07f9907",
   "metadata": {},
   "outputs": [
    {
     "name": "stdout",
     "output_type": "stream",
     "text": [
      "18935\n"
     ]
    }
   ],
   "source": [
    "total_american_indian_or_alaskan_native = states_homeless_2020_data_df.loc['Total','Overall Homeless - American Indian or Alaska Native, 2020']\n",
    "converted_total_american_indian_or_alaskan_native = total_american_indian_or_alaskan_native.replace(',', '')\n",
    "converted_total_american_indian_or_alaskan_native2020 = int(converted_total_american_indian_or_alaskan_native)\n",
    "print(converted_total_american_indian_or_alaskan_native2020)"
   ]
  },
  {
   "cell_type": "code",
   "execution_count": 27,
   "id": "e47e585e",
   "metadata": {},
   "outputs": [
    {
     "name": "stdout",
     "output_type": "stream",
     "text": [
      "8794\n"
     ]
    }
   ],
   "source": [
    "total_native_hawaiian_or_other_pacific_islander = states_homeless_2020_data_df.loc['Total','Overall Homeless - Native Hawaiian or Other Pacific Islander, 2020']\n",
    "converted_total_native_hawaiian_or_other_pacific_islander = total_native_hawaiian_or_other_pacific_islander.replace(',', '')\n",
    "converted_total_native_hawaiian_or_other_pacific_islander2020 = int(converted_total_native_hawaiian_or_other_pacific_islander)\n",
    "print(converted_total_native_hawaiian_or_other_pacific_islander2020)"
   ]
  },
  {
   "cell_type": "code",
   "execution_count": 28,
   "id": "3ea61135",
   "metadata": {},
   "outputs": [
    {
     "name": "stdout",
     "output_type": "stream",
     "text": [
      "35680\n"
     ]
    }
   ],
   "source": [
    "total_multiple_races = states_homeless_2020_data_df.loc['Total','Overall Homeless - Multiple Races, 2020']\n",
    "converted_total_multiple_races = total_multiple_races.replace(',', '')\n",
    "converted_total_multiple_races2020 = int(converted_total_multiple_races)\n",
    "print(converted_total_multiple_races2020)"
   ]
  },
  {
   "cell_type": "code",
   "execution_count": 34,
   "id": "152cda1d",
   "metadata": {},
   "outputs": [
    {
     "ename": "TypeError",
     "evalue": "bar() got multiple values for keyword argument 'bottom'",
     "output_type": "error",
     "traceback": [
      "\u001b[1;31m---------------------------------------------------------------------------\u001b[0m",
      "\u001b[1;31mTypeError\u001b[0m                                 Traceback (most recent call last)",
      "\u001b[1;32m<ipython-input-34-60640c964164>\u001b[0m in \u001b[0;36m<module>\u001b[1;34m\u001b[0m\n\u001b[0;32m      8\u001b[0m \u001b[1;31m# creating the bar plot\u001b[0m\u001b[1;33m\u001b[0m\u001b[1;33m\u001b[0m\u001b[1;33m\u001b[0m\u001b[0m\n\u001b[0;32m      9\u001b[0m \u001b[0max\u001b[0m\u001b[1;33m.\u001b[0m\u001b[0mbarh\u001b[0m\u001b[1;33m(\u001b[0m\u001b[0methnicity\u001b[0m\u001b[1;33m,\u001b[0m\u001b[0mvalues\u001b[0m\u001b[1;33m)\u001b[0m\u001b[1;33m\u001b[0m\u001b[1;33m\u001b[0m\u001b[0m\n\u001b[1;32m---> 10\u001b[1;33m \u001b[0max\u001b[0m\u001b[1;33m.\u001b[0m\u001b[0mbarh\u001b[0m\u001b[1;33m(\u001b[0m\u001b[0methnicity\u001b[0m\u001b[1;33m,\u001b[0m \u001b[0mvalues2\u001b[0m\u001b[1;33m,\u001b[0m \u001b[0mbottom\u001b[0m\u001b[1;33m=\u001b[0m\u001b[0mvalues\u001b[0m\u001b[1;33m)\u001b[0m\u001b[1;33m\u001b[0m\u001b[1;33m\u001b[0m\u001b[0m\n\u001b[0m\u001b[0;32m     11\u001b[0m \u001b[1;31m# colors = ['#D61E14','#14CCD6', '#30D614']\u001b[0m\u001b[1;33m\u001b[0m\u001b[1;33m\u001b[0m\u001b[1;33m\u001b[0m\u001b[0m\n\u001b[0;32m     12\u001b[0m \u001b[0mplt\u001b[0m\u001b[1;33m.\u001b[0m\u001b[0mylabel\u001b[0m\u001b[1;33m(\u001b[0m\u001b[1;34m\"Ethnicities\"\u001b[0m\u001b[1;33m)\u001b[0m\u001b[1;33m\u001b[0m\u001b[1;33m\u001b[0m\u001b[0m\n",
      "\u001b[1;32md:\\Users\\mattb\\anaconda3\\lib\\site-packages\\matplotlib\\axes\\_axes.py\u001b[0m in \u001b[0;36mbarh\u001b[1;34m(self, y, width, height, left, align, **kwargs)\u001b[0m\n\u001b[0;32m   2628\u001b[0m         \"\"\"\n\u001b[0;32m   2629\u001b[0m         \u001b[0mkwargs\u001b[0m\u001b[1;33m.\u001b[0m\u001b[0msetdefault\u001b[0m\u001b[1;33m(\u001b[0m\u001b[1;34m'orientation'\u001b[0m\u001b[1;33m,\u001b[0m \u001b[1;34m'horizontal'\u001b[0m\u001b[1;33m)\u001b[0m\u001b[1;33m\u001b[0m\u001b[1;33m\u001b[0m\u001b[0m\n\u001b[1;32m-> 2630\u001b[1;33m         patches = self.bar(x=left, height=height, width=width, bottom=y,\n\u001b[0m\u001b[0;32m   2631\u001b[0m                            align=align, **kwargs)\n\u001b[0;32m   2632\u001b[0m         \u001b[1;32mreturn\u001b[0m \u001b[0mpatches\u001b[0m\u001b[1;33m\u001b[0m\u001b[1;33m\u001b[0m\u001b[0m\n",
      "\u001b[1;31mTypeError\u001b[0m: bar() got multiple values for keyword argument 'bottom'"
     ]
    },
    {
     "data": {
      "image/png": "[encoded data removed]",
      "text/plain": [
       "<Figure size 648x216 with 1 Axes>"
      ]
     },
     "metadata": {
      "needs_background": "light"
     },
     "output_type": "display_data"
    }
   ],
   "source": [
    "ethnicity = ['Non-Hispanic/Non-Latino','Hispanic/Latino', 'White', 'Black or African American', 'Asian', 'American Indian or Alaska Native','Native Hawaiian or Other Pacific Islander','Multiple Races']\n",
    "values = [converted_total_nonhispanic_nonlatino,converted_total_hispanic_latino,converted_total_white,converted_total_black__or_african_american,converted_total_asian,converted_total_american_indian_or_alaskan_native,converted_total_native_hawaiian_or_other_pacific_islander,converted_total_multiple_races]\n",
    "values2 = [converted_total_nonhispanic_nonlatino2020,converted_total_hispanic_latino2020,converted_total_white2020,converted_total_black__or_african_american2020,converted_total_asian2020,converted_total_american_indian_or_alaskan_native2020,converted_total_native_hawaiian_or_other_pacific_islander2020,converted_total_multiple_races2020]\n",
    "values = sorted(values)\n",
    "  \n",
    "fig, ax = plt.subplots(figsize = (9, 3))\n",
    " \n",
    "# creating the bar plot\n",
    "ax.barh(ethnicity,values)\n",
    "ax.barh(ethnicity, values2, bottom=values)\n",
    "# colors = ['#D61E14','#14CCD6', '#30D614'] \n",
    "plt.ylabel(\"Ethnicities\")\n",
    "plt.xlabel(\"No. of Homeless Population\")\n",
    "plt.title(\"Overall Homeless Population By Ethnicity 2020\")\n",
    "# plt.legend(ethnicity, loc='best', bbox_to_anchor=(-0.1, 1.),fontsize=10)\n",
    "# plt.xticks(rotation=\"hort\")\n",
    "plt.show()"
   ]
  },
  {
   "cell_type": "code",
   "execution_count": null,
   "id": "ed6cd10c",
   "metadata": {},
   "outputs": [],
   "source": []
  }
 ],
 "metadata": {
  "kernelspec": {
   "display_name": "Python 3",
   "language": "python",
   "name": "python3"
  },
  "language_info": {
   "codemirror_mode": {
    "name": "ipython",
    "version": 3
   },
   "file_extension": ".py",
   "mimetype": "text/x-python",
   "name": "python",
   "nbconvert_exporter": "python",
   "pygments_lexer": "ipython3",
   "version": "3.8.5"
  }
 },
 "nbformat": 4,
 "nbformat_minor": 5
}
