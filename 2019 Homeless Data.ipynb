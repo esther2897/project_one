{
 "cells": [
  {
   "cell_type": "code",
   "execution_count": 1,
   "id": "f0910ce8",
   "metadata": {},
   "outputs": [
    {
     "data": {
      "text/html": [
       "<div>\n",
       "<style scoped>\n",
       "    .dataframe tbody tr th:only-of-type {\n",
       "        vertical-align: middle;\n",
       "    }\n",
       "\n",
       "    .dataframe tbody tr th {\n",
       "        vertical-align: top;\n",
       "    }\n",
       "\n",
       "    .dataframe thead th {\n",
       "        text-align: right;\n",
       "    }\n",
       "</style>\n",
       "<table border=\"1\" class=\"dataframe\">\n",
       "  <thead>\n",
       "    <tr style=\"text-align: right;\">\n",
       "      <th></th>\n",
       "      <th>Number of CoCs</th>\n",
       "      <th>Overall Homeless, 2019</th>\n",
       "      <th>Overall Homeless - Under 18, 2019</th>\n",
       "      <th>Overall Homeless - Age 18 to 24, 2019</th>\n",
       "      <th>Overall Homeless - Over 24, 2019</th>\n",
       "      <th>Overall Homeless - Female, 2019</th>\n",
       "      <th>Overall Homeless - Male, 2019</th>\n",
       "      <th>Overall Homeless - Transgender, 2019</th>\n",
       "      <th>Overall Homeless - Gender Non-Conforming, 2019</th>\n",
       "      <th>Overall Homeless - Non-Hispanic/Non-Latino, 2019</th>\n",
       "      <th>...</th>\n",
       "      <th>Overall Homeless Parenting Youth Age 18-24, 2019</th>\n",
       "      <th>Sheltered ES Homeless Parenting Youth Age 18-24, 2019</th>\n",
       "      <th>Sheltered TH Homeless Parenting Youth Age 18-24, 2019</th>\n",
       "      <th>Sheltered Total Homeless Parenting Youth Age 18-24, 2019</th>\n",
       "      <th>Unsheltered Homeless Parenting Youth Age 18-24, 2019</th>\n",
       "      <th>Overall Homeless Children of Parenting Youth, 2019</th>\n",
       "      <th>Sheltered ES Homeless Children of Parenting Youth, 2019</th>\n",
       "      <th>Sheltered TH Homeless Children of Parenting Youth, 2019</th>\n",
       "      <th>Sheltered Total Homeless Children of Parenting Youth, 2019</th>\n",
       "      <th>Unsheltered Homeless Children of Parenting Youth, 2019</th>\n",
       "    </tr>\n",
       "    <tr>\n",
       "      <th>State</th>\n",
       "      <th></th>\n",
       "      <th></th>\n",
       "      <th></th>\n",
       "      <th></th>\n",
       "      <th></th>\n",
       "      <th></th>\n",
       "      <th></th>\n",
       "      <th></th>\n",
       "      <th></th>\n",
       "      <th></th>\n",
       "      <th></th>\n",
       "      <th></th>\n",
       "      <th></th>\n",
       "      <th></th>\n",
       "      <th></th>\n",
       "      <th></th>\n",
       "      <th></th>\n",
       "      <th></th>\n",
       "      <th></th>\n",
       "      <th></th>\n",
       "      <th></th>\n",
       "    </tr>\n",
       "  </thead>\n",
       "  <tbody>\n",
       "    <tr>\n",
       "      <th>AK</th>\n",
       "      <td>2.0</td>\n",
       "      <td>1,907</td>\n",
       "      <td>335</td>\n",
       "      <td>204</td>\n",
       "      <td>1,368</td>\n",
       "      <td>761</td>\n",
       "      <td>1,137</td>\n",
       "      <td>6</td>\n",
       "      <td>3</td>\n",
       "      <td>1,802</td>\n",
       "      <td>...</td>\n",
       "      <td>20</td>\n",
       "      <td>6</td>\n",
       "      <td>14</td>\n",
       "      <td>20</td>\n",
       "      <td>0.0</td>\n",
       "      <td>27</td>\n",
       "      <td>13</td>\n",
       "      <td>14</td>\n",
       "      <td>27</td>\n",
       "      <td>0.0</td>\n",
       "    </tr>\n",
       "    <tr>\n",
       "      <th>AL</th>\n",
       "      <td>8.0</td>\n",
       "      <td>3,261</td>\n",
       "      <td>629</td>\n",
       "      <td>199</td>\n",
       "      <td>2,433</td>\n",
       "      <td>1,383</td>\n",
       "      <td>1,873</td>\n",
       "      <td>3</td>\n",
       "      <td>2</td>\n",
       "      <td>3,161</td>\n",
       "      <td>...</td>\n",
       "      <td>22</td>\n",
       "      <td>10</td>\n",
       "      <td>11</td>\n",
       "      <td>21</td>\n",
       "      <td>1.0</td>\n",
       "      <td>34</td>\n",
       "      <td>17</td>\n",
       "      <td>13</td>\n",
       "      <td>30</td>\n",
       "      <td>4.0</td>\n",
       "    </tr>\n",
       "    <tr>\n",
       "      <th>AR</th>\n",
       "      <td>5.0</td>\n",
       "      <td>2,717</td>\n",
       "      <td>303</td>\n",
       "      <td>317</td>\n",
       "      <td>2,097</td>\n",
       "      <td>1,022</td>\n",
       "      <td>1,688</td>\n",
       "      <td>4</td>\n",
       "      <td>3</td>\n",
       "      <td>2,657</td>\n",
       "      <td>...</td>\n",
       "      <td>11</td>\n",
       "      <td>7</td>\n",
       "      <td>4</td>\n",
       "      <td>11</td>\n",
       "      <td>0.0</td>\n",
       "      <td>15</td>\n",
       "      <td>10</td>\n",
       "      <td>5</td>\n",
       "      <td>15</td>\n",
       "      <td>0.0</td>\n",
       "    </tr>\n",
       "    <tr>\n",
       "      <th>AZ</th>\n",
       "      <td>3.0</td>\n",
       "      <td>10,007</td>\n",
       "      <td>1,602</td>\n",
       "      <td>708</td>\n",
       "      <td>7,697</td>\n",
       "      <td>3,683</td>\n",
       "      <td>6,297</td>\n",
       "      <td>16</td>\n",
       "      <td>11</td>\n",
       "      <td>7,683</td>\n",
       "      <td>...</td>\n",
       "      <td>58</td>\n",
       "      <td>17</td>\n",
       "      <td>40</td>\n",
       "      <td>57</td>\n",
       "      <td>1.0</td>\n",
       "      <td>80</td>\n",
       "      <td>26</td>\n",
       "      <td>53</td>\n",
       "      <td>79</td>\n",
       "      <td>1.0</td>\n",
       "    </tr>\n",
       "    <tr>\n",
       "      <th>CA</th>\n",
       "      <td>44.0</td>\n",
       "      <td>151,278</td>\n",
       "      <td>14,305</td>\n",
       "      <td>12,673</td>\n",
       "      <td>124,300</td>\n",
       "      <td>50,467</td>\n",
       "      <td>98,404</td>\n",
       "      <td>1,764</td>\n",
       "      <td>643</td>\n",
       "      <td>103,759</td>\n",
       "      <td>...</td>\n",
       "      <td>1,019</td>\n",
       "      <td>457</td>\n",
       "      <td>291</td>\n",
       "      <td>748</td>\n",
       "      <td>271.0</td>\n",
       "      <td>1,194</td>\n",
       "      <td>555</td>\n",
       "      <td>357</td>\n",
       "      <td>912</td>\n",
       "      <td>282.0</td>\n",
       "    </tr>\n",
       "  </tbody>\n",
       "</table>\n",
       "<p>5 rows × 540 columns</p>\n",
       "</div>"
      ],
      "text/plain": [
       "       Number of CoCs Overall Homeless, 2019  \\\n",
       "State                                          \n",
       "AK                2.0                  1,907   \n",
       "AL                8.0                  3,261   \n",
       "AR                5.0                  2,717   \n",
       "AZ                3.0                 10,007   \n",
       "CA               44.0                151,278   \n",
       "\n",
       "      Overall Homeless - Under 18, 2019 Overall Homeless - Age 18 to 24, 2019  \\\n",
       "State                                                                           \n",
       "AK                                  335                                   204   \n",
       "AL                                  629                                   199   \n",
       "AR                                  303                                   317   \n",
       "AZ                                1,602                                   708   \n",
       "CA                               14,305                                12,673   \n",
       "\n",
       "      Overall Homeless - Over 24, 2019 Overall Homeless - Female, 2019  \\\n",
       "State                                                                    \n",
       "AK                               1,368                             761   \n",
       "AL                               2,433                           1,383   \n",
       "AR                               2,097                           1,022   \n",
       "AZ                               7,697                           3,683   \n",
       "CA                             124,300                          50,467   \n",
       "\n",
       "      Overall Homeless - Male, 2019 Overall Homeless - Transgender, 2019  \\\n",
       "State                                                                      \n",
       "AK                            1,137                                    6   \n",
       "AL                            1,873                                    3   \n",
       "AR                            1,688                                    4   \n",
       "AZ                            6,297                                   16   \n",
       "CA                           98,404                                1,764   \n",
       "\n",
       "      Overall Homeless - Gender Non-Conforming, 2019  \\\n",
       "State                                                  \n",
       "AK                                                 3   \n",
       "AL                                                 2   \n",
       "AR                                                 3   \n",
       "AZ                                                11   \n",
       "CA                                               643   \n",
       "\n",
       "      Overall Homeless - Non-Hispanic/Non-Latino, 2019  ...  \\\n",
       "State                                                   ...   \n",
       "AK                                               1,802  ...   \n",
       "AL                                               3,161  ...   \n",
       "AR                                               2,657  ...   \n",
       "AZ                                               7,683  ...   \n",
       "CA                                             103,759  ...   \n",
       "\n",
       "      Overall Homeless Parenting Youth Age 18-24, 2019  \\\n",
       "State                                                    \n",
       "AK                                                  20   \n",
       "AL                                                  22   \n",
       "AR                                                  11   \n",
       "AZ                                                  58   \n",
       "CA                                               1,019   \n",
       "\n",
       "      Sheltered ES Homeless Parenting Youth Age 18-24, 2019  \\\n",
       "State                                                         \n",
       "AK                                                     6      \n",
       "AL                                                    10      \n",
       "AR                                                     7      \n",
       "AZ                                                    17      \n",
       "CA                                                   457      \n",
       "\n",
       "      Sheltered TH Homeless Parenting Youth Age 18-24, 2019  \\\n",
       "State                                                         \n",
       "AK                                                    14      \n",
       "AL                                                    11      \n",
       "AR                                                     4      \n",
       "AZ                                                    40      \n",
       "CA                                                   291      \n",
       "\n",
       "      Sheltered Total Homeless Parenting Youth Age 18-24, 2019  \\\n",
       "State                                                            \n",
       "AK                                                    20         \n",
       "AL                                                    21         \n",
       "AR                                                    11         \n",
       "AZ                                                    57         \n",
       "CA                                                   748         \n",
       "\n",
       "      Unsheltered Homeless Parenting Youth Age 18-24, 2019  \\\n",
       "State                                                        \n",
       "AK                                                   0.0     \n",
       "AL                                                   1.0     \n",
       "AR                                                   0.0     \n",
       "AZ                                                   1.0     \n",
       "CA                                                 271.0     \n",
       "\n",
       "      Overall Homeless Children of Parenting Youth, 2019  \\\n",
       "State                                                      \n",
       "AK                                                    27   \n",
       "AL                                                    34   \n",
       "AR                                                    15   \n",
       "AZ                                                    80   \n",
       "CA                                                 1,194   \n",
       "\n",
       "      Sheltered ES Homeless Children of Parenting Youth, 2019  \\\n",
       "State                                                           \n",
       "AK                                                    13        \n",
       "AL                                                    17        \n",
       "AR                                                    10        \n",
       "AZ                                                    26        \n",
       "CA                                                   555        \n",
       "\n",
       "      Sheltered TH Homeless Children of Parenting Youth, 2019  \\\n",
       "State                                                           \n",
       "AK                                                    14        \n",
       "AL                                                    13        \n",
       "AR                                                     5        \n",
       "AZ                                                    53        \n",
       "CA                                                   357        \n",
       "\n",
       "      Sheltered Total Homeless Children of Parenting Youth, 2019  \\\n",
       "State                                                              \n",
       "AK                                                    27           \n",
       "AL                                                    30           \n",
       "AR                                                    15           \n",
       "AZ                                                    79           \n",
       "CA                                                   912           \n",
       "\n",
       "      Unsheltered Homeless Children of Parenting Youth, 2019  \n",
       "State                                                         \n",
       "AK                                                   0.0      \n",
       "AL                                                   4.0      \n",
       "AR                                                   0.0      \n",
       "AZ                                                   1.0      \n",
       "CA                                                 282.0      \n",
       "\n",
       "[5 rows x 540 columns]"
      ]
     },
     "execution_count": 1,
     "metadata": {},
     "output_type": "execute_result"
    }
   ],
   "source": [
    "import pandas as pd\n",
    "import matplotlib.pyplot as plt\n",
    "import numpy as np\n",
    "import scipy.stats as st\n",
    "\n",
    "file_to_load = \"datasets/2019-Point-in-Time-Estimates-by-state.csv\"\n",
    "\n",
    "homeless_2019_data_df = pd.read_csv(file_to_load)\n",
    "states_homeless_2019_data_df = homeless_2019_data_df.set_index('State')\n",
    "states_homeless_2019_data_df.head()"
   ]
  },
  {
   "cell_type": "code",
   "execution_count": 2,
   "id": "2a9c12c5",
   "metadata": {},
   "outputs": [
    {
     "name": "stdout",
     "output_type": "stream",
     "text": [
      "219,911\n"
     ]
    }
   ],
   "source": [
    "# Grab total from overall homeless females column\n",
    "total_females = states_homeless_2019_data_df.loc['Total','Overall Homeless - Female, 2019']\n",
    "print(total_females)\n"
   ]
  },
  {
   "cell_type": "code",
   "execution_count": 3,
   "id": "c48fc593",
   "metadata": {},
   "outputs": [
    {
     "name": "stdout",
     "output_type": "stream",
     "text": [
      "343,187\n"
     ]
    }
   ],
   "source": [
    "# Grab total from overall homeless males column\n",
    "total_males = states_homeless_2019_data_df.loc['Total','Overall Homeless - Male, 2019']\n",
    "print(total_males)"
   ]
  },
  {
   "cell_type": "code",
   "execution_count": 4,
   "id": "4f1960fd",
   "metadata": {},
   "outputs": [
    {
     "data": {
      "image/png": "[encoded data removed]",
      "text/plain": [
       "<Figure size 432x288 with 1 Axes>"
      ]
     },
     "metadata": {},
     "output_type": "display_data"
    }
   ],
   "source": [
    "labels = ['Female', 'Male']\n",
    "data = [219911,343187]\n",
    "# plt.pie(data, labels = gender)\n",
    "\n",
    "# only \"explode\" the 2nd slice (i.e. 'Hogs')\n",
    "explode = (0, 0.1,)\n",
    "\n",
    "#add colors\n",
    "colors = ['#D61E14','#14CCD6']\n",
    "fig1, ax1 = plt.subplots()\n",
    "ax1.pie(data, explode=explode, labels=labels, colors=colors, autopct='%1.1f%%',\n",
    "        shadow=True, startangle=90)\n",
    "\n",
    "# Equal aspect ratio ensures that pie is drawn as a circle\n",
    "ax1.axis('equal')\n",
    "plt.title('Percentage of Homeless Males/Females 2019')\n",
    "plt.tight_layout()\n",
    "plt.show()"
   ]
  },
  {
   "cell_type": "code",
   "execution_count": 5,
   "id": "4c6e9b4c",
   "metadata": {},
   "outputs": [
    {
     "name": "stdout",
     "output_type": "stream",
     "text": [
      "107069\n"
     ]
    }
   ],
   "source": [
    "# Grab total from overall homeless Under 18 column\n",
    "total_under_18 = states_homeless_2019_data_df.loc['Total','Overall Homeless - Under 18, 2019']\n",
    "converted_total_under_18 = total_under_18.replace(',', '')\n",
    "converted_total_under_18 = int(converted_total_under_18)\n",
    "print(converted_total_under_18)"
   ]
  },
  {
   "cell_type": "code",
   "execution_count": 6,
   "id": "394834e1",
   "metadata": {},
   "outputs": [
    {
     "name": "stdout",
     "output_type": "stream",
     "text": [
      "45629\n"
     ]
    }
   ],
   "source": [
    "total_18_to_24 = states_homeless_2019_data_df.loc['Total','Overall Homeless - Age 18 to 24, 2019']\n",
    "converted_18_to_24 = total_18_to_24.replace(',', '')\n",
    "converted_18_to_24 = int(converted_18_to_24)\n",
    "print(converted_18_to_24)"
   ]
  },
  {
   "cell_type": "code",
   "execution_count": 7,
   "id": "1b596324",
   "metadata": {},
   "outputs": [
    {
     "name": "stdout",
     "output_type": "stream",
     "text": [
      "415017\n"
     ]
    }
   ],
   "source": [
    "total_over_24 = states_homeless_2019_data_df.loc['Total','Overall Homeless - Over 24, 2019']\n",
    "converted_total_over_24 = total_over_24.replace(',', '')\n",
    "converted_total_over_24 = int(converted_total_over_24)\n",
    "print(converted_total_over_24)"
   ]
  },
  {
   "cell_type": "code",
   "execution_count": 8,
   "id": "83c8eb2b",
   "metadata": {},
   "outputs": [
    {
     "data": {
      "image/png": "[encoded data removed]",
      "text/plain": [
       "<Figure size 432x288 with 1 Axes>"
      ]
     },
     "metadata": {},
     "output_type": "display_data"
    }
   ],
   "source": [
    "labels = ['18 to 24','Under 18', 'Over 24']\n",
    "data = [converted_18_to_24,converted_total_under_18,converted_total_over_24]\n",
    "# plt.pie(data, labels = gender)\n",
    "\n",
    "# only \"explode\" the 2nd slice (i.e. 'Hogs')\n",
    "explode = (0, 0.1, 0.1)\n",
    "\n",
    "#add colors\n",
    "colors = ['#D61E14','#14CCD6', '#30D614']\n",
    "fig1, ax1 = plt.subplots()\n",
    "ax1.pie(data, explode=explode, labels=labels, colors=colors, autopct='%1.1f%%',\n",
    "        shadow=True, startangle=90)\n",
    "\n",
    "# Equal aspect ratio ensures that pie is drawn as a circle\n",
    "ax1.axis('equal')\n",
    "plt.title('Percentage of Homeless Population Under 18, 18 to 24, and Over 24 2019')\n",
    "plt.tight_layout()\n",
    "plt.show()"
   ]
  },
  {
   "cell_type": "code",
   "execution_count": 9,
   "id": "4b45dbaf",
   "metadata": {},
   "outputs": [
    {
     "name": "stdout",
     "output_type": "stream",
     "text": [
      "443100\n"
     ]
    }
   ],
   "source": [
    "total_nonhispanic_nonlatino = states_homeless_2019_data_df.loc['Total','Overall Homeless - Non-Hispanic/Non-Latino, 2019']\n",
    "converted_total_nonhispanic_nonlatino = total_nonhispanic_nonlatino.replace(',', '')\n",
    "converted_total_nonhispanic_nonlatino = int(converted_total_nonhispanic_nonlatino)\n",
    "print(converted_total_nonhispanic_nonlatino)"
   ]
  },
  {
   "cell_type": "code",
   "execution_count": 10,
   "id": "c8a0f05b",
   "metadata": {},
   "outputs": [
    {
     "name": "stdout",
     "output_type": "stream",
     "text": [
      "124615\n"
     ]
    }
   ],
   "source": [
    "total_hispanic_latino = states_homeless_2019_data_df.loc['Total','Overall Homeless - Hispanic/Latino, 2019']\n",
    "converted_total_hispanic_latino = total_hispanic_latino.replace(',', '')\n",
    "converted_total_hispanic_latino = int(converted_total_hispanic_latino)\n",
    "print(converted_total_hispanic_latino)"
   ]
  },
  {
   "cell_type": "code",
   "execution_count": 11,
   "id": "ba96e51a",
   "metadata": {},
   "outputs": [
    {
     "name": "stdout",
     "output_type": "stream",
     "text": [
      "270607\n"
     ]
    }
   ],
   "source": [
    "total_white = states_homeless_2019_data_df.loc['Total','Overall Homeless - White, 2019']\n",
    "converted_total_white = total_white.replace(',', '')\n",
    "converted_total_white = int(converted_total_white)\n",
    "print(converted_total_white)"
   ]
  },
  {
   "cell_type": "code",
   "execution_count": 12,
   "id": "e6c99f4c",
   "metadata": {},
   "outputs": [
    {
     "name": "stdout",
     "output_type": "stream",
     "text": [
      "225735\n"
     ]
    }
   ],
   "source": [
    "total_black__or_african_american = states_homeless_2019_data_df.loc['Total','Overall Homeless - Black or African American, 2019']\n",
    "converted_total_black__or_african_american = total_black__or_african_american.replace(',', '')\n",
    "converted_total_black__or_african_american = int(converted_total_black__or_african_american)\n",
    "print(converted_total_black__or_african_american)"
   ]
  },
  {
   "cell_type": "code",
   "execution_count": 13,
   "id": "e20d33b5",
   "metadata": {},
   "outputs": [
    {
     "name": "stdout",
     "output_type": "stream",
     "text": [
      "7228\n"
     ]
    }
   ],
   "source": [
    "total_asian = states_homeless_2019_data_df.loc['Total','Overall Homeless - Asian, 2019']\n",
    "converted_total_asian = total_asian.replace(',', '')\n",
    "converted_total_asian = int(converted_total_asian)\n",
    "print(converted_total_asian)"
   ]
  },
  {
   "cell_type": "code",
   "execution_count": 14,
   "id": "e6e924b8",
   "metadata": {},
   "outputs": [
    {
     "name": "stdout",
     "output_type": "stream",
     "text": [
      "17966\n"
     ]
    }
   ],
   "source": [
    "total_american_indian_or_alaskan_native = states_homeless_2019_data_df.loc['Total','Overall Homeless - American Indian or Alaska Native, 2019']\n",
    "converted_total_american_indian_or_alaskan_native = total_american_indian_or_alaskan_native.replace(',', '')\n",
    "converted_total_american_indian_or_alaskan_native = int(converted_total_american_indian_or_alaskan_native)\n",
    "print(converted_total_american_indian_or_alaskan_native)"
   ]
  },
  {
   "cell_type": "code",
   "execution_count": 15,
   "id": "ce2b67a6",
   "metadata": {},
   "outputs": [
    {
     "name": "stdout",
     "output_type": "stream",
     "text": [
      "9311\n"
     ]
    }
   ],
   "source": [
    "total_native_hawaiian_or_other_pacific_islander = states_homeless_2019_data_df.loc['Total','Overall Homeless - Native Hawaiian or Other Pacific Islander, 2019']\n",
    "converted_total_native_hawaiian_or_other_pacific_islander = total_native_hawaiian_or_other_pacific_islander.replace(',', '')\n",
    "converted_total_native_hawaiian_or_other_pacific_islander = int(converted_total_native_hawaiian_or_other_pacific_islander)\n",
    "print(converted_total_native_hawaiian_or_other_pacific_islander)"
   ]
  },
  {
   "cell_type": "code",
   "execution_count": 16,
   "id": "5a17064b",
   "metadata": {},
   "outputs": [
    {
     "name": "stdout",
     "output_type": "stream",
     "text": [
      "36868\n"
     ]
    }
   ],
   "source": [
    "total_multiple_races = states_homeless_2019_data_df.loc['Total','Overall Homeless - Multiple Races, 2019']\n",
    "converted_total_multiple_races = total_multiple_races.replace(',', '')\n",
    "converted_total_multiple_races = int(converted_total_multiple_races)\n",
    "print(converted_total_multiple_races)"
   ]
  },
  {
   "cell_type": "code",
   "execution_count": 17,
   "id": "720377b0",
   "metadata": {},
   "outputs": [
    {
     "data": {
      "image/png": "[encoded data removed]",
      "text/plain": [
       "<Figure size 432x288 with 1 Axes>"
      ]
     },
     "metadata": {},
     "output_type": "display_data"
    }
   ],
   "source": [
    "labels = ['Non-Hispanic/Non-Latino','Hispanic/Latino', 'White', 'Black or African American', 'Asian', 'American Indian or Alaska Native','Native Hawaiian or Other Pacific Islander','Multiple Races']\n",
    "data = [converted_total_nonhispanic_nonlatino,converted_total_hispanic_latino,converted_total_white,converted_total_black__or_african_american,converted_total_asian,converted_total_american_indian_or_alaskan_native,converted_total_native_hawaiian_or_other_pacific_islander,converted_total_multiple_races]\n",
    "\n",
    "explode = (0,0,0,0,0,0.1,0.1,0.1)\n",
    "\n",
    "#add colors\n",
    "# colors = ['#D61E14','#14CCD6', '#30D614']\n",
    "fig1, ax1 = plt.subplots()\n",
    "ax1.pie(data, labels = None, explode = explode, autopct='%1.1f%%',\n",
    "        shadow=True, startangle=145)\n",
    "\n",
    "plt.legend(labels, loc='best', bbox_to_anchor=(-0.1, 1.),fontsize=10)\n",
    "# Equal aspect ratio ensures that pie is drawn as a circle\n",
    "ax1.axis('equal')\n",
    "plt.title('Percentage of Homeless Population By Ethnicity 2019')\n",
    "# plt.tight_layout()\n",
    "plt.show()"
   ]
  },
  {
   "cell_type": "code",
   "execution_count": 18,
   "id": "78019078",
   "metadata": {},
   "outputs": [
    {
     "data": {
      "image/png": "[encoded data removed]",
      "text/plain": [
       "<Figure size 648x216 with 1 Axes>"
      ]
     },
     "metadata": {
      "needs_background": "light"
     },
     "output_type": "display_data"
    }
   ],
   "source": [
    "ethnicity = ['Non-Hispanic/Non-Latino',\n",
    "             'Hispanic/Latino',\n",
    "             'White',\n",
    "             'Black or African American',\n",
    "             'Asian', \n",
    "             'American Indian or Alaska Native',\n",
    "             'Native Hawaiian or Other Pacific Islander',\n",
    "             'Multiple Races']\n",
    "values = [converted_total_nonhispanic_nonlatino,\n",
    "          converted_total_hispanic_latino,\n",
    "          converted_total_white,\n",
    "          converted_total_black__or_african_american,\n",
    "          converted_total_asian,\n",
    "          converted_total_american_indian_or_alaskan_native,\n",
    "          converted_total_native_hawaiian_or_other_pacific_islander,\n",
    "          converted_total_multiple_races]\n",
    "\n",
    "  \n",
    "fig, ax = plt.subplots(figsize = (9, 3))\n",
    " \n",
    "# creating the bar plot\n",
    "ax.barh(ethnicity,values)\n",
    "# colors = ['#D61E14','#14CCD6', '#30D614'] \n",
    "plt.ylabel(\"Ethnicities\")\n",
    "plt.xlabel(\"No. of Homeless Population\")\n",
    "plt.title(\"Overall Homeless Population By Ethnicity 2019\")\n",
    "# plt.legend(ethnicity, loc='best', bbox_to_anchor=(-0.1, 1.),fontsize=10)\n",
    "# plt.xticks(rotation=\"hort\")\n",
    "plt.show()"
   ]
  },
  {
   "cell_type": "code",
   "execution_count": null,
   "id": "9d2af437",
   "metadata": {},
   "outputs": [],
   "source": []
  }
 ],
 "metadata": {
  "kernelspec": {
   "display_name": "Python 3",
   "language": "python",
   "name": "python3"
  },
  "language_info": {
   "codemirror_mode": {
    "name": "ipython",
    "version": 3
   },
   "file_extension": ".py",
   "mimetype": "text/x-python",
   "name": "python",
   "nbconvert_exporter": "python",
   "pygments_lexer": "ipython3",
   "version": "3.8.5"
  }
 },
 "nbformat": 4,
 "nbformat_minor": 5
}
