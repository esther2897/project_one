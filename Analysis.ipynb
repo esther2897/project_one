{
 "cells": [
  {
   "cell_type": "code",
   "execution_count": 1,
   "source": [
    "import pandas as pd\n",
    "import os"
   ],
   "outputs": [],
   "metadata": {}
  },
  {
   "cell_type": "code",
   "execution_count": 4,
   "source": [
    "dataframes = []\n",
    "for file in os.listdir(\"datasets\"):\n",
    "    path = os.path.join(\"datasets\",file)\n",
    "    frame = pd.read_csv(path)\n",
    "    dataframes.append(frame)"
   ],
   "outputs": [],
   "metadata": {}
  },
  {
   "cell_type": "code",
   "execution_count": 14,
   "source": [
    "dataframes[0].head()"
   ],
   "outputs": [
    {
     "output_type": "execute_result",
     "data": {
      "text/plain": [
       "  State  Number of CoCs Overall Homeless, 2020  \\\n",
       "0    AK             2.0                  1,949   \n",
       "1    AL             8.0                  3,351   \n",
       "2    AR             4.0                  2,366   \n",
       "3    AS             0.0                          \n",
       "4    AZ             3.0                 10,979   \n",
       "\n",
       "  Overall Homeless - Under 18, 2020 Overall Homeless - Age 18 to 24, 2020  \\\n",
       "0                               326                                   197   \n",
       "1                               528                                   198   \n",
       "2                               195                                   258   \n",
       "3                                                                           \n",
       "4                             1,722                                   824   \n",
       "\n",
       "  Overall Homeless - Over 24, 2020 Overall Homeless - Female, 2020  \\\n",
       "0                            1,426                             828   \n",
       "1                            2,625                           1,294   \n",
       "2                            1,913                             798   \n",
       "3                                                                    \n",
       "4                            8,433                           4,228   \n",
       "\n",
       "  Overall Homeless - Male, 2020 Overall Homeless - Transgender, 2020  \\\n",
       "0                         1,114                                    3   \n",
       "1                         1,988                                    9   \n",
       "2                         1,561                                    5   \n",
       "3                                                                      \n",
       "4                         6,694                                   43   \n",
       "\n",
       "  Overall Homeless - Gender Non-Conforming, 2020  ...  \\\n",
       "0                                              4  ...   \n",
       "1                                              4  ...   \n",
       "2                                              2  ...   \n",
       "3                                                 ...   \n",
       "4                                             14  ...   \n",
       "\n",
       "  Overall Homeless Parenting Youth Age 18-24, 2020  \\\n",
       "0                                               13   \n",
       "1                                               27   \n",
       "2                                                8   \n",
       "3                                                    \n",
       "4                                               98   \n",
       "\n",
       "  Sheltered ES Homeless Parenting Youth Age 18-24, 2020  \\\n",
       "0                                                 10      \n",
       "1                                                 10      \n",
       "2                                                  6      \n",
       "3                                                         \n",
       "4                                                 33      \n",
       "\n",
       "  Sheltered TH Homeless Parenting Youth Age 18-24, 2020  \\\n",
       "0                                                  3      \n",
       "1                                                 15      \n",
       "2                                                  1      \n",
       "3                                                         \n",
       "4                                                 54      \n",
       "\n",
       "  Sheltered Total Homeless Parenting Youth Age 18-24, 2020  \\\n",
       "0                                                 13         \n",
       "1                                                 25         \n",
       "2                                                  7         \n",
       "3                                                            \n",
       "4                                                 87         \n",
       "\n",
       "  Unsheltered Homeless Parenting Youth Age 18-24, 2020  \\\n",
       "0                                                  0     \n",
       "1                                                  2     \n",
       "2                                                  1     \n",
       "3                                                        \n",
       "4                                                 11     \n",
       "\n",
       "  Overall Homeless Children of Parenting Youth, 2020  \\\n",
       "0                                                 16   \n",
       "1                                                 36   \n",
       "2                                                 12   \n",
       "3                                                      \n",
       "4                                                128   \n",
       "\n",
       "  Sheltered ES Homeless Children of Parenting Youth, 2020  \\\n",
       "0                                                 12        \n",
       "1                                                 13        \n",
       "2                                                  8        \n",
       "3                                                           \n",
       "4                                                 48        \n",
       "\n",
       "  Sheltered TH Homeless Children of Parenting Youth, 2020  \\\n",
       "0                                                  4        \n",
       "1                                                 21        \n",
       "2                                                  2        \n",
       "3                                                           \n",
       "4                                                 72        \n",
       "\n",
       "  Sheltered Total Homeless Children of Parenting Youth, 2020  \\\n",
       "0                                                 16           \n",
       "1                                                 34           \n",
       "2                                                 10           \n",
       "3                                                              \n",
       "4                                                120           \n",
       "\n",
       "  Unsheltered Homeless Children of Parenting Youth, 2020  \n",
       "0                                                  0      \n",
       "1                                                  2      \n",
       "2                                                  2      \n",
       "3                                                         \n",
       "4                                                  8      \n",
       "\n",
       "[5 rows x 541 columns]"
      ],
      "text/html": [
       "<div>\n",
       "<style scoped>\n",
       "    .dataframe tbody tr th:only-of-type {\n",
       "        vertical-align: middle;\n",
       "    }\n",
       "\n",
       "    .dataframe tbody tr th {\n",
       "        vertical-align: top;\n",
       "    }\n",
       "\n",
       "    .dataframe thead th {\n",
       "        text-align: right;\n",
       "    }\n",
       "</style>\n",
       "<table border=\"1\" class=\"dataframe\">\n",
       "  <thead>\n",
       "    <tr style=\"text-align: right;\">\n",
       "      <th></th>\n",
       "      <th>State</th>\n",
       "      <th>Number of CoCs</th>\n",
       "      <th>Overall Homeless, 2020</th>\n",
       "      <th>Overall Homeless - Under 18, 2020</th>\n",
       "      <th>Overall Homeless - Age 18 to 24, 2020</th>\n",
       "      <th>Overall Homeless - Over 24, 2020</th>\n",
       "      <th>Overall Homeless - Female, 2020</th>\n",
       "      <th>Overall Homeless - Male, 2020</th>\n",
       "      <th>Overall Homeless - Transgender, 2020</th>\n",
       "      <th>Overall Homeless - Gender Non-Conforming, 2020</th>\n",
       "      <th>...</th>\n",
       "      <th>Overall Homeless Parenting Youth Age 18-24, 2020</th>\n",
       "      <th>Sheltered ES Homeless Parenting Youth Age 18-24, 2020</th>\n",
       "      <th>Sheltered TH Homeless Parenting Youth Age 18-24, 2020</th>\n",
       "      <th>Sheltered Total Homeless Parenting Youth Age 18-24, 2020</th>\n",
       "      <th>Unsheltered Homeless Parenting Youth Age 18-24, 2020</th>\n",
       "      <th>Overall Homeless Children of Parenting Youth, 2020</th>\n",
       "      <th>Sheltered ES Homeless Children of Parenting Youth, 2020</th>\n",
       "      <th>Sheltered TH Homeless Children of Parenting Youth, 2020</th>\n",
       "      <th>Sheltered Total Homeless Children of Parenting Youth, 2020</th>\n",
       "      <th>Unsheltered Homeless Children of Parenting Youth, 2020</th>\n",
       "    </tr>\n",
       "  </thead>\n",
       "  <tbody>\n",
       "    <tr>\n",
       "      <th>0</th>\n",
       "      <td>AK</td>\n",
       "      <td>2.0</td>\n",
       "      <td>1,949</td>\n",
       "      <td>326</td>\n",
       "      <td>197</td>\n",
       "      <td>1,426</td>\n",
       "      <td>828</td>\n",
       "      <td>1,114</td>\n",
       "      <td>3</td>\n",
       "      <td>4</td>\n",
       "      <td>...</td>\n",
       "      <td>13</td>\n",
       "      <td>10</td>\n",
       "      <td>3</td>\n",
       "      <td>13</td>\n",
       "      <td>0</td>\n",
       "      <td>16</td>\n",
       "      <td>12</td>\n",
       "      <td>4</td>\n",
       "      <td>16</td>\n",
       "      <td>0</td>\n",
       "    </tr>\n",
       "    <tr>\n",
       "      <th>1</th>\n",
       "      <td>AL</td>\n",
       "      <td>8.0</td>\n",
       "      <td>3,351</td>\n",
       "      <td>528</td>\n",
       "      <td>198</td>\n",
       "      <td>2,625</td>\n",
       "      <td>1,294</td>\n",
       "      <td>1,988</td>\n",
       "      <td>9</td>\n",
       "      <td>4</td>\n",
       "      <td>...</td>\n",
       "      <td>27</td>\n",
       "      <td>10</td>\n",
       "      <td>15</td>\n",
       "      <td>25</td>\n",
       "      <td>2</td>\n",
       "      <td>36</td>\n",
       "      <td>13</td>\n",
       "      <td>21</td>\n",
       "      <td>34</td>\n",
       "      <td>2</td>\n",
       "    </tr>\n",
       "    <tr>\n",
       "      <th>2</th>\n",
       "      <td>AR</td>\n",
       "      <td>4.0</td>\n",
       "      <td>2,366</td>\n",
       "      <td>195</td>\n",
       "      <td>258</td>\n",
       "      <td>1,913</td>\n",
       "      <td>798</td>\n",
       "      <td>1,561</td>\n",
       "      <td>5</td>\n",
       "      <td>2</td>\n",
       "      <td>...</td>\n",
       "      <td>8</td>\n",
       "      <td>6</td>\n",
       "      <td>1</td>\n",
       "      <td>7</td>\n",
       "      <td>1</td>\n",
       "      <td>12</td>\n",
       "      <td>8</td>\n",
       "      <td>2</td>\n",
       "      <td>10</td>\n",
       "      <td>2</td>\n",
       "    </tr>\n",
       "    <tr>\n",
       "      <th>3</th>\n",
       "      <td>AS</td>\n",
       "      <td>0.0</td>\n",
       "      <td></td>\n",
       "      <td></td>\n",
       "      <td></td>\n",
       "      <td></td>\n",
       "      <td></td>\n",
       "      <td></td>\n",
       "      <td></td>\n",
       "      <td></td>\n",
       "      <td>...</td>\n",
       "      <td></td>\n",
       "      <td></td>\n",
       "      <td></td>\n",
       "      <td></td>\n",
       "      <td></td>\n",
       "      <td></td>\n",
       "      <td></td>\n",
       "      <td></td>\n",
       "      <td></td>\n",
       "      <td></td>\n",
       "    </tr>\n",
       "    <tr>\n",
       "      <th>4</th>\n",
       "      <td>AZ</td>\n",
       "      <td>3.0</td>\n",
       "      <td>10,979</td>\n",
       "      <td>1,722</td>\n",
       "      <td>824</td>\n",
       "      <td>8,433</td>\n",
       "      <td>4,228</td>\n",
       "      <td>6,694</td>\n",
       "      <td>43</td>\n",
       "      <td>14</td>\n",
       "      <td>...</td>\n",
       "      <td>98</td>\n",
       "      <td>33</td>\n",
       "      <td>54</td>\n",
       "      <td>87</td>\n",
       "      <td>11</td>\n",
       "      <td>128</td>\n",
       "      <td>48</td>\n",
       "      <td>72</td>\n",
       "      <td>120</td>\n",
       "      <td>8</td>\n",
       "    </tr>\n",
       "  </tbody>\n",
       "</table>\n",
       "<p>5 rows × 541 columns</p>\n",
       "</div>"
      ]
     },
     "metadata": {},
     "execution_count": 14
    }
   ],
   "metadata": {}
  },
  {
   "cell_type": "code",
   "execution_count": 6,
   "source": [
    "PIT_2020 = dataframes[1]\n",
    "PIT_2020.head()"
   ],
   "outputs": [
    {
     "output_type": "execute_result",
     "data": {
      "text/plain": [
       "   year    AK    AL    AR     AZ      CA     CO    CT    DE     FL  ...   SD  \\\n",
       "0  2008  1646  5387  3255  12488  136531  14747  4627   933  50158  ...  579   \n",
       "1  2009  1992  6080  2852  14721  123678  15268  4605  1130  55599  ...  731   \n",
       "2  2010  1863  6046  2762  13711  123480  15482  4316   982  57551  ...  731   \n",
       "3  2011  2128  5558  3424  10504  125128  15116  4456  1035  56687  ...  826   \n",
       "4  2012  1913  5209  4214  11302  120098  16768  4209  1008  55170  ...  859   \n",
       "\n",
       "      TN     TX    UT    VA    VT     WA    WI    WV    WY  \n",
       "0   9705  40190  3434  8469   954  21954  5449  2016   751  \n",
       "1  10532  36761  3795  8852  1214  22782  6525  1667   515  \n",
       "2  10276  35121  3284  9080  1220  22878  6333  2264   579  \n",
       "3   9113  36911  3130  8816  1144  20439  5785  2211  1038  \n",
       "4   9426  34052  3527  8424  1160  20504  6027  2410  1813  \n",
       "\n",
       "[5 rows x 51 columns]"
      ],
      "text/html": [
       "<div>\n",
       "<style scoped>\n",
       "    .dataframe tbody tr th:only-of-type {\n",
       "        vertical-align: middle;\n",
       "    }\n",
       "\n",
       "    .dataframe tbody tr th {\n",
       "        vertical-align: top;\n",
       "    }\n",
       "\n",
       "    .dataframe thead th {\n",
       "        text-align: right;\n",
       "    }\n",
       "</style>\n",
       "<table border=\"1\" class=\"dataframe\">\n",
       "  <thead>\n",
       "    <tr style=\"text-align: right;\">\n",
       "      <th></th>\n",
       "      <th>year</th>\n",
       "      <th>AK</th>\n",
       "      <th>AL</th>\n",
       "      <th>AR</th>\n",
       "      <th>AZ</th>\n",
       "      <th>CA</th>\n",
       "      <th>CO</th>\n",
       "      <th>CT</th>\n",
       "      <th>DE</th>\n",
       "      <th>FL</th>\n",
       "      <th>...</th>\n",
       "      <th>SD</th>\n",
       "      <th>TN</th>\n",
       "      <th>TX</th>\n",
       "      <th>UT</th>\n",
       "      <th>VA</th>\n",
       "      <th>VT</th>\n",
       "      <th>WA</th>\n",
       "      <th>WI</th>\n",
       "      <th>WV</th>\n",
       "      <th>WY</th>\n",
       "    </tr>\n",
       "  </thead>\n",
       "  <tbody>\n",
       "    <tr>\n",
       "      <th>0</th>\n",
       "      <td>2008</td>\n",
       "      <td>1646</td>\n",
       "      <td>5387</td>\n",
       "      <td>3255</td>\n",
       "      <td>12488</td>\n",
       "      <td>136531</td>\n",
       "      <td>14747</td>\n",
       "      <td>4627</td>\n",
       "      <td>933</td>\n",
       "      <td>50158</td>\n",
       "      <td>...</td>\n",
       "      <td>579</td>\n",
       "      <td>9705</td>\n",
       "      <td>40190</td>\n",
       "      <td>3434</td>\n",
       "      <td>8469</td>\n",
       "      <td>954</td>\n",
       "      <td>21954</td>\n",
       "      <td>5449</td>\n",
       "      <td>2016</td>\n",
       "      <td>751</td>\n",
       "    </tr>\n",
       "    <tr>\n",
       "      <th>1</th>\n",
       "      <td>2009</td>\n",
       "      <td>1992</td>\n",
       "      <td>6080</td>\n",
       "      <td>2852</td>\n",
       "      <td>14721</td>\n",
       "      <td>123678</td>\n",
       "      <td>15268</td>\n",
       "      <td>4605</td>\n",
       "      <td>1130</td>\n",
       "      <td>55599</td>\n",
       "      <td>...</td>\n",
       "      <td>731</td>\n",
       "      <td>10532</td>\n",
       "      <td>36761</td>\n",
       "      <td>3795</td>\n",
       "      <td>8852</td>\n",
       "      <td>1214</td>\n",
       "      <td>22782</td>\n",
       "      <td>6525</td>\n",
       "      <td>1667</td>\n",
       "      <td>515</td>\n",
       "    </tr>\n",
       "    <tr>\n",
       "      <th>2</th>\n",
       "      <td>2010</td>\n",
       "      <td>1863</td>\n",
       "      <td>6046</td>\n",
       "      <td>2762</td>\n",
       "      <td>13711</td>\n",
       "      <td>123480</td>\n",
       "      <td>15482</td>\n",
       "      <td>4316</td>\n",
       "      <td>982</td>\n",
       "      <td>57551</td>\n",
       "      <td>...</td>\n",
       "      <td>731</td>\n",
       "      <td>10276</td>\n",
       "      <td>35121</td>\n",
       "      <td>3284</td>\n",
       "      <td>9080</td>\n",
       "      <td>1220</td>\n",
       "      <td>22878</td>\n",
       "      <td>6333</td>\n",
       "      <td>2264</td>\n",
       "      <td>579</td>\n",
       "    </tr>\n",
       "    <tr>\n",
       "      <th>3</th>\n",
       "      <td>2011</td>\n",
       "      <td>2128</td>\n",
       "      <td>5558</td>\n",
       "      <td>3424</td>\n",
       "      <td>10504</td>\n",
       "      <td>125128</td>\n",
       "      <td>15116</td>\n",
       "      <td>4456</td>\n",
       "      <td>1035</td>\n",
       "      <td>56687</td>\n",
       "      <td>...</td>\n",
       "      <td>826</td>\n",
       "      <td>9113</td>\n",
       "      <td>36911</td>\n",
       "      <td>3130</td>\n",
       "      <td>8816</td>\n",
       "      <td>1144</td>\n",
       "      <td>20439</td>\n",
       "      <td>5785</td>\n",
       "      <td>2211</td>\n",
       "      <td>1038</td>\n",
       "    </tr>\n",
       "    <tr>\n",
       "      <th>4</th>\n",
       "      <td>2012</td>\n",
       "      <td>1913</td>\n",
       "      <td>5209</td>\n",
       "      <td>4214</td>\n",
       "      <td>11302</td>\n",
       "      <td>120098</td>\n",
       "      <td>16768</td>\n",
       "      <td>4209</td>\n",
       "      <td>1008</td>\n",
       "      <td>55170</td>\n",
       "      <td>...</td>\n",
       "      <td>859</td>\n",
       "      <td>9426</td>\n",
       "      <td>34052</td>\n",
       "      <td>3527</td>\n",
       "      <td>8424</td>\n",
       "      <td>1160</td>\n",
       "      <td>20504</td>\n",
       "      <td>6027</td>\n",
       "      <td>2410</td>\n",
       "      <td>1813</td>\n",
       "    </tr>\n",
       "  </tbody>\n",
       "</table>\n",
       "<p>5 rows × 51 columns</p>\n",
       "</div>"
      ]
     },
     "metadata": {},
     "execution_count": 6
    }
   ],
   "metadata": {}
  },
  {
   "cell_type": "code",
   "execution_count": 7,
   "source": [
    "no_home_frame = dataframes[2]\n",
    "no_home_frame.head()"
   ],
   "outputs": [
    {
     "output_type": "execute_result",
     "data": {
      "text/plain": [
       "  State  Number of CoCs Overall Homeless, 2019  \\\n",
       "0    AK             2.0                  1,907   \n",
       "1    AL             8.0                  3,261   \n",
       "2    AR             5.0                  2,717   \n",
       "3    AS             0.0                          \n",
       "4    AZ             3.0                 10,007   \n",
       "\n",
       "  Overall Homeless - Under 18, 2019 Overall Homeless - Age 18 to 24, 2019  \\\n",
       "0                               335                                   204   \n",
       "1                               629                                   199   \n",
       "2                               303                                   317   \n",
       "3                                                                           \n",
       "4                             1,602                                   708   \n",
       "\n",
       "  Overall Homeless - Over 24, 2019 Overall Homeless - Female, 2019  \\\n",
       "0                            1,368                             761   \n",
       "1                            2,433                           1,383   \n",
       "2                            2,097                           1,022   \n",
       "3                                                                    \n",
       "4                            7,697                           3,683   \n",
       "\n",
       "  Overall Homeless - Male, 2019 Overall Homeless - Transgender, 2019  \\\n",
       "0                         1,137                                    6   \n",
       "1                         1,873                                    3   \n",
       "2                         1,688                                    4   \n",
       "3                                                                      \n",
       "4                         6,297                                   16   \n",
       "\n",
       "  Overall Homeless - Gender Non-Conforming, 2019  ...  \\\n",
       "0                                              3  ...   \n",
       "1                                              2  ...   \n",
       "2                                              3  ...   \n",
       "3                                                 ...   \n",
       "4                                             11  ...   \n",
       "\n",
       "  Overall Homeless Parenting Youth Age 18-24, 2019  \\\n",
       "0                                               20   \n",
       "1                                               22   \n",
       "2                                               11   \n",
       "3                                                    \n",
       "4                                               58   \n",
       "\n",
       "  Sheltered ES Homeless Parenting Youth Age 18-24, 2019  \\\n",
       "0                                                  6      \n",
       "1                                                 10      \n",
       "2                                                  7      \n",
       "3                                                         \n",
       "4                                                 17      \n",
       "\n",
       "  Sheltered TH Homeless Parenting Youth Age 18-24, 2019  \\\n",
       "0                                                 14      \n",
       "1                                                 11      \n",
       "2                                                  4      \n",
       "3                                                         \n",
       "4                                                 40      \n",
       "\n",
       "  Sheltered Total Homeless Parenting Youth Age 18-24, 2019  \\\n",
       "0                                                 20         \n",
       "1                                                 21         \n",
       "2                                                 11         \n",
       "3                                                            \n",
       "4                                                 57         \n",
       "\n",
       "  Unsheltered Homeless Parenting Youth Age 18-24, 2019  \\\n",
       "0                                                  0     \n",
       "1                                                  1     \n",
       "2                                                  0     \n",
       "3                                                        \n",
       "4                                                  1     \n",
       "\n",
       "  Overall Homeless Children of Parenting Youth, 2019  \\\n",
       "0                                                 27   \n",
       "1                                                 34   \n",
       "2                                                 15   \n",
       "3                                                      \n",
       "4                                                 80   \n",
       "\n",
       "  Sheltered ES Homeless Children of Parenting Youth, 2019  \\\n",
       "0                                                 13        \n",
       "1                                                 17        \n",
       "2                                                 10        \n",
       "3                                                           \n",
       "4                                                 26        \n",
       "\n",
       "  Sheltered TH Homeless Children of Parenting Youth, 2019  \\\n",
       "0                                                 14        \n",
       "1                                                 13        \n",
       "2                                                  5        \n",
       "3                                                           \n",
       "4                                                 53        \n",
       "\n",
       "  Sheltered Total Homeless Children of Parenting Youth, 2019  \\\n",
       "0                                                 27           \n",
       "1                                                 30           \n",
       "2                                                 15           \n",
       "3                                                              \n",
       "4                                                 79           \n",
       "\n",
       "  Unsheltered Homeless Children of Parenting Youth, 2019  \n",
       "0                                                  0      \n",
       "1                                                  4      \n",
       "2                                                  0      \n",
       "3                                                         \n",
       "4                                                  1      \n",
       "\n",
       "[5 rows x 541 columns]"
      ],
      "text/html": [
       "<div>\n",
       "<style scoped>\n",
       "    .dataframe tbody tr th:only-of-type {\n",
       "        vertical-align: middle;\n",
       "    }\n",
       "\n",
       "    .dataframe tbody tr th {\n",
       "        vertical-align: top;\n",
       "    }\n",
       "\n",
       "    .dataframe thead th {\n",
       "        text-align: right;\n",
       "    }\n",
       "</style>\n",
       "<table border=\"1\" class=\"dataframe\">\n",
       "  <thead>\n",
       "    <tr style=\"text-align: right;\">\n",
       "      <th></th>\n",
       "      <th>State</th>\n",
       "      <th>Number of CoCs</th>\n",
       "      <th>Overall Homeless, 2019</th>\n",
       "      <th>Overall Homeless - Under 18, 2019</th>\n",
       "      <th>Overall Homeless - Age 18 to 24, 2019</th>\n",
       "      <th>Overall Homeless - Over 24, 2019</th>\n",
       "      <th>Overall Homeless - Female, 2019</th>\n",
       "      <th>Overall Homeless - Male, 2019</th>\n",
       "      <th>Overall Homeless - Transgender, 2019</th>\n",
       "      <th>Overall Homeless - Gender Non-Conforming, 2019</th>\n",
       "      <th>...</th>\n",
       "      <th>Overall Homeless Parenting Youth Age 18-24, 2019</th>\n",
       "      <th>Sheltered ES Homeless Parenting Youth Age 18-24, 2019</th>\n",
       "      <th>Sheltered TH Homeless Parenting Youth Age 18-24, 2019</th>\n",
       "      <th>Sheltered Total Homeless Parenting Youth Age 18-24, 2019</th>\n",
       "      <th>Unsheltered Homeless Parenting Youth Age 18-24, 2019</th>\n",
       "      <th>Overall Homeless Children of Parenting Youth, 2019</th>\n",
       "      <th>Sheltered ES Homeless Children of Parenting Youth, 2019</th>\n",
       "      <th>Sheltered TH Homeless Children of Parenting Youth, 2019</th>\n",
       "      <th>Sheltered Total Homeless Children of Parenting Youth, 2019</th>\n",
       "      <th>Unsheltered Homeless Children of Parenting Youth, 2019</th>\n",
       "    </tr>\n",
       "  </thead>\n",
       "  <tbody>\n",
       "    <tr>\n",
       "      <th>0</th>\n",
       "      <td>AK</td>\n",
       "      <td>2.0</td>\n",
       "      <td>1,907</td>\n",
       "      <td>335</td>\n",
       "      <td>204</td>\n",
       "      <td>1,368</td>\n",
       "      <td>761</td>\n",
       "      <td>1,137</td>\n",
       "      <td>6</td>\n",
       "      <td>3</td>\n",
       "      <td>...</td>\n",
       "      <td>20</td>\n",
       "      <td>6</td>\n",
       "      <td>14</td>\n",
       "      <td>20</td>\n",
       "      <td>0</td>\n",
       "      <td>27</td>\n",
       "      <td>13</td>\n",
       "      <td>14</td>\n",
       "      <td>27</td>\n",
       "      <td>0</td>\n",
       "    </tr>\n",
       "    <tr>\n",
       "      <th>1</th>\n",
       "      <td>AL</td>\n",
       "      <td>8.0</td>\n",
       "      <td>3,261</td>\n",
       "      <td>629</td>\n",
       "      <td>199</td>\n",
       "      <td>2,433</td>\n",
       "      <td>1,383</td>\n",
       "      <td>1,873</td>\n",
       "      <td>3</td>\n",
       "      <td>2</td>\n",
       "      <td>...</td>\n",
       "      <td>22</td>\n",
       "      <td>10</td>\n",
       "      <td>11</td>\n",
       "      <td>21</td>\n",
       "      <td>1</td>\n",
       "      <td>34</td>\n",
       "      <td>17</td>\n",
       "      <td>13</td>\n",
       "      <td>30</td>\n",
       "      <td>4</td>\n",
       "    </tr>\n",
       "    <tr>\n",
       "      <th>2</th>\n",
       "      <td>AR</td>\n",
       "      <td>5.0</td>\n",
       "      <td>2,717</td>\n",
       "      <td>303</td>\n",
       "      <td>317</td>\n",
       "      <td>2,097</td>\n",
       "      <td>1,022</td>\n",
       "      <td>1,688</td>\n",
       "      <td>4</td>\n",
       "      <td>3</td>\n",
       "      <td>...</td>\n",
       "      <td>11</td>\n",
       "      <td>7</td>\n",
       "      <td>4</td>\n",
       "      <td>11</td>\n",
       "      <td>0</td>\n",
       "      <td>15</td>\n",
       "      <td>10</td>\n",
       "      <td>5</td>\n",
       "      <td>15</td>\n",
       "      <td>0</td>\n",
       "    </tr>\n",
       "    <tr>\n",
       "      <th>3</th>\n",
       "      <td>AS</td>\n",
       "      <td>0.0</td>\n",
       "      <td></td>\n",
       "      <td></td>\n",
       "      <td></td>\n",
       "      <td></td>\n",
       "      <td></td>\n",
       "      <td></td>\n",
       "      <td></td>\n",
       "      <td></td>\n",
       "      <td>...</td>\n",
       "      <td></td>\n",
       "      <td></td>\n",
       "      <td></td>\n",
       "      <td></td>\n",
       "      <td></td>\n",
       "      <td></td>\n",
       "      <td></td>\n",
       "      <td></td>\n",
       "      <td></td>\n",
       "      <td></td>\n",
       "    </tr>\n",
       "    <tr>\n",
       "      <th>4</th>\n",
       "      <td>AZ</td>\n",
       "      <td>3.0</td>\n",
       "      <td>10,007</td>\n",
       "      <td>1,602</td>\n",
       "      <td>708</td>\n",
       "      <td>7,697</td>\n",
       "      <td>3,683</td>\n",
       "      <td>6,297</td>\n",
       "      <td>16</td>\n",
       "      <td>11</td>\n",
       "      <td>...</td>\n",
       "      <td>58</td>\n",
       "      <td>17</td>\n",
       "      <td>40</td>\n",
       "      <td>57</td>\n",
       "      <td>1</td>\n",
       "      <td>80</td>\n",
       "      <td>26</td>\n",
       "      <td>53</td>\n",
       "      <td>79</td>\n",
       "      <td>1</td>\n",
       "    </tr>\n",
       "  </tbody>\n",
       "</table>\n",
       "<p>5 rows × 541 columns</p>\n",
       "</div>"
      ]
     },
     "metadata": {},
     "execution_count": 7
    }
   ],
   "metadata": {}
  },
  {
   "cell_type": "code",
   "execution_count": 8,
   "source": [
    "PIT_2019 = dataframes[3]\n",
    "PIT_2019.head()"
   ],
   "outputs": [
    {
     "output_type": "execute_result",
     "data": {
      "text/plain": [
       "  State  Number of CoCs Overall Homeless, 2018  \\\n",
       "0    AK             2.0                  2,016   \n",
       "1    AL             8.0                  3,434   \n",
       "2    AR             7.0                  2,712   \n",
       "3    AS             0.0                          \n",
       "4    AZ             3.0                  9,865   \n",
       "\n",
       "  Overall Homeless - Under 18, 2018 Overall Homeless - Age 18 to 24, 2018  \\\n",
       "0                               349                                   191   \n",
       "1                               573                                   157   \n",
       "2                               309                                   213   \n",
       "3                                                                           \n",
       "4                             1,680                                   780   \n",
       "\n",
       "  Overall Homeless - Over 24, 2018 Overall Homeless - Female, 2018  \\\n",
       "0                            1,476                             880   \n",
       "1                            2,704                           1,399   \n",
       "2                            2,190                           1,113   \n",
       "3                                                                    \n",
       "4                            7,405                           3,460   \n",
       "\n",
       "  Overall Homeless - Male, 2018 Overall Homeless - Transgender, 2018  \\\n",
       "0                         1,129                                    7   \n",
       "1                         2,025                                    9   \n",
       "2                         1,593                                    5   \n",
       "3                                                                      \n",
       "4                         6,354                                   34   \n",
       "\n",
       "  Overall Homeless - Gender Non-Conforming, 2018  ...  \\\n",
       "0                                              0  ...   \n",
       "1                                              1  ...   \n",
       "2                                              1  ...   \n",
       "3                                                 ...   \n",
       "4                                             17  ...   \n",
       "\n",
       "  Overall Homeless Parenting Youth Age 18-24, 2018  \\\n",
       "0                                               25   \n",
       "1                                               27   \n",
       "2                                                8   \n",
       "3                                                    \n",
       "4                                               63   \n",
       "\n",
       "  Sheltered ES Homeless Parenting Youth Age 18-24, 2018  \\\n",
       "0                                                 14      \n",
       "1                                                 11      \n",
       "2                                                  5      \n",
       "3                                                         \n",
       "4                                                 19      \n",
       "\n",
       "  Sheltered TH Homeless Parenting Youth Age 18-24, 2018  \\\n",
       "0                                                  9      \n",
       "1                                                  8      \n",
       "2                                                  2      \n",
       "3                                                         \n",
       "4                                                 35      \n",
       "\n",
       "  Sheltered Total Homeless Parenting Youth Age 18-24, 2018  \\\n",
       "0                                                 23         \n",
       "1                                                 19         \n",
       "2                                                  7         \n",
       "3                                                            \n",
       "4                                                 54         \n",
       "\n",
       "  Unsheltered Homeless Parenting Youth Age 18-24, 2018  \\\n",
       "0                                                  2     \n",
       "1                                                  8     \n",
       "2                                                  1     \n",
       "3                                                        \n",
       "4                                                  9     \n",
       "\n",
       "  Overall Homeless Children of Parenting Youth, 2018  \\\n",
       "0                                                 26   \n",
       "1                                                 36   \n",
       "2                                                 11   \n",
       "3                                                      \n",
       "4                                                 81   \n",
       "\n",
       "  Sheltered ES Homeless Children of Parenting Youth, 2018  \\\n",
       "0                                                 14        \n",
       "1                                                 16        \n",
       "2                                                  7        \n",
       "3                                                           \n",
       "4                                                 28        \n",
       "\n",
       "  Sheltered TH Homeless Children of Parenting Youth, 2018  \\\n",
       "0                                                 10        \n",
       "1                                                 13        \n",
       "2                                                  2        \n",
       "3                                                           \n",
       "4                                                 45        \n",
       "\n",
       "  Sheltered Total Homeless Children of Parenting Youth, 2018  \\\n",
       "0                                                 24           \n",
       "1                                                 29           \n",
       "2                                                  9           \n",
       "3                                                              \n",
       "4                                                 73           \n",
       "\n",
       "  Unsheltered Homeless Children of Parenting Youth, 2018  \n",
       "0                                                  2      \n",
       "1                                                  7      \n",
       "2                                                  2      \n",
       "3                                                         \n",
       "4                                                  8      \n",
       "\n",
       "[5 rows x 541 columns]"
      ],
      "text/html": [
       "<div>\n",
       "<style scoped>\n",
       "    .dataframe tbody tr th:only-of-type {\n",
       "        vertical-align: middle;\n",
       "    }\n",
       "\n",
       "    .dataframe tbody tr th {\n",
       "        vertical-align: top;\n",
       "    }\n",
       "\n",
       "    .dataframe thead th {\n",
       "        text-align: right;\n",
       "    }\n",
       "</style>\n",
       "<table border=\"1\" class=\"dataframe\">\n",
       "  <thead>\n",
       "    <tr style=\"text-align: right;\">\n",
       "      <th></th>\n",
       "      <th>State</th>\n",
       "      <th>Number of CoCs</th>\n",
       "      <th>Overall Homeless, 2018</th>\n",
       "      <th>Overall Homeless - Under 18, 2018</th>\n",
       "      <th>Overall Homeless - Age 18 to 24, 2018</th>\n",
       "      <th>Overall Homeless - Over 24, 2018</th>\n",
       "      <th>Overall Homeless - Female, 2018</th>\n",
       "      <th>Overall Homeless - Male, 2018</th>\n",
       "      <th>Overall Homeless - Transgender, 2018</th>\n",
       "      <th>Overall Homeless - Gender Non-Conforming, 2018</th>\n",
       "      <th>...</th>\n",
       "      <th>Overall Homeless Parenting Youth Age 18-24, 2018</th>\n",
       "      <th>Sheltered ES Homeless Parenting Youth Age 18-24, 2018</th>\n",
       "      <th>Sheltered TH Homeless Parenting Youth Age 18-24, 2018</th>\n",
       "      <th>Sheltered Total Homeless Parenting Youth Age 18-24, 2018</th>\n",
       "      <th>Unsheltered Homeless Parenting Youth Age 18-24, 2018</th>\n",
       "      <th>Overall Homeless Children of Parenting Youth, 2018</th>\n",
       "      <th>Sheltered ES Homeless Children of Parenting Youth, 2018</th>\n",
       "      <th>Sheltered TH Homeless Children of Parenting Youth, 2018</th>\n",
       "      <th>Sheltered Total Homeless Children of Parenting Youth, 2018</th>\n",
       "      <th>Unsheltered Homeless Children of Parenting Youth, 2018</th>\n",
       "    </tr>\n",
       "  </thead>\n",
       "  <tbody>\n",
       "    <tr>\n",
       "      <th>0</th>\n",
       "      <td>AK</td>\n",
       "      <td>2.0</td>\n",
       "      <td>2,016</td>\n",
       "      <td>349</td>\n",
       "      <td>191</td>\n",
       "      <td>1,476</td>\n",
       "      <td>880</td>\n",
       "      <td>1,129</td>\n",
       "      <td>7</td>\n",
       "      <td>0</td>\n",
       "      <td>...</td>\n",
       "      <td>25</td>\n",
       "      <td>14</td>\n",
       "      <td>9</td>\n",
       "      <td>23</td>\n",
       "      <td>2</td>\n",
       "      <td>26</td>\n",
       "      <td>14</td>\n",
       "      <td>10</td>\n",
       "      <td>24</td>\n",
       "      <td>2</td>\n",
       "    </tr>\n",
       "    <tr>\n",
       "      <th>1</th>\n",
       "      <td>AL</td>\n",
       "      <td>8.0</td>\n",
       "      <td>3,434</td>\n",
       "      <td>573</td>\n",
       "      <td>157</td>\n",
       "      <td>2,704</td>\n",
       "      <td>1,399</td>\n",
       "      <td>2,025</td>\n",
       "      <td>9</td>\n",
       "      <td>1</td>\n",
       "      <td>...</td>\n",
       "      <td>27</td>\n",
       "      <td>11</td>\n",
       "      <td>8</td>\n",
       "      <td>19</td>\n",
       "      <td>8</td>\n",
       "      <td>36</td>\n",
       "      <td>16</td>\n",
       "      <td>13</td>\n",
       "      <td>29</td>\n",
       "      <td>7</td>\n",
       "    </tr>\n",
       "    <tr>\n",
       "      <th>2</th>\n",
       "      <td>AR</td>\n",
       "      <td>7.0</td>\n",
       "      <td>2,712</td>\n",
       "      <td>309</td>\n",
       "      <td>213</td>\n",
       "      <td>2,190</td>\n",
       "      <td>1,113</td>\n",
       "      <td>1,593</td>\n",
       "      <td>5</td>\n",
       "      <td>1</td>\n",
       "      <td>...</td>\n",
       "      <td>8</td>\n",
       "      <td>5</td>\n",
       "      <td>2</td>\n",
       "      <td>7</td>\n",
       "      <td>1</td>\n",
       "      <td>11</td>\n",
       "      <td>7</td>\n",
       "      <td>2</td>\n",
       "      <td>9</td>\n",
       "      <td>2</td>\n",
       "    </tr>\n",
       "    <tr>\n",
       "      <th>3</th>\n",
       "      <td>AS</td>\n",
       "      <td>0.0</td>\n",
       "      <td></td>\n",
       "      <td></td>\n",
       "      <td></td>\n",
       "      <td></td>\n",
       "      <td></td>\n",
       "      <td></td>\n",
       "      <td></td>\n",
       "      <td></td>\n",
       "      <td>...</td>\n",
       "      <td></td>\n",
       "      <td></td>\n",
       "      <td></td>\n",
       "      <td></td>\n",
       "      <td></td>\n",
       "      <td></td>\n",
       "      <td></td>\n",
       "      <td></td>\n",
       "      <td></td>\n",
       "      <td></td>\n",
       "    </tr>\n",
       "    <tr>\n",
       "      <th>4</th>\n",
       "      <td>AZ</td>\n",
       "      <td>3.0</td>\n",
       "      <td>9,865</td>\n",
       "      <td>1,680</td>\n",
       "      <td>780</td>\n",
       "      <td>7,405</td>\n",
       "      <td>3,460</td>\n",
       "      <td>6,354</td>\n",
       "      <td>34</td>\n",
       "      <td>17</td>\n",
       "      <td>...</td>\n",
       "      <td>63</td>\n",
       "      <td>19</td>\n",
       "      <td>35</td>\n",
       "      <td>54</td>\n",
       "      <td>9</td>\n",
       "      <td>81</td>\n",
       "      <td>28</td>\n",
       "      <td>45</td>\n",
       "      <td>73</td>\n",
       "      <td>8</td>\n",
       "    </tr>\n",
       "  </tbody>\n",
       "</table>\n",
       "<p>5 rows × 541 columns</p>\n",
       "</div>"
      ]
     },
     "metadata": {},
     "execution_count": 8
    }
   ],
   "metadata": {}
  },
  {
   "cell_type": "code",
   "execution_count": 9,
   "source": [
    "PIT_2018 = dataframes[4]\n",
    "PIT_2018.head()"
   ],
   "outputs": [
    {
     "output_type": "execute_result",
     "data": {
      "text/plain": [
       "   Unnamed: 0       AL      AK       AZ       AR        CA       CO       CT  \\\n",
       "0        2010  4785437  713910  6407172  2921964  37319502  5047349  3579114   \n",
       "1        2011  4799069  722128  6472643  2940667  37638369  5121108  3588283   \n",
       "2        2012  4815588  730443  6554978  2952164  37948800  5192647  3594547   \n",
       "3        2013  4830081  737068  6632764  2959400  38260787  5269035  3594841   \n",
       "4        2014  4841799  736283  6730413  2967392  38596972  5350101  3594524   \n",
       "\n",
       "       DE        FL  ...      SD       TN        TX       UT      VT       VA  \\\n",
       "0  899593  18845537  ...  816166  6355311  25241971  2775332  625879  8023699   \n",
       "1  907381  19053237  ...  823579  6399291  25645629  2814384  627049  8101155   \n",
       "2  915179  19297822  ...  833566  6453898  26084481  2853375  626090  8185080   \n",
       "3  923576  19545621  ...  842316  6494340  26480266  2897640  626210  8252427   \n",
       "4  932487  19845911  ...  849129  6541223  26964333  2936879  625214  8310993   \n",
       "\n",
       "        WA       WV       WI      WY  \n",
       "0  6742830  1854239  5690475  564487  \n",
       "1  6826627  1856301  5705288  567299  \n",
       "2  6897058  1856872  5719960  576305  \n",
       "3  6963985  1853914  5736754  582122  \n",
       "4  7054655  1849489  5751525  582531  \n",
       "\n",
       "[5 rows x 51 columns]"
      ],
      "text/html": [
       "<div>\n",
       "<style scoped>\n",
       "    .dataframe tbody tr th:only-of-type {\n",
       "        vertical-align: middle;\n",
       "    }\n",
       "\n",
       "    .dataframe tbody tr th {\n",
       "        vertical-align: top;\n",
       "    }\n",
       "\n",
       "    .dataframe thead th {\n",
       "        text-align: right;\n",
       "    }\n",
       "</style>\n",
       "<table border=\"1\" class=\"dataframe\">\n",
       "  <thead>\n",
       "    <tr style=\"text-align: right;\">\n",
       "      <th></th>\n",
       "      <th>Unnamed: 0</th>\n",
       "      <th>AL</th>\n",
       "      <th>AK</th>\n",
       "      <th>AZ</th>\n",
       "      <th>AR</th>\n",
       "      <th>CA</th>\n",
       "      <th>CO</th>\n",
       "      <th>CT</th>\n",
       "      <th>DE</th>\n",
       "      <th>FL</th>\n",
       "      <th>...</th>\n",
       "      <th>SD</th>\n",
       "      <th>TN</th>\n",
       "      <th>TX</th>\n",
       "      <th>UT</th>\n",
       "      <th>VT</th>\n",
       "      <th>VA</th>\n",
       "      <th>WA</th>\n",
       "      <th>WV</th>\n",
       "      <th>WI</th>\n",
       "      <th>WY</th>\n",
       "    </tr>\n",
       "  </thead>\n",
       "  <tbody>\n",
       "    <tr>\n",
       "      <th>0</th>\n",
       "      <td>2010</td>\n",
       "      <td>4785437</td>\n",
       "      <td>713910</td>\n",
       "      <td>6407172</td>\n",
       "      <td>2921964</td>\n",
       "      <td>37319502</td>\n",
       "      <td>5047349</td>\n",
       "      <td>3579114</td>\n",
       "      <td>899593</td>\n",
       "      <td>18845537</td>\n",
       "      <td>...</td>\n",
       "      <td>816166</td>\n",
       "      <td>6355311</td>\n",
       "      <td>25241971</td>\n",
       "      <td>2775332</td>\n",
       "      <td>625879</td>\n",
       "      <td>8023699</td>\n",
       "      <td>6742830</td>\n",
       "      <td>1854239</td>\n",
       "      <td>5690475</td>\n",
       "      <td>564487</td>\n",
       "    </tr>\n",
       "    <tr>\n",
       "      <th>1</th>\n",
       "      <td>2011</td>\n",
       "      <td>4799069</td>\n",
       "      <td>722128</td>\n",
       "      <td>6472643</td>\n",
       "      <td>2940667</td>\n",
       "      <td>37638369</td>\n",
       "      <td>5121108</td>\n",
       "      <td>3588283</td>\n",
       "      <td>907381</td>\n",
       "      <td>19053237</td>\n",
       "      <td>...</td>\n",
       "      <td>823579</td>\n",
       "      <td>6399291</td>\n",
       "      <td>25645629</td>\n",
       "      <td>2814384</td>\n",
       "      <td>627049</td>\n",
       "      <td>8101155</td>\n",
       "      <td>6826627</td>\n",
       "      <td>1856301</td>\n",
       "      <td>5705288</td>\n",
       "      <td>567299</td>\n",
       "    </tr>\n",
       "    <tr>\n",
       "      <th>2</th>\n",
       "      <td>2012</td>\n",
       "      <td>4815588</td>\n",
       "      <td>730443</td>\n",
       "      <td>6554978</td>\n",
       "      <td>2952164</td>\n",
       "      <td>37948800</td>\n",
       "      <td>5192647</td>\n",
       "      <td>3594547</td>\n",
       "      <td>915179</td>\n",
       "      <td>19297822</td>\n",
       "      <td>...</td>\n",
       "      <td>833566</td>\n",
       "      <td>6453898</td>\n",
       "      <td>26084481</td>\n",
       "      <td>2853375</td>\n",
       "      <td>626090</td>\n",
       "      <td>8185080</td>\n",
       "      <td>6897058</td>\n",
       "      <td>1856872</td>\n",
       "      <td>5719960</td>\n",
       "      <td>576305</td>\n",
       "    </tr>\n",
       "    <tr>\n",
       "      <th>3</th>\n",
       "      <td>2013</td>\n",
       "      <td>4830081</td>\n",
       "      <td>737068</td>\n",
       "      <td>6632764</td>\n",
       "      <td>2959400</td>\n",
       "      <td>38260787</td>\n",
       "      <td>5269035</td>\n",
       "      <td>3594841</td>\n",
       "      <td>923576</td>\n",
       "      <td>19545621</td>\n",
       "      <td>...</td>\n",
       "      <td>842316</td>\n",
       "      <td>6494340</td>\n",
       "      <td>26480266</td>\n",
       "      <td>2897640</td>\n",
       "      <td>626210</td>\n",
       "      <td>8252427</td>\n",
       "      <td>6963985</td>\n",
       "      <td>1853914</td>\n",
       "      <td>5736754</td>\n",
       "      <td>582122</td>\n",
       "    </tr>\n",
       "    <tr>\n",
       "      <th>4</th>\n",
       "      <td>2014</td>\n",
       "      <td>4841799</td>\n",
       "      <td>736283</td>\n",
       "      <td>6730413</td>\n",
       "      <td>2967392</td>\n",
       "      <td>38596972</td>\n",
       "      <td>5350101</td>\n",
       "      <td>3594524</td>\n",
       "      <td>932487</td>\n",
       "      <td>19845911</td>\n",
       "      <td>...</td>\n",
       "      <td>849129</td>\n",
       "      <td>6541223</td>\n",
       "      <td>26964333</td>\n",
       "      <td>2936879</td>\n",
       "      <td>625214</td>\n",
       "      <td>8310993</td>\n",
       "      <td>7054655</td>\n",
       "      <td>1849489</td>\n",
       "      <td>5751525</td>\n",
       "      <td>582531</td>\n",
       "    </tr>\n",
       "  </tbody>\n",
       "</table>\n",
       "<p>5 rows × 51 columns</p>\n",
       "</div>"
      ]
     },
     "metadata": {},
     "execution_count": 9
    }
   ],
   "metadata": {}
  },
  {
   "cell_type": "code",
   "execution_count": 10,
   "source": [
    "pop_frame = dataframes[5]\n",
    "pop_frame.rename(columns={\"Unnamed: 0\": \"year\"}, inplace=True)\n",
    "pop_frame.head()"
   ],
   "outputs": [
    {
     "output_type": "execute_result",
     "data": {
      "text/plain": [
       "  State Change in Total Homelessness, 2019-2020  \\\n",
       "0    AK                                    2.2%   \n",
       "1    AL                                    2.8%   \n",
       "2    AR                                  -12.9%   \n",
       "3    AS                                           \n",
       "4    AZ                                    9.7%   \n",
       "\n",
       "  Change in Total Homelessness, 2018-2020  \\\n",
       "0                                   -3.3%   \n",
       "1                                   -2.4%   \n",
       "2                                  -12.8%   \n",
       "3                                           \n",
       "4                                   11.3%   \n",
       "\n",
       "  Change in Total Homelessness, 2017-2020  \\\n",
       "0                                    5.6%   \n",
       "1                                  -11.7%   \n",
       "2                                   -4.1%   \n",
       "3                                           \n",
       "4                                   22.7%   \n",
       "\n",
       "  Change in Total Homelessness, 2016-2020  \\\n",
       "0                                    0.5%   \n",
       "1                                  -18.5%   \n",
       "2                                   -3.9%   \n",
       "3                                           \n",
       "4                                   13.1%   \n",
       "\n",
       "  Change in Total Homelessness, 2015-2020  \\\n",
       "0                                   -0.4%   \n",
       "1                                  -15.6%   \n",
       "2                                   -7.6%   \n",
       "3                                           \n",
       "4                                   10.9%   \n",
       "\n",
       "  Change in Total Homelessness, 2014-2020  \\\n",
       "0                                    9.2%   \n",
       "1                                  -26.5%   \n",
       "2                                  -19.4%   \n",
       "3                                           \n",
       "4                                    4.6%   \n",
       "\n",
       "  Change in Total Homelessness, 2013-2020  \\\n",
       "0                                    0.2%   \n",
       "1                                  -28.5%   \n",
       "2                                  -37.9%   \n",
       "3                                           \n",
       "4                                    3.9%   \n",
       "\n",
       "  Change in Total Homelessness, 2012-2020  \\\n",
       "0                                    1.9%   \n",
       "1                                  -35.7%   \n",
       "2                                  -43.9%   \n",
       "3                                           \n",
       "4                                   -2.9%   \n",
       "\n",
       "  Change in Total Homelessness, 2011-2020  \\\n",
       "0                                   -8.4%   \n",
       "1                                  -39.7%   \n",
       "2                                  -30.9%   \n",
       "3                                           \n",
       "4                                    4.5%   \n",
       "\n",
       "  Change in Total Homelessness, 2010-2020  \\\n",
       "0                                    4.6%   \n",
       "1                                  -44.6%   \n",
       "2                                  -14.3%   \n",
       "3                                           \n",
       "4                                  -19.9%   \n",
       "\n",
       "  Change in Total Homelessness, 2009-2020  \\\n",
       "0                                   -2.2%   \n",
       "1                                  -44.9%   \n",
       "2                                  -17.0%   \n",
       "3                                           \n",
       "4                                  -25.4%   \n",
       "\n",
       "  Change in Total Homelessness, 2008-2020  \\\n",
       "0                                   18.4%   \n",
       "1                                  -37.8%   \n",
       "2                                  -27.3%   \n",
       "3                                           \n",
       "4                                  -12.1%   \n",
       "\n",
       "  Change in Total Homelessness, 2007-2020  \n",
       "0                                   18.7%  \n",
       "1                                  -38.5%  \n",
       "2                                  -38.3%  \n",
       "3                                          \n",
       "4                                  -25.0%  "
      ],
      "text/html": [
       "<div>\n",
       "<style scoped>\n",
       "    .dataframe tbody tr th:only-of-type {\n",
       "        vertical-align: middle;\n",
       "    }\n",
       "\n",
       "    .dataframe tbody tr th {\n",
       "        vertical-align: top;\n",
       "    }\n",
       "\n",
       "    .dataframe thead th {\n",
       "        text-align: right;\n",
       "    }\n",
       "</style>\n",
       "<table border=\"1\" class=\"dataframe\">\n",
       "  <thead>\n",
       "    <tr style=\"text-align: right;\">\n",
       "      <th></th>\n",
       "      <th>State</th>\n",
       "      <th>Change in Total Homelessness, 2019-2020</th>\n",
       "      <th>Change in Total Homelessness, 2018-2020</th>\n",
       "      <th>Change in Total Homelessness, 2017-2020</th>\n",
       "      <th>Change in Total Homelessness, 2016-2020</th>\n",
       "      <th>Change in Total Homelessness, 2015-2020</th>\n",
       "      <th>Change in Total Homelessness, 2014-2020</th>\n",
       "      <th>Change in Total Homelessness, 2013-2020</th>\n",
       "      <th>Change in Total Homelessness, 2012-2020</th>\n",
       "      <th>Change in Total Homelessness, 2011-2020</th>\n",
       "      <th>Change in Total Homelessness, 2010-2020</th>\n",
       "      <th>Change in Total Homelessness, 2009-2020</th>\n",
       "      <th>Change in Total Homelessness, 2008-2020</th>\n",
       "      <th>Change in Total Homelessness, 2007-2020</th>\n",
       "    </tr>\n",
       "  </thead>\n",
       "  <tbody>\n",
       "    <tr>\n",
       "      <th>0</th>\n",
       "      <td>AK</td>\n",
       "      <td>2.2%</td>\n",
       "      <td>-3.3%</td>\n",
       "      <td>5.6%</td>\n",
       "      <td>0.5%</td>\n",
       "      <td>-0.4%</td>\n",
       "      <td>9.2%</td>\n",
       "      <td>0.2%</td>\n",
       "      <td>1.9%</td>\n",
       "      <td>-8.4%</td>\n",
       "      <td>4.6%</td>\n",
       "      <td>-2.2%</td>\n",
       "      <td>18.4%</td>\n",
       "      <td>18.7%</td>\n",
       "    </tr>\n",
       "    <tr>\n",
       "      <th>1</th>\n",
       "      <td>AL</td>\n",
       "      <td>2.8%</td>\n",
       "      <td>-2.4%</td>\n",
       "      <td>-11.7%</td>\n",
       "      <td>-18.5%</td>\n",
       "      <td>-15.6%</td>\n",
       "      <td>-26.5%</td>\n",
       "      <td>-28.5%</td>\n",
       "      <td>-35.7%</td>\n",
       "      <td>-39.7%</td>\n",
       "      <td>-44.6%</td>\n",
       "      <td>-44.9%</td>\n",
       "      <td>-37.8%</td>\n",
       "      <td>-38.5%</td>\n",
       "    </tr>\n",
       "    <tr>\n",
       "      <th>2</th>\n",
       "      <td>AR</td>\n",
       "      <td>-12.9%</td>\n",
       "      <td>-12.8%</td>\n",
       "      <td>-4.1%</td>\n",
       "      <td>-3.9%</td>\n",
       "      <td>-7.6%</td>\n",
       "      <td>-19.4%</td>\n",
       "      <td>-37.9%</td>\n",
       "      <td>-43.9%</td>\n",
       "      <td>-30.9%</td>\n",
       "      <td>-14.3%</td>\n",
       "      <td>-17.0%</td>\n",
       "      <td>-27.3%</td>\n",
       "      <td>-38.3%</td>\n",
       "    </tr>\n",
       "    <tr>\n",
       "      <th>3</th>\n",
       "      <td>AS</td>\n",
       "      <td></td>\n",
       "      <td></td>\n",
       "      <td></td>\n",
       "      <td></td>\n",
       "      <td></td>\n",
       "      <td></td>\n",
       "      <td></td>\n",
       "      <td></td>\n",
       "      <td></td>\n",
       "      <td></td>\n",
       "      <td></td>\n",
       "      <td></td>\n",
       "      <td></td>\n",
       "    </tr>\n",
       "    <tr>\n",
       "      <th>4</th>\n",
       "      <td>AZ</td>\n",
       "      <td>9.7%</td>\n",
       "      <td>11.3%</td>\n",
       "      <td>22.7%</td>\n",
       "      <td>13.1%</td>\n",
       "      <td>10.9%</td>\n",
       "      <td>4.6%</td>\n",
       "      <td>3.9%</td>\n",
       "      <td>-2.9%</td>\n",
       "      <td>4.5%</td>\n",
       "      <td>-19.9%</td>\n",
       "      <td>-25.4%</td>\n",
       "      <td>-12.1%</td>\n",
       "      <td>-25.0%</td>\n",
       "    </tr>\n",
       "  </tbody>\n",
       "</table>\n",
       "</div>"
      ]
     },
     "metadata": {},
     "execution_count": 10
    }
   ],
   "metadata": {}
  },
  {
   "cell_type": "code",
   "execution_count": 11,
   "source": [
    "change_frame = dataframes[6]\n",
    "change_frame.head()"
   ],
   "outputs": [
    {
     "output_type": "execute_result",
     "data": {
      "text/plain": [
       "  State  Number of CoCs Overall Homeless, 2017  \\\n",
       "0    AK             2.0                  1,845   \n",
       "1    AL             8.0                  3,793   \n",
       "2    AR             6.0                  2,467   \n",
       "3    AS             0.0                          \n",
       "4    AZ             3.0                  8,947   \n",
       "\n",
       "  Overall Homeless - Under 18, 2017 Overall Homeless - Age 18 to 24, 2017  \\\n",
       "0                               305                                   186   \n",
       "1                               528                                   300   \n",
       "2                               265                                   209   \n",
       "3                                                                           \n",
       "4                             1,607                                   660   \n",
       "\n",
       "  Overall Homeless - Over 24, 2017 Overall Homeless - Female, 2017  \\\n",
       "0                            1,354                             765   \n",
       "1                            2,965                           1,314   \n",
       "2                            1,993                             965   \n",
       "3                                                                    \n",
       "4                            6,680                           3,331   \n",
       "\n",
       "  Overall Homeless - Male, 2017 Overall Homeless - Transgender, 2017  \\\n",
       "0                         1,075                                    4   \n",
       "1                         2,453                                   21   \n",
       "2                         1,499                                    3   \n",
       "3                                                                      \n",
       "4                         5,592                                   22   \n",
       "\n",
       "  Overall Homeless - Gender Non-Conforming, 2017  ...  \\\n",
       "0                                              1  ...   \n",
       "1                                              5  ...   \n",
       "2                                              0  ...   \n",
       "3                                                 ...   \n",
       "4                                              2  ...   \n",
       "\n",
       "  Overall Homeless Parenting Youth Age 18-24, 2017  \\\n",
       "0                                               22   \n",
       "1                                               23   \n",
       "2                                               10   \n",
       "3                                                    \n",
       "4                                               81   \n",
       "\n",
       "  Sheltered ES Homeless Parenting Youth Age 18-24, 2017  \\\n",
       "0                                                 10      \n",
       "1                                                  6      \n",
       "2                                                  8      \n",
       "3                                                         \n",
       "4                                                 37      \n",
       "\n",
       "  Sheltered TH Homeless Parenting Youth Age 18-24, 2017  \\\n",
       "0                                                 12      \n",
       "1                                                 14      \n",
       "2                                                  2      \n",
       "3                                                         \n",
       "4                                                 44      \n",
       "\n",
       "  Sheltered Total Homeless Parenting Youth Age 18-24, 2017  \\\n",
       "0                                                 22         \n",
       "1                                                 20         \n",
       "2                                                 10         \n",
       "3                                                            \n",
       "4                                                 81         \n",
       "\n",
       "  Unsheltered Homeless Parenting Youth Age 18-24, 2017  \\\n",
       "0                                                  0     \n",
       "1                                                  3     \n",
       "2                                                  0     \n",
       "3                                                        \n",
       "4                                                  0     \n",
       "\n",
       "  Overall Homeless Children of Parenting Youth, 2017  \\\n",
       "0                                                 39   \n",
       "1                                                 39   \n",
       "2                                                 13   \n",
       "3                                                      \n",
       "4                                                112   \n",
       "\n",
       "  Sheltered ES Homeless Children of Parenting Youth, 2017  \\\n",
       "0                                                 20        \n",
       "1                                                 11        \n",
       "2                                                 11        \n",
       "3                                                           \n",
       "4                                                 55        \n",
       "\n",
       "  Sheltered TH Homeless Children of Parenting Youth, 2017  \\\n",
       "0                                                 19        \n",
       "1                                                 24        \n",
       "2                                                  2        \n",
       "3                                                           \n",
       "4                                                 57        \n",
       "\n",
       "  Sheltered Total Homeless Children of Parenting Youth, 2017  \\\n",
       "0                                                 39           \n",
       "1                                                 35           \n",
       "2                                                 13           \n",
       "3                                                              \n",
       "4                                                112           \n",
       "\n",
       "  Unsheltered Homeless Children of Parenting Youth, 2017  \n",
       "0                                                  0      \n",
       "1                                                  4      \n",
       "2                                                  0      \n",
       "3                                                         \n",
       "4                                                  0      \n",
       "\n",
       "[5 rows x 541 columns]"
      ],
      "text/html": [
       "<div>\n",
       "<style scoped>\n",
       "    .dataframe tbody tr th:only-of-type {\n",
       "        vertical-align: middle;\n",
       "    }\n",
       "\n",
       "    .dataframe tbody tr th {\n",
       "        vertical-align: top;\n",
       "    }\n",
       "\n",
       "    .dataframe thead th {\n",
       "        text-align: right;\n",
       "    }\n",
       "</style>\n",
       "<table border=\"1\" class=\"dataframe\">\n",
       "  <thead>\n",
       "    <tr style=\"text-align: right;\">\n",
       "      <th></th>\n",
       "      <th>State</th>\n",
       "      <th>Number of CoCs</th>\n",
       "      <th>Overall Homeless, 2017</th>\n",
       "      <th>Overall Homeless - Under 18, 2017</th>\n",
       "      <th>Overall Homeless - Age 18 to 24, 2017</th>\n",
       "      <th>Overall Homeless - Over 24, 2017</th>\n",
       "      <th>Overall Homeless - Female, 2017</th>\n",
       "      <th>Overall Homeless - Male, 2017</th>\n",
       "      <th>Overall Homeless - Transgender, 2017</th>\n",
       "      <th>Overall Homeless - Gender Non-Conforming, 2017</th>\n",
       "      <th>...</th>\n",
       "      <th>Overall Homeless Parenting Youth Age 18-24, 2017</th>\n",
       "      <th>Sheltered ES Homeless Parenting Youth Age 18-24, 2017</th>\n",
       "      <th>Sheltered TH Homeless Parenting Youth Age 18-24, 2017</th>\n",
       "      <th>Sheltered Total Homeless Parenting Youth Age 18-24, 2017</th>\n",
       "      <th>Unsheltered Homeless Parenting Youth Age 18-24, 2017</th>\n",
       "      <th>Overall Homeless Children of Parenting Youth, 2017</th>\n",
       "      <th>Sheltered ES Homeless Children of Parenting Youth, 2017</th>\n",
       "      <th>Sheltered TH Homeless Children of Parenting Youth, 2017</th>\n",
       "      <th>Sheltered Total Homeless Children of Parenting Youth, 2017</th>\n",
       "      <th>Unsheltered Homeless Children of Parenting Youth, 2017</th>\n",
       "    </tr>\n",
       "  </thead>\n",
       "  <tbody>\n",
       "    <tr>\n",
       "      <th>0</th>\n",
       "      <td>AK</td>\n",
       "      <td>2.0</td>\n",
       "      <td>1,845</td>\n",
       "      <td>305</td>\n",
       "      <td>186</td>\n",
       "      <td>1,354</td>\n",
       "      <td>765</td>\n",
       "      <td>1,075</td>\n",
       "      <td>4</td>\n",
       "      <td>1</td>\n",
       "      <td>...</td>\n",
       "      <td>22</td>\n",
       "      <td>10</td>\n",
       "      <td>12</td>\n",
       "      <td>22</td>\n",
       "      <td>0</td>\n",
       "      <td>39</td>\n",
       "      <td>20</td>\n",
       "      <td>19</td>\n",
       "      <td>39</td>\n",
       "      <td>0</td>\n",
       "    </tr>\n",
       "    <tr>\n",
       "      <th>1</th>\n",
       "      <td>AL</td>\n",
       "      <td>8.0</td>\n",
       "      <td>3,793</td>\n",
       "      <td>528</td>\n",
       "      <td>300</td>\n",
       "      <td>2,965</td>\n",
       "      <td>1,314</td>\n",
       "      <td>2,453</td>\n",
       "      <td>21</td>\n",
       "      <td>5</td>\n",
       "      <td>...</td>\n",
       "      <td>23</td>\n",
       "      <td>6</td>\n",
       "      <td>14</td>\n",
       "      <td>20</td>\n",
       "      <td>3</td>\n",
       "      <td>39</td>\n",
       "      <td>11</td>\n",
       "      <td>24</td>\n",
       "      <td>35</td>\n",
       "      <td>4</td>\n",
       "    </tr>\n",
       "    <tr>\n",
       "      <th>2</th>\n",
       "      <td>AR</td>\n",
       "      <td>6.0</td>\n",
       "      <td>2,467</td>\n",
       "      <td>265</td>\n",
       "      <td>209</td>\n",
       "      <td>1,993</td>\n",
       "      <td>965</td>\n",
       "      <td>1,499</td>\n",
       "      <td>3</td>\n",
       "      <td>0</td>\n",
       "      <td>...</td>\n",
       "      <td>10</td>\n",
       "      <td>8</td>\n",
       "      <td>2</td>\n",
       "      <td>10</td>\n",
       "      <td>0</td>\n",
       "      <td>13</td>\n",
       "      <td>11</td>\n",
       "      <td>2</td>\n",
       "      <td>13</td>\n",
       "      <td>0</td>\n",
       "    </tr>\n",
       "    <tr>\n",
       "      <th>3</th>\n",
       "      <td>AS</td>\n",
       "      <td>0.0</td>\n",
       "      <td></td>\n",
       "      <td></td>\n",
       "      <td></td>\n",
       "      <td></td>\n",
       "      <td></td>\n",
       "      <td></td>\n",
       "      <td></td>\n",
       "      <td></td>\n",
       "      <td>...</td>\n",
       "      <td></td>\n",
       "      <td></td>\n",
       "      <td></td>\n",
       "      <td></td>\n",
       "      <td></td>\n",
       "      <td></td>\n",
       "      <td></td>\n",
       "      <td></td>\n",
       "      <td></td>\n",
       "      <td></td>\n",
       "    </tr>\n",
       "    <tr>\n",
       "      <th>4</th>\n",
       "      <td>AZ</td>\n",
       "      <td>3.0</td>\n",
       "      <td>8,947</td>\n",
       "      <td>1,607</td>\n",
       "      <td>660</td>\n",
       "      <td>6,680</td>\n",
       "      <td>3,331</td>\n",
       "      <td>5,592</td>\n",
       "      <td>22</td>\n",
       "      <td>2</td>\n",
       "      <td>...</td>\n",
       "      <td>81</td>\n",
       "      <td>37</td>\n",
       "      <td>44</td>\n",
       "      <td>81</td>\n",
       "      <td>0</td>\n",
       "      <td>112</td>\n",
       "      <td>55</td>\n",
       "      <td>57</td>\n",
       "      <td>112</td>\n",
       "      <td>0</td>\n",
       "    </tr>\n",
       "  </tbody>\n",
       "</table>\n",
       "<p>5 rows × 541 columns</p>\n",
       "</div>"
      ]
     },
     "metadata": {},
     "execution_count": 11
    }
   ],
   "metadata": {}
  },
  {
   "cell_type": "code",
   "execution_count": 12,
   "source": [
    "PIT_2017 = dataframes[7]\n",
    "PIT_2017.head()"
   ],
   "outputs": [
    {
     "output_type": "execute_result",
     "data": {
      "text/plain": [
       "   year    AK    AL    AR    AZ     CA    CO    CT    DE     FL  ...    SD  \\\n",
       "0  2008  1697  4337  1847  9803  52016  6522  3958  1250  22036  ...  1379   \n",
       "1  2009  1697  4065  1802  9066  52397  6363  4043  1197  22376  ...  1379   \n",
       "2  2010  1805  4221  2700  8914  50282  6420  3921  1233  23362  ...  1379   \n",
       "3  2011  1939  4497  2710  8748  49657  6361  3906  1216  23974  ...  1319   \n",
       "4  2012  1877  4297  2662  9238  47144  6536  3539  1239  23272  ...  1444   \n",
       "\n",
       "     TN     TX    UT    VA   VT     WA    WI    WV   WY  \n",
       "0  6259  20666  3306  7671  931  17279  6305  2060  710  \n",
       "1  5725  22449  3215  7947  791  17927  5989  1853  739  \n",
       "2  6202  22393  2922  7949  786  18071  6008  2002  904  \n",
       "3  6746  24323  2954  7690  805  16669  6692  1878  753  \n",
       "4  6492  22880  3020  7514  981  16966  6384  1874  817  \n",
       "\n",
       "[5 rows x 51 columns]"
      ],
      "text/html": [
       "<div>\n",
       "<style scoped>\n",
       "    .dataframe tbody tr th:only-of-type {\n",
       "        vertical-align: middle;\n",
       "    }\n",
       "\n",
       "    .dataframe tbody tr th {\n",
       "        vertical-align: top;\n",
       "    }\n",
       "\n",
       "    .dataframe thead th {\n",
       "        text-align: right;\n",
       "    }\n",
       "</style>\n",
       "<table border=\"1\" class=\"dataframe\">\n",
       "  <thead>\n",
       "    <tr style=\"text-align: right;\">\n",
       "      <th></th>\n",
       "      <th>year</th>\n",
       "      <th>AK</th>\n",
       "      <th>AL</th>\n",
       "      <th>AR</th>\n",
       "      <th>AZ</th>\n",
       "      <th>CA</th>\n",
       "      <th>CO</th>\n",
       "      <th>CT</th>\n",
       "      <th>DE</th>\n",
       "      <th>FL</th>\n",
       "      <th>...</th>\n",
       "      <th>SD</th>\n",
       "      <th>TN</th>\n",
       "      <th>TX</th>\n",
       "      <th>UT</th>\n",
       "      <th>VA</th>\n",
       "      <th>VT</th>\n",
       "      <th>WA</th>\n",
       "      <th>WI</th>\n",
       "      <th>WV</th>\n",
       "      <th>WY</th>\n",
       "    </tr>\n",
       "  </thead>\n",
       "  <tbody>\n",
       "    <tr>\n",
       "      <th>0</th>\n",
       "      <td>2008</td>\n",
       "      <td>1697</td>\n",
       "      <td>4337</td>\n",
       "      <td>1847</td>\n",
       "      <td>9803</td>\n",
       "      <td>52016</td>\n",
       "      <td>6522</td>\n",
       "      <td>3958</td>\n",
       "      <td>1250</td>\n",
       "      <td>22036</td>\n",
       "      <td>...</td>\n",
       "      <td>1379</td>\n",
       "      <td>6259</td>\n",
       "      <td>20666</td>\n",
       "      <td>3306</td>\n",
       "      <td>7671</td>\n",
       "      <td>931</td>\n",
       "      <td>17279</td>\n",
       "      <td>6305</td>\n",
       "      <td>2060</td>\n",
       "      <td>710</td>\n",
       "    </tr>\n",
       "    <tr>\n",
       "      <th>1</th>\n",
       "      <td>2009</td>\n",
       "      <td>1697</td>\n",
       "      <td>4065</td>\n",
       "      <td>1802</td>\n",
       "      <td>9066</td>\n",
       "      <td>52397</td>\n",
       "      <td>6363</td>\n",
       "      <td>4043</td>\n",
       "      <td>1197</td>\n",
       "      <td>22376</td>\n",
       "      <td>...</td>\n",
       "      <td>1379</td>\n",
       "      <td>5725</td>\n",
       "      <td>22449</td>\n",
       "      <td>3215</td>\n",
       "      <td>7947</td>\n",
       "      <td>791</td>\n",
       "      <td>17927</td>\n",
       "      <td>5989</td>\n",
       "      <td>1853</td>\n",
       "      <td>739</td>\n",
       "    </tr>\n",
       "    <tr>\n",
       "      <th>2</th>\n",
       "      <td>2010</td>\n",
       "      <td>1805</td>\n",
       "      <td>4221</td>\n",
       "      <td>2700</td>\n",
       "      <td>8914</td>\n",
       "      <td>50282</td>\n",
       "      <td>6420</td>\n",
       "      <td>3921</td>\n",
       "      <td>1233</td>\n",
       "      <td>23362</td>\n",
       "      <td>...</td>\n",
       "      <td>1379</td>\n",
       "      <td>6202</td>\n",
       "      <td>22393</td>\n",
       "      <td>2922</td>\n",
       "      <td>7949</td>\n",
       "      <td>786</td>\n",
       "      <td>18071</td>\n",
       "      <td>6008</td>\n",
       "      <td>2002</td>\n",
       "      <td>904</td>\n",
       "    </tr>\n",
       "    <tr>\n",
       "      <th>3</th>\n",
       "      <td>2011</td>\n",
       "      <td>1939</td>\n",
       "      <td>4497</td>\n",
       "      <td>2710</td>\n",
       "      <td>8748</td>\n",
       "      <td>49657</td>\n",
       "      <td>6361</td>\n",
       "      <td>3906</td>\n",
       "      <td>1216</td>\n",
       "      <td>23974</td>\n",
       "      <td>...</td>\n",
       "      <td>1319</td>\n",
       "      <td>6746</td>\n",
       "      <td>24323</td>\n",
       "      <td>2954</td>\n",
       "      <td>7690</td>\n",
       "      <td>805</td>\n",
       "      <td>16669</td>\n",
       "      <td>6692</td>\n",
       "      <td>1878</td>\n",
       "      <td>753</td>\n",
       "    </tr>\n",
       "    <tr>\n",
       "      <th>4</th>\n",
       "      <td>2012</td>\n",
       "      <td>1877</td>\n",
       "      <td>4297</td>\n",
       "      <td>2662</td>\n",
       "      <td>9238</td>\n",
       "      <td>47144</td>\n",
       "      <td>6536</td>\n",
       "      <td>3539</td>\n",
       "      <td>1239</td>\n",
       "      <td>23272</td>\n",
       "      <td>...</td>\n",
       "      <td>1444</td>\n",
       "      <td>6492</td>\n",
       "      <td>22880</td>\n",
       "      <td>3020</td>\n",
       "      <td>7514</td>\n",
       "      <td>981</td>\n",
       "      <td>16966</td>\n",
       "      <td>6384</td>\n",
       "      <td>1874</td>\n",
       "      <td>817</td>\n",
       "    </tr>\n",
       "  </tbody>\n",
       "</table>\n",
       "<p>5 rows × 51 columns</p>\n",
       "</div>"
      ]
     },
     "metadata": {},
     "execution_count": 12
    }
   ],
   "metadata": {}
  },
  {
   "cell_type": "code",
   "execution_count": 13,
   "source": [
    "bed_frame = dataframes[8]\n",
    "dataframes[8].head()"
   ],
   "outputs": [
    {
     "output_type": "error",
     "ename": "IndexError",
     "evalue": "list index out of range",
     "traceback": [
      "\u001b[0;31m---------------------------------------------------------------------------\u001b[0m",
      "\u001b[0;31mIndexError\u001b[0m                                Traceback (most recent call last)",
      "\u001b[0;32m<ipython-input-13-bb95fbabc11a>\u001b[0m in \u001b[0;36m<module>\u001b[0;34m\u001b[0m\n\u001b[0;32m----> 1\u001b[0;31m \u001b[0mbed_frame\u001b[0m \u001b[0;34m=\u001b[0m \u001b[0mdataframes\u001b[0m\u001b[0;34m[\u001b[0m\u001b[0;36m8\u001b[0m\u001b[0;34m]\u001b[0m\u001b[0;34m\u001b[0m\u001b[0;34m\u001b[0m\u001b[0m\n\u001b[0m\u001b[1;32m      2\u001b[0m \u001b[0mdataframes\u001b[0m\u001b[0;34m[\u001b[0m\u001b[0;36m8\u001b[0m\u001b[0;34m]\u001b[0m\u001b[0;34m.\u001b[0m\u001b[0mhead\u001b[0m\u001b[0;34m(\u001b[0m\u001b[0;34m)\u001b[0m\u001b[0;34m\u001b[0m\u001b[0;34m\u001b[0m\u001b[0m\n",
      "\u001b[0;31mIndexError\u001b[0m: list index out of range"
     ]
    }
   ],
   "metadata": {}
  },
  {
   "cell_type": "code",
   "execution_count": null,
   "source": [
    "# All data is accessible in dataframe format\n",
    "# PIT 2017-2020\n",
    "# bed_frame, pop_frame, no_home_frame"
   ],
   "outputs": [],
   "metadata": {}
  },
  {
   "cell_type": "code",
   "execution_count": 21,
   "source": [
    "# Create dataframe for state, COCs, and total homelessness\n",
    "PIT_index = [0, 2, 3, 6]\n",
    "PIT_frames = []\n",
    "for num in PIT_index: \n",
    "    temp_frame = dataframes[num][dataframes[num].columns[0:3]]\n",
    "    PIT_frames.append(temp_frame)"
   ],
   "outputs": [],
   "metadata": {}
  },
  {
   "cell_type": "code",
   "execution_count": 23,
   "source": [
    "PIT_frames[0].head()"
   ],
   "outputs": [
    {
     "output_type": "execute_result",
     "data": {
      "text/plain": [
       "  State  Number of CoCs Overall Homeless, 2020\n",
       "0    AK             2.0                  1,949\n",
       "1    AL             8.0                  3,351\n",
       "2    AR             4.0                  2,366\n",
       "3    AS             0.0                       \n",
       "4    AZ             3.0                 10,979"
      ],
      "text/html": [
       "<div>\n",
       "<style scoped>\n",
       "    .dataframe tbody tr th:only-of-type {\n",
       "        vertical-align: middle;\n",
       "    }\n",
       "\n",
       "    .dataframe tbody tr th {\n",
       "        vertical-align: top;\n",
       "    }\n",
       "\n",
       "    .dataframe thead th {\n",
       "        text-align: right;\n",
       "    }\n",
       "</style>\n",
       "<table border=\"1\" class=\"dataframe\">\n",
       "  <thead>\n",
       "    <tr style=\"text-align: right;\">\n",
       "      <th></th>\n",
       "      <th>State</th>\n",
       "      <th>Number of CoCs</th>\n",
       "      <th>Overall Homeless, 2020</th>\n",
       "    </tr>\n",
       "  </thead>\n",
       "  <tbody>\n",
       "    <tr>\n",
       "      <th>0</th>\n",
       "      <td>AK</td>\n",
       "      <td>2.0</td>\n",
       "      <td>1,949</td>\n",
       "    </tr>\n",
       "    <tr>\n",
       "      <th>1</th>\n",
       "      <td>AL</td>\n",
       "      <td>8.0</td>\n",
       "      <td>3,351</td>\n",
       "    </tr>\n",
       "    <tr>\n",
       "      <th>2</th>\n",
       "      <td>AR</td>\n",
       "      <td>4.0</td>\n",
       "      <td>2,366</td>\n",
       "    </tr>\n",
       "    <tr>\n",
       "      <th>3</th>\n",
       "      <td>AS</td>\n",
       "      <td>0.0</td>\n",
       "      <td></td>\n",
       "    </tr>\n",
       "    <tr>\n",
       "      <th>4</th>\n",
       "      <td>AZ</td>\n",
       "      <td>3.0</td>\n",
       "      <td>10,979</td>\n",
       "    </tr>\n",
       "  </tbody>\n",
       "</table>\n",
       "</div>"
      ]
     },
     "metadata": {},
     "execution_count": 23
    }
   ],
   "metadata": {}
  },
  {
   "cell_type": "code",
   "execution_count": 26,
   "source": [
    "PIT_frames[1].head()"
   ],
   "outputs": [
    {
     "output_type": "execute_result",
     "data": {
      "text/plain": [
       "  State  Number of CoCs Overall Homeless, 2019\n",
       "0    AK             2.0                  1,907\n",
       "1    AL             8.0                  3,261\n",
       "2    AR             5.0                  2,717\n",
       "3    AS             0.0                       \n",
       "4    AZ             3.0                 10,007"
      ],
      "text/html": [
       "<div>\n",
       "<style scoped>\n",
       "    .dataframe tbody tr th:only-of-type {\n",
       "        vertical-align: middle;\n",
       "    }\n",
       "\n",
       "    .dataframe tbody tr th {\n",
       "        vertical-align: top;\n",
       "    }\n",
       "\n",
       "    .dataframe thead th {\n",
       "        text-align: right;\n",
       "    }\n",
       "</style>\n",
       "<table border=\"1\" class=\"dataframe\">\n",
       "  <thead>\n",
       "    <tr style=\"text-align: right;\">\n",
       "      <th></th>\n",
       "      <th>State</th>\n",
       "      <th>Number of CoCs</th>\n",
       "      <th>Overall Homeless, 2019</th>\n",
       "    </tr>\n",
       "  </thead>\n",
       "  <tbody>\n",
       "    <tr>\n",
       "      <th>0</th>\n",
       "      <td>AK</td>\n",
       "      <td>2.0</td>\n",
       "      <td>1,907</td>\n",
       "    </tr>\n",
       "    <tr>\n",
       "      <th>1</th>\n",
       "      <td>AL</td>\n",
       "      <td>8.0</td>\n",
       "      <td>3,261</td>\n",
       "    </tr>\n",
       "    <tr>\n",
       "      <th>2</th>\n",
       "      <td>AR</td>\n",
       "      <td>5.0</td>\n",
       "      <td>2,717</td>\n",
       "    </tr>\n",
       "    <tr>\n",
       "      <th>3</th>\n",
       "      <td>AS</td>\n",
       "      <td>0.0</td>\n",
       "      <td></td>\n",
       "    </tr>\n",
       "    <tr>\n",
       "      <th>4</th>\n",
       "      <td>AZ</td>\n",
       "      <td>3.0</td>\n",
       "      <td>10,007</td>\n",
       "    </tr>\n",
       "  </tbody>\n",
       "</table>\n",
       "</div>"
      ]
     },
     "metadata": {},
     "execution_count": 26
    }
   ],
   "metadata": {}
  },
  {
   "cell_type": "code",
   "execution_count": 27,
   "source": [
    "PIT_frames[2].head()"
   ],
   "outputs": [
    {
     "output_type": "execute_result",
     "data": {
      "text/plain": [
       "  State  Number of CoCs Overall Homeless, 2018\n",
       "0    AK             2.0                  2,016\n",
       "1    AL             8.0                  3,434\n",
       "2    AR             7.0                  2,712\n",
       "3    AS             0.0                       \n",
       "4    AZ             3.0                  9,865"
      ],
      "text/html": [
       "<div>\n",
       "<style scoped>\n",
       "    .dataframe tbody tr th:only-of-type {\n",
       "        vertical-align: middle;\n",
       "    }\n",
       "\n",
       "    .dataframe tbody tr th {\n",
       "        vertical-align: top;\n",
       "    }\n",
       "\n",
       "    .dataframe thead th {\n",
       "        text-align: right;\n",
       "    }\n",
       "</style>\n",
       "<table border=\"1\" class=\"dataframe\">\n",
       "  <thead>\n",
       "    <tr style=\"text-align: right;\">\n",
       "      <th></th>\n",
       "      <th>State</th>\n",
       "      <th>Number of CoCs</th>\n",
       "      <th>Overall Homeless, 2018</th>\n",
       "    </tr>\n",
       "  </thead>\n",
       "  <tbody>\n",
       "    <tr>\n",
       "      <th>0</th>\n",
       "      <td>AK</td>\n",
       "      <td>2.0</td>\n",
       "      <td>2,016</td>\n",
       "    </tr>\n",
       "    <tr>\n",
       "      <th>1</th>\n",
       "      <td>AL</td>\n",
       "      <td>8.0</td>\n",
       "      <td>3,434</td>\n",
       "    </tr>\n",
       "    <tr>\n",
       "      <th>2</th>\n",
       "      <td>AR</td>\n",
       "      <td>7.0</td>\n",
       "      <td>2,712</td>\n",
       "    </tr>\n",
       "    <tr>\n",
       "      <th>3</th>\n",
       "      <td>AS</td>\n",
       "      <td>0.0</td>\n",
       "      <td></td>\n",
       "    </tr>\n",
       "    <tr>\n",
       "      <th>4</th>\n",
       "      <td>AZ</td>\n",
       "      <td>3.0</td>\n",
       "      <td>9,865</td>\n",
       "    </tr>\n",
       "  </tbody>\n",
       "</table>\n",
       "</div>"
      ]
     },
     "metadata": {},
     "execution_count": 27
    }
   ],
   "metadata": {}
  },
  {
   "cell_type": "code",
   "execution_count": 33,
   "source": [
    "import pandas as pd\n",
    "\n",
    "import plotly\n",
    "\n",
    "import plotly.graph_objs as go\n",
    "\n",
    "\n",
    "\t\n",
    "import plotly.offline as offline\n",
    "\n",
    "from plotly.graph_objs import *\n",
    "\n",
    "from plotly.offline import download_plotlyjs, init_notebook_mode, plot, iplot\n",
    "\n",
    "\n",
    "\n",
    "\t\n",
    "init_notebook_mode(connected=True)\n",
    "\n",
    "# min year in your dataset\n",
    "year = 2017\n",
    "years = [2017, 2018, 2019, 2020]\n",
    "\n",
    "# your color-scale\n",
    "scl = [[0.0, '#ffffff'],[0.2, '#b4a8ce'],[0.4, '#8573a9'],\n",
    "       [0.6, '#7159a3'],[0.8, '#5732a1'],[1.0, '#2c0579']] # purples\n",
    "\n",
    "data_slider = []\n",
    "df_index = 3\n",
    "for year in years:\n",
    "    df = PIT_frames[df_index]\n",
    "\n",
    "    for col in df.columns:\n",
    "        df[col] = df[col].astype(str)\n",
    "\n",
    "    data_each_yr = dict(\n",
    "                        type='choropleth',\n",
    "                        locations = df['State'],\n",
    "                        z=df['Number of CoCs'].astype(float),\n",
    "                        locationmode='USA-states',\n",
    "                        colorscale = scl,\n",
    "                        colorbar= {'title':'# of CoCs'})\n",
    "\n",
    "    data_slider.append(data_each_yr)\n",
    "    df_index = df_index - 1\n",
    "\n",
    "steps = []\n",
    "for i in range(len(data_slider)):\n",
    "    step = dict(method='restyle',\n",
    "                args=['visible', [False] * len(data_slider)],\n",
    "                label='Year {}'.format(i + 2017))\n",
    "    step['args'][1][i] = True\n",
    "    steps.append(step)\n",
    "\n",
    "sliders = [dict(active=0, pad={\"t\": 1}, steps=steps)]\n",
    "\n",
    "layout = dict(title ='Number of CoCs by State', geo=dict(scope='usa',\n",
    "                       projection={'type': 'albers usa'}),\n",
    "              sliders=sliders)\n",
    "\n",
    "fig = dict(data=data_slider, layout=layout)\n",
    "plotly.offline.iplot(fig)\n",
    "\n",
    "\n",
    "\n",
    "\t\n",
    "# to plot in a separete browser window\n",
    "\n",
    "offline.plot(fig, auto_open=True, image = 'png', image_filename=\"map_us_crime_slider\" ,image_width=2000, image_height=1000, \n",
    "              filename='CoC_map.html', validate=True)\n"
   ],
   "outputs": [
    {
     "output_type": "display_data",
     "data": {
      "text/html": [
       "        <script type=\"text/javascript\">\n",
       "        window.PlotlyConfig = {MathJaxConfig: 'local'};\n",
       "        if (window.MathJax) {MathJax.Hub.Config({SVG: {font: \"STIX-Web\"}});}\n",
       "        if (typeof require !== 'undefined') {\n",
       "        require.undef(\"plotly\");\n",
       "        requirejs.config({\n",
       "            paths: {\n",
       "                'plotly': ['https://cdn.plot.ly/plotly-2.2.0.min']\n",
       "            }\n",
       "        });\n",
       "        require(['plotly'], function(Plotly) {\n",
       "            window._Plotly = Plotly;\n",
       "        });\n",
       "        }\n",
       "        </script>\n",
       "        "
      ]
     },
     "metadata": {}
    },
    {
     "output_type": "stream",
     "name": "stderr",
     "text": [
      "<ipython-input-33-f825dac52b60>:34: SettingWithCopyWarning:\n",
      "\n",
      "\n",
      "A value is trying to be set on a copy of a slice from a DataFrame.\n",
      "Try using .loc[row_indexer,col_indexer] = value instead\n",
      "\n",
      "See the caveats in the documentation: https://pandas.pydata.org/pandas-docs/stable/user_guide/indexing.html#returning-a-view-versus-a-copy\n",
      "\n"
     ]
    },
    {
     "output_type": "display_data",
     "data": {
      "text/html": [
       "<div>                            <div id=\"d4b3d47c-361e-4930-9178-ca64e108dd0c\" class=\"plotly-graph-div\" style=\"height:525px; width:100%;\"></div>            <script type=\"text/javascript\">                require([\"plotly\"], function(Plotly) {                    window.PLOTLYENV=window.PLOTLYENV || {};                                    if (document.getElementById(\"d4b3d47c-361e-4930-9178-ca64e108dd0c\")) {                    Plotly.newPlot(                        \"d4b3d47c-361e-4930-9178-ca64e108dd0c\",                        [{\"colorbar\":{\"title\":{\"text\":\"# of CoCs\"}},\"colorscale\":[[0.0,\"#ffffff\"],[0.2,\"#b4a8ce\"],[0.4,\"#8573a9\"],[0.6,\"#7159a3\"],[0.8,\"#5732a1\"],[1.0,\"#2c0579\"]],\"locationmode\":\"USA-states\",\"locations\":[\"AK\",\"AL\",\"AR\",\"AS\",\"AZ\",\"CA\",\"CO\",\"CT\",\"DC\",\"DE\",\"FL\",\"GA\",\"GU\",\"HI\",\"IA\",\"ID\",\"IL\",\"IN\",\"KS\",\"KY\",\"LA\",\"MA\",\"MD\",\"ME\",\"MI\",\"MN\",\"MO\",\"MP\",\"MS\",\"MT\",\"NC\",\"ND\",\"NE\",\"NH\",\"NJ\",\"NM\",\"NV\",\"NY\",\"OH\",\"OK\",\"OR\",\"PA\",\"PR\",\"RI\",\"SC\",\"SD\",\"TN\",\"TX\",\"UT\",\"VA\",\"VI\",\"VT\",\"WA\",\"WI\",\"WV\",\"WY\",\"Total\",\"nan\"],\"type\":\"choropleth\",\"z\":[2.0,8.0,6.0,0.0,3.0,43.0,3.0,2.0,1.0,1.0,27.0,9.0,1.0,2.0,3.0,2.0,20.0,2.0,5.0,3.0,8.0,15.0,16.0,1.0,21.0,10.0,8.0,1.0,3.0,1.0,12.0,1.0,3.0,3.0,16.0,2.0,3.0,26.0,9.0,8.0,7.0,16.0,2.0,1.0,4.0,1.0,10.0,11.0,3.0,16.0,1.0,2.0,7.0,4.0,4.0,1.0,399.0,null]},{\"colorbar\":{\"title\":{\"text\":\"# of CoCs\"}},\"colorscale\":[[0.0,\"#ffffff\"],[0.2,\"#b4a8ce\"],[0.4,\"#8573a9\"],[0.6,\"#7159a3\"],[0.8,\"#5732a1\"],[1.0,\"#2c0579\"]],\"locationmode\":\"USA-states\",\"locations\":[\"AK\",\"AL\",\"AR\",\"AS\",\"AZ\",\"CA\",\"CO\",\"CT\",\"DC\",\"DE\",\"FL\",\"GA\",\"GU\",\"HI\",\"IA\",\"ID\",\"IL\",\"IN\",\"KS\",\"KY\",\"LA\",\"MA\",\"MD\",\"ME\",\"MI\",\"MN\",\"MO\",\"MP\",\"MS\",\"MT\",\"NC\",\"ND\",\"NE\",\"NH\",\"NJ\",\"NM\",\"NV\",\"NY\",\"OH\",\"OK\",\"OR\",\"PA\",\"PR\",\"RI\",\"SC\",\"SD\",\"TN\",\"TX\",\"UT\",\"VA\",\"VI\",\"VT\",\"WA\",\"WI\",\"WV\",\"WY\",\"Total\",\"nan\"],\"type\":\"choropleth\",\"z\":[2.0,8.0,7.0,0.0,3.0,43.0,3.0,2.0,1.0,1.0,27.0,9.0,1.0,2.0,3.0,2.0,20.0,2.0,5.0,3.0,7.0,15.0,16.0,1.0,21.0,10.0,8.0,1.0,3.0,1.0,12.0,1.0,3.0,3.0,16.0,2.0,3.0,26.0,9.0,8.0,7.0,16.0,2.0,1.0,4.0,1.0,10.0,11.0,3.0,16.0,1.0,2.0,6.0,4.0,4.0,1.0,398.0,null]},{\"colorbar\":{\"title\":{\"text\":\"# of CoCs\"}},\"colorscale\":[[0.0,\"#ffffff\"],[0.2,\"#b4a8ce\"],[0.4,\"#8573a9\"],[0.6,\"#7159a3\"],[0.8,\"#5732a1\"],[1.0,\"#2c0579\"]],\"locationmode\":\"USA-states\",\"locations\":[\"AK\",\"AL\",\"AR\",\"AS\",\"AZ\",\"CA\",\"CO\",\"CT\",\"DC\",\"DE\",\"FL\",\"GA\",\"GU\",\"HI\",\"IA\",\"ID\",\"IL\",\"IN\",\"KS\",\"KY\",\"LA\",\"MA\",\"MD\",\"ME\",\"MI\",\"MN\",\"MO\",\"MP\",\"MS\",\"MT\",\"NC\",\"ND\",\"NE\",\"NH\",\"NJ\",\"NM\",\"NV\",\"NY\",\"OH\",\"OK\",\"OR\",\"PA\",\"PR\",\"RI\",\"SC\",\"SD\",\"TN\",\"TX\",\"UT\",\"VA\",\"VI\",\"VT\",\"WA\",\"WI\",\"WV\",\"WY\",\"Total\",\"nan\"],\"type\":\"choropleth\",\"z\":[2.0,8.0,5.0,0.0,3.0,44.0,3.0,2.0,1.0,1.0,27.0,9.0,1.0,2.0,3.0,2.0,19.0,2.0,5.0,3.0,7.0,15.0,16.0,1.0,21.0,10.0,8.0,1.0,3.0,1.0,12.0,1.0,3.0,3.0,16.0,2.0,3.0,27.0,9.0,8.0,7.0,16.0,2.0,1.0,4.0,1.0,10.0,11.0,3.0,16.0,1.0,2.0,6.0,4.0,4.0,1.0,397.0,null]},{\"colorbar\":{\"title\":{\"text\":\"# of CoCs\"}},\"colorscale\":[[0.0,\"#ffffff\"],[0.2,\"#b4a8ce\"],[0.4,\"#8573a9\"],[0.6,\"#7159a3\"],[0.8,\"#5732a1\"],[1.0,\"#2c0579\"]],\"locationmode\":\"USA-states\",\"locations\":[\"AK\",\"AL\",\"AR\",\"AS\",\"AZ\",\"CA\",\"CO\",\"CT\",\"DC\",\"DE\",\"FL\",\"GA\",\"GU\",\"HI\",\"IA\",\"ID\",\"IL\",\"IN\",\"KS\",\"KY\",\"LA\",\"MA\",\"MD\",\"ME\",\"MI\",\"MN\",\"MO\",\"MP\",\"MS\",\"MT\",\"NC\",\"ND\",\"NE\",\"NH\",\"NJ\",\"NM\",\"NV\",\"NY\",\"OH\",\"OK\",\"OR\",\"PA\",\"PR\",\"RI\",\"SC\",\"SD\",\"TN\",\"TX\",\"UT\",\"VA\",\"VI\",\"VT\",\"WA\",\"WI\",\"WV\",\"WY\",\"Total\",\"nan\"],\"type\":\"choropleth\",\"z\":[2.0,8.0,4.0,0.0,3.0,44.0,4.0,2.0,1.0,1.0,27.0,9.0,1.0,2.0,3.0,2.0,19.0,2.0,5.0,3.0,7.0,13.0,16.0,1.0,20.0,10.0,8.0,1.0,3.0,1.0,12.0,1.0,3.0,3.0,16.0,2.0,3.0,24.0,9.0,8.0,8.0,16.0,2.0,1.0,4.0,1.0,10.0,11.0,3.0,16.0,1.0,2.0,6.0,4.0,4.0,1.0,392.0,null]}],                        {\"geo\":{\"projection\":{\"type\":\"albers usa\"},\"scope\":\"usa\"},\"sliders\":[{\"active\":0,\"pad\":{\"t\":1},\"steps\":[{\"args\":[\"visible\",[true,false,false,false]],\"label\":\"Year 2017\",\"method\":\"restyle\"},{\"args\":[\"visible\",[false,true,false,false]],\"label\":\"Year 2018\",\"method\":\"restyle\"},{\"args\":[\"visible\",[false,false,true,false]],\"label\":\"Year 2019\",\"method\":\"restyle\"},{\"args\":[\"visible\",[false,false,false,true]],\"label\":\"Year 2020\",\"method\":\"restyle\"}]}],\"template\":{\"data\":{\"bar\":[{\"error_x\":{\"color\":\"#2a3f5f\"},\"error_y\":{\"color\":\"#2a3f5f\"},\"marker\":{\"line\":{\"color\":\"#E5ECF6\",\"width\":0.5},\"pattern\":{\"fillmode\":\"overlay\",\"size\":10,\"solidity\":0.2}},\"type\":\"bar\"}],\"barpolar\":[{\"marker\":{\"line\":{\"color\":\"#E5ECF6\",\"width\":0.5},\"pattern\":{\"fillmode\":\"overlay\",\"size\":10,\"solidity\":0.2}},\"type\":\"barpolar\"}],\"carpet\":[{\"aaxis\":{\"endlinecolor\":\"#2a3f5f\",\"gridcolor\":\"white\",\"linecolor\":\"white\",\"minorgridcolor\":\"white\",\"startlinecolor\":\"#2a3f5f\"},\"baxis\":{\"endlinecolor\":\"#2a3f5f\",\"gridcolor\":\"white\",\"linecolor\":\"white\",\"minorgridcolor\":\"white\",\"startlinecolor\":\"#2a3f5f\"},\"type\":\"carpet\"}],\"choropleth\":[{\"colorbar\":{\"outlinewidth\":0,\"ticks\":\"\"},\"type\":\"choropleth\"}],\"contour\":[{\"colorbar\":{\"outlinewidth\":0,\"ticks\":\"\"},\"colorscale\":[[0.0,\"#0d0887\"],[0.1111111111111111,\"#46039f\"],[0.2222222222222222,\"#7201a8\"],[0.3333333333333333,\"#9c179e\"],[0.4444444444444444,\"#bd3786\"],[0.5555555555555556,\"#d8576b\"],[0.6666666666666666,\"#ed7953\"],[0.7777777777777778,\"#fb9f3a\"],[0.8888888888888888,\"#fdca26\"],[1.0,\"#f0f921\"]],\"type\":\"contour\"}],\"contourcarpet\":[{\"colorbar\":{\"outlinewidth\":0,\"ticks\":\"\"},\"type\":\"contourcarpet\"}],\"heatmap\":[{\"colorbar\":{\"outlinewidth\":0,\"ticks\":\"\"},\"colorscale\":[[0.0,\"#0d0887\"],[0.1111111111111111,\"#46039f\"],[0.2222222222222222,\"#7201a8\"],[0.3333333333333333,\"#9c179e\"],[0.4444444444444444,\"#bd3786\"],[0.5555555555555556,\"#d8576b\"],[0.6666666666666666,\"#ed7953\"],[0.7777777777777778,\"#fb9f3a\"],[0.8888888888888888,\"#fdca26\"],[1.0,\"#f0f921\"]],\"type\":\"heatmap\"}],\"heatmapgl\":[{\"colorbar\":{\"outlinewidth\":0,\"ticks\":\"\"},\"colorscale\":[[0.0,\"#0d0887\"],[0.1111111111111111,\"#46039f\"],[0.2222222222222222,\"#7201a8\"],[0.3333333333333333,\"#9c179e\"],[0.4444444444444444,\"#bd3786\"],[0.5555555555555556,\"#d8576b\"],[0.6666666666666666,\"#ed7953\"],[0.7777777777777778,\"#fb9f3a\"],[0.8888888888888888,\"#fdca26\"],[1.0,\"#f0f921\"]],\"type\":\"heatmapgl\"}],\"histogram\":[{\"marker\":{\"pattern\":{\"fillmode\":\"overlay\",\"size\":10,\"solidity\":0.2}},\"type\":\"histogram\"}],\"histogram2d\":[{\"colorbar\":{\"outlinewidth\":0,\"ticks\":\"\"},\"colorscale\":[[0.0,\"#0d0887\"],[0.1111111111111111,\"#46039f\"],[0.2222222222222222,\"#7201a8\"],[0.3333333333333333,\"#9c179e\"],[0.4444444444444444,\"#bd3786\"],[0.5555555555555556,\"#d8576b\"],[0.6666666666666666,\"#ed7953\"],[0.7777777777777778,\"#fb9f3a\"],[0.8888888888888888,\"#fdca26\"],[1.0,\"#f0f921\"]],\"type\":\"histogram2d\"}],\"histogram2dcontour\":[{\"colorbar\":{\"outlinewidth\":0,\"ticks\":\"\"},\"colorscale\":[[0.0,\"#0d0887\"],[0.1111111111111111,\"#46039f\"],[0.2222222222222222,\"#7201a8\"],[0.3333333333333333,\"#9c179e\"],[0.4444444444444444,\"#bd3786\"],[0.5555555555555556,\"#d8576b\"],[0.6666666666666666,\"#ed7953\"],[0.7777777777777778,\"#fb9f3a\"],[0.8888888888888888,\"#fdca26\"],[1.0,\"#f0f921\"]],\"type\":\"histogram2dcontour\"}],\"mesh3d\":[{\"colorbar\":{\"outlinewidth\":0,\"ticks\":\"\"},\"type\":\"mesh3d\"}],\"parcoords\":[{\"line\":{\"colorbar\":{\"outlinewidth\":0,\"ticks\":\"\"}},\"type\":\"parcoords\"}],\"pie\":[{\"automargin\":true,\"type\":\"pie\"}],\"scatter\":[{\"marker\":{\"colorbar\":{\"outlinewidth\":0,\"ticks\":\"\"}},\"type\":\"scatter\"}],\"scatter3d\":[{\"line\":{\"colorbar\":{\"outlinewidth\":0,\"ticks\":\"\"}},\"marker\":{\"colorbar\":{\"outlinewidth\":0,\"ticks\":\"\"}},\"type\":\"scatter3d\"}],\"scattercarpet\":[{\"marker\":{\"colorbar\":{\"outlinewidth\":0,\"ticks\":\"\"}},\"type\":\"scattercarpet\"}],\"scattergeo\":[{\"marker\":{\"colorbar\":{\"outlinewidth\":0,\"ticks\":\"\"}},\"type\":\"scattergeo\"}],\"scattergl\":[{\"marker\":{\"colorbar\":{\"outlinewidth\":0,\"ticks\":\"\"}},\"type\":\"scattergl\"}],\"scattermapbox\":[{\"marker\":{\"colorbar\":{\"outlinewidth\":0,\"ticks\":\"\"}},\"type\":\"scattermapbox\"}],\"scatterpolar\":[{\"marker\":{\"colorbar\":{\"outlinewidth\":0,\"ticks\":\"\"}},\"type\":\"scatterpolar\"}],\"scatterpolargl\":[{\"marker\":{\"colorbar\":{\"outlinewidth\":0,\"ticks\":\"\"}},\"type\":\"scatterpolargl\"}],\"scatterternary\":[{\"marker\":{\"colorbar\":{\"outlinewidth\":0,\"ticks\":\"\"}},\"type\":\"scatterternary\"}],\"surface\":[{\"colorbar\":{\"outlinewidth\":0,\"ticks\":\"\"},\"colorscale\":[[0.0,\"#0d0887\"],[0.1111111111111111,\"#46039f\"],[0.2222222222222222,\"#7201a8\"],[0.3333333333333333,\"#9c179e\"],[0.4444444444444444,\"#bd3786\"],[0.5555555555555556,\"#d8576b\"],[0.6666666666666666,\"#ed7953\"],[0.7777777777777778,\"#fb9f3a\"],[0.8888888888888888,\"#fdca26\"],[1.0,\"#f0f921\"]],\"type\":\"surface\"}],\"table\":[{\"cells\":{\"fill\":{\"color\":\"#EBF0F8\"},\"line\":{\"color\":\"white\"}},\"header\":{\"fill\":{\"color\":\"#C8D4E3\"},\"line\":{\"color\":\"white\"}},\"type\":\"table\"}]},\"layout\":{\"annotationdefaults\":{\"arrowcolor\":\"#2a3f5f\",\"arrowhead\":0,\"arrowwidth\":1},\"autotypenumbers\":\"strict\",\"coloraxis\":{\"colorbar\":{\"outlinewidth\":0,\"ticks\":\"\"}},\"colorscale\":{\"diverging\":[[0,\"#8e0152\"],[0.1,\"#c51b7d\"],[0.2,\"#de77ae\"],[0.3,\"#f1b6da\"],[0.4,\"#fde0ef\"],[0.5,\"#f7f7f7\"],[0.6,\"#e6f5d0\"],[0.7,\"#b8e186\"],[0.8,\"#7fbc41\"],[0.9,\"#4d9221\"],[1,\"#276419\"]],\"sequential\":[[0.0,\"#0d0887\"],[0.1111111111111111,\"#46039f\"],[0.2222222222222222,\"#7201a8\"],[0.3333333333333333,\"#9c179e\"],[0.4444444444444444,\"#bd3786\"],[0.5555555555555556,\"#d8576b\"],[0.6666666666666666,\"#ed7953\"],[0.7777777777777778,\"#fb9f3a\"],[0.8888888888888888,\"#fdca26\"],[1.0,\"#f0f921\"]],\"sequentialminus\":[[0.0,\"#0d0887\"],[0.1111111111111111,\"#46039f\"],[0.2222222222222222,\"#7201a8\"],[0.3333333333333333,\"#9c179e\"],[0.4444444444444444,\"#bd3786\"],[0.5555555555555556,\"#d8576b\"],[0.6666666666666666,\"#ed7953\"],[0.7777777777777778,\"#fb9f3a\"],[0.8888888888888888,\"#fdca26\"],[1.0,\"#f0f921\"]]},\"colorway\":[\"#636efa\",\"#EF553B\",\"#00cc96\",\"#ab63fa\",\"#FFA15A\",\"#19d3f3\",\"#FF6692\",\"#B6E880\",\"#FF97FF\",\"#FECB52\"],\"font\":{\"color\":\"#2a3f5f\"},\"geo\":{\"bgcolor\":\"white\",\"lakecolor\":\"white\",\"landcolor\":\"#E5ECF6\",\"showlakes\":true,\"showland\":true,\"subunitcolor\":\"white\"},\"hoverlabel\":{\"align\":\"left\"},\"hovermode\":\"closest\",\"mapbox\":{\"style\":\"light\"},\"paper_bgcolor\":\"white\",\"plot_bgcolor\":\"#E5ECF6\",\"polar\":{\"angularaxis\":{\"gridcolor\":\"white\",\"linecolor\":\"white\",\"ticks\":\"\"},\"bgcolor\":\"#E5ECF6\",\"radialaxis\":{\"gridcolor\":\"white\",\"linecolor\":\"white\",\"ticks\":\"\"}},\"scene\":{\"xaxis\":{\"backgroundcolor\":\"#E5ECF6\",\"gridcolor\":\"white\",\"gridwidth\":2,\"linecolor\":\"white\",\"showbackground\":true,\"ticks\":\"\",\"zerolinecolor\":\"white\"},\"yaxis\":{\"backgroundcolor\":\"#E5ECF6\",\"gridcolor\":\"white\",\"gridwidth\":2,\"linecolor\":\"white\",\"showbackground\":true,\"ticks\":\"\",\"zerolinecolor\":\"white\"},\"zaxis\":{\"backgroundcolor\":\"#E5ECF6\",\"gridcolor\":\"white\",\"gridwidth\":2,\"linecolor\":\"white\",\"showbackground\":true,\"ticks\":\"\",\"zerolinecolor\":\"white\"}},\"shapedefaults\":{\"line\":{\"color\":\"#2a3f5f\"}},\"ternary\":{\"aaxis\":{\"gridcolor\":\"white\",\"linecolor\":\"white\",\"ticks\":\"\"},\"baxis\":{\"gridcolor\":\"white\",\"linecolor\":\"white\",\"ticks\":\"\"},\"bgcolor\":\"#E5ECF6\",\"caxis\":{\"gridcolor\":\"white\",\"linecolor\":\"white\",\"ticks\":\"\"}},\"title\":{\"x\":0.05},\"xaxis\":{\"automargin\":true,\"gridcolor\":\"white\",\"linecolor\":\"white\",\"ticks\":\"\",\"title\":{\"standoff\":15},\"zerolinecolor\":\"white\",\"zerolinewidth\":2},\"yaxis\":{\"automargin\":true,\"gridcolor\":\"white\",\"linecolor\":\"white\",\"ticks\":\"\",\"title\":{\"standoff\":15},\"zerolinecolor\":\"white\",\"zerolinewidth\":2}}},\"title\":{\"text\":\"Number of CoCs by State\"}},                        {\"responsive\": true}                    ).then(function(){\n",
       "                            \n",
       "var gd = document.getElementById('d4b3d47c-361e-4930-9178-ca64e108dd0c');\n",
       "var x = new MutationObserver(function (mutations, observer) {{\n",
       "        var display = window.getComputedStyle(gd).display;\n",
       "        if (!display || display === 'none') {{\n",
       "            console.log([gd, 'removed!']);\n",
       "            Plotly.purge(gd);\n",
       "            observer.disconnect();\n",
       "        }}\n",
       "}});\n",
       "\n",
       "// Listen for the removal of the full notebook cells\n",
       "var notebookContainer = gd.closest('#notebook-container');\n",
       "if (notebookContainer) {{\n",
       "    x.observe(notebookContainer, {childList: true});\n",
       "}}\n",
       "\n",
       "// Listen for the clearing of the current output cell\n",
       "var outputEl = gd.closest('.output');\n",
       "if (outputEl) {{\n",
       "    x.observe(outputEl, {childList: true});\n",
       "}}\n",
       "\n",
       "                        })                };                });            </script>        </div>"
      ],
      "application/vnd.plotly.v1+json": {
       "config": {
        "linkText": "Export to plot.ly",
        "plotlyServerURL": "https://plot.ly",
        "showLink": false
       },
       "data": [
        {
         "colorbar": {
          "title": {
           "text": "# of CoCs"
          }
         },
         "colorscale": [
          [
           0,
           "#ffffff"
          ],
          [
           0.2,
           "#b4a8ce"
          ],
          [
           0.4,
           "#8573a9"
          ],
          [
           0.6,
           "#7159a3"
          ],
          [
           0.8,
           "#5732a1"
          ],
          [
           1,
           "#2c0579"
          ]
         ],
         "locationmode": "USA-states",
         "locations": [
          "AK",
          "AL",
          "AR",
          "AS",
          "AZ",
          "CA",
          "CO",
          "CT",
          "DC",
          "DE",
          "FL",
          "GA",
          "GU",
          "HI",
          "IA",
          "ID",
          "IL",
          "IN",
          "KS",
          "KY",
          "LA",
          "MA",
          "MD",
          "ME",
          "MI",
          "MN",
          "MO",
          "MP",
          "MS",
          "MT",
          "NC",
          "ND",
          "NE",
          "NH",
          "NJ",
          "NM",
          "NV",
          "NY",
          "OH",
          "OK",
          "OR",
          "PA",
          "PR",
          "RI",
          "SC",
          "SD",
          "TN",
          "TX",
          "UT",
          "VA",
          "VI",
          "VT",
          "WA",
          "WI",
          "WV",
          "WY",
          "Total",
          "nan"
         ],
         "type": "choropleth",
         "z": [
          2,
          8,
          6,
          0,
          3,
          43,
          3,
          2,
          1,
          1,
          27,
          9,
          1,
          2,
          3,
          2,
          20,
          2,
          5,
          3,
          8,
          15,
          16,
          1,
          21,
          10,
          8,
          1,
          3,
          1,
          12,
          1,
          3,
          3,
          16,
          2,
          3,
          26,
          9,
          8,
          7,
          16,
          2,
          1,
          4,
          1,
          10,
          11,
          3,
          16,
          1,
          2,
          7,
          4,
          4,
          1,
          399,
          null
         ]
        },
        {
         "colorbar": {
          "title": {
           "text": "# of CoCs"
          }
         },
         "colorscale": [
          [
           0,
           "#ffffff"
          ],
          [
           0.2,
           "#b4a8ce"
          ],
          [
           0.4,
           "#8573a9"
          ],
          [
           0.6,
           "#7159a3"
          ],
          [
           0.8,
           "#5732a1"
          ],
          [
           1,
           "#2c0579"
          ]
         ],
         "locationmode": "USA-states",
         "locations": [
          "AK",
          "AL",
          "AR",
          "AS",
          "AZ",
          "CA",
          "CO",
          "CT",
          "DC",
          "DE",
          "FL",
          "GA",
          "GU",
          "HI",
          "IA",
          "ID",
          "IL",
          "IN",
          "KS",
          "KY",
          "LA",
          "MA",
          "MD",
          "ME",
          "MI",
          "MN",
          "MO",
          "MP",
          "MS",
          "MT",
          "NC",
          "ND",
          "NE",
          "NH",
          "NJ",
          "NM",
          "NV",
          "NY",
          "OH",
          "OK",
          "OR",
          "PA",
          "PR",
          "RI",
          "SC",
          "SD",
          "TN",
          "TX",
          "UT",
          "VA",
          "VI",
          "VT",
          "WA",
          "WI",
          "WV",
          "WY",
          "Total",
          "nan"
         ],
         "type": "choropleth",
         "z": [
          2,
          8,
          7,
          0,
          3,
          43,
          3,
          2,
          1,
          1,
          27,
          9,
          1,
          2,
          3,
          2,
          20,
          2,
          5,
          3,
          7,
          15,
          16,
          1,
          21,
          10,
          8,
          1,
          3,
          1,
          12,
          1,
          3,
          3,
          16,
          2,
          3,
          26,
          9,
          8,
          7,
          16,
          2,
          1,
          4,
          1,
          10,
          11,
          3,
          16,
          1,
          2,
          6,
          4,
          4,
          1,
          398,
          null
         ]
        },
        {
         "colorbar": {
          "title": {
           "text": "# of CoCs"
          }
         },
         "colorscale": [
          [
           0,
           "#ffffff"
          ],
          [
           0.2,
           "#b4a8ce"
          ],
          [
           0.4,
           "#8573a9"
          ],
          [
           0.6,
           "#7159a3"
          ],
          [
           0.8,
           "#5732a1"
          ],
          [
           1,
           "#2c0579"
          ]
         ],
         "locationmode": "USA-states",
         "locations": [
          "AK",
          "AL",
          "AR",
          "AS",
          "AZ",
          "CA",
          "CO",
          "CT",
          "DC",
          "DE",
          "FL",
          "GA",
          "GU",
          "HI",
          "IA",
          "ID",
          "IL",
          "IN",
          "KS",
          "KY",
          "LA",
          "MA",
          "MD",
          "ME",
          "MI",
          "MN",
          "MO",
          "MP",
          "MS",
          "MT",
          "NC",
          "ND",
          "NE",
          "NH",
          "NJ",
          "NM",
          "NV",
          "NY",
          "OH",
          "OK",
          "OR",
          "PA",
          "PR",
          "RI",
          "SC",
          "SD",
          "TN",
          "TX",
          "UT",
          "VA",
          "VI",
          "VT",
          "WA",
          "WI",
          "WV",
          "WY",
          "Total",
          "nan"
         ],
         "type": "choropleth",
         "z": [
          2,
          8,
          5,
          0,
          3,
          44,
          3,
          2,
          1,
          1,
          27,
          9,
          1,
          2,
          3,
          2,
          19,
          2,
          5,
          3,
          7,
          15,
          16,
          1,
          21,
          10,
          8,
          1,
          3,
          1,
          12,
          1,
          3,
          3,
          16,
          2,
          3,
          27,
          9,
          8,
          7,
          16,
          2,
          1,
          4,
          1,
          10,
          11,
          3,
          16,
          1,
          2,
          6,
          4,
          4,
          1,
          397,
          null
         ]
        },
        {
         "colorbar": {
          "title": {
           "text": "# of CoCs"
          }
         },
         "colorscale": [
          [
           0,
           "#ffffff"
          ],
          [
           0.2,
           "#b4a8ce"
          ],
          [
           0.4,
           "#8573a9"
          ],
          [
           0.6,
           "#7159a3"
          ],
          [
           0.8,
           "#5732a1"
          ],
          [
           1,
           "#2c0579"
          ]
         ],
         "locationmode": "USA-states",
         "locations": [
          "AK",
          "AL",
          "AR",
          "AS",
          "AZ",
          "CA",
          "CO",
          "CT",
          "DC",
          "DE",
          "FL",
          "GA",
          "GU",
          "HI",
          "IA",
          "ID",
          "IL",
          "IN",
          "KS",
          "KY",
          "LA",
          "MA",
          "MD",
          "ME",
          "MI",
          "MN",
          "MO",
          "MP",
          "MS",
          "MT",
          "NC",
          "ND",
          "NE",
          "NH",
          "NJ",
          "NM",
          "NV",
          "NY",
          "OH",
          "OK",
          "OR",
          "PA",
          "PR",
          "RI",
          "SC",
          "SD",
          "TN",
          "TX",
          "UT",
          "VA",
          "VI",
          "VT",
          "WA",
          "WI",
          "WV",
          "WY",
          "Total",
          "nan"
         ],
         "type": "choropleth",
         "z": [
          2,
          8,
          4,
          0,
          3,
          44,
          4,
          2,
          1,
          1,
          27,
          9,
          1,
          2,
          3,
          2,
          19,
          2,
          5,
          3,
          7,
          13,
          16,
          1,
          20,
          10,
          8,
          1,
          3,
          1,
          12,
          1,
          3,
          3,
          16,
          2,
          3,
          24,
          9,
          8,
          8,
          16,
          2,
          1,
          4,
          1,
          10,
          11,
          3,
          16,
          1,
          2,
          6,
          4,
          4,
          1,
          392,
          null
         ]
        }
       ],
       "layout": {
        "geo": {
         "projection": {
          "type": "albers usa"
         },
         "scope": "usa"
        },
        "sliders": [
         {
          "active": 0,
          "pad": {
           "t": 1
          },
          "steps": [
           {
            "args": [
             "visible",
             [
              true,
              false,
              false,
              false
             ]
            ],
            "label": "Year 2017",
            "method": "restyle"
           },
           {
            "args": [
             "visible",
             [
              false,
              true,
              false,
              false
             ]
            ],
            "label": "Year 2018",
            "method": "restyle"
           },
           {
            "args": [
             "visible",
             [
              false,
              false,
              true,
              false
             ]
            ],
            "label": "Year 2019",
            "method": "restyle"
           },
           {
            "args": [
             "visible",
             [
              false,
              false,
              false,
              true
             ]
            ],
            "label": "Year 2020",
            "method": "restyle"
           }
          ]
         }
        ],
        "template": {
         "data": {
          "bar": [
           {
            "error_x": {
             "color": "#2a3f5f"
            },
            "error_y": {
             "color": "#2a3f5f"
            },
            "marker": {
             "line": {
              "color": "#E5ECF6",
              "width": 0.5
             },
             "pattern": {
              "fillmode": "overlay",
              "size": 10,
              "solidity": 0.2
             }
            },
            "type": "bar"
           }
          ],
          "barpolar": [
           {
            "marker": {
             "line": {
              "color": "#E5ECF6",
              "width": 0.5
             },
             "pattern": {
              "fillmode": "overlay",
              "size": 10,
              "solidity": 0.2
             }
            },
            "type": "barpolar"
           }
          ],
          "carpet": [
           {
            "aaxis": {
             "endlinecolor": "#2a3f5f",
             "gridcolor": "white",
             "linecolor": "white",
             "minorgridcolor": "white",
             "startlinecolor": "#2a3f5f"
            },
            "baxis": {
             "endlinecolor": "#2a3f5f",
             "gridcolor": "white",
             "linecolor": "white",
             "minorgridcolor": "white",
             "startlinecolor": "#2a3f5f"
            },
            "type": "carpet"
           }
          ],
          "choropleth": [
           {
            "colorbar": {
             "outlinewidth": 0,
             "ticks": ""
            },
            "type": "choropleth"
           }
          ],
          "contour": [
           {
            "colorbar": {
             "outlinewidth": 0,
             "ticks": ""
            },
            "colorscale": [
             [
              0,
              "#0d0887"
             ],
             [
              0.1111111111111111,
              "#46039f"
             ],
             [
              0.2222222222222222,
              "#7201a8"
             ],
             [
              0.3333333333333333,
              "#9c179e"
             ],
             [
              0.4444444444444444,
              "#bd3786"
             ],
             [
              0.5555555555555556,
              "#d8576b"
             ],
             [
              0.6666666666666666,
              "#ed7953"
             ],
             [
              0.7777777777777778,
              "#fb9f3a"
             ],
             [
              0.8888888888888888,
              "#fdca26"
             ],
             [
              1,
              "#f0f921"
             ]
            ],
            "type": "contour"
           }
          ],
          "contourcarpet": [
           {
            "colorbar": {
             "outlinewidth": 0,
             "ticks": ""
            },
            "type": "contourcarpet"
           }
          ],
          "heatmap": [
           {
            "colorbar": {
             "outlinewidth": 0,
             "ticks": ""
            },
            "colorscale": [
             [
              0,
              "#0d0887"
             ],
             [
              0.1111111111111111,
              "#46039f"
             ],
             [
              0.2222222222222222,
              "#7201a8"
             ],
             [
              0.3333333333333333,
              "#9c179e"
             ],
             [
              0.4444444444444444,
              "#bd3786"
             ],
             [
              0.5555555555555556,
              "#d8576b"
             ],
             [
              0.6666666666666666,
              "#ed7953"
             ],
             [
              0.7777777777777778,
              "#fb9f3a"
             ],
             [
              0.8888888888888888,
              "#fdca26"
             ],
             [
              1,
              "#f0f921"
             ]
            ],
            "type": "heatmap"
           }
          ],
          "heatmapgl": [
           {
            "colorbar": {
             "outlinewidth": 0,
             "ticks": ""
            },
            "colorscale": [
             [
              0,
              "#0d0887"
             ],
             [
              0.1111111111111111,
              "#46039f"
             ],
             [
              0.2222222222222222,
              "#7201a8"
             ],
             [
              0.3333333333333333,
              "#9c179e"
             ],
             [
              0.4444444444444444,
              "#bd3786"
             ],
             [
              0.5555555555555556,
              "#d8576b"
             ],
             [
              0.6666666666666666,
              "#ed7953"
             ],
             [
              0.7777777777777778,
              "#fb9f3a"
             ],
             [
              0.8888888888888888,
              "#fdca26"
             ],
             [
              1,
              "#f0f921"
             ]
            ],
            "type": "heatmapgl"
           }
          ],
          "histogram": [
           {
            "marker": {
             "pattern": {
              "fillmode": "overlay",
              "size": 10,
              "solidity": 0.2
             }
            },
            "type": "histogram"
           }
          ],
          "histogram2d": [
           {
            "colorbar": {
             "outlinewidth": 0,
             "ticks": ""
            },
            "colorscale": [
             [
              0,
              "#0d0887"
             ],
             [
              0.1111111111111111,
              "#46039f"
             ],
             [
              0.2222222222222222,
              "#7201a8"
             ],
             [
              0.3333333333333333,
              "#9c179e"
             ],
             [
              0.4444444444444444,
              "#bd3786"
             ],
             [
              0.5555555555555556,
              "#d8576b"
             ],
             [
              0.6666666666666666,
              "#ed7953"
             ],
             [
              0.7777777777777778,
              "#fb9f3a"
             ],
             [
              0.8888888888888888,
              "#fdca26"
             ],
             [
              1,
              "#f0f921"
             ]
            ],
            "type": "histogram2d"
           }
          ],
          "histogram2dcontour": [
           {
            "colorbar": {
             "outlinewidth": 0,
             "ticks": ""
            },
            "colorscale": [
             [
              0,
              "#0d0887"
             ],
             [
              0.1111111111111111,
              "#46039f"
             ],
             [
              0.2222222222222222,
              "#7201a8"
             ],
             [
              0.3333333333333333,
              "#9c179e"
             ],
             [
              0.4444444444444444,
              "#bd3786"
             ],
             [
              0.5555555555555556,
              "#d8576b"
             ],
             [
              0.6666666666666666,
              "#ed7953"
             ],
             [
              0.7777777777777778,
              "#fb9f3a"
             ],
             [
              0.8888888888888888,
              "#fdca26"
             ],
             [
              1,
              "#f0f921"
             ]
            ],
            "type": "histogram2dcontour"
           }
          ],
          "mesh3d": [
           {
            "colorbar": {
             "outlinewidth": 0,
             "ticks": ""
            },
            "type": "mesh3d"
           }
          ],
          "parcoords": [
           {
            "line": {
             "colorbar": {
              "outlinewidth": 0,
              "ticks": ""
             }
            },
            "type": "parcoords"
           }
          ],
          "pie": [
           {
            "automargin": true,
            "type": "pie"
           }
          ],
          "scatter": [
           {
            "marker": {
             "colorbar": {
              "outlinewidth": 0,
              "ticks": ""
             }
            },
            "type": "scatter"
           }
          ],
          "scatter3d": [
           {
            "line": {
             "colorbar": {
              "outlinewidth": 0,
              "ticks": ""
             }
            },
            "marker": {
             "colorbar": {
              "outlinewidth": 0,
              "ticks": ""
             }
            },
            "type": "scatter3d"
           }
          ],
          "scattercarpet": [
           {
            "marker": {
             "colorbar": {
              "outlinewidth": 0,
              "ticks": ""
             }
            },
            "type": "scattercarpet"
           }
          ],
          "scattergeo": [
           {
            "marker": {
             "colorbar": {
              "outlinewidth": 0,
              "ticks": ""
             }
            },
            "type": "scattergeo"
           }
          ],
          "scattergl": [
           {
            "marker": {
             "colorbar": {
              "outlinewidth": 0,
              "ticks": ""
             }
            },
            "type": "scattergl"
           }
          ],
          "scattermapbox": [
           {
            "marker": {
             "colorbar": {
              "outlinewidth": 0,
              "ticks": ""
             }
            },
            "type": "scattermapbox"
           }
          ],
          "scatterpolar": [
           {
            "marker": {
             "colorbar": {
              "outlinewidth": 0,
              "ticks": ""
             }
            },
            "type": "scatterpolar"
           }
          ],
          "scatterpolargl": [
           {
            "marker": {
             "colorbar": {
              "outlinewidth": 0,
              "ticks": ""
             }
            },
            "type": "scatterpolargl"
           }
          ],
          "scatterternary": [
           {
            "marker": {
             "colorbar": {
              "outlinewidth": 0,
              "ticks": ""
             }
            },
            "type": "scatterternary"
           }
          ],
          "surface": [
           {
            "colorbar": {
             "outlinewidth": 0,
             "ticks": ""
            },
            "colorscale": [
             [
              0,
              "#0d0887"
             ],
             [
              0.1111111111111111,
              "#46039f"
             ],
             [
              0.2222222222222222,
              "#7201a8"
             ],
             [
              0.3333333333333333,
              "#9c179e"
             ],
             [
              0.4444444444444444,
              "#bd3786"
             ],
             [
              0.5555555555555556,
              "#d8576b"
             ],
             [
              0.6666666666666666,
              "#ed7953"
             ],
             [
              0.7777777777777778,
              "#fb9f3a"
             ],
             [
              0.8888888888888888,
              "#fdca26"
             ],
             [
              1,
              "#f0f921"
             ]
            ],
            "type": "surface"
           }
          ],
          "table": [
           {
            "cells": {
             "fill": {
              "color": "#EBF0F8"
             },
             "line": {
              "color": "white"
             }
            },
            "header": {
             "fill": {
              "color": "#C8D4E3"
             },
             "line": {
              "color": "white"
             }
            },
            "type": "table"
           }
          ]
         },
         "layout": {
          "annotationdefaults": {
           "arrowcolor": "#2a3f5f",
           "arrowhead": 0,
           "arrowwidth": 1
          },
          "autotypenumbers": "strict",
          "coloraxis": {
           "colorbar": {
            "outlinewidth": 0,
            "ticks": ""
           }
          },
          "colorscale": {
           "diverging": [
            [
             0,
             "#8e0152"
            ],
            [
             0.1,
             "#c51b7d"
            ],
            [
             0.2,
             "#de77ae"
            ],
            [
             0.3,
             "#f1b6da"
            ],
            [
             0.4,
             "#fde0ef"
            ],
            [
             0.5,
             "#f7f7f7"
            ],
            [
             0.6,
             "#e6f5d0"
            ],
            [
             0.7,
             "#b8e186"
            ],
            [
             0.8,
             "#7fbc41"
            ],
            [
             0.9,
             "#4d9221"
            ],
            [
             1,
             "#276419"
            ]
           ],
           "sequential": [
            [
             0,
             "#0d0887"
            ],
            [
             0.1111111111111111,
             "#46039f"
            ],
            [
             0.2222222222222222,
             "#7201a8"
            ],
            [
             0.3333333333333333,
             "#9c179e"
            ],
            [
             0.4444444444444444,
             "#bd3786"
            ],
            [
             0.5555555555555556,
             "#d8576b"
            ],
            [
             0.6666666666666666,
             "#ed7953"
            ],
            [
             0.7777777777777778,
             "#fb9f3a"
            ],
            [
             0.8888888888888888,
             "#fdca26"
            ],
            [
             1,
             "#f0f921"
            ]
           ],
           "sequentialminus": [
            [
             0,
             "#0d0887"
            ],
            [
             0.1111111111111111,
             "#46039f"
            ],
            [
             0.2222222222222222,
             "#7201a8"
            ],
            [
             0.3333333333333333,
             "#9c179e"
            ],
            [
             0.4444444444444444,
             "#bd3786"
            ],
            [
             0.5555555555555556,
             "#d8576b"
            ],
            [
             0.6666666666666666,
             "#ed7953"
            ],
            [
             0.7777777777777778,
             "#fb9f3a"
            ],
            [
             0.8888888888888888,
             "#fdca26"
            ],
            [
             1,
             "#f0f921"
            ]
           ]
          },
          "colorway": [
           "#636efa",
           "#EF553B",
           "#00cc96",
           "#ab63fa",
           "#FFA15A",
           "#19d3f3",
           "#FF6692",
           "#B6E880",
           "#FF97FF",
           "#FECB52"
          ],
          "font": {
           "color": "#2a3f5f"
          },
          "geo": {
           "bgcolor": "white",
           "lakecolor": "white",
           "landcolor": "#E5ECF6",
           "showlakes": true,
           "showland": true,
           "subunitcolor": "white"
          },
          "hoverlabel": {
           "align": "left"
          },
          "hovermode": "closest",
          "mapbox": {
           "style": "light"
          },
          "paper_bgcolor": "white",
          "plot_bgcolor": "#E5ECF6",
          "polar": {
           "angularaxis": {
            "gridcolor": "white",
            "linecolor": "white",
            "ticks": ""
           },
           "bgcolor": "#E5ECF6",
           "radialaxis": {
            "gridcolor": "white",
            "linecolor": "white",
            "ticks": ""
           }
          },
          "scene": {
           "xaxis": {
            "backgroundcolor": "#E5ECF6",
            "gridcolor": "white",
            "gridwidth": 2,
            "linecolor": "white",
            "showbackground": true,
            "ticks": "",
            "zerolinecolor": "white"
           },
           "yaxis": {
            "backgroundcolor": "#E5ECF6",
            "gridcolor": "white",
            "gridwidth": 2,
            "linecolor": "white",
            "showbackground": true,
            "ticks": "",
            "zerolinecolor": "white"
           },
           "zaxis": {
            "backgroundcolor": "#E5ECF6",
            "gridcolor": "white",
            "gridwidth": 2,
            "linecolor": "white",
            "showbackground": true,
            "ticks": "",
            "zerolinecolor": "white"
           }
          },
          "shapedefaults": {
           "line": {
            "color": "#2a3f5f"
           }
          },
          "ternary": {
           "aaxis": {
            "gridcolor": "white",
            "linecolor": "white",
            "ticks": ""
           },
           "baxis": {
            "gridcolor": "white",
            "linecolor": "white",
            "ticks": ""
           },
           "bgcolor": "#E5ECF6",
           "caxis": {
            "gridcolor": "white",
            "linecolor": "white",
            "ticks": ""
           }
          },
          "title": {
           "x": 0.05
          },
          "xaxis": {
           "automargin": true,
           "gridcolor": "white",
           "linecolor": "white",
           "ticks": "",
           "title": {
            "standoff": 15
           },
           "zerolinecolor": "white",
           "zerolinewidth": 2
          },
          "yaxis": {
           "automargin": true,
           "gridcolor": "white",
           "linecolor": "white",
           "ticks": "",
           "title": {
            "standoff": 15
           },
           "zerolinecolor": "white",
           "zerolinewidth": 2
          }
         }
        },
        "title": {
         "text": "Number of CoCs by State"
        }
       }
      }
     },
     "metadata": {}
    },
    {
     "output_type": "execute_result",
     "data": {
      "text/plain": [
       "'CoC_map.html'"
      ]
     },
     "metadata": {},
     "execution_count": 33
    }
   ],
   "metadata": {}
  }
 ],
 "metadata": {
  "kernelspec": {
   "name": "python3",
   "display_name": "Python 3.8.8 64-bit ('base': conda)"
  },
  "language_info": {
   "codemirror_mode": {
    "name": "ipython",
    "version": 3
   },
   "file_extension": ".py",
   "mimetype": "text/x-python",
   "name": "python",
   "nbconvert_exporter": "python",
   "pygments_lexer": "ipython3",
   "version": "3.8.8"
  },
  "interpreter": {
   "hash": "6ae5a69d51937321194477b0fe6b784bc91adc50b6dc6daadd06e0a4296b18e7"
  }
 },
 "nbformat": 4,
 "nbformat_minor": 5
}