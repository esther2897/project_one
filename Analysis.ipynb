{
 "cells": [
  {
   "cell_type": "code",
   "execution_count": 26,
   "id": "4f17020b",
   "metadata": {},
   "outputs": [],
   "source": [
    "import pandas as pd\n",
    "import os"
   ]
  },
  {
   "cell_type": "code",
   "execution_count": 33,
   "id": "6410e4a1",
   "metadata": {},
   "outputs": [],
   "source": [
    "dataframes = []\n",
    "for file in os.listdir(\"datasets\"):\n",
    "    path = os.path.join(\"datasets\",file)\n",
    "    frame = pd.read_csv(path)\n",
    "    dataframes.append(frame)"
   ]
  },
  {
   "cell_type": "code",
   "execution_count": 34,
   "id": "55d6cc4f",
   "metadata": {},
   "outputs": [],
   "source": [
    "# Create dataframe for state, COCs, and total homelessness\n",
    "PIT_index = [0, 2, 3, 6]\n",
    "PIT_frames = []\n",
    "for num in PIT_index: \n",
    "    temp_frame = dataframes[num][dataframes[num].columns[0:3]]\n",
    "    PIT_frames.append(temp_frame)"
   ]
  },
  {
   "cell_type": "code",
   "execution_count": 35,
   "id": "eb42f0e0",
   "metadata": {},
   "outputs": [
    {
     "data": {
      "text/plain": [
       "Index(['State', 'Number of CoCs', 'Overall Homeless, 2020'], dtype='object')"
      ]
     },
     "execution_count": 35,
     "metadata": {},
     "output_type": "execute_result"
    }
   ],
   "source": [
    "PIT_frames[0].columns"
   ]
  },
  {
   "cell_type": "code",
   "execution_count": 36,
   "id": "6c8ee5ac",
   "metadata": {},
   "outputs": [
    {
     "data": {
      "text/html": [
       "<div>\n",
       "<style scoped>\n",
       "    .dataframe tbody tr th:only-of-type {\n",
       "        vertical-align: middle;\n",
       "    }\n",
       "\n",
       "    .dataframe tbody tr th {\n",
       "        vertical-align: top;\n",
       "    }\n",
       "\n",
       "    .dataframe thead th {\n",
       "        text-align: right;\n",
       "    }\n",
       "</style>\n",
       "<table border=\"1\" class=\"dataframe\">\n",
       "  <thead>\n",
       "    <tr style=\"text-align: right;\">\n",
       "      <th></th>\n",
       "      <th>State</th>\n",
       "      <th>Number of CoCs</th>\n",
       "      <th>Overall Homeless, 2017</th>\n",
       "    </tr>\n",
       "  </thead>\n",
       "  <tbody>\n",
       "    <tr>\n",
       "      <th>0</th>\n",
       "      <td>AK</td>\n",
       "      <td>2</td>\n",
       "      <td>1,845</td>\n",
       "    </tr>\n",
       "    <tr>\n",
       "      <th>1</th>\n",
       "      <td>AL</td>\n",
       "      <td>8</td>\n",
       "      <td>3,793</td>\n",
       "    </tr>\n",
       "    <tr>\n",
       "      <th>2</th>\n",
       "      <td>AR</td>\n",
       "      <td>6</td>\n",
       "      <td>2,467</td>\n",
       "    </tr>\n",
       "    <tr>\n",
       "      <th>3</th>\n",
       "      <td>AZ</td>\n",
       "      <td>3</td>\n",
       "      <td>8,947</td>\n",
       "    </tr>\n",
       "    <tr>\n",
       "      <th>4</th>\n",
       "      <td>CA</td>\n",
       "      <td>43</td>\n",
       "      <td>131,532</td>\n",
       "    </tr>\n",
       "  </tbody>\n",
       "</table>\n",
       "</div>"
      ],
      "text/plain": [
       "  State  Number of CoCs Overall Homeless, 2017\n",
       "0    AK               2                  1,845\n",
       "1    AL               8                  3,793\n",
       "2    AR               6                  2,467\n",
       "3    AZ               3                  8,947\n",
       "4    CA              43                131,532"
      ]
     },
     "execution_count": 36,
     "metadata": {},
     "output_type": "execute_result"
    }
   ],
   "source": [
    "PIT_frames[3].head()"
   ]
  },
  {
   "cell_type": "code",
   "execution_count": 37,
   "id": "77ea6f8a",
   "metadata": {},
   "outputs": [],
   "source": [
    "# loop through frames and format for maps\n",
    "year = 2017\n",
    "index = 3\n",
    "map_frames = []\n",
    "while index >= 0:\n",
    "    df = PIT_frames[index].rename(columns={f'Overall Homeless, {year}': 'Overall Homeless'})\n",
    "    df[\"Overall Homeless\"] = df[\"Overall Homeless\"].str.replace(',', '')\n",
    "    map_frames.append(df)\n",
    "    index = index - 1\n",
    "    year = year + 1"
   ]
  },
  {
   "cell_type": "code",
   "execution_count": 38,
   "id": "e93a7e5d",
   "metadata": {},
   "outputs": [
    {
     "name": "stdout",
     "output_type": "stream",
     "text": [
      "Index(['State', 'Number of CoCs', 'Overall Homeless'], dtype='object')\n",
      "Index(['State', 'Number of CoCs', 'Overall Homeless'], dtype='object')\n",
      "Index(['State', 'Number of CoCs', 'Overall Homeless'], dtype='object')\n",
      "Index(['State', 'Number of CoCs', 'Overall Homeless'], dtype='object')\n"
     ]
    },
    {
     "data": {
      "text/html": [
       "<div>\n",
       "<style scoped>\n",
       "    .dataframe tbody tr th:only-of-type {\n",
       "        vertical-align: middle;\n",
       "    }\n",
       "\n",
       "    .dataframe tbody tr th {\n",
       "        vertical-align: top;\n",
       "    }\n",
       "\n",
       "    .dataframe thead th {\n",
       "        text-align: right;\n",
       "    }\n",
       "</style>\n",
       "<table border=\"1\" class=\"dataframe\">\n",
       "  <thead>\n",
       "    <tr style=\"text-align: right;\">\n",
       "      <th></th>\n",
       "      <th>State</th>\n",
       "      <th>Number of CoCs</th>\n",
       "      <th>Overall Homeless</th>\n",
       "    </tr>\n",
       "  </thead>\n",
       "  <tbody>\n",
       "    <tr>\n",
       "      <th>0</th>\n",
       "      <td>AK</td>\n",
       "      <td>2</td>\n",
       "      <td>1845</td>\n",
       "    </tr>\n",
       "    <tr>\n",
       "      <th>1</th>\n",
       "      <td>AL</td>\n",
       "      <td>8</td>\n",
       "      <td>3793</td>\n",
       "    </tr>\n",
       "    <tr>\n",
       "      <th>2</th>\n",
       "      <td>AR</td>\n",
       "      <td>6</td>\n",
       "      <td>2467</td>\n",
       "    </tr>\n",
       "    <tr>\n",
       "      <th>3</th>\n",
       "      <td>AZ</td>\n",
       "      <td>3</td>\n",
       "      <td>8947</td>\n",
       "    </tr>\n",
       "    <tr>\n",
       "      <th>4</th>\n",
       "      <td>CA</td>\n",
       "      <td>43</td>\n",
       "      <td>131532</td>\n",
       "    </tr>\n",
       "  </tbody>\n",
       "</table>\n",
       "</div>"
      ],
      "text/plain": [
       "  State  Number of CoCs Overall Homeless\n",
       "0    AK               2             1845\n",
       "1    AL               8             3793\n",
       "2    AR               6             2467\n",
       "3    AZ               3             8947\n",
       "4    CA              43           131532"
      ]
     },
     "execution_count": 38,
     "metadata": {},
     "output_type": "execute_result"
    }
   ],
   "source": [
    "for frame in map_frames:\n",
    "    print(frame.columns)\n",
    "map_frames[0].head()"
   ]
  },
  {
   "cell_type": "code",
   "execution_count": 39,
   "id": "b7c194de",
   "metadata": {},
   "outputs": [
    {
     "data": {
      "text/html": [
       "<div>\n",
       "<style scoped>\n",
       "    .dataframe tbody tr th:only-of-type {\n",
       "        vertical-align: middle;\n",
       "    }\n",
       "\n",
       "    .dataframe tbody tr th {\n",
       "        vertical-align: top;\n",
       "    }\n",
       "\n",
       "    .dataframe thead th {\n",
       "        text-align: right;\n",
       "    }\n",
       "</style>\n",
       "<table border=\"1\" class=\"dataframe\">\n",
       "  <thead>\n",
       "    <tr style=\"text-align: right;\">\n",
       "      <th></th>\n",
       "      <th>State</th>\n",
       "      <th>Number of CoCs</th>\n",
       "      <th>Overall Homeless</th>\n",
       "    </tr>\n",
       "  </thead>\n",
       "  <tbody>\n",
       "    <tr>\n",
       "      <th>0</th>\n",
       "      <td>AK</td>\n",
       "      <td>2</td>\n",
       "      <td>2016</td>\n",
       "    </tr>\n",
       "    <tr>\n",
       "      <th>1</th>\n",
       "      <td>AL</td>\n",
       "      <td>8</td>\n",
       "      <td>3434</td>\n",
       "    </tr>\n",
       "    <tr>\n",
       "      <th>2</th>\n",
       "      <td>AR</td>\n",
       "      <td>7</td>\n",
       "      <td>2712</td>\n",
       "    </tr>\n",
       "    <tr>\n",
       "      <th>3</th>\n",
       "      <td>AZ</td>\n",
       "      <td>3</td>\n",
       "      <td>9865</td>\n",
       "    </tr>\n",
       "    <tr>\n",
       "      <th>4</th>\n",
       "      <td>CA</td>\n",
       "      <td>43</td>\n",
       "      <td>129972</td>\n",
       "    </tr>\n",
       "  </tbody>\n",
       "</table>\n",
       "</div>"
      ],
      "text/plain": [
       "  State  Number of CoCs Overall Homeless\n",
       "0    AK               2             2016\n",
       "1    AL               8             3434\n",
       "2    AR               7             2712\n",
       "3    AZ               3             9865\n",
       "4    CA              43           129972"
      ]
     },
     "execution_count": 39,
     "metadata": {},
     "output_type": "execute_result"
    }
   ],
   "source": [
    "map_frames[1].head()"
   ]
  },
  {
   "cell_type": "code",
   "execution_count": 40,
   "id": "060c310c",
   "metadata": {},
   "outputs": [
    {
     "data": {
      "text/html": [
       "<div>\n",
       "<style scoped>\n",
       "    .dataframe tbody tr th:only-of-type {\n",
       "        vertical-align: middle;\n",
       "    }\n",
       "\n",
       "    .dataframe tbody tr th {\n",
       "        vertical-align: top;\n",
       "    }\n",
       "\n",
       "    .dataframe thead th {\n",
       "        text-align: right;\n",
       "    }\n",
       "</style>\n",
       "<table border=\"1\" class=\"dataframe\">\n",
       "  <thead>\n",
       "    <tr style=\"text-align: right;\">\n",
       "      <th></th>\n",
       "      <th>State</th>\n",
       "      <th>Number of CoCs</th>\n",
       "      <th>Overall Homeless</th>\n",
       "    </tr>\n",
       "  </thead>\n",
       "  <tbody>\n",
       "    <tr>\n",
       "      <th>0</th>\n",
       "      <td>AK</td>\n",
       "      <td>2</td>\n",
       "      <td>1907</td>\n",
       "    </tr>\n",
       "    <tr>\n",
       "      <th>1</th>\n",
       "      <td>AL</td>\n",
       "      <td>8</td>\n",
       "      <td>3261</td>\n",
       "    </tr>\n",
       "    <tr>\n",
       "      <th>2</th>\n",
       "      <td>AR</td>\n",
       "      <td>5</td>\n",
       "      <td>2717</td>\n",
       "    </tr>\n",
       "    <tr>\n",
       "      <th>3</th>\n",
       "      <td>AZ</td>\n",
       "      <td>3</td>\n",
       "      <td>10007</td>\n",
       "    </tr>\n",
       "    <tr>\n",
       "      <th>4</th>\n",
       "      <td>CA</td>\n",
       "      <td>44</td>\n",
       "      <td>151278</td>\n",
       "    </tr>\n",
       "  </tbody>\n",
       "</table>\n",
       "</div>"
      ],
      "text/plain": [
       "  State  Number of CoCs Overall Homeless\n",
       "0    AK               2             1907\n",
       "1    AL               8             3261\n",
       "2    AR               5             2717\n",
       "3    AZ               3            10007\n",
       "4    CA              44           151278"
      ]
     },
     "execution_count": 40,
     "metadata": {},
     "output_type": "execute_result"
    }
   ],
   "source": [
    "map_frames[2].head()"
   ]
  },
  {
   "cell_type": "code",
   "execution_count": 42,
   "id": "ec7d9347",
   "metadata": {},
   "outputs": [
    {
     "data": {
      "text/html": [
       "        <script type=\"text/javascript\">\n",
       "        window.PlotlyConfig = {MathJaxConfig: 'local'};\n",
       "        if (window.MathJax) {MathJax.Hub.Config({SVG: {font: \"STIX-Web\"}});}\n",
       "        if (typeof require !== 'undefined') {\n",
       "        require.undef(\"plotly\");\n",
       "        requirejs.config({\n",
       "            paths: {\n",
       "                'plotly': ['https://cdn.plot.ly/plotly-2.2.0.min']\n",
       "            }\n",
       "        });\n",
       "        require(['plotly'], function(Plotly) {\n",
       "            window._Plotly = Plotly;\n",
       "        });\n",
       "        }\n",
       "        </script>\n",
       "        "
      ]
     },
     "metadata": {},
     "output_type": "display_data"
    },
    {
     "data": {
      "application/vnd.plotly.v1+json": {
       "config": {
        "linkText": "Export to plot.ly",
        "plotlyServerURL": "https://plot.ly",
        "showLink": false
       },
       "data": [
        {
         "colorscale": [
          [
           0,
           "#ffffff"
          ],
          [
           0.2,
           "#ff9999"
          ],
          [
           0.4,
           "#ff4d4d"
          ],
          [
           0.6,
           "#ff1a1a"
          ],
          [
           0.8,
           "#cc0000"
          ],
          [
           1,
           "#4d0000"
          ]
         ],
         "locationmode": "USA-states",
         "locations": [
          "AK",
          "AL",
          "AR",
          "AZ",
          "CA",
          "CO",
          "CT",
          "DC",
          "DE",
          "FL",
          "GA",
          "GU",
          "HI",
          "IA",
          "ID",
          "IL",
          "IN",
          "KS",
          "KY",
          "LA",
          "MA",
          "MD",
          "ME",
          "MI",
          "MN",
          "MO",
          "MP",
          "MS",
          "MT",
          "NC",
          "ND",
          "NE",
          "NH",
          "NJ",
          "NM",
          "NV",
          "NY",
          "OH",
          "OK",
          "OR",
          "PA",
          "PR",
          "RI",
          "SC",
          "SD",
          "TN",
          "TX",
          "UT",
          "VA",
          "VI",
          "VT",
          "WA",
          "WI",
          "WV",
          "WY",
          "Total"
         ],
         "text": [
          "2",
          "8",
          "6",
          "3",
          "43",
          "3",
          "2",
          "1",
          "1",
          "27",
          "9",
          "1",
          "2",
          "3",
          "2",
          "20",
          "2",
          "5",
          "3",
          "8",
          "15",
          "16",
          "1",
          "21",
          "10",
          "8",
          "1",
          "3",
          "1",
          "12",
          "1",
          "3",
          "3",
          "16",
          "2",
          "3",
          "26",
          "9",
          "8",
          "7",
          "16",
          "2",
          "1",
          "4",
          "1",
          "10",
          "11",
          "3",
          "16",
          "1",
          "2",
          "7",
          "4",
          "4",
          "1",
          "399"
         ],
         "type": "choropleth",
         "z": [
          1845,
          3793,
          2467,
          8947,
          131532,
          10940,
          3388,
          7473,
          994,
          32190,
          10174,
          852,
          7220,
          2756,
          2037,
          10798,
          5438,
          2287,
          4025,
          3305,
          17565,
          7247,
          2280,
          9051,
          7668,
          6037,
          672,
          1472,
          1529,
          8962,
          1089,
          2501,
          1456,
          8536,
          2482,
          7833,
          89503,
          10095,
          4199,
          13953,
          14138,
          3525,
          1180,
          3916,
          943,
          8309,
          23548,
          2852,
          6067,
          381,
          1225,
          21112,
          5027,
          1309,
          873,
          550996
         ]
        },
        {
         "colorscale": [
          [
           0,
           "#ffffff"
          ],
          [
           0.2,
           "#ff9999"
          ],
          [
           0.4,
           "#ff4d4d"
          ],
          [
           0.6,
           "#ff1a1a"
          ],
          [
           0.8,
           "#cc0000"
          ],
          [
           1,
           "#4d0000"
          ]
         ],
         "locationmode": "USA-states",
         "locations": [
          "AK",
          "AL",
          "AR",
          "AZ",
          "CA",
          "CO",
          "CT",
          "DC",
          "DE",
          "FL",
          "GA",
          "GU",
          "HI",
          "IA",
          "ID",
          "IL",
          "IN",
          "KS",
          "KY",
          "LA",
          "MA",
          "MD",
          "ME",
          "MI",
          "MN",
          "MO",
          "MP",
          "MS",
          "MT",
          "NC",
          "ND",
          "NE",
          "NH",
          "NJ",
          "NM",
          "NV",
          "NY",
          "OH",
          "OK",
          "OR",
          "PA",
          "PR",
          "RI",
          "SC",
          "SD",
          "TN",
          "TX",
          "UT",
          "VA",
          "VI",
          "VT",
          "WA",
          "WI",
          "WV",
          "WY",
          "Total"
         ],
         "text": [
          "2",
          "8",
          "7",
          "3",
          "43",
          "3",
          "2",
          "1",
          "1",
          "27",
          "9",
          "1",
          "2",
          "3",
          "2",
          "20",
          "2",
          "5",
          "3",
          "7",
          "15",
          "16",
          "1",
          "21",
          "10",
          "8",
          "1",
          "3",
          "1",
          "12",
          "1",
          "3",
          "3",
          "16",
          "2",
          "3",
          "26",
          "9",
          "8",
          "7",
          "16",
          "2",
          "1",
          "4",
          "1",
          "10",
          "11",
          "3",
          "16",
          "1",
          "2",
          "6",
          "4",
          "4",
          "1",
          "398"
         ],
         "type": "choropleth",
         "z": [
          2016,
          3434,
          2712,
          9865,
          129972,
          10857,
          3976,
          6904,
          1082,
          31030,
          9499,
          854,
          6530,
          2749,
          2012,
          10643,
          5258,
          2216,
          3688,
          3059,
          20068,
          7144,
          2516,
          8351,
          7243,
          5883,
          1044,
          1352,
          1405,
          9268,
          542,
          2421,
          1450,
          9398,
          2551,
          7544,
          91897,
          10249,
          3871,
          14476,
          13512,
          3182,
          1101,
          3933,
          1159,
          7883,
          25310,
          2876,
          5975,
          486,
          1291,
          22304,
          4907,
          1243,
          639,
          552830
         ]
        },
        {
         "colorscale": [
          [
           0,
           "#ffffff"
          ],
          [
           0.2,
           "#ff9999"
          ],
          [
           0.4,
           "#ff4d4d"
          ],
          [
           0.6,
           "#ff1a1a"
          ],
          [
           0.8,
           "#cc0000"
          ],
          [
           1,
           "#4d0000"
          ]
         ],
         "locationmode": "USA-states",
         "locations": [
          "AK",
          "AL",
          "AR",
          "AZ",
          "CA",
          "CO",
          "CT",
          "DC",
          "DE",
          "FL",
          "GA",
          "GU",
          "HI",
          "IA",
          "ID",
          "IL",
          "IN",
          "KS",
          "KY",
          "LA",
          "MA",
          "MD",
          "ME",
          "MI",
          "MN",
          "MO",
          "MP",
          "MS",
          "MT",
          "NC",
          "ND",
          "NE",
          "NH",
          "NJ",
          "NM",
          "NV",
          "NY",
          "OH",
          "OK",
          "OR",
          "PA",
          "PR",
          "RI",
          "SC",
          "SD",
          "TN",
          "TX",
          "UT",
          "VA",
          "VI",
          "VT",
          "WA",
          "WI",
          "WV",
          "WY",
          "Total"
         ],
         "text": [
          "2",
          "8",
          "5",
          "3",
          "44",
          "3",
          "2",
          "1",
          "1",
          "27",
          "9",
          "1",
          "2",
          "3",
          "2",
          "19",
          "2",
          "5",
          "3",
          "7",
          "15",
          "16",
          "1",
          "21",
          "10",
          "8",
          "1",
          "3",
          "1",
          "12",
          "1",
          "3",
          "3",
          "16",
          "2",
          "3",
          "27",
          "9",
          "8",
          "7",
          "16",
          "2",
          "1",
          "4",
          "1",
          "10",
          "11",
          "3",
          "16",
          "1",
          "2",
          "6",
          "4",
          "4",
          "1",
          "397"
         ],
         "type": "choropleth",
         "z": [
          1907,
          3261,
          2717,
          10007,
          151278,
          9619,
          3033,
          6521,
          921,
          28328,
          10443,
          875,
          6412,
          2315,
          2315,
          10199,
          5471,
          2381,
          4079,
          2941,
          18471,
          6561,
          2106,
          8575,
          7977,
          6179,
          1807,
          1184,
          1357,
          9314,
          557,
          2365,
          1396,
          8862,
          3241,
          7169,
          92091,
          10345,
          3944,
          15876,
          13199,
          2535,
          1055,
          4172,
          995,
          7467,
          25848,
          2798,
          5783,
          314,
          1089,
          21577,
          4538,
          1397,
          548,
          567715
         ]
        },
        {
         "colorscale": [
          [
           0,
           "#ffffff"
          ],
          [
           0.2,
           "#ff9999"
          ],
          [
           0.4,
           "#ff4d4d"
          ],
          [
           0.6,
           "#ff1a1a"
          ],
          [
           0.8,
           "#cc0000"
          ],
          [
           1,
           "#4d0000"
          ]
         ],
         "locationmode": "USA-states",
         "locations": [
          "AK",
          "AL",
          "AR",
          "AZ",
          "CA",
          "CO",
          "CT",
          "DC",
          "DE",
          "FL",
          "GA",
          "GU",
          "HI",
          "IA",
          "ID",
          "IL",
          "IN",
          "KS",
          "KY",
          "LA",
          "MA",
          "MD",
          "ME",
          "MI",
          "MN",
          "MO",
          "MP",
          "MS",
          "MT",
          "NC",
          "ND",
          "NE",
          "NH",
          "NJ",
          "NM",
          "NV",
          "NY",
          "OH",
          "OK",
          "OR",
          "PA",
          "PR",
          "RI",
          "SC",
          "SD",
          "TN",
          "TX",
          "UT",
          "VA",
          "VI",
          "VT",
          "WA",
          "WI",
          "WV",
          "WY",
          "Total"
         ],
         "text": [
          "2",
          "8",
          "4",
          "3",
          "44",
          "4",
          "2",
          "1",
          "1",
          "27",
          "9",
          "1",
          "2",
          "3",
          "2",
          "19",
          "2",
          "5",
          "3",
          "7",
          "13",
          "16",
          "1",
          "20",
          "10",
          "8",
          "1",
          "3",
          "1",
          "12",
          "1",
          "3",
          "3",
          "16",
          "2",
          "3",
          "24",
          "9",
          "8",
          "8",
          "16",
          "2",
          "1",
          "4",
          "1",
          "10",
          "11",
          "3",
          "16",
          "1",
          "2",
          "6",
          "4",
          "4",
          "1",
          "392"
         ],
         "type": "choropleth",
         "z": [
          1949,
          3351,
          2366,
          10979,
          161548,
          9846,
          2905,
          6380,
          1165,
          27487,
          10234,
          790,
          6458,
          2647,
          2315,
          10431,
          5625,
          2449,
          4011,
          3173,
          17975,
          6360,
          2097,
          8638,
          7940,
          6527,
          1207,
          1107,
          1545,
          9280,
          541,
          2404,
          1675,
          9662,
          3333,
          6900,
          91271,
          10655,
          3932,
          14655,
          13375,
          2451,
          1104,
          4287,
          1058,
          7256,
          27229,
          3131,
          5957,
          304,
          1110,
          22923,
          4515,
          1341,
          612,
          580466
         ]
        }
       ],
       "layout": {
        "autosize": true,
        "geo": {
         "projection": {
          "type": "albers usa"
         },
         "scope": "usa"
        },
        "sliders": [
         {
          "active": 0,
          "pad": {
           "t": 1
          },
          "steps": [
           {
            "args": [
             "visible",
             [
              true,
              false,
              false,
              false
             ]
            ],
            "label": "Year 2017",
            "method": "restyle"
           },
           {
            "args": [
             "visible",
             [
              false,
              true,
              false,
              false
             ]
            ],
            "label": "Year 2018",
            "method": "restyle"
           },
           {
            "args": [
             "visible",
             [
              false,
              false,
              true,
              false
             ]
            ],
            "label": "Year 2019",
            "method": "restyle"
           },
           {
            "args": [
             "visible",
             [
              false,
              false,
              false,
              true
             ]
            ],
            "label": "Year 2020",
            "method": "restyle"
           }
          ]
         }
        ],
        "template": {
         "data": {
          "bar": [
           {
            "error_x": {
             "color": "#2a3f5f"
            },
            "error_y": {
             "color": "#2a3f5f"
            },
            "marker": {
             "line": {
              "color": "#E5ECF6",
              "width": 0.5
             },
             "pattern": {
              "fillmode": "overlay",
              "size": 10,
              "solidity": 0.2
             }
            },
            "type": "bar"
           }
          ],
          "barpolar": [
           {
            "marker": {
             "line": {
              "color": "#E5ECF6",
              "width": 0.5
             },
             "pattern": {
              "fillmode": "overlay",
              "size": 10,
              "solidity": 0.2
             }
            },
            "type": "barpolar"
           }
          ],
          "carpet": [
           {
            "aaxis": {
             "endlinecolor": "#2a3f5f",
             "gridcolor": "white",
             "linecolor": "white",
             "minorgridcolor": "white",
             "startlinecolor": "#2a3f5f"
            },
            "baxis": {
             "endlinecolor": "#2a3f5f",
             "gridcolor": "white",
             "linecolor": "white",
             "minorgridcolor": "white",
             "startlinecolor": "#2a3f5f"
            },
            "type": "carpet"
           }
          ],
          "choropleth": [
           {
            "colorbar": {
             "outlinewidth": 0,
             "ticks": ""
            },
            "type": "choropleth"
           }
          ],
          "contour": [
           {
            "colorbar": {
             "outlinewidth": 0,
             "ticks": ""
            },
            "colorscale": [
             [
              0,
              "#0d0887"
             ],
             [
              0.1111111111111111,
              "#46039f"
             ],
             [
              0.2222222222222222,
              "#7201a8"
             ],
             [
              0.3333333333333333,
              "#9c179e"
             ],
             [
              0.4444444444444444,
              "#bd3786"
             ],
             [
              0.5555555555555556,
              "#d8576b"
             ],
             [
              0.6666666666666666,
              "#ed7953"
             ],
             [
              0.7777777777777778,
              "#fb9f3a"
             ],
             [
              0.8888888888888888,
              "#fdca26"
             ],
             [
              1,
              "#f0f921"
             ]
            ],
            "type": "contour"
           }
          ],
          "contourcarpet": [
           {
            "colorbar": {
             "outlinewidth": 0,
             "ticks": ""
            },
            "type": "contourcarpet"
           }
          ],
          "heatmap": [
           {
            "colorbar": {
             "outlinewidth": 0,
             "ticks": ""
            },
            "colorscale": [
             [
              0,
              "#0d0887"
             ],
             [
              0.1111111111111111,
              "#46039f"
             ],
             [
              0.2222222222222222,
              "#7201a8"
             ],
             [
              0.3333333333333333,
              "#9c179e"
             ],
             [
              0.4444444444444444,
              "#bd3786"
             ],
             [
              0.5555555555555556,
              "#d8576b"
             ],
             [
              0.6666666666666666,
              "#ed7953"
             ],
             [
              0.7777777777777778,
              "#fb9f3a"
             ],
             [
              0.8888888888888888,
              "#fdca26"
             ],
             [
              1,
              "#f0f921"
             ]
            ],
            "type": "heatmap"
           }
          ],
          "heatmapgl": [
           {
            "colorbar": {
             "outlinewidth": 0,
             "ticks": ""
            },
            "colorscale": [
             [
              0,
              "#0d0887"
             ],
             [
              0.1111111111111111,
              "#46039f"
             ],
             [
              0.2222222222222222,
              "#7201a8"
             ],
             [
              0.3333333333333333,
              "#9c179e"
             ],
             [
              0.4444444444444444,
              "#bd3786"
             ],
             [
              0.5555555555555556,
              "#d8576b"
             ],
             [
              0.6666666666666666,
              "#ed7953"
             ],
             [
              0.7777777777777778,
              "#fb9f3a"
             ],
             [
              0.8888888888888888,
              "#fdca26"
             ],
             [
              1,
              "#f0f921"
             ]
            ],
            "type": "heatmapgl"
           }
          ],
          "histogram": [
           {
            "marker": {
             "pattern": {
              "fillmode": "overlay",
              "size": 10,
              "solidity": 0.2
             }
            },
            "type": "histogram"
           }
          ],
          "histogram2d": [
           {
            "colorbar": {
             "outlinewidth": 0,
             "ticks": ""
            },
            "colorscale": [
             [
              0,
              "#0d0887"
             ],
             [
              0.1111111111111111,
              "#46039f"
             ],
             [
              0.2222222222222222,
              "#7201a8"
             ],
             [
              0.3333333333333333,
              "#9c179e"
             ],
             [
              0.4444444444444444,
              "#bd3786"
             ],
             [
              0.5555555555555556,
              "#d8576b"
             ],
             [
              0.6666666666666666,
              "#ed7953"
             ],
             [
              0.7777777777777778,
              "#fb9f3a"
             ],
             [
              0.8888888888888888,
              "#fdca26"
             ],
             [
              1,
              "#f0f921"
             ]
            ],
            "type": "histogram2d"
           }
          ],
          "histogram2dcontour": [
           {
            "colorbar": {
             "outlinewidth": 0,
             "ticks": ""
            },
            "colorscale": [
             [
              0,
              "#0d0887"
             ],
             [
              0.1111111111111111,
              "#46039f"
             ],
             [
              0.2222222222222222,
              "#7201a8"
             ],
             [
              0.3333333333333333,
              "#9c179e"
             ],
             [
              0.4444444444444444,
              "#bd3786"
             ],
             [
              0.5555555555555556,
              "#d8576b"
             ],
             [
              0.6666666666666666,
              "#ed7953"
             ],
             [
              0.7777777777777778,
              "#fb9f3a"
             ],
             [
              0.8888888888888888,
              "#fdca26"
             ],
             [
              1,
              "#f0f921"
             ]
            ],
            "type": "histogram2dcontour"
           }
          ],
          "mesh3d": [
           {
            "colorbar": {
             "outlinewidth": 0,
             "ticks": ""
            },
            "type": "mesh3d"
           }
          ],
          "parcoords": [
           {
            "line": {
             "colorbar": {
              "outlinewidth": 0,
              "ticks": ""
             }
            },
            "type": "parcoords"
           }
          ],
          "pie": [
           {
            "automargin": true,
            "type": "pie"
           }
          ],
          "scatter": [
           {
            "marker": {
             "colorbar": {
              "outlinewidth": 0,
              "ticks": ""
             }
            },
            "type": "scatter"
           }
          ],
          "scatter3d": [
           {
            "line": {
             "colorbar": {
              "outlinewidth": 0,
              "ticks": ""
             }
            },
            "marker": {
             "colorbar": {
              "outlinewidth": 0,
              "ticks": ""
             }
            },
            "type": "scatter3d"
           }
          ],
          "scattercarpet": [
           {
            "marker": {
             "colorbar": {
              "outlinewidth": 0,
              "ticks": ""
             }
            },
            "type": "scattercarpet"
           }
          ],
          "scattergeo": [
           {
            "marker": {
             "colorbar": {
              "outlinewidth": 0,
              "ticks": ""
             }
            },
            "type": "scattergeo"
           }
          ],
          "scattergl": [
           {
            "marker": {
             "colorbar": {
              "outlinewidth": 0,
              "ticks": ""
             }
            },
            "type": "scattergl"
           }
          ],
          "scattermapbox": [
           {
            "marker": {
             "colorbar": {
              "outlinewidth": 0,
              "ticks": ""
             }
            },
            "type": "scattermapbox"
           }
          ],
          "scatterpolar": [
           {
            "marker": {
             "colorbar": {
              "outlinewidth": 0,
              "ticks": ""
             }
            },
            "type": "scatterpolar"
           }
          ],
          "scatterpolargl": [
           {
            "marker": {
             "colorbar": {
              "outlinewidth": 0,
              "ticks": ""
             }
            },
            "type": "scatterpolargl"
           }
          ],
          "scatterternary": [
           {
            "marker": {
             "colorbar": {
              "outlinewidth": 0,
              "ticks": ""
             }
            },
            "type": "scatterternary"
           }
          ],
          "surface": [
           {
            "colorbar": {
             "outlinewidth": 0,
             "ticks": ""
            },
            "colorscale": [
             [
              0,
              "#0d0887"
             ],
             [
              0.1111111111111111,
              "#46039f"
             ],
             [
              0.2222222222222222,
              "#7201a8"
             ],
             [
              0.3333333333333333,
              "#9c179e"
             ],
             [
              0.4444444444444444,
              "#bd3786"
             ],
             [
              0.5555555555555556,
              "#d8576b"
             ],
             [
              0.6666666666666666,
              "#ed7953"
             ],
             [
              0.7777777777777778,
              "#fb9f3a"
             ],
             [
              0.8888888888888888,
              "#fdca26"
             ],
             [
              1,
              "#f0f921"
             ]
            ],
            "type": "surface"
           }
          ],
          "table": [
           {
            "cells": {
             "fill": {
              "color": "#EBF0F8"
             },
             "line": {
              "color": "white"
             }
            },
            "header": {
             "fill": {
              "color": "#C8D4E3"
             },
             "line": {
              "color": "white"
             }
            },
            "type": "table"
           }
          ]
         },
         "layout": {
          "annotationdefaults": {
           "arrowcolor": "#2a3f5f",
           "arrowhead": 0,
           "arrowwidth": 1
          },
          "autotypenumbers": "strict",
          "coloraxis": {
           "colorbar": {
            "outlinewidth": 0,
            "ticks": ""
           }
          },
          "colorscale": {
           "diverging": [
            [
             0,
             "#8e0152"
            ],
            [
             0.1,
             "#c51b7d"
            ],
            [
             0.2,
             "#de77ae"
            ],
            [
             0.3,
             "#f1b6da"
            ],
            [
             0.4,
             "#fde0ef"
            ],
            [
             0.5,
             "#f7f7f7"
            ],
            [
             0.6,
             "#e6f5d0"
            ],
            [
             0.7,
             "#b8e186"
            ],
            [
             0.8,
             "#7fbc41"
            ],
            [
             0.9,
             "#4d9221"
            ],
            [
             1,
             "#276419"
            ]
           ],
           "sequential": [
            [
             0,
             "#0d0887"
            ],
            [
             0.1111111111111111,
             "#46039f"
            ],
            [
             0.2222222222222222,
             "#7201a8"
            ],
            [
             0.3333333333333333,
             "#9c179e"
            ],
            [
             0.4444444444444444,
             "#bd3786"
            ],
            [
             0.5555555555555556,
             "#d8576b"
            ],
            [
             0.6666666666666666,
             "#ed7953"
            ],
            [
             0.7777777777777778,
             "#fb9f3a"
            ],
            [
             0.8888888888888888,
             "#fdca26"
            ],
            [
             1,
             "#f0f921"
            ]
           ],
           "sequentialminus": [
            [
             0,
             "#0d0887"
            ],
            [
             0.1111111111111111,
             "#46039f"
            ],
            [
             0.2222222222222222,
             "#7201a8"
            ],
            [
             0.3333333333333333,
             "#9c179e"
            ],
            [
             0.4444444444444444,
             "#bd3786"
            ],
            [
             0.5555555555555556,
             "#d8576b"
            ],
            [
             0.6666666666666666,
             "#ed7953"
            ],
            [
             0.7777777777777778,
             "#fb9f3a"
            ],
            [
             0.8888888888888888,
             "#fdca26"
            ],
            [
             1,
             "#f0f921"
            ]
           ]
          },
          "colorway": [
           "#636efa",
           "#EF553B",
           "#00cc96",
           "#ab63fa",
           "#FFA15A",
           "#19d3f3",
           "#FF6692",
           "#B6E880",
           "#FF97FF",
           "#FECB52"
          ],
          "font": {
           "color": "#2a3f5f"
          },
          "geo": {
           "bgcolor": "white",
           "lakecolor": "white",
           "landcolor": "#E5ECF6",
           "showlakes": true,
           "showland": true,
           "subunitcolor": "white"
          },
          "hoverlabel": {
           "align": "left"
          },
          "hovermode": "closest",
          "mapbox": {
           "style": "light"
          },
          "paper_bgcolor": "white",
          "plot_bgcolor": "#E5ECF6",
          "polar": {
           "angularaxis": {
            "gridcolor": "white",
            "linecolor": "white",
            "ticks": ""
           },
           "bgcolor": "#E5ECF6",
           "radialaxis": {
            "gridcolor": "white",
            "linecolor": "white",
            "ticks": ""
           }
          },
          "scene": {
           "xaxis": {
            "backgroundcolor": "#E5ECF6",
            "gridcolor": "white",
            "gridwidth": 2,
            "linecolor": "white",
            "showbackground": true,
            "ticks": "",
            "zerolinecolor": "white"
           },
           "yaxis": {
            "backgroundcolor": "#E5ECF6",
            "gridcolor": "white",
            "gridwidth": 2,
            "linecolor": "white",
            "showbackground": true,
            "ticks": "",
            "zerolinecolor": "white"
           },
           "zaxis": {
            "backgroundcolor": "#E5ECF6",
            "gridcolor": "white",
            "gridwidth": 2,
            "linecolor": "white",
            "showbackground": true,
            "ticks": "",
            "zerolinecolor": "white"
           }
          },
          "shapedefaults": {
           "line": {
            "color": "#2a3f5f"
           }
          },
          "ternary": {
           "aaxis": {
            "gridcolor": "white",
            "linecolor": "white",
            "ticks": ""
           },
           "baxis": {
            "gridcolor": "white",
            "linecolor": "white",
            "ticks": ""
           },
           "bgcolor": "#E5ECF6",
           "caxis": {
            "gridcolor": "white",
            "linecolor": "white",
            "ticks": ""
           }
          },
          "title": {
           "x": 0.05
          },
          "xaxis": {
           "automargin": true,
           "gridcolor": "white",
           "linecolor": "white",
           "ticks": "",
           "title": {
            "standoff": 15
           },
           "zerolinecolor": "white",
           "zerolinewidth": 2
          },
          "yaxis": {
           "automargin": true,
           "gridcolor": "white",
           "linecolor": "white",
           "ticks": "",
           "title": {
            "standoff": 15
           },
           "zerolinecolor": "white",
           "zerolinewidth": 2
          }
         }
        }
       }
      },
      "image/png": "[encoded data removed]",
      "text/html": [
       "<div>                            <div id=\"e8678101-86e3-474e-be21-3770940ba888\" class=\"plotly-graph-div\" style=\"height:525px; width:100%;\"></div>            <script type=\"text/javascript\">                require([\"plotly\"], function(Plotly) {                    window.PLOTLYENV=window.PLOTLYENV || {};                                    if (document.getElementById(\"e8678101-86e3-474e-be21-3770940ba888\")) {                    Plotly.newPlot(                        \"e8678101-86e3-474e-be21-3770940ba888\",                        [{\"colorscale\":[[0.0,\"#ffffff\"],[0.2,\"#ff9999\"],[0.4,\"#ff4d4d\"],[0.6,\"#ff1a1a\"],[0.8,\"#cc0000\"],[1.0,\"#4d0000\"]],\"locationmode\":\"USA-states\",\"locations\":[\"AK\",\"AL\",\"AR\",\"AZ\",\"CA\",\"CO\",\"CT\",\"DC\",\"DE\",\"FL\",\"GA\",\"GU\",\"HI\",\"IA\",\"ID\",\"IL\",\"IN\",\"KS\",\"KY\",\"LA\",\"MA\",\"MD\",\"ME\",\"MI\",\"MN\",\"MO\",\"MP\",\"MS\",\"MT\",\"NC\",\"ND\",\"NE\",\"NH\",\"NJ\",\"NM\",\"NV\",\"NY\",\"OH\",\"OK\",\"OR\",\"PA\",\"PR\",\"RI\",\"SC\",\"SD\",\"TN\",\"TX\",\"UT\",\"VA\",\"VI\",\"VT\",\"WA\",\"WI\",\"WV\",\"WY\",\"Total\"],\"text\":[\"2\",\"8\",\"6\",\"3\",\"43\",\"3\",\"2\",\"1\",\"1\",\"27\",\"9\",\"1\",\"2\",\"3\",\"2\",\"20\",\"2\",\"5\",\"3\",\"8\",\"15\",\"16\",\"1\",\"21\",\"10\",\"8\",\"1\",\"3\",\"1\",\"12\",\"1\",\"3\",\"3\",\"16\",\"2\",\"3\",\"26\",\"9\",\"8\",\"7\",\"16\",\"2\",\"1\",\"4\",\"1\",\"10\",\"11\",\"3\",\"16\",\"1\",\"2\",\"7\",\"4\",\"4\",\"1\",\"399\"],\"type\":\"choropleth\",\"z\":[1845.0,3793.0,2467.0,8947.0,131532.0,10940.0,3388.0,7473.0,994.0,32190.0,10174.0,852.0,7220.0,2756.0,2037.0,10798.0,5438.0,2287.0,4025.0,3305.0,17565.0,7247.0,2280.0,9051.0,7668.0,6037.0,672.0,1472.0,1529.0,8962.0,1089.0,2501.0,1456.0,8536.0,2482.0,7833.0,89503.0,10095.0,4199.0,13953.0,14138.0,3525.0,1180.0,3916.0,943.0,8309.0,23548.0,2852.0,6067.0,381.0,1225.0,21112.0,5027.0,1309.0,873.0,550996.0]},{\"colorscale\":[[0.0,\"#ffffff\"],[0.2,\"#ff9999\"],[0.4,\"#ff4d4d\"],[0.6,\"#ff1a1a\"],[0.8,\"#cc0000\"],[1.0,\"#4d0000\"]],\"locationmode\":\"USA-states\",\"locations\":[\"AK\",\"AL\",\"AR\",\"AZ\",\"CA\",\"CO\",\"CT\",\"DC\",\"DE\",\"FL\",\"GA\",\"GU\",\"HI\",\"IA\",\"ID\",\"IL\",\"IN\",\"KS\",\"KY\",\"LA\",\"MA\",\"MD\",\"ME\",\"MI\",\"MN\",\"MO\",\"MP\",\"MS\",\"MT\",\"NC\",\"ND\",\"NE\",\"NH\",\"NJ\",\"NM\",\"NV\",\"NY\",\"OH\",\"OK\",\"OR\",\"PA\",\"PR\",\"RI\",\"SC\",\"SD\",\"TN\",\"TX\",\"UT\",\"VA\",\"VI\",\"VT\",\"WA\",\"WI\",\"WV\",\"WY\",\"Total\"],\"text\":[\"2\",\"8\",\"7\",\"3\",\"43\",\"3\",\"2\",\"1\",\"1\",\"27\",\"9\",\"1\",\"2\",\"3\",\"2\",\"20\",\"2\",\"5\",\"3\",\"7\",\"15\",\"16\",\"1\",\"21\",\"10\",\"8\",\"1\",\"3\",\"1\",\"12\",\"1\",\"3\",\"3\",\"16\",\"2\",\"3\",\"26\",\"9\",\"8\",\"7\",\"16\",\"2\",\"1\",\"4\",\"1\",\"10\",\"11\",\"3\",\"16\",\"1\",\"2\",\"6\",\"4\",\"4\",\"1\",\"398\"],\"type\":\"choropleth\",\"z\":[2016.0,3434.0,2712.0,9865.0,129972.0,10857.0,3976.0,6904.0,1082.0,31030.0,9499.0,854.0,6530.0,2749.0,2012.0,10643.0,5258.0,2216.0,3688.0,3059.0,20068.0,7144.0,2516.0,8351.0,7243.0,5883.0,1044.0,1352.0,1405.0,9268.0,542.0,2421.0,1450.0,9398.0,2551.0,7544.0,91897.0,10249.0,3871.0,14476.0,13512.0,3182.0,1101.0,3933.0,1159.0,7883.0,25310.0,2876.0,5975.0,486.0,1291.0,22304.0,4907.0,1243.0,639.0,552830.0]},{\"colorscale\":[[0.0,\"#ffffff\"],[0.2,\"#ff9999\"],[0.4,\"#ff4d4d\"],[0.6,\"#ff1a1a\"],[0.8,\"#cc0000\"],[1.0,\"#4d0000\"]],\"locationmode\":\"USA-states\",\"locations\":[\"AK\",\"AL\",\"AR\",\"AZ\",\"CA\",\"CO\",\"CT\",\"DC\",\"DE\",\"FL\",\"GA\",\"GU\",\"HI\",\"IA\",\"ID\",\"IL\",\"IN\",\"KS\",\"KY\",\"LA\",\"MA\",\"MD\",\"ME\",\"MI\",\"MN\",\"MO\",\"MP\",\"MS\",\"MT\",\"NC\",\"ND\",\"NE\",\"NH\",\"NJ\",\"NM\",\"NV\",\"NY\",\"OH\",\"OK\",\"OR\",\"PA\",\"PR\",\"RI\",\"SC\",\"SD\",\"TN\",\"TX\",\"UT\",\"VA\",\"VI\",\"VT\",\"WA\",\"WI\",\"WV\",\"WY\",\"Total\"],\"text\":[\"2\",\"8\",\"5\",\"3\",\"44\",\"3\",\"2\",\"1\",\"1\",\"27\",\"9\",\"1\",\"2\",\"3\",\"2\",\"19\",\"2\",\"5\",\"3\",\"7\",\"15\",\"16\",\"1\",\"21\",\"10\",\"8\",\"1\",\"3\",\"1\",\"12\",\"1\",\"3\",\"3\",\"16\",\"2\",\"3\",\"27\",\"9\",\"8\",\"7\",\"16\",\"2\",\"1\",\"4\",\"1\",\"10\",\"11\",\"3\",\"16\",\"1\",\"2\",\"6\",\"4\",\"4\",\"1\",\"397\"],\"type\":\"choropleth\",\"z\":[1907.0,3261.0,2717.0,10007.0,151278.0,9619.0,3033.0,6521.0,921.0,28328.0,10443.0,875.0,6412.0,2315.0,2315.0,10199.0,5471.0,2381.0,4079.0,2941.0,18471.0,6561.0,2106.0,8575.0,7977.0,6179.0,1807.0,1184.0,1357.0,9314.0,557.0,2365.0,1396.0,8862.0,3241.0,7169.0,92091.0,10345.0,3944.0,15876.0,13199.0,2535.0,1055.0,4172.0,995.0,7467.0,25848.0,2798.0,5783.0,314.0,1089.0,21577.0,4538.0,1397.0,548.0,567715.0]},{\"colorscale\":[[0.0,\"#ffffff\"],[0.2,\"#ff9999\"],[0.4,\"#ff4d4d\"],[0.6,\"#ff1a1a\"],[0.8,\"#cc0000\"],[1.0,\"#4d0000\"]],\"locationmode\":\"USA-states\",\"locations\":[\"AK\",\"AL\",\"AR\",\"AZ\",\"CA\",\"CO\",\"CT\",\"DC\",\"DE\",\"FL\",\"GA\",\"GU\",\"HI\",\"IA\",\"ID\",\"IL\",\"IN\",\"KS\",\"KY\",\"LA\",\"MA\",\"MD\",\"ME\",\"MI\",\"MN\",\"MO\",\"MP\",\"MS\",\"MT\",\"NC\",\"ND\",\"NE\",\"NH\",\"NJ\",\"NM\",\"NV\",\"NY\",\"OH\",\"OK\",\"OR\",\"PA\",\"PR\",\"RI\",\"SC\",\"SD\",\"TN\",\"TX\",\"UT\",\"VA\",\"VI\",\"VT\",\"WA\",\"WI\",\"WV\",\"WY\",\"Total\"],\"text\":[\"2\",\"8\",\"4\",\"3\",\"44\",\"4\",\"2\",\"1\",\"1\",\"27\",\"9\",\"1\",\"2\",\"3\",\"2\",\"19\",\"2\",\"5\",\"3\",\"7\",\"13\",\"16\",\"1\",\"20\",\"10\",\"8\",\"1\",\"3\",\"1\",\"12\",\"1\",\"3\",\"3\",\"16\",\"2\",\"3\",\"24\",\"9\",\"8\",\"8\",\"16\",\"2\",\"1\",\"4\",\"1\",\"10\",\"11\",\"3\",\"16\",\"1\",\"2\",\"6\",\"4\",\"4\",\"1\",\"392\"],\"type\":\"choropleth\",\"z\":[1949.0,3351.0,2366.0,10979.0,161548.0,9846.0,2905.0,6380.0,1165.0,27487.0,10234.0,790.0,6458.0,2647.0,2315.0,10431.0,5625.0,2449.0,4011.0,3173.0,17975.0,6360.0,2097.0,8638.0,7940.0,6527.0,1207.0,1107.0,1545.0,9280.0,541.0,2404.0,1675.0,9662.0,3333.0,6900.0,91271.0,10655.0,3932.0,14655.0,13375.0,2451.0,1104.0,4287.0,1058.0,7256.0,27229.0,3131.0,5957.0,304.0,1110.0,22923.0,4515.0,1341.0,612.0,580466.0]}],                        {\"geo\":{\"projection\":{\"type\":\"albers usa\"},\"scope\":\"usa\"},\"sliders\":[{\"active\":0,\"pad\":{\"t\":1},\"steps\":[{\"args\":[\"visible\",[true,false,false,false]],\"label\":\"Year 2017\",\"method\":\"restyle\"},{\"args\":[\"visible\",[false,true,false,false]],\"label\":\"Year 2018\",\"method\":\"restyle\"},{\"args\":[\"visible\",[false,false,true,false]],\"label\":\"Year 2019\",\"method\":\"restyle\"},{\"args\":[\"visible\",[false,false,false,true]],\"label\":\"Year 2020\",\"method\":\"restyle\"}]}],\"template\":{\"data\":{\"bar\":[{\"error_x\":{\"color\":\"#2a3f5f\"},\"error_y\":{\"color\":\"#2a3f5f\"},\"marker\":{\"line\":{\"color\":\"#E5ECF6\",\"width\":0.5},\"pattern\":{\"fillmode\":\"overlay\",\"size\":10,\"solidity\":0.2}},\"type\":\"bar\"}],\"barpolar\":[{\"marker\":{\"line\":{\"color\":\"#E5ECF6\",\"width\":0.5},\"pattern\":{\"fillmode\":\"overlay\",\"size\":10,\"solidity\":0.2}},\"type\":\"barpolar\"}],\"carpet\":[{\"aaxis\":{\"endlinecolor\":\"#2a3f5f\",\"gridcolor\":\"white\",\"linecolor\":\"white\",\"minorgridcolor\":\"white\",\"startlinecolor\":\"#2a3f5f\"},\"baxis\":{\"endlinecolor\":\"#2a3f5f\",\"gridcolor\":\"white\",\"linecolor\":\"white\",\"minorgridcolor\":\"white\",\"startlinecolor\":\"#2a3f5f\"},\"type\":\"carpet\"}],\"choropleth\":[{\"colorbar\":{\"outlinewidth\":0,\"ticks\":\"\"},\"type\":\"choropleth\"}],\"contour\":[{\"colorbar\":{\"outlinewidth\":0,\"ticks\":\"\"},\"colorscale\":[[0.0,\"#0d0887\"],[0.1111111111111111,\"#46039f\"],[0.2222222222222222,\"#7201a8\"],[0.3333333333333333,\"#9c179e\"],[0.4444444444444444,\"#bd3786\"],[0.5555555555555556,\"#d8576b\"],[0.6666666666666666,\"#ed7953\"],[0.7777777777777778,\"#fb9f3a\"],[0.8888888888888888,\"#fdca26\"],[1.0,\"#f0f921\"]],\"type\":\"contour\"}],\"contourcarpet\":[{\"colorbar\":{\"outlinewidth\":0,\"ticks\":\"\"},\"type\":\"contourcarpet\"}],\"heatmap\":[{\"colorbar\":{\"outlinewidth\":0,\"ticks\":\"\"},\"colorscale\":[[0.0,\"#0d0887\"],[0.1111111111111111,\"#46039f\"],[0.2222222222222222,\"#7201a8\"],[0.3333333333333333,\"#9c179e\"],[0.4444444444444444,\"#bd3786\"],[0.5555555555555556,\"#d8576b\"],[0.6666666666666666,\"#ed7953\"],[0.7777777777777778,\"#fb9f3a\"],[0.8888888888888888,\"#fdca26\"],[1.0,\"#f0f921\"]],\"type\":\"heatmap\"}],\"heatmapgl\":[{\"colorbar\":{\"outlinewidth\":0,\"ticks\":\"\"},\"colorscale\":[[0.0,\"#0d0887\"],[0.1111111111111111,\"#46039f\"],[0.2222222222222222,\"#7201a8\"],[0.3333333333333333,\"#9c179e\"],[0.4444444444444444,\"#bd3786\"],[0.5555555555555556,\"#d8576b\"],[0.6666666666666666,\"#ed7953\"],[0.7777777777777778,\"#fb9f3a\"],[0.8888888888888888,\"#fdca26\"],[1.0,\"#f0f921\"]],\"type\":\"heatmapgl\"}],\"histogram\":[{\"marker\":{\"pattern\":{\"fillmode\":\"overlay\",\"size\":10,\"solidity\":0.2}},\"type\":\"histogram\"}],\"histogram2d\":[{\"colorbar\":{\"outlinewidth\":0,\"ticks\":\"\"},\"colorscale\":[[0.0,\"#0d0887\"],[0.1111111111111111,\"#46039f\"],[0.2222222222222222,\"#7201a8\"],[0.3333333333333333,\"#9c179e\"],[0.4444444444444444,\"#bd3786\"],[0.5555555555555556,\"#d8576b\"],[0.6666666666666666,\"#ed7953\"],[0.7777777777777778,\"#fb9f3a\"],[0.8888888888888888,\"#fdca26\"],[1.0,\"#f0f921\"]],\"type\":\"histogram2d\"}],\"histogram2dcontour\":[{\"colorbar\":{\"outlinewidth\":0,\"ticks\":\"\"},\"colorscale\":[[0.0,\"#0d0887\"],[0.1111111111111111,\"#46039f\"],[0.2222222222222222,\"#7201a8\"],[0.3333333333333333,\"#9c179e\"],[0.4444444444444444,\"#bd3786\"],[0.5555555555555556,\"#d8576b\"],[0.6666666666666666,\"#ed7953\"],[0.7777777777777778,\"#fb9f3a\"],[0.8888888888888888,\"#fdca26\"],[1.0,\"#f0f921\"]],\"type\":\"histogram2dcontour\"}],\"mesh3d\":[{\"colorbar\":{\"outlinewidth\":0,\"ticks\":\"\"},\"type\":\"mesh3d\"}],\"parcoords\":[{\"line\":{\"colorbar\":{\"outlinewidth\":0,\"ticks\":\"\"}},\"type\":\"parcoords\"}],\"pie\":[{\"automargin\":true,\"type\":\"pie\"}],\"scatter\":[{\"marker\":{\"colorbar\":{\"outlinewidth\":0,\"ticks\":\"\"}},\"type\":\"scatter\"}],\"scatter3d\":[{\"line\":{\"colorbar\":{\"outlinewidth\":0,\"ticks\":\"\"}},\"marker\":{\"colorbar\":{\"outlinewidth\":0,\"ticks\":\"\"}},\"type\":\"scatter3d\"}],\"scattercarpet\":[{\"marker\":{\"colorbar\":{\"outlinewidth\":0,\"ticks\":\"\"}},\"type\":\"scattercarpet\"}],\"scattergeo\":[{\"marker\":{\"colorbar\":{\"outlinewidth\":0,\"ticks\":\"\"}},\"type\":\"scattergeo\"}],\"scattergl\":[{\"marker\":{\"colorbar\":{\"outlinewidth\":0,\"ticks\":\"\"}},\"type\":\"scattergl\"}],\"scattermapbox\":[{\"marker\":{\"colorbar\":{\"outlinewidth\":0,\"ticks\":\"\"}},\"type\":\"scattermapbox\"}],\"scatterpolar\":[{\"marker\":{\"colorbar\":{\"outlinewidth\":0,\"ticks\":\"\"}},\"type\":\"scatterpolar\"}],\"scatterpolargl\":[{\"marker\":{\"colorbar\":{\"outlinewidth\":0,\"ticks\":\"\"}},\"type\":\"scatterpolargl\"}],\"scatterternary\":[{\"marker\":{\"colorbar\":{\"outlinewidth\":0,\"ticks\":\"\"}},\"type\":\"scatterternary\"}],\"surface\":[{\"colorbar\":{\"outlinewidth\":0,\"ticks\":\"\"},\"colorscale\":[[0.0,\"#0d0887\"],[0.1111111111111111,\"#46039f\"],[0.2222222222222222,\"#7201a8\"],[0.3333333333333333,\"#9c179e\"],[0.4444444444444444,\"#bd3786\"],[0.5555555555555556,\"#d8576b\"],[0.6666666666666666,\"#ed7953\"],[0.7777777777777778,\"#fb9f3a\"],[0.8888888888888888,\"#fdca26\"],[1.0,\"#f0f921\"]],\"type\":\"surface\"}],\"table\":[{\"cells\":{\"fill\":{\"color\":\"#EBF0F8\"},\"line\":{\"color\":\"white\"}},\"header\":{\"fill\":{\"color\":\"#C8D4E3\"},\"line\":{\"color\":\"white\"}},\"type\":\"table\"}]},\"layout\":{\"annotationdefaults\":{\"arrowcolor\":\"#2a3f5f\",\"arrowhead\":0,\"arrowwidth\":1},\"autotypenumbers\":\"strict\",\"coloraxis\":{\"colorbar\":{\"outlinewidth\":0,\"ticks\":\"\"}},\"colorscale\":{\"diverging\":[[0,\"#8e0152\"],[0.1,\"#c51b7d\"],[0.2,\"#de77ae\"],[0.3,\"#f1b6da\"],[0.4,\"#fde0ef\"],[0.5,\"#f7f7f7\"],[0.6,\"#e6f5d0\"],[0.7,\"#b8e186\"],[0.8,\"#7fbc41\"],[0.9,\"#4d9221\"],[1,\"#276419\"]],\"sequential\":[[0.0,\"#0d0887\"],[0.1111111111111111,\"#46039f\"],[0.2222222222222222,\"#7201a8\"],[0.3333333333333333,\"#9c179e\"],[0.4444444444444444,\"#bd3786\"],[0.5555555555555556,\"#d8576b\"],[0.6666666666666666,\"#ed7953\"],[0.7777777777777778,\"#fb9f3a\"],[0.8888888888888888,\"#fdca26\"],[1.0,\"#f0f921\"]],\"sequentialminus\":[[0.0,\"#0d0887\"],[0.1111111111111111,\"#46039f\"],[0.2222222222222222,\"#7201a8\"],[0.3333333333333333,\"#9c179e\"],[0.4444444444444444,\"#bd3786\"],[0.5555555555555556,\"#d8576b\"],[0.6666666666666666,\"#ed7953\"],[0.7777777777777778,\"#fb9f3a\"],[0.8888888888888888,\"#fdca26\"],[1.0,\"#f0f921\"]]},\"colorway\":[\"#636efa\",\"#EF553B\",\"#00cc96\",\"#ab63fa\",\"#FFA15A\",\"#19d3f3\",\"#FF6692\",\"#B6E880\",\"#FF97FF\",\"#FECB52\"],\"font\":{\"color\":\"#2a3f5f\"},\"geo\":{\"bgcolor\":\"white\",\"lakecolor\":\"white\",\"landcolor\":\"#E5ECF6\",\"showlakes\":true,\"showland\":true,\"subunitcolor\":\"white\"},\"hoverlabel\":{\"align\":\"left\"},\"hovermode\":\"closest\",\"mapbox\":{\"style\":\"light\"},\"paper_bgcolor\":\"white\",\"plot_bgcolor\":\"#E5ECF6\",\"polar\":{\"angularaxis\":{\"gridcolor\":\"white\",\"linecolor\":\"white\",\"ticks\":\"\"},\"bgcolor\":\"#E5ECF6\",\"radialaxis\":{\"gridcolor\":\"white\",\"linecolor\":\"white\",\"ticks\":\"\"}},\"scene\":{\"xaxis\":{\"backgroundcolor\":\"#E5ECF6\",\"gridcolor\":\"white\",\"gridwidth\":2,\"linecolor\":\"white\",\"showbackground\":true,\"ticks\":\"\",\"zerolinecolor\":\"white\"},\"yaxis\":{\"backgroundcolor\":\"#E5ECF6\",\"gridcolor\":\"white\",\"gridwidth\":2,\"linecolor\":\"white\",\"showbackground\":true,\"ticks\":\"\",\"zerolinecolor\":\"white\"},\"zaxis\":{\"backgroundcolor\":\"#E5ECF6\",\"gridcolor\":\"white\",\"gridwidth\":2,\"linecolor\":\"white\",\"showbackground\":true,\"ticks\":\"\",\"zerolinecolor\":\"white\"}},\"shapedefaults\":{\"line\":{\"color\":\"#2a3f5f\"}},\"ternary\":{\"aaxis\":{\"gridcolor\":\"white\",\"linecolor\":\"white\",\"ticks\":\"\"},\"baxis\":{\"gridcolor\":\"white\",\"linecolor\":\"white\",\"ticks\":\"\"},\"bgcolor\":\"#E5ECF6\",\"caxis\":{\"gridcolor\":\"white\",\"linecolor\":\"white\",\"ticks\":\"\"}},\"title\":{\"x\":0.05},\"xaxis\":{\"automargin\":true,\"gridcolor\":\"white\",\"linecolor\":\"white\",\"ticks\":\"\",\"title\":{\"standoff\":15},\"zerolinecolor\":\"white\",\"zerolinewidth\":2},\"yaxis\":{\"automargin\":true,\"gridcolor\":\"white\",\"linecolor\":\"white\",\"ticks\":\"\",\"title\":{\"standoff\":15},\"zerolinecolor\":\"white\",\"zerolinewidth\":2}}}},                        {\"responsive\": true}                    ).then(function(){\n",
       "                            \n",
       "var gd = document.getElementById('e8678101-86e3-474e-be21-3770940ba888');\n",
       "var x = new MutationObserver(function (mutations, observer) {{\n",
       "        var display = window.getComputedStyle(gd).display;\n",
       "        if (!display || display === 'none') {{\n",
       "            console.log([gd, 'removed!']);\n",
       "            Plotly.purge(gd);\n",
       "            observer.disconnect();\n",
       "        }}\n",
       "}});\n",
       "\n",
       "// Listen for the removal of the full notebook cells\n",
       "var notebookContainer = gd.closest('#notebook-container');\n",
       "if (notebookContainer) {{\n",
       "    x.observe(notebookContainer, {childList: true});\n",
       "}}\n",
       "\n",
       "// Listen for the clearing of the current output cell\n",
       "var outputEl = gd.closest('.output');\n",
       "if (outputEl) {{\n",
       "    x.observe(outputEl, {childList: true});\n",
       "}}\n",
       "\n",
       "                        })                };                });            </script>        </div>"
      ]
     },
     "metadata": {},
     "output_type": "display_data"
    },
    {
     "data": {
      "text/plain": [
       "'homeless_map.html'"
      ]
     },
     "execution_count": 42,
     "metadata": {},
     "output_type": "execute_result"
    }
   ],
   "source": [
    "# Create Choropleth map for overall homeless by year\n",
    "\n",
    "import pandas as pd\n",
    "import plotly\n",
    "import plotly.graph_objs as go\n",
    "import plotly.offline as offline\n",
    "from plotly.graph_objs import *\n",
    "from plotly.offline import download_plotlyjs, init_notebook_mode, plot, iplot\n",
    "\n",
    "\n",
    "init_notebook_mode(connected=True)\n",
    "\n",
    "years = [2017, 2018, 2019, 2020]\n",
    "\n",
    "# Color Scale\n",
    "scl = [[0.0, '#ffffff'],[0.2, '#ff9999'],[0.4, '#ff4d4d'], \\\n",
    "       [0.6, '#ff1a1a'],[0.8, '#cc0000'],[1.0, '#4d0000']] # reds\n",
    "\n",
    "data_slider = []\n",
    "\n",
    "start_year = 2017\n",
    "index = 0\n",
    "\n",
    "for year in years: \n",
    "\n",
    "    df = map_frames[index]\n",
    "    index = index + 1\n",
    "    for col in df.columns: \n",
    "        df[col] = df[col].astype(str)\n",
    "\n",
    "    data_one_year = dict(\n",
    "                        type='choropleth',\n",
    "                        locations = df['State'],\n",
    "                        z = df['Overall Homeless'].astype(float),\n",
    "                        locationmode='USA-states',\n",
    "                        colorscale = scl,\n",
    "                        text = df['Number of CoCs'],\n",
    "                        )\n",
    "\n",
    "    data_slider.append(data_one_year) \n",
    "\n",
    "steps = []\n",
    "\n",
    "for i in range(len(data_slider)):\n",
    "    step = dict(method='restyle',\n",
    "                args=['visible', [False] * len(data_slider)],\n",
    "                label='Year {}'.format(i + 2017))\n",
    "    step['args'][1][i] = True\n",
    "    steps.append(step)\n",
    "\n",
    "\n",
    "sliders = [dict(active=0, pad={\"t\": 1}, steps=steps)]  \n",
    "\n",
    "layout = dict(geo=dict(scope='usa',\n",
    "                       projection={'type': 'albers usa'}),\n",
    "              sliders=sliders)\n",
    "\n",
    "\n",
    "fig = dict(data=data_slider, layout=layout) \n",
    "\n",
    "plotly.offline.iplot(fig)\n",
    "\n",
    "\n",
    "offline.plot(fig, auto_open=True, image = 'png', image_filename=\"homeless_map\" ,image_width=2000, image_height=1000, \n",
    "              filename='homeless_map.html', validate=True)"
   ]
  },
  {
   "cell_type": "code",
   "execution_count": 43,
   "id": "f44df774-c9e9-4f4d-b008-088049117ce1",
   "metadata": {},
   "outputs": [
    {
     "data": {
      "text/html": [
       "<div>\n",
       "<style scoped>\n",
       "    .dataframe tbody tr th:only-of-type {\n",
       "        vertical-align: middle;\n",
       "    }\n",
       "\n",
       "    .dataframe tbody tr th {\n",
       "        vertical-align: top;\n",
       "    }\n",
       "\n",
       "    .dataframe thead th {\n",
       "        text-align: right;\n",
       "    }\n",
       "</style>\n",
       "<table border=\"1\" class=\"dataframe\">\n",
       "  <thead>\n",
       "    <tr style=\"text-align: right;\">\n",
       "      <th></th>\n",
       "      <th>State</th>\n",
       "      <th>Change in Total Homelessness, 2019-2020</th>\n",
       "      <th>Change in Total Homelessness, 2018-2020</th>\n",
       "      <th>Change in Total Homelessness, 2017-2020</th>\n",
       "      <th>Change in Total Homelessness, 2016-2020</th>\n",
       "      <th>Change in Total Homelessness, 2015-2020</th>\n",
       "      <th>Change in Total Homelessness, 2014-2020</th>\n",
       "      <th>Change in Total Homelessness, 2013-2020</th>\n",
       "      <th>Change in Total Homelessness, 2012-2020</th>\n",
       "      <th>Change in Total Homelessness, 2011-2020</th>\n",
       "      <th>Change in Total Homelessness, 2010-2020</th>\n",
       "      <th>Change in Total Homelessness, 2009-2020</th>\n",
       "      <th>Change in Total Homelessness, 2008-2020</th>\n",
       "      <th>Change in Total Homelessness, 2007-2020</th>\n",
       "    </tr>\n",
       "  </thead>\n",
       "  <tbody>\n",
       "    <tr>\n",
       "      <th>0</th>\n",
       "      <td>AK</td>\n",
       "      <td>2.20%</td>\n",
       "      <td>-3.30%</td>\n",
       "      <td>5.60%</td>\n",
       "      <td>0.50%</td>\n",
       "      <td>-0.40%</td>\n",
       "      <td>9.20%</td>\n",
       "      <td>0.20%</td>\n",
       "      <td>1.90%</td>\n",
       "      <td>-8.40%</td>\n",
       "      <td>4.60%</td>\n",
       "      <td>-2.20%</td>\n",
       "      <td>18.40%</td>\n",
       "      <td>18.70%</td>\n",
       "    </tr>\n",
       "    <tr>\n",
       "      <th>1</th>\n",
       "      <td>AL</td>\n",
       "      <td>2.80%</td>\n",
       "      <td>-2.40%</td>\n",
       "      <td>-11.70%</td>\n",
       "      <td>-18.50%</td>\n",
       "      <td>-15.60%</td>\n",
       "      <td>-26.50%</td>\n",
       "      <td>-28.50%</td>\n",
       "      <td>-35.70%</td>\n",
       "      <td>-39.70%</td>\n",
       "      <td>-44.60%</td>\n",
       "      <td>-44.90%</td>\n",
       "      <td>-37.80%</td>\n",
       "      <td>-38.50%</td>\n",
       "    </tr>\n",
       "    <tr>\n",
       "      <th>2</th>\n",
       "      <td>AR</td>\n",
       "      <td>-12.90%</td>\n",
       "      <td>-12.80%</td>\n",
       "      <td>-4.10%</td>\n",
       "      <td>-3.90%</td>\n",
       "      <td>-7.60%</td>\n",
       "      <td>-19.40%</td>\n",
       "      <td>-37.90%</td>\n",
       "      <td>-43.90%</td>\n",
       "      <td>-30.90%</td>\n",
       "      <td>-14.30%</td>\n",
       "      <td>-17.00%</td>\n",
       "      <td>-27.30%</td>\n",
       "      <td>-38.30%</td>\n",
       "    </tr>\n",
       "    <tr>\n",
       "      <th>3</th>\n",
       "      <td>AZ</td>\n",
       "      <td>9.70%</td>\n",
       "      <td>11.30%</td>\n",
       "      <td>22.70%</td>\n",
       "      <td>13.10%</td>\n",
       "      <td>10.90%</td>\n",
       "      <td>4.60%</td>\n",
       "      <td>3.90%</td>\n",
       "      <td>-2.90%</td>\n",
       "      <td>4.50%</td>\n",
       "      <td>-19.90%</td>\n",
       "      <td>-25.40%</td>\n",
       "      <td>-12.10%</td>\n",
       "      <td>-25.00%</td>\n",
       "    </tr>\n",
       "    <tr>\n",
       "      <th>4</th>\n",
       "      <td>CA</td>\n",
       "      <td>6.80%</td>\n",
       "      <td>24.30%</td>\n",
       "      <td>22.80%</td>\n",
       "      <td>36.70%</td>\n",
       "      <td>39.60%</td>\n",
       "      <td>41.80%</td>\n",
       "      <td>36.30%</td>\n",
       "      <td>34.50%</td>\n",
       "      <td>29.10%</td>\n",
       "      <td>30.80%</td>\n",
       "      <td>30.60%</td>\n",
       "      <td>18.30%</td>\n",
       "      <td>16.20%</td>\n",
       "    </tr>\n",
       "  </tbody>\n",
       "</table>\n",
       "</div>"
      ],
      "text/plain": [
       "  State Change in Total Homelessness, 2019-2020  \\\n",
       "0    AK                                   2.20%   \n",
       "1    AL                                   2.80%   \n",
       "2    AR                                 -12.90%   \n",
       "3    AZ                                   9.70%   \n",
       "4    CA                                   6.80%   \n",
       "\n",
       "  Change in Total Homelessness, 2018-2020  \\\n",
       "0                                  -3.30%   \n",
       "1                                  -2.40%   \n",
       "2                                 -12.80%   \n",
       "3                                  11.30%   \n",
       "4                                  24.30%   \n",
       "\n",
       "  Change in Total Homelessness, 2017-2020  \\\n",
       "0                                   5.60%   \n",
       "1                                 -11.70%   \n",
       "2                                  -4.10%   \n",
       "3                                  22.70%   \n",
       "4                                  22.80%   \n",
       "\n",
       "  Change in Total Homelessness, 2016-2020  \\\n",
       "0                                   0.50%   \n",
       "1                                 -18.50%   \n",
       "2                                  -3.90%   \n",
       "3                                  13.10%   \n",
       "4                                  36.70%   \n",
       "\n",
       "  Change in Total Homelessness, 2015-2020  \\\n",
       "0                                  -0.40%   \n",
       "1                                 -15.60%   \n",
       "2                                  -7.60%   \n",
       "3                                  10.90%   \n",
       "4                                  39.60%   \n",
       "\n",
       "  Change in Total Homelessness, 2014-2020  \\\n",
       "0                                   9.20%   \n",
       "1                                 -26.50%   \n",
       "2                                 -19.40%   \n",
       "3                                   4.60%   \n",
       "4                                  41.80%   \n",
       "\n",
       "  Change in Total Homelessness, 2013-2020  \\\n",
       "0                                   0.20%   \n",
       "1                                 -28.50%   \n",
       "2                                 -37.90%   \n",
       "3                                   3.90%   \n",
       "4                                  36.30%   \n",
       "\n",
       "  Change in Total Homelessness, 2012-2020  \\\n",
       "0                                   1.90%   \n",
       "1                                 -35.70%   \n",
       "2                                 -43.90%   \n",
       "3                                  -2.90%   \n",
       "4                                  34.50%   \n",
       "\n",
       "  Change in Total Homelessness, 2011-2020  \\\n",
       "0                                  -8.40%   \n",
       "1                                 -39.70%   \n",
       "2                                 -30.90%   \n",
       "3                                   4.50%   \n",
       "4                                  29.10%   \n",
       "\n",
       "  Change in Total Homelessness, 2010-2020  \\\n",
       "0                                   4.60%   \n",
       "1                                 -44.60%   \n",
       "2                                 -14.30%   \n",
       "3                                 -19.90%   \n",
       "4                                  30.80%   \n",
       "\n",
       "  Change in Total Homelessness, 2009-2020  \\\n",
       "0                                  -2.20%   \n",
       "1                                 -44.90%   \n",
       "2                                 -17.00%   \n",
       "3                                 -25.40%   \n",
       "4                                  30.60%   \n",
       "\n",
       "  Change in Total Homelessness, 2008-2020  \\\n",
       "0                                  18.40%   \n",
       "1                                 -37.80%   \n",
       "2                                 -27.30%   \n",
       "3                                 -12.10%   \n",
       "4                                  18.30%   \n",
       "\n",
       "  Change in Total Homelessness, 2007-2020  \n",
       "0                                  18.70%  \n",
       "1                                 -38.50%  \n",
       "2                                 -38.30%  \n",
       "3                                 -25.00%  \n",
       "4                                  16.20%  "
      ]
     },
     "execution_count": 43,
     "metadata": {},
     "output_type": "execute_result"
    }
   ],
   "source": [
    "change_frame = dataframes[5]\n",
    "change_frame.rename(columns={\"Unnamed: 0\": \"year\"}, inplace=True)\n",
    "change_frame.head()"
   ]
  },
  {
   "cell_type": "code",
   "execution_count": 44,
   "id": "f7e81c31-de73-45b9-a6a3-bff807109752",
   "metadata": {},
   "outputs": [
    {
     "data": {
      "text/html": [
       "<div>\n",
       "<style scoped>\n",
       "    .dataframe tbody tr th:only-of-type {\n",
       "        vertical-align: middle;\n",
       "    }\n",
       "\n",
       "    .dataframe tbody tr th {\n",
       "        vertical-align: top;\n",
       "    }\n",
       "\n",
       "    .dataframe thead th {\n",
       "        text-align: right;\n",
       "    }\n",
       "</style>\n",
       "<table border=\"1\" class=\"dataframe\">\n",
       "  <thead>\n",
       "    <tr style=\"text-align: right;\">\n",
       "      <th></th>\n",
       "      <th>State</th>\n",
       "      <th>Change in Total Homelessness, 2017-2020</th>\n",
       "    </tr>\n",
       "  </thead>\n",
       "  <tbody>\n",
       "    <tr>\n",
       "      <th>0</th>\n",
       "      <td>AK</td>\n",
       "      <td>5.60%</td>\n",
       "    </tr>\n",
       "    <tr>\n",
       "      <th>1</th>\n",
       "      <td>AL</td>\n",
       "      <td>-11.70%</td>\n",
       "    </tr>\n",
       "    <tr>\n",
       "      <th>2</th>\n",
       "      <td>AR</td>\n",
       "      <td>-4.10%</td>\n",
       "    </tr>\n",
       "    <tr>\n",
       "      <th>3</th>\n",
       "      <td>AZ</td>\n",
       "      <td>22.70%</td>\n",
       "    </tr>\n",
       "    <tr>\n",
       "      <th>4</th>\n",
       "      <td>CA</td>\n",
       "      <td>22.80%</td>\n",
       "    </tr>\n",
       "  </tbody>\n",
       "</table>\n",
       "</div>"
      ],
      "text/plain": [
       "  State Change in Total Homelessness, 2017-2020\n",
       "0    AK                                   5.60%\n",
       "1    AL                                 -11.70%\n",
       "2    AR                                  -4.10%\n",
       "3    AZ                                  22.70%\n",
       "4    CA                                  22.80%"
      ]
     },
     "execution_count": 44,
     "metadata": {},
     "output_type": "execute_result"
    }
   ],
   "source": [
    "change_2017 = change_frame[['State', 'Change in Total Homelessness, 2017-2020']].copy()\n",
    "change_2017.head()"
   ]
  },
  {
   "cell_type": "code",
   "execution_count": 45,
   "id": "64af1de3-d2df-4a8b-8239-cab56c6fde87",
   "metadata": {},
   "outputs": [
    {
     "data": {
      "text/html": [
       "<div>\n",
       "<style scoped>\n",
       "    .dataframe tbody tr th:only-of-type {\n",
       "        vertical-align: middle;\n",
       "    }\n",
       "\n",
       "    .dataframe tbody tr th {\n",
       "        vertical-align: top;\n",
       "    }\n",
       "\n",
       "    .dataframe thead th {\n",
       "        text-align: right;\n",
       "    }\n",
       "</style>\n",
       "<table border=\"1\" class=\"dataframe\">\n",
       "  <thead>\n",
       "    <tr style=\"text-align: right;\">\n",
       "      <th></th>\n",
       "      <th>State</th>\n",
       "      <th>Change in Total Homelessness, 2018-2020</th>\n",
       "    </tr>\n",
       "  </thead>\n",
       "  <tbody>\n",
       "    <tr>\n",
       "      <th>0</th>\n",
       "      <td>AK</td>\n",
       "      <td>-3.30%</td>\n",
       "    </tr>\n",
       "    <tr>\n",
       "      <th>1</th>\n",
       "      <td>AL</td>\n",
       "      <td>-2.40%</td>\n",
       "    </tr>\n",
       "    <tr>\n",
       "      <th>2</th>\n",
       "      <td>AR</td>\n",
       "      <td>-12.80%</td>\n",
       "    </tr>\n",
       "    <tr>\n",
       "      <th>3</th>\n",
       "      <td>AZ</td>\n",
       "      <td>11.30%</td>\n",
       "    </tr>\n",
       "    <tr>\n",
       "      <th>4</th>\n",
       "      <td>CA</td>\n",
       "      <td>24.30%</td>\n",
       "    </tr>\n",
       "  </tbody>\n",
       "</table>\n",
       "</div>"
      ],
      "text/plain": [
       "  State Change in Total Homelessness, 2018-2020\n",
       "0    AK                                  -3.30%\n",
       "1    AL                                  -2.40%\n",
       "2    AR                                 -12.80%\n",
       "3    AZ                                  11.30%\n",
       "4    CA                                  24.30%"
      ]
     },
     "execution_count": 45,
     "metadata": {},
     "output_type": "execute_result"
    }
   ],
   "source": [
    "change_2018 = change_frame[['State', 'Change in Total Homelessness, 2018-2020']].copy()\n",
    "change_2018.head()"
   ]
  },
  {
   "cell_type": "code",
   "execution_count": 46,
   "id": "eeba4c59-ad82-4232-8ab2-31bc7c031219",
   "metadata": {},
   "outputs": [
    {
     "data": {
      "text/html": [
       "<div>\n",
       "<style scoped>\n",
       "    .dataframe tbody tr th:only-of-type {\n",
       "        vertical-align: middle;\n",
       "    }\n",
       "\n",
       "    .dataframe tbody tr th {\n",
       "        vertical-align: top;\n",
       "    }\n",
       "\n",
       "    .dataframe thead th {\n",
       "        text-align: right;\n",
       "    }\n",
       "</style>\n",
       "<table border=\"1\" class=\"dataframe\">\n",
       "  <thead>\n",
       "    <tr style=\"text-align: right;\">\n",
       "      <th></th>\n",
       "      <th>State</th>\n",
       "      <th>Change in Total Homelessness, 2019-2020</th>\n",
       "    </tr>\n",
       "  </thead>\n",
       "  <tbody>\n",
       "    <tr>\n",
       "      <th>0</th>\n",
       "      <td>AK</td>\n",
       "      <td>2.20%</td>\n",
       "    </tr>\n",
       "    <tr>\n",
       "      <th>1</th>\n",
       "      <td>AL</td>\n",
       "      <td>2.80%</td>\n",
       "    </tr>\n",
       "    <tr>\n",
       "      <th>2</th>\n",
       "      <td>AR</td>\n",
       "      <td>-12.90%</td>\n",
       "    </tr>\n",
       "    <tr>\n",
       "      <th>3</th>\n",
       "      <td>AZ</td>\n",
       "      <td>9.70%</td>\n",
       "    </tr>\n",
       "    <tr>\n",
       "      <th>4</th>\n",
       "      <td>CA</td>\n",
       "      <td>6.80%</td>\n",
       "    </tr>\n",
       "  </tbody>\n",
       "</table>\n",
       "</div>"
      ],
      "text/plain": [
       "  State Change in Total Homelessness, 2019-2020\n",
       "0    AK                                   2.20%\n",
       "1    AL                                   2.80%\n",
       "2    AR                                 -12.90%\n",
       "3    AZ                                   9.70%\n",
       "4    CA                                   6.80%"
      ]
     },
     "execution_count": 46,
     "metadata": {},
     "output_type": "execute_result"
    }
   ],
   "source": [
    "change_2019 = change_frame[['State', 'Change in Total Homelessness, 2019-2020']].copy()\n",
    "change_2019.head()"
   ]
  },
  {
   "cell_type": "code",
   "execution_count": null,
   "id": "6a13ad5a-1ead-4437-8b26-8ff238f841ca",
   "metadata": {},
   "outputs": [],
   "source": []
  },
  {
   "cell_type": "code",
   "execution_count": 48,
   "id": "60857ff8-5687-4619-9a94-8be58bf3e07d",
   "metadata": {},
   "outputs": [
    {
     "data": {
      "application/vnd.plotly.v1+json": {
       "config": {
        "linkText": "Export to plot.ly",
        "plotlyServerURL": "https://plot.ly",
        "showLink": false
       },
       "data": [
        {
         "colorscale": [
          [
           0,
           "#ffffff"
          ],
          [
           0.2,
           "#ff9999"
          ],
          [
           0.4,
           "#ff4d4d"
          ],
          [
           0.6,
           "#ff1a1a"
          ],
          [
           0.8,
           "#cc0000"
          ],
          [
           1,
           "#4d0000"
          ]
         ],
         "locationmode": "USA-states",
         "locations": [
          "AK",
          "AL",
          "AR",
          "AZ",
          "CA",
          "CO",
          "CT",
          "DC",
          "DE",
          "FL",
          "GA",
          "GU",
          "HI",
          "IA",
          "ID",
          "IL",
          "IN",
          "KS",
          "KY",
          "LA",
          "MA",
          "MD",
          "ME",
          "MI",
          "MN",
          "MO",
          "MP",
          "MS",
          "MT",
          "NC",
          "ND",
          "NE",
          "NH",
          "NJ",
          "NM",
          "NV",
          "NY",
          "OH",
          "OK",
          "OR",
          "PA",
          "PR",
          "RI",
          "SC",
          "SD",
          "TN",
          "TX",
          "UT",
          "VA",
          "VI",
          "VT",
          "WA",
          "WI",
          "WV",
          "WY",
          "Total"
         ],
         "type": "choropleth",
         "z": [
          5.6,
          -11.7,
          -4.1,
          22.7,
          22.8,
          -10,
          -14.3,
          -14.6,
          17.2,
          -14.6,
          0.6,
          -7.3,
          -10.6,
          -4,
          13.6,
          -3.4,
          3.4,
          7.1,
          -0.3,
          -4,
          2.3,
          -12.2,
          -8,
          -4.6,
          3.5,
          8.1,
          79.6,
          -24.8,
          1,
          3.5,
          -50.3,
          -3.9,
          15,
          13.2,
          34.3,
          -11.9,
          2,
          5.5,
          -6.4,
          5,
          -5.4,
          -30.5,
          -6.4,
          9.5,
          12.2,
          -12.7,
          15.6,
          9.8,
          -1.8,
          -20.2,
          -9.4,
          8.6,
          -10.2,
          2.4,
          -29.9,
          5.3
         ]
        },
        {
         "colorscale": [
          [
           0,
           "#ffffff"
          ],
          [
           0.2,
           "#ff9999"
          ],
          [
           0.4,
           "#ff4d4d"
          ],
          [
           0.6,
           "#ff1a1a"
          ],
          [
           0.8,
           "#cc0000"
          ],
          [
           1,
           "#4d0000"
          ]
         ],
         "locationmode": "USA-states",
         "locations": [
          "AK",
          "AL",
          "AR",
          "AZ",
          "CA",
          "CO",
          "CT",
          "DC",
          "DE",
          "FL",
          "GA",
          "GU",
          "HI",
          "IA",
          "ID",
          "IL",
          "IN",
          "KS",
          "KY",
          "LA",
          "MA",
          "MD",
          "ME",
          "MI",
          "MN",
          "MO",
          "MP",
          "MS",
          "MT",
          "NC",
          "ND",
          "NE",
          "NH",
          "NJ",
          "NM",
          "NV",
          "NY",
          "OH",
          "OK",
          "OR",
          "PA",
          "PR",
          "RI",
          "SC",
          "SD",
          "TN",
          "TX",
          "UT",
          "VA",
          "VI",
          "VT",
          "WA",
          "WI",
          "WV",
          "WY",
          "Total"
         ],
         "type": "choropleth",
         "z": [
          -3.3,
          -2.4,
          -12.8,
          11.3,
          24.3,
          -9.3,
          -26.9,
          -7.6,
          7.7,
          -11.4,
          7.7,
          -7.5,
          -1.1,
          -3.7,
          15.1,
          -2,
          7,
          10.5,
          8.8,
          3.7,
          -10.4,
          -11,
          -16.7,
          3.4,
          9.6,
          10.9,
          15.6,
          -18.1,
          10,
          0.1,
          -0.2,
          -0.7,
          15.5,
          2.8,
          30.7,
          -8.5,
          -0.7,
          4,
          1.6,
          1.2,
          -1,
          -23,
          0.3,
          9,
          -8.7,
          -8,
          7.6,
          8.9,
          -0.3,
          -37.4,
          -14,
          2.8,
          -8,
          7.9,
          -4.2,
          5
         ]
        },
        {
         "colorscale": [
          [
           0,
           "#ffffff"
          ],
          [
           0.2,
           "#ff9999"
          ],
          [
           0.4,
           "#ff4d4d"
          ],
          [
           0.6,
           "#ff1a1a"
          ],
          [
           0.8,
           "#cc0000"
          ],
          [
           1,
           "#4d0000"
          ]
         ],
         "locationmode": "USA-states",
         "locations": [
          "AK",
          "AL",
          "AR",
          "AZ",
          "CA",
          "CO",
          "CT",
          "DC",
          "DE",
          "FL",
          "GA",
          "GU",
          "HI",
          "IA",
          "ID",
          "IL",
          "IN",
          "KS",
          "KY",
          "LA",
          "MA",
          "MD",
          "ME",
          "MI",
          "MN",
          "MO",
          "MP",
          "MS",
          "MT",
          "NC",
          "ND",
          "NE",
          "NH",
          "NJ",
          "NM",
          "NV",
          "NY",
          "OH",
          "OK",
          "OR",
          "PA",
          "PR",
          "RI",
          "SC",
          "SD",
          "TN",
          "TX",
          "UT",
          "VA",
          "VI",
          "VT",
          "WA",
          "WI",
          "WV",
          "WY",
          "Total"
         ],
         "type": "choropleth",
         "z": [
          2.2,
          2.8,
          -12.9,
          9.7,
          6.8,
          2.4,
          -4.2,
          -2.2,
          26.5,
          -3,
          -2,
          -9.7,
          0.7,
          14.3,
          0,
          2.3,
          2.8,
          2.9,
          -1.7,
          7.9,
          -2.7,
          -3.1,
          -0.4,
          0.7,
          -0.5,
          5.6,
          -33.2,
          -6.5,
          13.9,
          -0.4,
          -2.9,
          1.6,
          20,
          9,
          2.8,
          -3.8,
          -0.9,
          3,
          -0.3,
          -7.7,
          1.3,
          -3.3,
          4.6,
          2.8,
          6.3,
          -2.8,
          5.3,
          11.9,
          3,
          -3.2,
          1.9,
          6.2,
          -0.5,
          -4,
          11.7,
          2.2
         ]
        }
       ],
       "layout": {
        "autosize": true,
        "geo": {
         "projection": {
          "type": "albers usa"
         },
         "scope": "usa"
        },
        "sliders": [
         {
          "active": 0,
          "pad": {
           "t": 1
          },
          "steps": [
           {
            "args": [
             "visible",
             [
              true,
              false,
              false
             ]
            ],
            "label": "Year 2017",
            "method": "restyle"
           },
           {
            "args": [
             "visible",
             [
              false,
              true,
              false
             ]
            ],
            "label": "Year 2018",
            "method": "restyle"
           },
           {
            "args": [
             "visible",
             [
              false,
              false,
              true
             ]
            ],
            "label": "Year 2019",
            "method": "restyle"
           }
          ]
         }
        ],
        "template": {
         "data": {
          "bar": [
           {
            "error_x": {
             "color": "#2a3f5f"
            },
            "error_y": {
             "color": "#2a3f5f"
            },
            "marker": {
             "line": {
              "color": "#E5ECF6",
              "width": 0.5
             },
             "pattern": {
              "fillmode": "overlay",
              "size": 10,
              "solidity": 0.2
             }
            },
            "type": "bar"
           }
          ],
          "barpolar": [
           {
            "marker": {
             "line": {
              "color": "#E5ECF6",
              "width": 0.5
             },
             "pattern": {
              "fillmode": "overlay",
              "size": 10,
              "solidity": 0.2
             }
            },
            "type": "barpolar"
           }
          ],
          "carpet": [
           {
            "aaxis": {
             "endlinecolor": "#2a3f5f",
             "gridcolor": "white",
             "linecolor": "white",
             "minorgridcolor": "white",
             "startlinecolor": "#2a3f5f"
            },
            "baxis": {
             "endlinecolor": "#2a3f5f",
             "gridcolor": "white",
             "linecolor": "white",
             "minorgridcolor": "white",
             "startlinecolor": "#2a3f5f"
            },
            "type": "carpet"
           }
          ],
          "choropleth": [
           {
            "colorbar": {
             "outlinewidth": 0,
             "ticks": ""
            },
            "type": "choropleth"
           }
          ],
          "contour": [
           {
            "colorbar": {
             "outlinewidth": 0,
             "ticks": ""
            },
            "colorscale": [
             [
              0,
              "#0d0887"
             ],
             [
              0.1111111111111111,
              "#46039f"
             ],
             [
              0.2222222222222222,
              "#7201a8"
             ],
             [
              0.3333333333333333,
              "#9c179e"
             ],
             [
              0.4444444444444444,
              "#bd3786"
             ],
             [
              0.5555555555555556,
              "#d8576b"
             ],
             [
              0.6666666666666666,
              "#ed7953"
             ],
             [
              0.7777777777777778,
              "#fb9f3a"
             ],
             [
              0.8888888888888888,
              "#fdca26"
             ],
             [
              1,
              "#f0f921"
             ]
            ],
            "type": "contour"
           }
          ],
          "contourcarpet": [
           {
            "colorbar": {
             "outlinewidth": 0,
             "ticks": ""
            },
            "type": "contourcarpet"
           }
          ],
          "heatmap": [
           {
            "colorbar": {
             "outlinewidth": 0,
             "ticks": ""
            },
            "colorscale": [
             [
              0,
              "#0d0887"
             ],
             [
              0.1111111111111111,
              "#46039f"
             ],
             [
              0.2222222222222222,
              "#7201a8"
             ],
             [
              0.3333333333333333,
              "#9c179e"
             ],
             [
              0.4444444444444444,
              "#bd3786"
             ],
             [
              0.5555555555555556,
              "#d8576b"
             ],
             [
              0.6666666666666666,
              "#ed7953"
             ],
             [
              0.7777777777777778,
              "#fb9f3a"
             ],
             [
              0.8888888888888888,
              "#fdca26"
             ],
             [
              1,
              "#f0f921"
             ]
            ],
            "type": "heatmap"
           }
          ],
          "heatmapgl": [
           {
            "colorbar": {
             "outlinewidth": 0,
             "ticks": ""
            },
            "colorscale": [
             [
              0,
              "#0d0887"
             ],
             [
              0.1111111111111111,
              "#46039f"
             ],
             [
              0.2222222222222222,
              "#7201a8"
             ],
             [
              0.3333333333333333,
              "#9c179e"
             ],
             [
              0.4444444444444444,
              "#bd3786"
             ],
             [
              0.5555555555555556,
              "#d8576b"
             ],
             [
              0.6666666666666666,
              "#ed7953"
             ],
             [
              0.7777777777777778,
              "#fb9f3a"
             ],
             [
              0.8888888888888888,
              "#fdca26"
             ],
             [
              1,
              "#f0f921"
             ]
            ],
            "type": "heatmapgl"
           }
          ],
          "histogram": [
           {
            "marker": {
             "pattern": {
              "fillmode": "overlay",
              "size": 10,
              "solidity": 0.2
             }
            },
            "type": "histogram"
           }
          ],
          "histogram2d": [
           {
            "colorbar": {
             "outlinewidth": 0,
             "ticks": ""
            },
            "colorscale": [
             [
              0,
              "#0d0887"
             ],
             [
              0.1111111111111111,
              "#46039f"
             ],
             [
              0.2222222222222222,
              "#7201a8"
             ],
             [
              0.3333333333333333,
              "#9c179e"
             ],
             [
              0.4444444444444444,
              "#bd3786"
             ],
             [
              0.5555555555555556,
              "#d8576b"
             ],
             [
              0.6666666666666666,
              "#ed7953"
             ],
             [
              0.7777777777777778,
              "#fb9f3a"
             ],
             [
              0.8888888888888888,
              "#fdca26"
             ],
             [
              1,
              "#f0f921"
             ]
            ],
            "type": "histogram2d"
           }
          ],
          "histogram2dcontour": [
           {
            "colorbar": {
             "outlinewidth": 0,
             "ticks": ""
            },
            "colorscale": [
             [
              0,
              "#0d0887"
             ],
             [
              0.1111111111111111,
              "#46039f"
             ],
             [
              0.2222222222222222,
              "#7201a8"
             ],
             [
              0.3333333333333333,
              "#9c179e"
             ],
             [
              0.4444444444444444,
              "#bd3786"
             ],
             [
              0.5555555555555556,
              "#d8576b"
             ],
             [
              0.6666666666666666,
              "#ed7953"
             ],
             [
              0.7777777777777778,
              "#fb9f3a"
             ],
             [
              0.8888888888888888,
              "#fdca26"
             ],
             [
              1,
              "#f0f921"
             ]
            ],
            "type": "histogram2dcontour"
           }
          ],
          "mesh3d": [
           {
            "colorbar": {
             "outlinewidth": 0,
             "ticks": ""
            },
            "type": "mesh3d"
           }
          ],
          "parcoords": [
           {
            "line": {
             "colorbar": {
              "outlinewidth": 0,
              "ticks": ""
             }
            },
            "type": "parcoords"
           }
          ],
          "pie": [
           {
            "automargin": true,
            "type": "pie"
           }
          ],
          "scatter": [
           {
            "marker": {
             "colorbar": {
              "outlinewidth": 0,
              "ticks": ""
             }
            },
            "type": "scatter"
           }
          ],
          "scatter3d": [
           {
            "line": {
             "colorbar": {
              "outlinewidth": 0,
              "ticks": ""
             }
            },
            "marker": {
             "colorbar": {
              "outlinewidth": 0,
              "ticks": ""
             }
            },
            "type": "scatter3d"
           }
          ],
          "scattercarpet": [
           {
            "marker": {
             "colorbar": {
              "outlinewidth": 0,
              "ticks": ""
             }
            },
            "type": "scattercarpet"
           }
          ],
          "scattergeo": [
           {
            "marker": {
             "colorbar": {
              "outlinewidth": 0,
              "ticks": ""
             }
            },
            "type": "scattergeo"
           }
          ],
          "scattergl": [
           {
            "marker": {
             "colorbar": {
              "outlinewidth": 0,
              "ticks": ""
             }
            },
            "type": "scattergl"
           }
          ],
          "scattermapbox": [
           {
            "marker": {
             "colorbar": {
              "outlinewidth": 0,
              "ticks": ""
             }
            },
            "type": "scattermapbox"
           }
          ],
          "scatterpolar": [
           {
            "marker": {
             "colorbar": {
              "outlinewidth": 0,
              "ticks": ""
             }
            },
            "type": "scatterpolar"
           }
          ],
          "scatterpolargl": [
           {
            "marker": {
             "colorbar": {
              "outlinewidth": 0,
              "ticks": ""
             }
            },
            "type": "scatterpolargl"
           }
          ],
          "scatterternary": [
           {
            "marker": {
             "colorbar": {
              "outlinewidth": 0,
              "ticks": ""
             }
            },
            "type": "scatterternary"
           }
          ],
          "surface": [
           {
            "colorbar": {
             "outlinewidth": 0,
             "ticks": ""
            },
            "colorscale": [
             [
              0,
              "#0d0887"
             ],
             [
              0.1111111111111111,
              "#46039f"
             ],
             [
              0.2222222222222222,
              "#7201a8"
             ],
             [
              0.3333333333333333,
              "#9c179e"
             ],
             [
              0.4444444444444444,
              "#bd3786"
             ],
             [
              0.5555555555555556,
              "#d8576b"
             ],
             [
              0.6666666666666666,
              "#ed7953"
             ],
             [
              0.7777777777777778,
              "#fb9f3a"
             ],
             [
              0.8888888888888888,
              "#fdca26"
             ],
             [
              1,
              "#f0f921"
             ]
            ],
            "type": "surface"
           }
          ],
          "table": [
           {
            "cells": {
             "fill": {
              "color": "#EBF0F8"
             },
             "line": {
              "color": "white"
             }
            },
            "header": {
             "fill": {
              "color": "#C8D4E3"
             },
             "line": {
              "color": "white"
             }
            },
            "type": "table"
           }
          ]
         },
         "layout": {
          "annotationdefaults": {
           "arrowcolor": "#2a3f5f",
           "arrowhead": 0,
           "arrowwidth": 1
          },
          "autotypenumbers": "strict",
          "coloraxis": {
           "colorbar": {
            "outlinewidth": 0,
            "ticks": ""
           }
          },
          "colorscale": {
           "diverging": [
            [
             0,
             "#8e0152"
            ],
            [
             0.1,
             "#c51b7d"
            ],
            [
             0.2,
             "#de77ae"
            ],
            [
             0.3,
             "#f1b6da"
            ],
            [
             0.4,
             "#fde0ef"
            ],
            [
             0.5,
             "#f7f7f7"
            ],
            [
             0.6,
             "#e6f5d0"
            ],
            [
             0.7,
             "#b8e186"
            ],
            [
             0.8,
             "#7fbc41"
            ],
            [
             0.9,
             "#4d9221"
            ],
            [
             1,
             "#276419"
            ]
           ],
           "sequential": [
            [
             0,
             "#0d0887"
            ],
            [
             0.1111111111111111,
             "#46039f"
            ],
            [
             0.2222222222222222,
             "#7201a8"
            ],
            [
             0.3333333333333333,
             "#9c179e"
            ],
            [
             0.4444444444444444,
             "#bd3786"
            ],
            [
             0.5555555555555556,
             "#d8576b"
            ],
            [
             0.6666666666666666,
             "#ed7953"
            ],
            [
             0.7777777777777778,
             "#fb9f3a"
            ],
            [
             0.8888888888888888,
             "#fdca26"
            ],
            [
             1,
             "#f0f921"
            ]
           ],
           "sequentialminus": [
            [
             0,
             "#0d0887"
            ],
            [
             0.1111111111111111,
             "#46039f"
            ],
            [
             0.2222222222222222,
             "#7201a8"
            ],
            [
             0.3333333333333333,
             "#9c179e"
            ],
            [
             0.4444444444444444,
             "#bd3786"
            ],
            [
             0.5555555555555556,
             "#d8576b"
            ],
            [
             0.6666666666666666,
             "#ed7953"
            ],
            [
             0.7777777777777778,
             "#fb9f3a"
            ],
            [
             0.8888888888888888,
             "#fdca26"
            ],
            [
             1,
             "#f0f921"
            ]
           ]
          },
          "colorway": [
           "#636efa",
           "#EF553B",
           "#00cc96",
           "#ab63fa",
           "#FFA15A",
           "#19d3f3",
           "#FF6692",
           "#B6E880",
           "#FF97FF",
           "#FECB52"
          ],
          "font": {
           "color": "#2a3f5f"
          },
          "geo": {
           "bgcolor": "white",
           "lakecolor": "white",
           "landcolor": "#E5ECF6",
           "showlakes": true,
           "showland": true,
           "subunitcolor": "white"
          },
          "hoverlabel": {
           "align": "left"
          },
          "hovermode": "closest",
          "mapbox": {
           "style": "light"
          },
          "paper_bgcolor": "white",
          "plot_bgcolor": "#E5ECF6",
          "polar": {
           "angularaxis": {
            "gridcolor": "white",
            "linecolor": "white",
            "ticks": ""
           },
           "bgcolor": "#E5ECF6",
           "radialaxis": {
            "gridcolor": "white",
            "linecolor": "white",
            "ticks": ""
           }
          },
          "scene": {
           "xaxis": {
            "backgroundcolor": "#E5ECF6",
            "gridcolor": "white",
            "gridwidth": 2,
            "linecolor": "white",
            "showbackground": true,
            "ticks": "",
            "zerolinecolor": "white"
           },
           "yaxis": {
            "backgroundcolor": "#E5ECF6",
            "gridcolor": "white",
            "gridwidth": 2,
            "linecolor": "white",
            "showbackground": true,
            "ticks": "",
            "zerolinecolor": "white"
           },
           "zaxis": {
            "backgroundcolor": "#E5ECF6",
            "gridcolor": "white",
            "gridwidth": 2,
            "linecolor": "white",
            "showbackground": true,
            "ticks": "",
            "zerolinecolor": "white"
           }
          },
          "shapedefaults": {
           "line": {
            "color": "#2a3f5f"
           }
          },
          "ternary": {
           "aaxis": {
            "gridcolor": "white",
            "linecolor": "white",
            "ticks": ""
           },
           "baxis": {
            "gridcolor": "white",
            "linecolor": "white",
            "ticks": ""
           },
           "bgcolor": "#E5ECF6",
           "caxis": {
            "gridcolor": "white",
            "linecolor": "white",
            "ticks": ""
           }
          },
          "title": {
           "x": 0.05
          },
          "xaxis": {
           "automargin": true,
           "gridcolor": "white",
           "linecolor": "white",
           "ticks": "",
           "title": {
            "standoff": 15
           },
           "zerolinecolor": "white",
           "zerolinewidth": 2
          },
          "yaxis": {
           "automargin": true,
           "gridcolor": "white",
           "linecolor": "white",
           "ticks": "",
           "title": {
            "standoff": 15
           },
           "zerolinecolor": "white",
           "zerolinewidth": 2
          }
         }
        }
       }
      },
      "image/png": "[encoded data removed]",
      "text/html": [
       "<div>                            <div id=\"73ccf253-40b2-484f-85ae-d811cf559888\" class=\"plotly-graph-div\" style=\"height:525px; width:100%;\"></div>            <script type=\"text/javascript\">                require([\"plotly\"], function(Plotly) {                    window.PLOTLYENV=window.PLOTLYENV || {};                                    if (document.getElementById(\"73ccf253-40b2-484f-85ae-d811cf559888\")) {                    Plotly.newPlot(                        \"73ccf253-40b2-484f-85ae-d811cf559888\",                        [{\"colorscale\":[[0.0,\"#ffffff\"],[0.2,\"#ff9999\"],[0.4,\"#ff4d4d\"],[0.6,\"#ff1a1a\"],[0.8,\"#cc0000\"],[1.0,\"#4d0000\"]],\"locationmode\":\"USA-states\",\"locations\":[\"AK\",\"AL\",\"AR\",\"AZ\",\"CA\",\"CO\",\"CT\",\"DC\",\"DE\",\"FL\",\"GA\",\"GU\",\"HI\",\"IA\",\"ID\",\"IL\",\"IN\",\"KS\",\"KY\",\"LA\",\"MA\",\"MD\",\"ME\",\"MI\",\"MN\",\"MO\",\"MP\",\"MS\",\"MT\",\"NC\",\"ND\",\"NE\",\"NH\",\"NJ\",\"NM\",\"NV\",\"NY\",\"OH\",\"OK\",\"OR\",\"PA\",\"PR\",\"RI\",\"SC\",\"SD\",\"TN\",\"TX\",\"UT\",\"VA\",\"VI\",\"VT\",\"WA\",\"WI\",\"WV\",\"WY\",\"Total\"],\"type\":\"choropleth\",\"z\":[5.6,-11.7,-4.1,22.7,22.8,-10.0,-14.3,-14.6,17.2,-14.6,0.6,-7.3,-10.6,-4.0,13.6,-3.4,3.4,7.1,-0.3,-4.0,2.3,-12.2,-8.0,-4.6,3.5,8.1,79.6,-24.8,1.0,3.5,-50.3,-3.9,15.0,13.2,34.3,-11.9,2.0,5.5,-6.4,5.0,-5.4,-30.5,-6.4,9.5,12.2,-12.7,15.6,9.8,-1.8,-20.2,-9.4,8.6,-10.2,2.4,-29.9,5.3]},{\"colorscale\":[[0.0,\"#ffffff\"],[0.2,\"#ff9999\"],[0.4,\"#ff4d4d\"],[0.6,\"#ff1a1a\"],[0.8,\"#cc0000\"],[1.0,\"#4d0000\"]],\"locationmode\":\"USA-states\",\"locations\":[\"AK\",\"AL\",\"AR\",\"AZ\",\"CA\",\"CO\",\"CT\",\"DC\",\"DE\",\"FL\",\"GA\",\"GU\",\"HI\",\"IA\",\"ID\",\"IL\",\"IN\",\"KS\",\"KY\",\"LA\",\"MA\",\"MD\",\"ME\",\"MI\",\"MN\",\"MO\",\"MP\",\"MS\",\"MT\",\"NC\",\"ND\",\"NE\",\"NH\",\"NJ\",\"NM\",\"NV\",\"NY\",\"OH\",\"OK\",\"OR\",\"PA\",\"PR\",\"RI\",\"SC\",\"SD\",\"TN\",\"TX\",\"UT\",\"VA\",\"VI\",\"VT\",\"WA\",\"WI\",\"WV\",\"WY\",\"Total\"],\"type\":\"choropleth\",\"z\":[-3.3,-2.4,-12.8,11.3,24.3,-9.3,-26.9,-7.6,7.7,-11.4,7.7,-7.5,-1.1,-3.7,15.1,-2.0,7.0,10.5,8.8,3.7,-10.4,-11.0,-16.7,3.4,9.6,10.9,15.6,-18.1,10.0,0.1,-0.2,-0.7,15.5,2.8,30.7,-8.5,-0.7,4.0,1.6,1.2,-1.0,-23.0,0.3,9.0,-8.7,-8.0,7.6,8.9,-0.3,-37.4,-14.0,2.8,-8.0,7.9,-4.2,5.0]},{\"colorscale\":[[0.0,\"#ffffff\"],[0.2,\"#ff9999\"],[0.4,\"#ff4d4d\"],[0.6,\"#ff1a1a\"],[0.8,\"#cc0000\"],[1.0,\"#4d0000\"]],\"locationmode\":\"USA-states\",\"locations\":[\"AK\",\"AL\",\"AR\",\"AZ\",\"CA\",\"CO\",\"CT\",\"DC\",\"DE\",\"FL\",\"GA\",\"GU\",\"HI\",\"IA\",\"ID\",\"IL\",\"IN\",\"KS\",\"KY\",\"LA\",\"MA\",\"MD\",\"ME\",\"MI\",\"MN\",\"MO\",\"MP\",\"MS\",\"MT\",\"NC\",\"ND\",\"NE\",\"NH\",\"NJ\",\"NM\",\"NV\",\"NY\",\"OH\",\"OK\",\"OR\",\"PA\",\"PR\",\"RI\",\"SC\",\"SD\",\"TN\",\"TX\",\"UT\",\"VA\",\"VI\",\"VT\",\"WA\",\"WI\",\"WV\",\"WY\",\"Total\"],\"type\":\"choropleth\",\"z\":[2.2,2.8,-12.9,9.7,6.8,2.4,-4.2,-2.2,26.5,-3.0,-2.0,-9.7,0.7,14.3,0.0,2.3,2.8,2.9,-1.7,7.9,-2.7,-3.1,-0.4,0.7,-0.5,5.6,-33.2,-6.5,13.9,-0.4,-2.9,1.6,20.0,9.0,2.8,-3.8,-0.9,3.0,-0.3,-7.7,1.3,-3.3,4.6,2.8,6.3,-2.8,5.3,11.9,3.0,-3.2,1.9,6.2,-0.5,-4.0,11.7,2.2]}],                        {\"geo\":{\"projection\":{\"type\":\"albers usa\"},\"scope\":\"usa\"},\"sliders\":[{\"active\":0,\"pad\":{\"t\":1},\"steps\":[{\"args\":[\"visible\",[true,false,false]],\"label\":\"Year 2017\",\"method\":\"restyle\"},{\"args\":[\"visible\",[false,true,false]],\"label\":\"Year 2018\",\"method\":\"restyle\"},{\"args\":[\"visible\",[false,false,true]],\"label\":\"Year 2019\",\"method\":\"restyle\"}]}],\"template\":{\"data\":{\"bar\":[{\"error_x\":{\"color\":\"#2a3f5f\"},\"error_y\":{\"color\":\"#2a3f5f\"},\"marker\":{\"line\":{\"color\":\"#E5ECF6\",\"width\":0.5},\"pattern\":{\"fillmode\":\"overlay\",\"size\":10,\"solidity\":0.2}},\"type\":\"bar\"}],\"barpolar\":[{\"marker\":{\"line\":{\"color\":\"#E5ECF6\",\"width\":0.5},\"pattern\":{\"fillmode\":\"overlay\",\"size\":10,\"solidity\":0.2}},\"type\":\"barpolar\"}],\"carpet\":[{\"aaxis\":{\"endlinecolor\":\"#2a3f5f\",\"gridcolor\":\"white\",\"linecolor\":\"white\",\"minorgridcolor\":\"white\",\"startlinecolor\":\"#2a3f5f\"},\"baxis\":{\"endlinecolor\":\"#2a3f5f\",\"gridcolor\":\"white\",\"linecolor\":\"white\",\"minorgridcolor\":\"white\",\"startlinecolor\":\"#2a3f5f\"},\"type\":\"carpet\"}],\"choropleth\":[{\"colorbar\":{\"outlinewidth\":0,\"ticks\":\"\"},\"type\":\"choropleth\"}],\"contour\":[{\"colorbar\":{\"outlinewidth\":0,\"ticks\":\"\"},\"colorscale\":[[0.0,\"#0d0887\"],[0.1111111111111111,\"#46039f\"],[0.2222222222222222,\"#7201a8\"],[0.3333333333333333,\"#9c179e\"],[0.4444444444444444,\"#bd3786\"],[0.5555555555555556,\"#d8576b\"],[0.6666666666666666,\"#ed7953\"],[0.7777777777777778,\"#fb9f3a\"],[0.8888888888888888,\"#fdca26\"],[1.0,\"#f0f921\"]],\"type\":\"contour\"}],\"contourcarpet\":[{\"colorbar\":{\"outlinewidth\":0,\"ticks\":\"\"},\"type\":\"contourcarpet\"}],\"heatmap\":[{\"colorbar\":{\"outlinewidth\":0,\"ticks\":\"\"},\"colorscale\":[[0.0,\"#0d0887\"],[0.1111111111111111,\"#46039f\"],[0.2222222222222222,\"#7201a8\"],[0.3333333333333333,\"#9c179e\"],[0.4444444444444444,\"#bd3786\"],[0.5555555555555556,\"#d8576b\"],[0.6666666666666666,\"#ed7953\"],[0.7777777777777778,\"#fb9f3a\"],[0.8888888888888888,\"#fdca26\"],[1.0,\"#f0f921\"]],\"type\":\"heatmap\"}],\"heatmapgl\":[{\"colorbar\":{\"outlinewidth\":0,\"ticks\":\"\"},\"colorscale\":[[0.0,\"#0d0887\"],[0.1111111111111111,\"#46039f\"],[0.2222222222222222,\"#7201a8\"],[0.3333333333333333,\"#9c179e\"],[0.4444444444444444,\"#bd3786\"],[0.5555555555555556,\"#d8576b\"],[0.6666666666666666,\"#ed7953\"],[0.7777777777777778,\"#fb9f3a\"],[0.8888888888888888,\"#fdca26\"],[1.0,\"#f0f921\"]],\"type\":\"heatmapgl\"}],\"histogram\":[{\"marker\":{\"pattern\":{\"fillmode\":\"overlay\",\"size\":10,\"solidity\":0.2}},\"type\":\"histogram\"}],\"histogram2d\":[{\"colorbar\":{\"outlinewidth\":0,\"ticks\":\"\"},\"colorscale\":[[0.0,\"#0d0887\"],[0.1111111111111111,\"#46039f\"],[0.2222222222222222,\"#7201a8\"],[0.3333333333333333,\"#9c179e\"],[0.4444444444444444,\"#bd3786\"],[0.5555555555555556,\"#d8576b\"],[0.6666666666666666,\"#ed7953\"],[0.7777777777777778,\"#fb9f3a\"],[0.8888888888888888,\"#fdca26\"],[1.0,\"#f0f921\"]],\"type\":\"histogram2d\"}],\"histogram2dcontour\":[{\"colorbar\":{\"outlinewidth\":0,\"ticks\":\"\"},\"colorscale\":[[0.0,\"#0d0887\"],[0.1111111111111111,\"#46039f\"],[0.2222222222222222,\"#7201a8\"],[0.3333333333333333,\"#9c179e\"],[0.4444444444444444,\"#bd3786\"],[0.5555555555555556,\"#d8576b\"],[0.6666666666666666,\"#ed7953\"],[0.7777777777777778,\"#fb9f3a\"],[0.8888888888888888,\"#fdca26\"],[1.0,\"#f0f921\"]],\"type\":\"histogram2dcontour\"}],\"mesh3d\":[{\"colorbar\":{\"outlinewidth\":0,\"ticks\":\"\"},\"type\":\"mesh3d\"}],\"parcoords\":[{\"line\":{\"colorbar\":{\"outlinewidth\":0,\"ticks\":\"\"}},\"type\":\"parcoords\"}],\"pie\":[{\"automargin\":true,\"type\":\"pie\"}],\"scatter\":[{\"marker\":{\"colorbar\":{\"outlinewidth\":0,\"ticks\":\"\"}},\"type\":\"scatter\"}],\"scatter3d\":[{\"line\":{\"colorbar\":{\"outlinewidth\":0,\"ticks\":\"\"}},\"marker\":{\"colorbar\":{\"outlinewidth\":0,\"ticks\":\"\"}},\"type\":\"scatter3d\"}],\"scattercarpet\":[{\"marker\":{\"colorbar\":{\"outlinewidth\":0,\"ticks\":\"\"}},\"type\":\"scattercarpet\"}],\"scattergeo\":[{\"marker\":{\"colorbar\":{\"outlinewidth\":0,\"ticks\":\"\"}},\"type\":\"scattergeo\"}],\"scattergl\":[{\"marker\":{\"colorbar\":{\"outlinewidth\":0,\"ticks\":\"\"}},\"type\":\"scattergl\"}],\"scattermapbox\":[{\"marker\":{\"colorbar\":{\"outlinewidth\":0,\"ticks\":\"\"}},\"type\":\"scattermapbox\"}],\"scatterpolar\":[{\"marker\":{\"colorbar\":{\"outlinewidth\":0,\"ticks\":\"\"}},\"type\":\"scatterpolar\"}],\"scatterpolargl\":[{\"marker\":{\"colorbar\":{\"outlinewidth\":0,\"ticks\":\"\"}},\"type\":\"scatterpolargl\"}],\"scatterternary\":[{\"marker\":{\"colorbar\":{\"outlinewidth\":0,\"ticks\":\"\"}},\"type\":\"scatterternary\"}],\"surface\":[{\"colorbar\":{\"outlinewidth\":0,\"ticks\":\"\"},\"colorscale\":[[0.0,\"#0d0887\"],[0.1111111111111111,\"#46039f\"],[0.2222222222222222,\"#7201a8\"],[0.3333333333333333,\"#9c179e\"],[0.4444444444444444,\"#bd3786\"],[0.5555555555555556,\"#d8576b\"],[0.6666666666666666,\"#ed7953\"],[0.7777777777777778,\"#fb9f3a\"],[0.8888888888888888,\"#fdca26\"],[1.0,\"#f0f921\"]],\"type\":\"surface\"}],\"table\":[{\"cells\":{\"fill\":{\"color\":\"#EBF0F8\"},\"line\":{\"color\":\"white\"}},\"header\":{\"fill\":{\"color\":\"#C8D4E3\"},\"line\":{\"color\":\"white\"}},\"type\":\"table\"}]},\"layout\":{\"annotationdefaults\":{\"arrowcolor\":\"#2a3f5f\",\"arrowhead\":0,\"arrowwidth\":1},\"autotypenumbers\":\"strict\",\"coloraxis\":{\"colorbar\":{\"outlinewidth\":0,\"ticks\":\"\"}},\"colorscale\":{\"diverging\":[[0,\"#8e0152\"],[0.1,\"#c51b7d\"],[0.2,\"#de77ae\"],[0.3,\"#f1b6da\"],[0.4,\"#fde0ef\"],[0.5,\"#f7f7f7\"],[0.6,\"#e6f5d0\"],[0.7,\"#b8e186\"],[0.8,\"#7fbc41\"],[0.9,\"#4d9221\"],[1,\"#276419\"]],\"sequential\":[[0.0,\"#0d0887\"],[0.1111111111111111,\"#46039f\"],[0.2222222222222222,\"#7201a8\"],[0.3333333333333333,\"#9c179e\"],[0.4444444444444444,\"#bd3786\"],[0.5555555555555556,\"#d8576b\"],[0.6666666666666666,\"#ed7953\"],[0.7777777777777778,\"#fb9f3a\"],[0.8888888888888888,\"#fdca26\"],[1.0,\"#f0f921\"]],\"sequentialminus\":[[0.0,\"#0d0887\"],[0.1111111111111111,\"#46039f\"],[0.2222222222222222,\"#7201a8\"],[0.3333333333333333,\"#9c179e\"],[0.4444444444444444,\"#bd3786\"],[0.5555555555555556,\"#d8576b\"],[0.6666666666666666,\"#ed7953\"],[0.7777777777777778,\"#fb9f3a\"],[0.8888888888888888,\"#fdca26\"],[1.0,\"#f0f921\"]]},\"colorway\":[\"#636efa\",\"#EF553B\",\"#00cc96\",\"#ab63fa\",\"#FFA15A\",\"#19d3f3\",\"#FF6692\",\"#B6E880\",\"#FF97FF\",\"#FECB52\"],\"font\":{\"color\":\"#2a3f5f\"},\"geo\":{\"bgcolor\":\"white\",\"lakecolor\":\"white\",\"landcolor\":\"#E5ECF6\",\"showlakes\":true,\"showland\":true,\"subunitcolor\":\"white\"},\"hoverlabel\":{\"align\":\"left\"},\"hovermode\":\"closest\",\"mapbox\":{\"style\":\"light\"},\"paper_bgcolor\":\"white\",\"plot_bgcolor\":\"#E5ECF6\",\"polar\":{\"angularaxis\":{\"gridcolor\":\"white\",\"linecolor\":\"white\",\"ticks\":\"\"},\"bgcolor\":\"#E5ECF6\",\"radialaxis\":{\"gridcolor\":\"white\",\"linecolor\":\"white\",\"ticks\":\"\"}},\"scene\":{\"xaxis\":{\"backgroundcolor\":\"#E5ECF6\",\"gridcolor\":\"white\",\"gridwidth\":2,\"linecolor\":\"white\",\"showbackground\":true,\"ticks\":\"\",\"zerolinecolor\":\"white\"},\"yaxis\":{\"backgroundcolor\":\"#E5ECF6\",\"gridcolor\":\"white\",\"gridwidth\":2,\"linecolor\":\"white\",\"showbackground\":true,\"ticks\":\"\",\"zerolinecolor\":\"white\"},\"zaxis\":{\"backgroundcolor\":\"#E5ECF6\",\"gridcolor\":\"white\",\"gridwidth\":2,\"linecolor\":\"white\",\"showbackground\":true,\"ticks\":\"\",\"zerolinecolor\":\"white\"}},\"shapedefaults\":{\"line\":{\"color\":\"#2a3f5f\"}},\"ternary\":{\"aaxis\":{\"gridcolor\":\"white\",\"linecolor\":\"white\",\"ticks\":\"\"},\"baxis\":{\"gridcolor\":\"white\",\"linecolor\":\"white\",\"ticks\":\"\"},\"bgcolor\":\"#E5ECF6\",\"caxis\":{\"gridcolor\":\"white\",\"linecolor\":\"white\",\"ticks\":\"\"}},\"title\":{\"x\":0.05},\"xaxis\":{\"automargin\":true,\"gridcolor\":\"white\",\"linecolor\":\"white\",\"ticks\":\"\",\"title\":{\"standoff\":15},\"zerolinecolor\":\"white\",\"zerolinewidth\":2},\"yaxis\":{\"automargin\":true,\"gridcolor\":\"white\",\"linecolor\":\"white\",\"ticks\":\"\",\"title\":{\"standoff\":15},\"zerolinecolor\":\"white\",\"zerolinewidth\":2}}}},                        {\"responsive\": true}                    ).then(function(){\n",
       "                            \n",
       "var gd = document.getElementById('73ccf253-40b2-484f-85ae-d811cf559888');\n",
       "var x = new MutationObserver(function (mutations, observer) {{\n",
       "        var display = window.getComputedStyle(gd).display;\n",
       "        if (!display || display === 'none') {{\n",
       "            console.log([gd, 'removed!']);\n",
       "            Plotly.purge(gd);\n",
       "            observer.disconnect();\n",
       "        }}\n",
       "}});\n",
       "\n",
       "// Listen for the removal of the full notebook cells\n",
       "var notebookContainer = gd.closest('#notebook-container');\n",
       "if (notebookContainer) {{\n",
       "    x.observe(notebookContainer, {childList: true});\n",
       "}}\n",
       "\n",
       "// Listen for the clearing of the current output cell\n",
       "var outputEl = gd.closest('.output');\n",
       "if (outputEl) {{\n",
       "    x.observe(outputEl, {childList: true});\n",
       "}}\n",
       "\n",
       "                        })                };                });            </script>        </div>"
      ]
     },
     "metadata": {},
     "output_type": "display_data"
    },
    {
     "data": {
      "text/plain": [
       "'change_in_homeless_map.html'"
      ]
     },
     "execution_count": 48,
     "metadata": {},
     "output_type": "execute_result"
    }
   ],
   "source": [
    "# Create map for change in homelessness\n",
    "\n",
    "years = [2017, 2018, 2019]\n",
    "frames = [change_2017,change_2018, change_2019]\n",
    "\n",
    "# Color Scale\n",
    "scl = [[0.0, '#ffffff'],[0.2, '#ff9999'],[0.4, '#ff4d4d'], \\\n",
    "       [0.6, '#ff1a1a'],[0.8, '#cc0000'],[1.0, '#4d0000']] # reds\n",
    "\n",
    "data_slider = []\n",
    "\n",
    "start_year = 2017\n",
    "index = 0\n",
    "\n",
    "for year in years: \n",
    "\n",
    "    df = frames[index]\n",
    "    index = index + 1\n",
    "    for col in df.columns: \n",
    "        df[col] = df[col].astype(str)\n",
    "\n",
    "    data_one_year = dict(\n",
    "                        type='choropleth',\n",
    "                        locations = df['State'],\n",
    "                        z = df[f'Change in Total Homelessness, {year}-2020'].str.replace('%','').astype(float),\n",
    "                        locationmode='USA-states',\n",
    "                        colorscale = scl\n",
    "                        )\n",
    "\n",
    "    data_slider.append(data_one_year) \n",
    "\n",
    "steps = []\n",
    "\n",
    "for i in range(len(data_slider)):\n",
    "    step = dict(method='restyle',\n",
    "                args=['visible', [False] * len(data_slider)],\n",
    "                label='Year {}'.format(i + 2017))\n",
    "    step['args'][1][i] = True\n",
    "    steps.append(step)\n",
    "\n",
    "\n",
    "sliders = [dict(active=0, pad={\"t\": 1}, steps=steps)]  \n",
    "\n",
    "layout = dict(geo=dict(scope='usa',\n",
    "                       projection={'type': 'albers usa'}),\n",
    "              sliders=sliders)\n",
    "\n",
    "\n",
    "fig = dict(data=data_slider, layout=layout) \n",
    "\n",
    "plotly.offline.iplot(fig)\n",
    "\n",
    "\n",
    "offline.plot(fig, auto_open=True, image = 'png', image_filename=\"change_in_homeless_map\" ,image_width=2000, image_height=1000, \n",
    "              filename='change_in_homeless_map.html', validate=True)"
   ]
  },
  {
   "cell_type": "code",
   "execution_count": null,
   "id": "eb236ec0-c41e-497c-93d0-ad2e2daade91",
   "metadata": {},
   "outputs": [],
   "source": []
  }
 ],
 "metadata": {
  "interpreter": {
   "hash": "6ae5a69d51937321194477b0fe6b784bc91adc50b6dc6daadd06e0a4296b18e7"
  },
  "kernelspec": {
   "display_name": "Python 3",
   "language": "python",
   "name": "python3"
  },
  "language_info": {
   "codemirror_mode": {
    "name": "ipython",
    "version": 3
   },
   "file_extension": ".py",
   "mimetype": "text/x-python",
   "name": "python",
   "nbconvert_exporter": "python",
   "pygments_lexer": "ipython3",
   "version": "3.8.8"
  }
 },
 "nbformat": 4,
 "nbformat_minor": 5
}
