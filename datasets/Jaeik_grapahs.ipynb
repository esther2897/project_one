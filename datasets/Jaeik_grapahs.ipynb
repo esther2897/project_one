{
 "cells": [
  {
   "cell_type": "code",
   "execution_count": 343,
   "id": "5fb134b6",
   "metadata": {},
   "outputs": [],
   "source": [
    "import pandas as pd\n",
    "import matplotlib.pyplot as plt\n",
    "import numpy as np\n",
    "from scipy.stats import linregress\n",
    "import scipy.stats as st"
   ]
  },
  {
   "cell_type": "code",
   "execution_count": 273,
   "id": "5268c619",
   "metadata": {},
   "outputs": [
    {
     "data": {
      "text/plain": [
       "550996"
      ]
     },
     "execution_count": 273,
     "metadata": {},
     "output_type": "execute_result"
    }
   ],
   "source": [
    "# loading 2017.csv to get number of homeless in 2017.\n",
    "\n",
    "path_homeless_2017 = \"2017.csv\"\n",
    "df_2017 = pd.read_csv(path_homeless_2017)\n",
    "df_2017.head()\n",
    "\n",
    "homeless_total_2017 = df_2017.iloc[56,2]\n",
    "homeless_total_2017 = int(homeless_total_2017.replace(',', ''))\n",
    "homeless_total_2017"
   ]
  },
  {
   "cell_type": "code",
   "execution_count": 274,
   "id": "d58bc983",
   "metadata": {},
   "outputs": [
    {
     "data": {
      "text/plain": [
       "552830"
      ]
     },
     "execution_count": 274,
     "metadata": {},
     "output_type": "execute_result"
    }
   ],
   "source": [
    "# loading 2018.csv to get number of homeless in 2018.\n",
    "\n",
    "path_homeless_2018 = \"2018.csv\"\n",
    "df_2018 = pd.read_csv(path_homeless_2018)\n",
    "df_2018.head()\n",
    "\n",
    "homeless_total_2018 = df_2018.iloc[56,2]\n",
    "homeless_total_2018 = int(homeless_total_2018.replace(',', ''))\n",
    "homeless_total_2018"
   ]
  },
  {
   "cell_type": "code",
   "execution_count": 275,
   "id": "cc480ed1",
   "metadata": {},
   "outputs": [
    {
     "data": {
      "text/plain": [
       "567715"
      ]
     },
     "execution_count": 275,
     "metadata": {},
     "output_type": "execute_result"
    }
   ],
   "source": [
    "# loading 2019.csv to get number of homeless in 2019.\n",
    "\n",
    "path_homeless_2019 = \"2019.csv\"\n",
    "df_2019 = pd.read_csv(path_homeless_2019)\n",
    "df_2019.head()\n",
    "\n",
    "homeless_total_2019 = df_2019.iloc[56,2]\n",
    "homeless_total_2019 = int(homeless_total_2019.replace(',', ''))\n",
    "homeless_total_2019"
   ]
  },
  {
   "cell_type": "code",
   "execution_count": 276,
   "id": "62f9a93c",
   "metadata": {},
   "outputs": [
    {
     "data": {
      "text/plain": [
       "580466"
      ]
     },
     "execution_count": 276,
     "metadata": {},
     "output_type": "execute_result"
    }
   ],
   "source": [
    "# loading 2020.csv to get number of homeless in 2020.\n",
    "\n",
    "path_homeless_2020 = \"2020.csv\"\n",
    "df_2020 = pd.read_csv(path_homeless_2020)\n",
    "df_2020.head()\n",
    "\n",
    "homeless_total_2020 = df_2020.iloc[56,2]\n",
    "homeless_total_2020 = int(homeless_total_2020.replace(',', ''))\n",
    "homeless_total_2020"
   ]
  },
  {
   "cell_type": "code",
   "execution_count": 277,
   "id": "77e4ee18",
   "metadata": {},
   "outputs": [
    {
     "data": {
      "text/html": [
       "<div>\n",
       "<style scoped>\n",
       "    .dataframe tbody tr th:only-of-type {\n",
       "        vertical-align: middle;\n",
       "    }\n",
       "\n",
       "    .dataframe tbody tr th {\n",
       "        vertical-align: top;\n",
       "    }\n",
       "\n",
       "    .dataframe thead th {\n",
       "        text-align: right;\n",
       "    }\n",
       "</style>\n",
       "<table border=\"1\" class=\"dataframe\">\n",
       "  <thead>\n",
       "    <tr style=\"text-align: right;\">\n",
       "      <th></th>\n",
       "      <th>Unnamed: 0</th>\n",
       "      <th>AL</th>\n",
       "      <th>AK</th>\n",
       "      <th>AZ</th>\n",
       "      <th>AR</th>\n",
       "      <th>CA</th>\n",
       "      <th>CO</th>\n",
       "      <th>CT</th>\n",
       "      <th>DE</th>\n",
       "      <th>FL</th>\n",
       "      <th>...</th>\n",
       "      <th>TN</th>\n",
       "      <th>TX</th>\n",
       "      <th>UT</th>\n",
       "      <th>VT</th>\n",
       "      <th>VA</th>\n",
       "      <th>WA</th>\n",
       "      <th>WV</th>\n",
       "      <th>WI</th>\n",
       "      <th>WY</th>\n",
       "      <th>sum</th>\n",
       "    </tr>\n",
       "  </thead>\n",
       "  <tbody>\n",
       "    <tr>\n",
       "      <th>0</th>\n",
       "      <td>2010</td>\n",
       "      <td>4785437</td>\n",
       "      <td>713910</td>\n",
       "      <td>6407172</td>\n",
       "      <td>2921964</td>\n",
       "      <td>37319502</td>\n",
       "      <td>5047349</td>\n",
       "      <td>3579114</td>\n",
       "      <td>899593</td>\n",
       "      <td>18845537</td>\n",
       "      <td>...</td>\n",
       "      <td>6355311</td>\n",
       "      <td>25241971</td>\n",
       "      <td>2775332</td>\n",
       "      <td>625879</td>\n",
       "      <td>8023699</td>\n",
       "      <td>6742830</td>\n",
       "      <td>1854239</td>\n",
       "      <td>5690475</td>\n",
       "      <td>564487</td>\n",
       "      <td>308718450</td>\n",
       "    </tr>\n",
       "    <tr>\n",
       "      <th>1</th>\n",
       "      <td>2011</td>\n",
       "      <td>4799069</td>\n",
       "      <td>722128</td>\n",
       "      <td>6472643</td>\n",
       "      <td>2940667</td>\n",
       "      <td>37638369</td>\n",
       "      <td>5121108</td>\n",
       "      <td>3588283</td>\n",
       "      <td>907381</td>\n",
       "      <td>19053237</td>\n",
       "      <td>...</td>\n",
       "      <td>6399291</td>\n",
       "      <td>25645629</td>\n",
       "      <td>2814384</td>\n",
       "      <td>627049</td>\n",
       "      <td>8101155</td>\n",
       "      <td>6826627</td>\n",
       "      <td>1856301</td>\n",
       "      <td>5705288</td>\n",
       "      <td>567299</td>\n",
       "      <td>310939085</td>\n",
       "    </tr>\n",
       "    <tr>\n",
       "      <th>2</th>\n",
       "      <td>2012</td>\n",
       "      <td>4815588</td>\n",
       "      <td>730443</td>\n",
       "      <td>6554978</td>\n",
       "      <td>2952164</td>\n",
       "      <td>37948800</td>\n",
       "      <td>5192647</td>\n",
       "      <td>3594547</td>\n",
       "      <td>915179</td>\n",
       "      <td>19297822</td>\n",
       "      <td>...</td>\n",
       "      <td>6453898</td>\n",
       "      <td>26084481</td>\n",
       "      <td>2853375</td>\n",
       "      <td>626090</td>\n",
       "      <td>8185080</td>\n",
       "      <td>6897058</td>\n",
       "      <td>1856872</td>\n",
       "      <td>5719960</td>\n",
       "      <td>576305</td>\n",
       "      <td>313198078</td>\n",
       "    </tr>\n",
       "    <tr>\n",
       "      <th>3</th>\n",
       "      <td>2013</td>\n",
       "      <td>4830081</td>\n",
       "      <td>737068</td>\n",
       "      <td>6632764</td>\n",
       "      <td>2959400</td>\n",
       "      <td>38260787</td>\n",
       "      <td>5269035</td>\n",
       "      <td>3594841</td>\n",
       "      <td>923576</td>\n",
       "      <td>19545621</td>\n",
       "      <td>...</td>\n",
       "      <td>6494340</td>\n",
       "      <td>26480266</td>\n",
       "      <td>2897640</td>\n",
       "      <td>626210</td>\n",
       "      <td>8252427</td>\n",
       "      <td>6963985</td>\n",
       "      <td>1853914</td>\n",
       "      <td>5736754</td>\n",
       "      <td>582122</td>\n",
       "      <td>315345147</td>\n",
       "    </tr>\n",
       "    <tr>\n",
       "      <th>4</th>\n",
       "      <td>2014</td>\n",
       "      <td>4841799</td>\n",
       "      <td>736283</td>\n",
       "      <td>6730413</td>\n",
       "      <td>2967392</td>\n",
       "      <td>38596972</td>\n",
       "      <td>5350101</td>\n",
       "      <td>3594524</td>\n",
       "      <td>932487</td>\n",
       "      <td>19845911</td>\n",
       "      <td>...</td>\n",
       "      <td>6541223</td>\n",
       "      <td>26964333</td>\n",
       "      <td>2936879</td>\n",
       "      <td>625214</td>\n",
       "      <td>8310993</td>\n",
       "      <td>7054655</td>\n",
       "      <td>1849489</td>\n",
       "      <td>5751525</td>\n",
       "      <td>582531</td>\n",
       "      <td>317640694</td>\n",
       "    </tr>\n",
       "  </tbody>\n",
       "</table>\n",
       "<p>5 rows × 52 columns</p>\n",
       "</div>"
      ],
      "text/plain": [
       "   Unnamed: 0       AL      AK       AZ       AR        CA       CO       CT  \\\n",
       "0        2010  4785437  713910  6407172  2921964  37319502  5047349  3579114   \n",
       "1        2011  4799069  722128  6472643  2940667  37638369  5121108  3588283   \n",
       "2        2012  4815588  730443  6554978  2952164  37948800  5192647  3594547   \n",
       "3        2013  4830081  737068  6632764  2959400  38260787  5269035  3594841   \n",
       "4        2014  4841799  736283  6730413  2967392  38596972  5350101  3594524   \n",
       "\n",
       "       DE        FL  ...       TN        TX       UT      VT       VA  \\\n",
       "0  899593  18845537  ...  6355311  25241971  2775332  625879  8023699   \n",
       "1  907381  19053237  ...  6399291  25645629  2814384  627049  8101155   \n",
       "2  915179  19297822  ...  6453898  26084481  2853375  626090  8185080   \n",
       "3  923576  19545621  ...  6494340  26480266  2897640  626210  8252427   \n",
       "4  932487  19845911  ...  6541223  26964333  2936879  625214  8310993   \n",
       "\n",
       "        WA       WV       WI      WY        sum  \n",
       "0  6742830  1854239  5690475  564487  308718450  \n",
       "1  6826627  1856301  5705288  567299  310939085  \n",
       "2  6897058  1856872  5719960  576305  313198078  \n",
       "3  6963985  1853914  5736754  582122  315345147  \n",
       "4  7054655  1849489  5751525  582531  317640694  \n",
       "\n",
       "[5 rows x 52 columns]"
      ]
     },
     "execution_count": 277,
     "metadata": {},
     "output_type": "execute_result"
    }
   ],
   "source": [
    "path_pop = \"dfpop.csv\"\n",
    "df_pop = pd.read_csv(path_pop)\n",
    "df_pop[\"sum\"] = df_pop.sum(axis=1)\n",
    "df_pop.head()"
   ]
  },
  {
   "cell_type": "code",
   "execution_count": 278,
   "id": "270dda40",
   "metadata": {},
   "outputs": [
    {
     "name": "stdout",
     "output_type": "stream",
     "text": [
      "324292650\n",
      "325987972\n",
      "327535793\n"
     ]
    }
   ],
   "source": [
    "# bring sum of population by year (2017 thru 2019)\n",
    "\n",
    "pop_total_2017 = df_pop.iloc[7,51]\n",
    "print(pop_total_2017)\n",
    "\n",
    "pop_total_2018 = df_pop.iloc[8,51]\n",
    "print(pop_total_2018)\n",
    "\n",
    "pop_total_2019 = df_pop.iloc[9,51]\n",
    "print(pop_total_2019)"
   ]
  },
  {
   "cell_type": "code",
   "execution_count": 279,
   "id": "1dc35bc2",
   "metadata": {},
   "outputs": [
    {
     "data": {
      "text/plain": [
       "331451635"
      ]
     },
     "execution_count": 279,
     "metadata": {},
     "output_type": "execute_result"
    }
   ],
   "source": [
    "# bring sum of population by year (2020 only)\n",
    "\n",
    "path_pop_2020_only = \"dfpop_2020 only.csv\"\n",
    "df_pop_2020 = pd.read_csv(path_pop_2020_only)\n",
    "df_pop_2020[\"2020\"]\n",
    "\n",
    "pop_total_2020 = df_pop_2020.iloc[51,2]\n",
    "pop_total_2020"
   ]
  },
  {
   "cell_type": "code",
   "execution_count": 280,
   "id": "9853eb1f",
   "metadata": {},
   "outputs": [
    {
     "data": {
      "text/html": [
       "<div>\n",
       "<style scoped>\n",
       "    .dataframe tbody tr th:only-of-type {\n",
       "        vertical-align: middle;\n",
       "    }\n",
       "\n",
       "    .dataframe tbody tr th {\n",
       "        vertical-align: top;\n",
       "    }\n",
       "\n",
       "    .dataframe thead th {\n",
       "        text-align: right;\n",
       "    }\n",
       "</style>\n",
       "<table border=\"1\" class=\"dataframe\">\n",
       "  <thead>\n",
       "    <tr style=\"text-align: right;\">\n",
       "      <th></th>\n",
       "      <th>year</th>\n",
       "      <th>homeless</th>\n",
       "      <th>population</th>\n",
       "      <th>homeless %</th>\n",
       "    </tr>\n",
       "  </thead>\n",
       "  <tbody>\n",
       "    <tr>\n",
       "      <th>0</th>\n",
       "      <td>2017</td>\n",
       "      <td>550996</td>\n",
       "      <td>324292650</td>\n",
       "      <td>0.001699</td>\n",
       "    </tr>\n",
       "    <tr>\n",
       "      <th>1</th>\n",
       "      <td>2018</td>\n",
       "      <td>552830</td>\n",
       "      <td>325987972</td>\n",
       "      <td>0.001696</td>\n",
       "    </tr>\n",
       "    <tr>\n",
       "      <th>2</th>\n",
       "      <td>2019</td>\n",
       "      <td>567715</td>\n",
       "      <td>327535793</td>\n",
       "      <td>0.001733</td>\n",
       "    </tr>\n",
       "    <tr>\n",
       "      <th>3</th>\n",
       "      <td>2020</td>\n",
       "      <td>580466</td>\n",
       "      <td>331451635</td>\n",
       "      <td>0.001751</td>\n",
       "    </tr>\n",
       "  </tbody>\n",
       "</table>\n",
       "</div>"
      ],
      "text/plain": [
       "   year  homeless  population  homeless %\n",
       "0  2017    550996   324292650    0.001699\n",
       "1  2018    552830   325987972    0.001696\n",
       "2  2019    567715   327535793    0.001733\n",
       "3  2020    580466   331451635    0.001751"
      ]
     },
     "execution_count": 280,
     "metadata": {},
     "output_type": "execute_result"
    }
   ],
   "source": [
    "# create pandas dataframe\n",
    "\n",
    "homeless_df = pd.DataFrame({'year':[\"2017\",\"2018\",\"2019\",\"2020\"],\n",
    "                           'homeless' :[homeless_total_2017, homeless_total_2018, homeless_total_2019, homeless_total_2020],\n",
    "                           'population' :[pop_total_2017, pop_total_2018, pop_total_2019, pop_total_2020]\n",
    "                          })\n",
    "\n",
    "homeless_df['homeless %'] = homeless_df['homeless']/homeless_df['population']\n",
    "\n",
    "homeless_df\n",
    "\n",
    "\n",
    "## create pandas dataframe (2)\n",
    "# homeless_df = pd.DataFrame({'2017':[homeless_total_2017,pop_total_2017],\n",
    "#                             '2018':[homeless_total_2018,pop_total_2018],\n",
    "#                             '2019':[homeless_total_2019,pop_total_2019], \n",
    "#                             '2020':[homeless_total_2020,pop_total_2020]}\n",
    "#                           )\n",
    "# homeless_df"
   ]
  },
  {
   "cell_type": "code",
   "execution_count": 330,
   "id": "5c41fda8",
   "metadata": {},
   "outputs": [
    {
     "name": "stdout",
     "output_type": "stream",
     "text": [
      "['2017', '2018', '2019', '2020']\n",
      "[0.0016990702687834584, 0.0016958601159677144, 0.0017332914818259267, 0.0017512841654861652]\n"
     ]
    }
   ],
   "source": [
    "x_axis = homeless_df['year'].tolist()\n",
    "y_axis =  homeless_df['homeless %'].tolist()\n",
    "\n",
    "print(x_axis)\n",
    "print(y_axis)"
   ]
  },
  {
   "cell_type": "code",
   "execution_count": 331,
   "id": "051fabe8",
   "metadata": {},
   "outputs": [
    {
     "data": {
      "image/png": "[encoded data removed]",
      "text/plain": [
       "<Figure size 432x288 with 1 Axes>"
      ]
     },
     "metadata": {
      "needs_background": "light"
     },
     "output_type": "display_data"
    }
   ],
   "source": [
    "# create line chart to show increase/decrease of homeless population.\n",
    "\n",
    "plt.plot(x_axis,y_axis,marker = 'o', color = \"blue\", label = \"Homeless %\")\n",
    "plt.legend(loc=\"best\")\n",
    "plt.title(\"Homeless population by year (%)\")\n",
    "plt.xlabel(\"Year\")\n",
    "plt.ylabel(\"Homeless population %\")\n",
    "plt.show()"
   ]
  },
  {
   "cell_type": "code",
   "execution_count": 348,
   "id": "7ffca1c8",
   "metadata": {},
   "outputs": [
    {
     "name": "stdout",
     "output_type": "stream",
     "text": [
      "[733391.0, 5024279.0, 3011524.0, 7151502.0, 39538223.0, 5773714.0, 3608298.0, 989948.0, 21538187.0, 10711908.0, 1455271.0, 3190369.0, 1839106.0, 12812508.0, 6785528.0, 2937880.0, 4505836.0, 4657757.0, 7029917.0, 6177224.0, 1362359.0, 10077331.0, 5706494.0, 6154913.0, 2961279.0, 1084225.0, 10439388.0, 779094.0, 1961504.0, 1377529.0, 9288994.0, 2117522.0, 3104614.0, 20201249.0, 11799448.0, 3959353.0, 4237256.0, 13002700.0, 1097379.0, 5118425.0, 886667.0, 6910840.0, 29145505.0, 3271616.0, 8631393.0, 643077.0, 7705281.0, 5893718.0, 1793716.0, 576851.0]\n",
      "[1949, 3351, 2366, 10979, 161548, 9846, 2905, 1165, 27487, 10234, 6458, 2647, 2315, 10431, 5625, 2449, 4011, 3173, 17975, 6360, 2097, 8638, 7940, 6527, 1107, 1545, 9280, 541, 2404, 1675, 9662, 3333, 6900, 91271, 10655, 3932, 14655, 13375, 1104, 4287, 1058, 7256, 27229, 3131, 5957, 1110, 22923, 4515, 1341, 612]\n",
      "['AK', 'AL', 'AR', 'AZ', 'CA', 'CO', 'CT', 'DE', 'FL', 'GA', 'HI', 'IA', 'ID', 'IL', 'IN', 'KS', 'KY', 'LA', 'MA', 'MD', 'ME', 'MI', 'MN', 'MO', 'MS', 'MT', 'NC', 'ND', 'NE', 'NH', 'NJ', 'NM', 'NV', 'NY', 'OH', 'OK', 'OR', 'PA', 'RI', 'SC', 'SD', 'TN', 'TX', 'UT', 'VA', 'VT', 'WA', 'WI', 'WV', 'WY']\n"
     ]
    },
    {
     "data": {
      "image/png": "[encoded data removed]",
      "text/plain": [
       "<Figure size 432x288 with 1 Axes>"
      ]
     },
     "metadata": {
      "needs_background": "light"
     },
     "output_type": "display_data"
    },
    {
     "data": {
      "text/plain": [
       "'Pearson correlation and P-value : (0.8219470535665727, 2.547843129292117e-13)'"
      ]
     },
     "execution_count": 348,
     "metadata": {},
     "output_type": "execute_result"
    },
    {
     "data": {
      "text/plain": [
       "<Figure size 432x288 with 0 Axes>"
      ]
     },
     "metadata": {},
     "output_type": "display_data"
    }
   ],
   "source": [
    "# create groupby for 2020 population\n",
    "\n",
    "groupby_pop=df_pop_2020.groupby(\"Abbr.\")\n",
    "groupby_pop_sum = groupby_pop[\"2020\"].sum()\n",
    "groupby_pop_sum\n",
    "\n",
    "# create groupby for 2020 homeless\n",
    "\n",
    "groupby_homeless=df_2020.groupby(\"State\")\n",
    "groupby_homeless_sum = groupby_homeless[\"Overall Homeless, 2020\"].sum()\n",
    "\n",
    "# combine the two pandas series\n",
    "\n",
    "merge_df = pd.concat([groupby_pop_sum, groupby_homeless_sum], axis=1)\n",
    "merge_df = merge_df.dropna(how='any')\n",
    "merge_df[\"Overall Homeless, 2020\"] = pd.to_numeric(merge_df[\"Overall Homeless, 2020\"])\n",
    "merge_df = merge_df.rename(columns = {\"2020\" : \"population\", \"Overall Homeless, 2020\" : \"homeless\"})\n",
    "\n",
    "\n",
    "\n",
    "x_axis = merge_df['population'].tolist()\n",
    "y_axis = merge_df['homeless'].tolist()\n",
    "label = merge_df.index.values.tolist()\n",
    "\n",
    "print(x_axis)\n",
    "print(y_axis)\n",
    "print(label)\n",
    "\n",
    "plt.scatter(y_axis,x_axis,marker=\"o\",s=50, label = label)\n",
    "plt.title(\"Population vs. homeless by state_2020 only\")\n",
    "plt.xlabel(\"Homeless\")\n",
    "plt.ylabel(\"Population\")\n",
    "plt.text(140000,35000000,'California')\n",
    "plt.text(70000,14000000,'New York')\n",
    "plt.text(20000,25000000,'Florida & Texas')\n",
    "plt.text(20000,18000000,'Washington')\n",
    "plt.show()\n",
    "plt.savefig(\"Scatter.png\") \n",
    "\n",
    "correlation = st.pearsonr(x_axis, y_axis)\n",
    "\n",
    "f\"Pearson correlation and P-value : {correlation}\""
   ]
  },
  {
   "cell_type": "code",
   "execution_count": 336,
   "id": "f64b99df",
   "metadata": {},
   "outputs": [
    {
     "data": {
      "text/plain": [
       "Text(0.5, 1.0, 'Homeless_outlier')"
      ]
     },
     "execution_count": 336,
     "metadata": {},
     "output_type": "execute_result"
    },
    {
     "data": {
      "image/png": "[encoded data removed]",
      "text/plain": [
       "<Figure size 432x288 with 1 Axes>"
      ]
     },
     "metadata": {
      "needs_background": "light"
     },
     "output_type": "display_data"
    }
   ],
   "source": [
    "plt.boxplot(x_axis)\n",
    "plt.xlabel(\"Homeless in 2020\")\n",
    "plt.ylabel(\"Number of homeless\")\n",
    "plt.title(\"Homeless_outlier\")"
   ]
  },
  {
   "cell_type": "code",
   "execution_count": 309,
   "id": "962bd4ff",
   "metadata": {},
   "outputs": [
    {
     "data": {
      "text/html": [
       "<div>\n",
       "<style scoped>\n",
       "    .dataframe tbody tr th:only-of-type {\n",
       "        vertical-align: middle;\n",
       "    }\n",
       "\n",
       "    .dataframe tbody tr th {\n",
       "        vertical-align: top;\n",
       "    }\n",
       "\n",
       "    .dataframe thead th {\n",
       "        text-align: right;\n",
       "    }\n",
       "</style>\n",
       "<table border=\"1\" class=\"dataframe\">\n",
       "  <thead>\n",
       "    <tr style=\"text-align: right;\">\n",
       "      <th></th>\n",
       "      <th>population</th>\n",
       "      <th>homeless</th>\n",
       "    </tr>\n",
       "  </thead>\n",
       "  <tbody>\n",
       "    <tr>\n",
       "      <th>CA</th>\n",
       "      <td>39538223.0</td>\n",
       "      <td>161548</td>\n",
       "    </tr>\n",
       "    <tr>\n",
       "      <th>NY</th>\n",
       "      <td>20201249.0</td>\n",
       "      <td>91271</td>\n",
       "    </tr>\n",
       "    <tr>\n",
       "      <th>FL</th>\n",
       "      <td>21538187.0</td>\n",
       "      <td>27487</td>\n",
       "    </tr>\n",
       "    <tr>\n",
       "      <th>TX</th>\n",
       "      <td>29145505.0</td>\n",
       "      <td>27229</td>\n",
       "    </tr>\n",
       "    <tr>\n",
       "      <th>WA</th>\n",
       "      <td>7705281.0</td>\n",
       "      <td>22923</td>\n",
       "    </tr>\n",
       "  </tbody>\n",
       "</table>\n",
       "</div>"
      ],
      "text/plain": [
       "    population  homeless\n",
       "CA  39538223.0    161548\n",
       "NY  20201249.0     91271\n",
       "FL  21538187.0     27487\n",
       "TX  29145505.0     27229\n",
       "WA   7705281.0     22923"
      ]
     },
     "execution_count": 309,
     "metadata": {},
     "output_type": "execute_result"
    }
   ],
   "source": [
    "merge_df.sort_values(by='homeless',ascending=False).head()"
   ]
  }
 ],
 "metadata": {
  "kernelspec": {
   "display_name": "Python [conda env:root] *",
   "language": "python",
   "name": "conda-root-py"
  },
  "language_info": {
   "codemirror_mode": {
    "name": "ipython",
    "version": 3
   },
   "file_extension": ".py",
   "mimetype": "text/x-python",
   "name": "python",
   "nbconvert_exporter": "python",
   "pygments_lexer": "ipython3",
   "version": "3.8.8"
  }
 },
 "nbformat": 4,
 "nbformat_minor": 5
}
