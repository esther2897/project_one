{
 "cells": [
  {
   "cell_type": "code",
   "execution_count": 2,
   "id": "8f73abe2",
   "metadata": {},
   "outputs": [],
   "source": [
    "import pandas as pd\n",
    "import numpy as np\n",
    "import matplotlib.pyplot as plt\n",
    "import scipy.stats as st\n",
    "\n",
    "beds_df=pd.read_csv(\"dfbeds.csv\")\n",
    "nohome_df=pd.read_csv(\"dfnohome.csv\")\n",
    "pop_df=pd.read_csv(\"dfpop.csv\")"
   ]
  },
  {
   "cell_type": "code",
   "execution_count": 5,
   "id": "84da555a",
   "metadata": {},
   "outputs": [
    {
     "data": {
      "text/plain": [
       "Unnamed: 0    10\n",
       "AL            10\n",
       "AK            10\n",
       "AZ            10\n",
       "AR            10\n",
       "CA            10\n",
       "CO            10\n",
       "CT            10\n",
       "DE            10\n",
       "FL            10\n",
       "GA            10\n",
       "HI            10\n",
       "ID            10\n",
       "IL            10\n",
       "IN            10\n",
       "IA            10\n",
       "KS            10\n",
       "KY            10\n",
       "LA            10\n",
       "ME            10\n",
       "MD            10\n",
       "MA            10\n",
       "MI            10\n",
       "MN            10\n",
       "MS            10\n",
       "MO            10\n",
       "MT            10\n",
       "NE            10\n",
       "NV            10\n",
       "NH            10\n",
       "NJ            10\n",
       "NM            10\n",
       "NY            10\n",
       "NC            10\n",
       "ND            10\n",
       "OH            10\n",
       "OK            10\n",
       "OR            10\n",
       "PA            10\n",
       "RI            10\n",
       "SC            10\n",
       "SD            10\n",
       "TN            10\n",
       "TX            10\n",
       "UT            10\n",
       "VT            10\n",
       "VA            10\n",
       "WA            10\n",
       "WV            10\n",
       "WI            10\n",
       "WY            10\n",
       "dtype: int64"
      ]
     },
     "execution_count": 5,
     "metadata": {},
     "output_type": "execute_result"
    }
   ],
   "source": []
  },
  {
   "cell_type": "code",
   "execution_count": null,
   "id": "3c1556fe",
   "metadata": {},
   "outputs": [],
   "source": []
  }
 ],
 "metadata": {
  "kernelspec": {
   "display_name": "Python 3",
   "language": "python",
   "name": "python3"
  },
  "language_info": {
   "codemirror_mode": {
    "name": "ipython",
    "version": 3
   },
   "file_extension": ".py",
   "mimetype": "text/x-python",
   "name": "python",
   "nbconvert_exporter": "python",
   "pygments_lexer": "ipython3",
   "version": "3.8.8"
  }
 },
 "nbformat": 4,
 "nbformat_minor": 5
}
